{
 "cells": [
  {
   "cell_type": "code",
   "execution_count": 1,
   "id": "19971f10",
   "metadata": {},
   "outputs": [],
   "source": [
    "#import libraries\n",
    "import pandas as pd\n",
    "import numpy as np\n",
    "import matplotlib.pyplot as plt\n",
    "import seaborn as sns\n",
    "\n",
    "%matplotlib inline"
   ]
  },
  {
   "cell_type": "code",
   "execution_count": 2,
   "id": "6e692e2c",
   "metadata": {},
   "outputs": [],
   "source": [
    "#read the csv file into pandas dataframe\n",
    "df = pd.read_csv('census11.csv')"
   ]
  },
  {
   "cell_type": "code",
   "execution_count": 3,
   "id": "bf153102",
   "metadata": {},
   "outputs": [
    {
     "data": {
      "text/html": [
       "<div>\n",
       "<style scoped>\n",
       "    .dataframe tbody tr th:only-of-type {\n",
       "        vertical-align: middle;\n",
       "    }\n",
       "\n",
       "    .dataframe tbody tr th {\n",
       "        vertical-align: top;\n",
       "    }\n",
       "\n",
       "    .dataframe thead th {\n",
       "        text-align: right;\n",
       "    }\n",
       "</style>\n",
       "<table border=\"1\" class=\"dataframe\">\n",
       "  <thead>\n",
       "    <tr style=\"text-align: right;\">\n",
       "      <th></th>\n",
       "      <th>House Number</th>\n",
       "      <th>Street</th>\n",
       "      <th>First Name</th>\n",
       "      <th>Surname</th>\n",
       "      <th>Age</th>\n",
       "      <th>Relationship to Head of House</th>\n",
       "      <th>Marital Status</th>\n",
       "      <th>Gender</th>\n",
       "      <th>Occupation</th>\n",
       "      <th>Infirmity</th>\n",
       "      <th>Religion</th>\n",
       "    </tr>\n",
       "  </thead>\n",
       "  <tbody>\n",
       "    <tr>\n",
       "      <th>0</th>\n",
       "      <td>1</td>\n",
       "      <td>Regentchain Avenue</td>\n",
       "      <td>Ashleigh</td>\n",
       "      <td>Dale</td>\n",
       "      <td>41</td>\n",
       "      <td>Head</td>\n",
       "      <td>Divorced</td>\n",
       "      <td>Female</td>\n",
       "      <td>Field trials officer</td>\n",
       "      <td>None</td>\n",
       "      <td>Catholic</td>\n",
       "    </tr>\n",
       "    <tr>\n",
       "      <th>1</th>\n",
       "      <td>1</td>\n",
       "      <td>Regentchain Avenue</td>\n",
       "      <td>Deborah</td>\n",
       "      <td>Dale</td>\n",
       "      <td>11</td>\n",
       "      <td>Daughter</td>\n",
       "      <td>NaN</td>\n",
       "      <td>Female</td>\n",
       "      <td>Student</td>\n",
       "      <td>None</td>\n",
       "      <td>NaN</td>\n",
       "    </tr>\n",
       "    <tr>\n",
       "      <th>2</th>\n",
       "      <td>1</td>\n",
       "      <td>Regentchain Avenue</td>\n",
       "      <td>Gary</td>\n",
       "      <td>Dale</td>\n",
       "      <td>7</td>\n",
       "      <td>Son</td>\n",
       "      <td>NaN</td>\n",
       "      <td>Male</td>\n",
       "      <td>Student</td>\n",
       "      <td>None</td>\n",
       "      <td>NaN</td>\n",
       "    </tr>\n",
       "    <tr>\n",
       "      <th>3</th>\n",
       "      <td>2</td>\n",
       "      <td>Regentchain Avenue</td>\n",
       "      <td>Edward</td>\n",
       "      <td>Grant</td>\n",
       "      <td>40</td>\n",
       "      <td>Head</td>\n",
       "      <td>Married</td>\n",
       "      <td>Male</td>\n",
       "      <td>Environmental education officer</td>\n",
       "      <td>None</td>\n",
       "      <td>Methodist</td>\n",
       "    </tr>\n",
       "    <tr>\n",
       "      <th>4</th>\n",
       "      <td>2</td>\n",
       "      <td>Regentchain Avenue</td>\n",
       "      <td>Elizabeth</td>\n",
       "      <td>Grant</td>\n",
       "      <td>35</td>\n",
       "      <td>Wife</td>\n",
       "      <td>Married</td>\n",
       "      <td>Female</td>\n",
       "      <td>Public librarian</td>\n",
       "      <td>None</td>\n",
       "      <td>Catholic</td>\n",
       "    </tr>\n",
       "  </tbody>\n",
       "</table>\n",
       "</div>"
      ],
      "text/plain": [
       "   House Number              Street First Name Surname Age  \\\n",
       "0             1  Regentchain Avenue   Ashleigh    Dale  41   \n",
       "1             1  Regentchain Avenue    Deborah    Dale  11   \n",
       "2             1  Regentchain Avenue       Gary    Dale   7   \n",
       "3             2  Regentchain Avenue     Edward   Grant  40   \n",
       "4             2  Regentchain Avenue  Elizabeth   Grant  35   \n",
       "\n",
       "  Relationship to Head of House Marital Status  Gender  \\\n",
       "0                          Head       Divorced  Female   \n",
       "1                      Daughter            NaN  Female   \n",
       "2                           Son            NaN    Male   \n",
       "3                          Head        Married    Male   \n",
       "4                          Wife        Married  Female   \n",
       "\n",
       "                        Occupation Infirmity   Religion  \n",
       "0             Field trials officer      None   Catholic  \n",
       "1                          Student      None        NaN  \n",
       "2                          Student      None        NaN  \n",
       "3  Environmental education officer      None  Methodist  \n",
       "4                 Public librarian      None   Catholic  "
      ]
     },
     "execution_count": 3,
     "metadata": {},
     "output_type": "execute_result"
    }
   ],
   "source": [
    "df.head()"
   ]
  },
  {
   "cell_type": "code",
   "execution_count": 5,
   "id": "6ebc90f1",
   "metadata": {},
   "outputs": [
    {
     "data": {
      "text/html": [
       "<div>\n",
       "<style scoped>\n",
       "    .dataframe tbody tr th:only-of-type {\n",
       "        vertical-align: middle;\n",
       "    }\n",
       "\n",
       "    .dataframe tbody tr th {\n",
       "        vertical-align: top;\n",
       "    }\n",
       "\n",
       "    .dataframe thead th {\n",
       "        text-align: right;\n",
       "    }\n",
       "</style>\n",
       "<table border=\"1\" class=\"dataframe\">\n",
       "  <thead>\n",
       "    <tr style=\"text-align: right;\">\n",
       "      <th></th>\n",
       "      <th>House Number</th>\n",
       "      <th>Street</th>\n",
       "      <th>First Name</th>\n",
       "      <th>Surname</th>\n",
       "      <th>Age</th>\n",
       "      <th>Relationship to Head of House</th>\n",
       "      <th>Marital Status</th>\n",
       "      <th>Gender</th>\n",
       "      <th>Occupation</th>\n",
       "      <th>Infirmity</th>\n",
       "      <th>Religion</th>\n",
       "    </tr>\n",
       "  </thead>\n",
       "  <tbody>\n",
       "    <tr>\n",
       "      <th>1799</th>\n",
       "      <td>4</td>\n",
       "      <td>Khan Village</td>\n",
       "      <td>Garry</td>\n",
       "      <td>Whitehead</td>\n",
       "      <td>16</td>\n",
       "      <td>Son</td>\n",
       "      <td>NaN</td>\n",
       "      <td>Male</td>\n",
       "      <td>Student</td>\n",
       "      <td>None</td>\n",
       "      <td>NaN</td>\n",
       "    </tr>\n",
       "    <tr>\n",
       "      <th>3411</th>\n",
       "      <td>5</td>\n",
       "      <td>Roberts Inlet</td>\n",
       "      <td>Alice</td>\n",
       "      <td>O'Sullivan</td>\n",
       "      <td>37</td>\n",
       "      <td>Partner</td>\n",
       "      <td>Single</td>\n",
       "      <td>Female</td>\n",
       "      <td>Psychotherapist</td>\n",
       "      <td>None</td>\n",
       "      <td>Christian</td>\n",
       "    </tr>\n",
       "    <tr>\n",
       "      <th>7467</th>\n",
       "      <td>55</td>\n",
       "      <td>Canterbury Well</td>\n",
       "      <td>Tracey</td>\n",
       "      <td>Kay</td>\n",
       "      <td>30</td>\n",
       "      <td>Head</td>\n",
       "      <td>Divorced</td>\n",
       "      <td>Female</td>\n",
       "      <td>Unemployed</td>\n",
       "      <td>None</td>\n",
       "      <td>Methodist</td>\n",
       "    </tr>\n",
       "    <tr>\n",
       "      <th>3240</th>\n",
       "      <td>133</td>\n",
       "      <td>Harvey Road</td>\n",
       "      <td>Marc</td>\n",
       "      <td>Hughes</td>\n",
       "      <td>60</td>\n",
       "      <td>None</td>\n",
       "      <td>Single</td>\n",
       "      <td>Male</td>\n",
       "      <td>Teacher, special educational needs</td>\n",
       "      <td>None</td>\n",
       "      <td>None</td>\n",
       "    </tr>\n",
       "    <tr>\n",
       "      <th>2373</th>\n",
       "      <td>26</td>\n",
       "      <td>Davies Avenue</td>\n",
       "      <td>Philip</td>\n",
       "      <td>Bennett</td>\n",
       "      <td>27</td>\n",
       "      <td>Partner</td>\n",
       "      <td>Single</td>\n",
       "      <td>Male</td>\n",
       "      <td>Police officer</td>\n",
       "      <td>None</td>\n",
       "      <td>None</td>\n",
       "    </tr>\n",
       "    <tr>\n",
       "      <th>8343</th>\n",
       "      <td>1</td>\n",
       "      <td>Parrot Hall</td>\n",
       "      <td>Angela</td>\n",
       "      <td>Knight</td>\n",
       "      <td>31</td>\n",
       "      <td>None</td>\n",
       "      <td>Single</td>\n",
       "      <td>Female</td>\n",
       "      <td>Immunologist</td>\n",
       "      <td>None</td>\n",
       "      <td>Christian</td>\n",
       "    </tr>\n",
       "    <tr>\n",
       "      <th>3724</th>\n",
       "      <td>9</td>\n",
       "      <td>Rogers Plains</td>\n",
       "      <td>Susan</td>\n",
       "      <td>Taylor</td>\n",
       "      <td>1</td>\n",
       "      <td>Daughter</td>\n",
       "      <td>NaN</td>\n",
       "      <td>Female</td>\n",
       "      <td>Child</td>\n",
       "      <td>None</td>\n",
       "      <td>NaN</td>\n",
       "    </tr>\n",
       "    <tr>\n",
       "      <th>7539</th>\n",
       "      <td>34</td>\n",
       "      <td>Daffodilhatch Street</td>\n",
       "      <td>Toby</td>\n",
       "      <td>Norton</td>\n",
       "      <td>56</td>\n",
       "      <td>Partner</td>\n",
       "      <td>Single</td>\n",
       "      <td>Male</td>\n",
       "      <td>Audiological scientist</td>\n",
       "      <td>None</td>\n",
       "      <td>None</td>\n",
       "    </tr>\n",
       "    <tr>\n",
       "      <th>7531</th>\n",
       "      <td>31</td>\n",
       "      <td>Daffodilhatch Street</td>\n",
       "      <td>Margaret</td>\n",
       "      <td>Adams</td>\n",
       "      <td>59</td>\n",
       "      <td>Head</td>\n",
       "      <td>Single</td>\n",
       "      <td>Female</td>\n",
       "      <td>Risk analyst</td>\n",
       "      <td>None</td>\n",
       "      <td>None</td>\n",
       "    </tr>\n",
       "    <tr>\n",
       "      <th>5121</th>\n",
       "      <td>11</td>\n",
       "      <td>Fitzgerald Road</td>\n",
       "      <td>Kimberley</td>\n",
       "      <td>Wilkinson</td>\n",
       "      <td>31</td>\n",
       "      <td>Wife</td>\n",
       "      <td>Married</td>\n",
       "      <td>Female</td>\n",
       "      <td>Designer, interior/spatial</td>\n",
       "      <td>None</td>\n",
       "      <td>None</td>\n",
       "    </tr>\n",
       "    <tr>\n",
       "      <th>1319</th>\n",
       "      <td>5</td>\n",
       "      <td>Wales Locks</td>\n",
       "      <td>Naomi</td>\n",
       "      <td>Singh</td>\n",
       "      <td>14</td>\n",
       "      <td>Daughter</td>\n",
       "      <td>NaN</td>\n",
       "      <td>Female</td>\n",
       "      <td>Student</td>\n",
       "      <td>None</td>\n",
       "      <td>NaN</td>\n",
       "    </tr>\n",
       "    <tr>\n",
       "      <th>1141</th>\n",
       "      <td>26</td>\n",
       "      <td>Ward Avenue</td>\n",
       "      <td>Holly</td>\n",
       "      <td>Lewis</td>\n",
       "      <td>47</td>\n",
       "      <td>Head</td>\n",
       "      <td>Single</td>\n",
       "      <td>Female</td>\n",
       "      <td>English as a foreign language teacher</td>\n",
       "      <td>None</td>\n",
       "      <td>Christian</td>\n",
       "    </tr>\n",
       "    <tr>\n",
       "      <th>457</th>\n",
       "      <td>35</td>\n",
       "      <td>Trent Crescent</td>\n",
       "      <td>Christopher</td>\n",
       "      <td>Collins</td>\n",
       "      <td>39</td>\n",
       "      <td>None</td>\n",
       "      <td>Single</td>\n",
       "      <td>Male</td>\n",
       "      <td>Higher education careers adviser</td>\n",
       "      <td>None</td>\n",
       "      <td>None</td>\n",
       "    </tr>\n",
       "    <tr>\n",
       "      <th>6898</th>\n",
       "      <td>8</td>\n",
       "      <td>Tiger Avenue</td>\n",
       "      <td>Gillian</td>\n",
       "      <td>Smith</td>\n",
       "      <td>43</td>\n",
       "      <td>Head</td>\n",
       "      <td>Single</td>\n",
       "      <td>Female</td>\n",
       "      <td>Database administrator</td>\n",
       "      <td>None</td>\n",
       "      <td>Christian</td>\n",
       "    </tr>\n",
       "    <tr>\n",
       "      <th>3181</th>\n",
       "      <td>107</td>\n",
       "      <td>Harvey Road</td>\n",
       "      <td>Julian</td>\n",
       "      <td>Dunn</td>\n",
       "      <td>39</td>\n",
       "      <td>Son</td>\n",
       "      <td>Divorced</td>\n",
       "      <td>Male</td>\n",
       "      <td>Retail banker</td>\n",
       "      <td>None</td>\n",
       "      <td>Christian</td>\n",
       "    </tr>\n",
       "  </tbody>\n",
       "</table>\n",
       "</div>"
      ],
      "text/plain": [
       "      House Number                Street   First Name     Surname Age  \\\n",
       "1799             4          Khan Village        Garry   Whitehead  16   \n",
       "3411             5         Roberts Inlet        Alice  O'Sullivan  37   \n",
       "7467            55       Canterbury Well       Tracey         Kay  30   \n",
       "3240           133           Harvey Road         Marc      Hughes  60   \n",
       "2373            26         Davies Avenue       Philip     Bennett  27   \n",
       "8343             1           Parrot Hall       Angela      Knight  31   \n",
       "3724             9         Rogers Plains        Susan      Taylor   1   \n",
       "7539            34  Daffodilhatch Street         Toby      Norton  56   \n",
       "7531            31  Daffodilhatch Street     Margaret       Adams  59   \n",
       "5121            11       Fitzgerald Road    Kimberley   Wilkinson  31   \n",
       "1319             5           Wales Locks        Naomi       Singh  14   \n",
       "1141            26           Ward Avenue        Holly       Lewis  47   \n",
       "457             35        Trent Crescent  Christopher     Collins  39   \n",
       "6898             8          Tiger Avenue      Gillian       Smith  43   \n",
       "3181           107           Harvey Road       Julian        Dunn  39   \n",
       "\n",
       "     Relationship to Head of House Marital Status  Gender  \\\n",
       "1799                           Son            NaN    Male   \n",
       "3411                       Partner         Single  Female   \n",
       "7467                          Head       Divorced  Female   \n",
       "3240                          None         Single    Male   \n",
       "2373                       Partner         Single    Male   \n",
       "8343                          None         Single  Female   \n",
       "3724                      Daughter            NaN  Female   \n",
       "7539                       Partner         Single    Male   \n",
       "7531                          Head         Single  Female   \n",
       "5121                          Wife        Married  Female   \n",
       "1319                      Daughter            NaN  Female   \n",
       "1141                          Head         Single  Female   \n",
       "457                           None         Single    Male   \n",
       "6898                          Head         Single  Female   \n",
       "3181                           Son       Divorced    Male   \n",
       "\n",
       "                                 Occupation Infirmity   Religion  \n",
       "1799                                Student      None        NaN  \n",
       "3411                        Psychotherapist      None  Christian  \n",
       "7467                             Unemployed      None  Methodist  \n",
       "3240     Teacher, special educational needs      None       None  \n",
       "2373                         Police officer      None       None  \n",
       "8343                           Immunologist      None  Christian  \n",
       "3724                                  Child      None        NaN  \n",
       "7539                 Audiological scientist      None       None  \n",
       "7531                           Risk analyst      None       None  \n",
       "5121             Designer, interior/spatial      None       None  \n",
       "1319                                Student      None        NaN  \n",
       "1141  English as a foreign language teacher      None  Christian  \n",
       "457        Higher education careers adviser      None       None  \n",
       "6898                 Database administrator      None  Christian  \n",
       "3181                          Retail banker      None  Christian  "
      ]
     },
     "execution_count": 5,
     "metadata": {},
     "output_type": "execute_result"
    }
   ],
   "source": [
    "df.sample(15)"
   ]
  },
  {
   "cell_type": "markdown",
   "id": "b6b33d8a",
   "metadata": {},
   "source": [
    "## Data Assessment"
   ]
  },
  {
   "cell_type": "code",
   "execution_count": 6,
   "id": "d076f29a",
   "metadata": {},
   "outputs": [
    {
     "name": "stdout",
     "output_type": "stream",
     "text": [
      "<class 'pandas.core.frame.DataFrame'>\n",
      "RangeIndex: 8377 entries, 0 to 8376\n",
      "Data columns (total 11 columns):\n",
      " #   Column                         Non-Null Count  Dtype \n",
      "---  ------                         --------------  ----- \n",
      " 0   House Number                   8377 non-null   int64 \n",
      " 1   Street                         8377 non-null   object\n",
      " 2   First Name                     8377 non-null   object\n",
      " 3   Surname                        8377 non-null   object\n",
      " 4   Age                            8377 non-null   object\n",
      " 5   Relationship to Head of House  8377 non-null   object\n",
      " 6   Marital Status                 6402 non-null   object\n",
      " 7   Gender                         8377 non-null   object\n",
      " 8   Occupation                     8377 non-null   object\n",
      " 9   Infirmity                      8377 non-null   object\n",
      " 10  Religion                       6365 non-null   object\n",
      "dtypes: int64(1), object(10)\n",
      "memory usage: 720.0+ KB\n"
     ]
    }
   ],
   "source": [
    "df.info()"
   ]
  },
  {
   "cell_type": "code",
   "execution_count": 7,
   "id": "227550d7",
   "metadata": {},
   "outputs": [
    {
     "data": {
      "text/plain": [
       "0"
      ]
     },
     "execution_count": 7,
     "metadata": {},
     "output_type": "execute_result"
    }
   ],
   "source": [
    "df.duplicated().sum()"
   ]
  },
  {
   "cell_type": "code",
   "execution_count": 8,
   "id": "7fbc66bd",
   "metadata": {},
   "outputs": [
    {
     "data": {
      "text/plain": [
       "(8377, 11)"
      ]
     },
     "execution_count": 8,
     "metadata": {},
     "output_type": "execute_result"
    }
   ],
   "source": [
    "df.shape"
   ]
  },
  {
   "cell_type": "markdown",
   "id": "7e7a337d",
   "metadata": {},
   "source": [
    "## Data Cleaning"
   ]
  },
  {
   "cell_type": "markdown",
   "id": "e9963909",
   "metadata": {},
   "source": [
    "#### Marital Status"
   ]
  },
  {
   "cell_type": "code",
   "execution_count": 9,
   "id": "4d52e60f",
   "metadata": {},
   "outputs": [
    {
     "data": {
      "text/plain": [
       "Single      2999\n",
       "Married     2224\n",
       "Divorced     791\n",
       "Widowed      387\n",
       "               1\n",
       "Name: Marital Status, dtype: int64"
      ]
     },
     "execution_count": 9,
     "metadata": {},
     "output_type": "execute_result"
    }
   ],
   "source": [
    "df['Marital Status'].value_counts()"
   ]
  },
  {
   "cell_type": "markdown",
   "id": "69e6fda5",
   "metadata": {},
   "source": [
    "- There is a particular record with a blank value as its marital status\n",
    "- Identify the record and adequately replace the value with an appropriate marital status based on the details from other fields."
   ]
  },
  {
   "cell_type": "code",
   "execution_count": 10,
   "id": "c72a00c7",
   "metadata": {},
   "outputs": [
    {
     "data": {
      "text/html": [
       "<div>\n",
       "<style scoped>\n",
       "    .dataframe tbody tr th:only-of-type {\n",
       "        vertical-align: middle;\n",
       "    }\n",
       "\n",
       "    .dataframe tbody tr th {\n",
       "        vertical-align: top;\n",
       "    }\n",
       "\n",
       "    .dataframe thead th {\n",
       "        text-align: right;\n",
       "    }\n",
       "</style>\n",
       "<table border=\"1\" class=\"dataframe\">\n",
       "  <thead>\n",
       "    <tr style=\"text-align: right;\">\n",
       "      <th></th>\n",
       "      <th>House Number</th>\n",
       "      <th>Street</th>\n",
       "      <th>First Name</th>\n",
       "      <th>Surname</th>\n",
       "      <th>Age</th>\n",
       "      <th>Relationship to Head of House</th>\n",
       "      <th>Marital Status</th>\n",
       "      <th>Gender</th>\n",
       "      <th>Occupation</th>\n",
       "      <th>Infirmity</th>\n",
       "      <th>Religion</th>\n",
       "    </tr>\n",
       "  </thead>\n",
       "  <tbody>\n",
       "    <tr>\n",
       "      <th>4230</th>\n",
       "      <td>47</td>\n",
       "      <td>Chan Estate</td>\n",
       "      <td>Norman</td>\n",
       "      <td>Ward</td>\n",
       "      <td>25</td>\n",
       "      <td>Son</td>\n",
       "      <td></td>\n",
       "      <td>Male</td>\n",
       "      <td>Administrator</td>\n",
       "      <td>None</td>\n",
       "      <td>None</td>\n",
       "    </tr>\n",
       "  </tbody>\n",
       "</table>\n",
       "</div>"
      ],
      "text/plain": [
       "      House Number       Street First Name Surname Age  \\\n",
       "4230            47  Chan Estate     Norman    Ward  25   \n",
       "\n",
       "     Relationship to Head of House Marital Status Gender     Occupation  \\\n",
       "4230                           Son                  Male  Administrator   \n",
       "\n",
       "     Infirmity Religion  \n",
       "4230      None     None  "
      ]
     },
     "execution_count": 10,
     "metadata": {},
     "output_type": "execute_result"
    }
   ],
   "source": [
    "#identify the record with \" \" as its marital status value\n",
    "df[df['Marital Status'] == \" \"]"
   ]
  },
  {
   "cell_type": "markdown",
   "id": "20c890fa",
   "metadata": {},
   "source": [
    "- The record shows that the subject with a blank marital status is a son to the head of the house and of the age 25.\n",
    "- Adequately check the entire household that the subject belongs to and come to a conclusion of giving a value of \"Single\""
   ]
  },
  {
   "cell_type": "code",
   "execution_count": 14,
   "id": "eacdbeb3",
   "metadata": {},
   "outputs": [
    {
     "data": {
      "text/html": [
       "<div>\n",
       "<style scoped>\n",
       "    .dataframe tbody tr th:only-of-type {\n",
       "        vertical-align: middle;\n",
       "    }\n",
       "\n",
       "    .dataframe tbody tr th {\n",
       "        vertical-align: top;\n",
       "    }\n",
       "\n",
       "    .dataframe thead th {\n",
       "        text-align: right;\n",
       "    }\n",
       "</style>\n",
       "<table border=\"1\" class=\"dataframe\">\n",
       "  <thead>\n",
       "    <tr style=\"text-align: right;\">\n",
       "      <th></th>\n",
       "      <th>House Number</th>\n",
       "      <th>Street</th>\n",
       "      <th>First Name</th>\n",
       "      <th>Surname</th>\n",
       "      <th>Age</th>\n",
       "      <th>Relationship to Head of House</th>\n",
       "      <th>Marital Status</th>\n",
       "      <th>Gender</th>\n",
       "      <th>Occupation</th>\n",
       "      <th>Infirmity</th>\n",
       "      <th>Religion</th>\n",
       "    </tr>\n",
       "  </thead>\n",
       "  <tbody>\n",
       "    <tr>\n",
       "      <th>4228</th>\n",
       "      <td>47</td>\n",
       "      <td>Chan Estate</td>\n",
       "      <td>Jemma</td>\n",
       "      <td>Ward</td>\n",
       "      <td>41</td>\n",
       "      <td>Head</td>\n",
       "      <td>Married</td>\n",
       "      <td>Female</td>\n",
       "      <td>Unemployed</td>\n",
       "      <td>None</td>\n",
       "      <td>Christian</td>\n",
       "    </tr>\n",
       "    <tr>\n",
       "      <th>4229</th>\n",
       "      <td>47</td>\n",
       "      <td>Chan Estate</td>\n",
       "      <td>Maurice</td>\n",
       "      <td>Ward</td>\n",
       "      <td>44</td>\n",
       "      <td>Husband</td>\n",
       "      <td>Married</td>\n",
       "      <td>Male</td>\n",
       "      <td>Unemployed</td>\n",
       "      <td>None</td>\n",
       "      <td>Christian</td>\n",
       "    </tr>\n",
       "    <tr>\n",
       "      <th>4230</th>\n",
       "      <td>47</td>\n",
       "      <td>Chan Estate</td>\n",
       "      <td>Norman</td>\n",
       "      <td>Ward</td>\n",
       "      <td>25</td>\n",
       "      <td>Son</td>\n",
       "      <td></td>\n",
       "      <td>Male</td>\n",
       "      <td>Administrator</td>\n",
       "      <td>None</td>\n",
       "      <td>None</td>\n",
       "    </tr>\n",
       "    <tr>\n",
       "      <th>4231</th>\n",
       "      <td>47</td>\n",
       "      <td>Chan Estate</td>\n",
       "      <td>Ronald</td>\n",
       "      <td>Ward</td>\n",
       "      <td>12</td>\n",
       "      <td>Son</td>\n",
       "      <td>NaN</td>\n",
       "      <td>Male</td>\n",
       "      <td>Student</td>\n",
       "      <td>None</td>\n",
       "      <td>NaN</td>\n",
       "    </tr>\n",
       "  </tbody>\n",
       "</table>\n",
       "</div>"
      ],
      "text/plain": [
       "      House Number       Street First Name Surname Age  \\\n",
       "4228            47  Chan Estate      Jemma    Ward  41   \n",
       "4229            47  Chan Estate    Maurice    Ward  44   \n",
       "4230            47  Chan Estate     Norman    Ward  25   \n",
       "4231            47  Chan Estate     Ronald    Ward  12   \n",
       "\n",
       "     Relationship to Head of House Marital Status  Gender     Occupation  \\\n",
       "4228                          Head        Married  Female     Unemployed   \n",
       "4229                       Husband        Married    Male     Unemployed   \n",
       "4230                           Son                   Male  Administrator   \n",
       "4231                           Son            NaN    Male        Student   \n",
       "\n",
       "     Infirmity   Religion  \n",
       "4228      None  Christian  \n",
       "4229      None  Christian  \n",
       "4230      None       None  \n",
       "4231      None        NaN  "
      ]
     },
     "execution_count": 14,
     "metadata": {},
     "output_type": "execute_result"
    }
   ],
   "source": [
    "df.iloc[4228:4232, :]"
   ]
  },
  {
   "cell_type": "markdown",
   "id": "feec6f95",
   "metadata": {},
   "source": [
    "- The blank value will be replaced with 'Single' since the guy is more than 18 and is not yet married."
   ]
  },
  {
   "cell_type": "code",
   "execution_count": 15,
   "id": "c62ae652",
   "metadata": {},
   "outputs": [],
   "source": [
    "df['Marital Status'].replace(\" \", \"Single\", inplace=True)"
   ]
  },
  {
   "cell_type": "code",
   "execution_count": 16,
   "id": "357d703f",
   "metadata": {},
   "outputs": [
    {
     "data": {
      "text/plain": [
       "Single      3000\n",
       "Married     2224\n",
       "Divorced     791\n",
       "Widowed      387\n",
       "Name: Marital Status, dtype: int64"
      ]
     },
     "execution_count": 16,
     "metadata": {},
     "output_type": "execute_result"
    }
   ],
   "source": [
    "df['Marital Status'].value_counts()"
   ]
  },
  {
   "cell_type": "markdown",
   "id": "2838011e",
   "metadata": {},
   "source": [
    "- The nan values in Marital status column are for children and students that are less than 18. Hence, the nan values will be replaced with \"Minor\""
   ]
  },
  {
   "cell_type": "code",
   "execution_count": 198,
   "id": "8d62e96e",
   "metadata": {},
   "outputs": [],
   "source": [
    "df['Marital Status'].replace(np.nan, \"Minor\", inplace=True)"
   ]
  },
  {
   "cell_type": "code",
   "execution_count": 199,
   "id": "c0ee577a",
   "metadata": {},
   "outputs": [
    {
     "data": {
      "text/plain": [
       "Single      3000\n",
       "Married     2224\n",
       "Minor       1975\n",
       "Divorced     791\n",
       "Widowed      387\n",
       "Name: Marital Status, dtype: int64"
      ]
     },
     "execution_count": 199,
     "metadata": {},
     "output_type": "execute_result"
    }
   ],
   "source": [
    "df['Marital Status'].value_counts()"
   ]
  },
  {
   "cell_type": "markdown",
   "id": "1027fc56",
   "metadata": {},
   "source": [
    "##### Age"
   ]
  },
  {
   "cell_type": "code",
   "execution_count": 17,
   "id": "0b8c8b07",
   "metadata": {},
   "outputs": [
    {
     "data": {
      "text/plain": [
       "count     8377\n",
       "unique     118\n",
       "top         19\n",
       "freq       158\n",
       "Name: Age, dtype: object"
      ]
     },
     "execution_count": 17,
     "metadata": {},
     "output_type": "execute_result"
    }
   ],
   "source": [
    "df['Age'].describe()"
   ]
  },
  {
   "cell_type": "code",
   "execution_count": 18,
   "id": "87948387",
   "metadata": {},
   "outputs": [
    {
     "data": {
      "text/plain": [
       "19                    158\n",
       "38                    157\n",
       "46                    156\n",
       "36                    152\n",
       "47                    147\n",
       "                     ... \n",
       "63.841399743989754      1\n",
       "107                     1\n",
       "75.27548655560247       1\n",
       "21.999999999999993      1\n",
       "17.999999999999993      1\n",
       "Name: Age, Length: 118, dtype: int64"
      ]
     },
     "execution_count": 18,
     "metadata": {},
     "output_type": "execute_result"
    }
   ],
   "source": [
    "df['Age'].value_counts()"
   ]
  },
  {
   "cell_type": "code",
   "execution_count": 19,
   "id": "6b26a068",
   "metadata": {},
   "outputs": [
    {
     "data": {
      "text/plain": [
       "array(['41', '11', '7', '40', '35', '19', '17', '60', '62', '30', '42',\n",
       "       '46', '4', '78', '81', '43', '44', '24', '57', '53', '32', '12',\n",
       "       '9', '85', '58', '59', '26', '90', '97', '63', '18', '15', '10',\n",
       "       '47', '16', '13', '36', '6', '2', '1', '25', '56', '38', '21',\n",
       "       '31', '74', '67', '65', '71', '79', '45', '61', '72', '54', '33',\n",
       "       '34', '23', '28', '29', '91', '64', '80', '76', '49', '73', '50',\n",
       "       '84', '75', '48', '14', '51', '22', '66', '20', '77', '0', '27',\n",
       "       '86', '68', '5', '83', '55', '69', '70', '39', '82', '88', '37',\n",
       "       '52', '8', '3', '87', '105', '95', '96', '89', '92', '93', '99',\n",
       "       '101', '98', '116', '112', '94', '59.782817341882584', '9.0',\n",
       "       '102', '103', ' ', '100', '104', '106', '59.841399743989754',\n",
       "       '63.841399743989754', '107', '75.27548655560247',\n",
       "       '21.999999999999993', '17.999999999999993'], dtype=object)"
      ]
     },
     "execution_count": 19,
     "metadata": {},
     "output_type": "execute_result"
    }
   ],
   "source": [
    "df['Age'].unique()"
   ]
  },
  {
   "cell_type": "markdown",
   "id": "2df2cd86",
   "metadata": {},
   "source": [
    "- The age column is considered an object data type. It should be an integer\n",
    "- This is due to the inconsistencies in the values of the column. The values will be appropriately cleaned and the column converted to integer"
   ]
  },
  {
   "cell_type": "code",
   "execution_count": 20,
   "id": "d80e0e83",
   "metadata": {},
   "outputs": [
    {
     "data": {
      "text/html": [
       "<div>\n",
       "<style scoped>\n",
       "    .dataframe tbody tr th:only-of-type {\n",
       "        vertical-align: middle;\n",
       "    }\n",
       "\n",
       "    .dataframe tbody tr th {\n",
       "        vertical-align: top;\n",
       "    }\n",
       "\n",
       "    .dataframe thead th {\n",
       "        text-align: right;\n",
       "    }\n",
       "</style>\n",
       "<table border=\"1\" class=\"dataframe\">\n",
       "  <thead>\n",
       "    <tr style=\"text-align: right;\">\n",
       "      <th></th>\n",
       "      <th>House Number</th>\n",
       "      <th>Street</th>\n",
       "      <th>First Name</th>\n",
       "      <th>Surname</th>\n",
       "      <th>Age</th>\n",
       "      <th>Relationship to Head of House</th>\n",
       "      <th>Marital Status</th>\n",
       "      <th>Gender</th>\n",
       "      <th>Occupation</th>\n",
       "      <th>Infirmity</th>\n",
       "      <th>Religion</th>\n",
       "    </tr>\n",
       "  </thead>\n",
       "  <tbody>\n",
       "    <tr>\n",
       "      <th>4000</th>\n",
       "      <td>6</td>\n",
       "      <td>Pendragon Lane</td>\n",
       "      <td>Howard</td>\n",
       "      <td>Baker</td>\n",
       "      <td></td>\n",
       "      <td>Son</td>\n",
       "      <td>Single</td>\n",
       "      <td>Male</td>\n",
       "      <td>University Student</td>\n",
       "      <td>None</td>\n",
       "      <td>Methodist</td>\n",
       "    </tr>\n",
       "  </tbody>\n",
       "</table>\n",
       "</div>"
      ],
      "text/plain": [
       "      House Number          Street First Name Surname Age  \\\n",
       "4000             6  Pendragon Lane     Howard   Baker       \n",
       "\n",
       "     Relationship to Head of House Marital Status Gender          Occupation  \\\n",
       "4000                           Son         Single   Male  University Student   \n",
       "\n",
       "     Infirmity   Religion  \n",
       "4000      None  Methodist  "
      ]
     },
     "execution_count": 20,
     "metadata": {},
     "output_type": "execute_result"
    }
   ],
   "source": [
    "df[df['Age'] == \" \"]"
   ]
  },
  {
   "cell_type": "markdown",
   "id": "e5f545ab",
   "metadata": {},
   "source": [
    "- The record with a blank value is single and a University student which shows that he is more than 18.\n",
    "- The blank value will be replaced with '19' because 19 is the most frequent for subjects that are more single and University Student.\n",
    "- Other floats will be replaced with the value before the decimal point."
   ]
  },
  {
   "cell_type": "code",
   "execution_count": 21,
   "id": "023a4cd8",
   "metadata": {},
   "outputs": [],
   "source": [
    "#replace the values with appropriate ones\n",
    "df['Age'].replace(\" \", 19, inplace=True)\n",
    "df['Age'].replace(\"59.782817341882584\", 59, inplace=True)\n",
    "df['Age'].replace(\"9.0\", 9, inplace=True)\n",
    "df['Age'].replace(\"59.841399743989754\", 59, inplace=True)\n",
    "df['Age'].replace(\"63.841399743989754\", 63, inplace=True)\n",
    "df['Age'].replace(\"75.27548655560247\", 75, inplace=True)\n",
    "df['Age'].replace(\"21.999999999999993\", 21, inplace=True)\n",
    "df['Age'].replace(\"17.999999999999993\", 17, inplace=True)"
   ]
  },
  {
   "cell_type": "code",
   "execution_count": 23,
   "id": "0d1dc147",
   "metadata": {},
   "outputs": [],
   "source": [
    "#convert the data type to int\n",
    "df['Age'] = df['Age'].astype(int)"
   ]
  },
  {
   "cell_type": "code",
   "execution_count": 24,
   "id": "6e6c6d89",
   "metadata": {},
   "outputs": [
    {
     "name": "stdout",
     "output_type": "stream",
     "text": [
      "<class 'pandas.core.frame.DataFrame'>\n",
      "RangeIndex: 8377 entries, 0 to 8376\n",
      "Data columns (total 11 columns):\n",
      " #   Column                         Non-Null Count  Dtype \n",
      "---  ------                         --------------  ----- \n",
      " 0   House Number                   8377 non-null   int64 \n",
      " 1   Street                         8377 non-null   object\n",
      " 2   First Name                     8377 non-null   object\n",
      " 3   Surname                        8377 non-null   object\n",
      " 4   Age                            8377 non-null   int32 \n",
      " 5   Relationship to Head of House  8377 non-null   object\n",
      " 6   Marital Status                 6402 non-null   object\n",
      " 7   Gender                         8377 non-null   object\n",
      " 8   Occupation                     8377 non-null   object\n",
      " 9   Infirmity                      8377 non-null   object\n",
      " 10  Religion                       6365 non-null   object\n",
      "dtypes: int32(1), int64(1), object(9)\n",
      "memory usage: 687.3+ KB\n"
     ]
    }
   ],
   "source": [
    "#check\n",
    "df.info()"
   ]
  },
  {
   "cell_type": "markdown",
   "id": "4508935b",
   "metadata": {},
   "source": [
    "##### Gender"
   ]
  },
  {
   "cell_type": "code",
   "execution_count": 25,
   "id": "cb9bdc38",
   "metadata": {},
   "outputs": [
    {
     "data": {
      "text/plain": [
       "Female    4371\n",
       "Male      4003\n",
       "             3\n",
       "Name: Gender, dtype: int64"
      ]
     },
     "execution_count": 25,
     "metadata": {},
     "output_type": "execute_result"
    }
   ],
   "source": [
    "df['Gender'].value_counts()"
   ]
  },
  {
   "cell_type": "code",
   "execution_count": 26,
   "id": "898dfd6e",
   "metadata": {},
   "outputs": [
    {
     "data": {
      "text/html": [
       "<div>\n",
       "<style scoped>\n",
       "    .dataframe tbody tr th:only-of-type {\n",
       "        vertical-align: middle;\n",
       "    }\n",
       "\n",
       "    .dataframe tbody tr th {\n",
       "        vertical-align: top;\n",
       "    }\n",
       "\n",
       "    .dataframe thead th {\n",
       "        text-align: right;\n",
       "    }\n",
       "</style>\n",
       "<table border=\"1\" class=\"dataframe\">\n",
       "  <thead>\n",
       "    <tr style=\"text-align: right;\">\n",
       "      <th></th>\n",
       "      <th>House Number</th>\n",
       "      <th>Street</th>\n",
       "      <th>First Name</th>\n",
       "      <th>Surname</th>\n",
       "      <th>Age</th>\n",
       "      <th>Relationship to Head of House</th>\n",
       "      <th>Marital Status</th>\n",
       "      <th>Gender</th>\n",
       "      <th>Occupation</th>\n",
       "      <th>Infirmity</th>\n",
       "      <th>Religion</th>\n",
       "    </tr>\n",
       "  </thead>\n",
       "  <tbody>\n",
       "    <tr>\n",
       "      <th>1002</th>\n",
       "      <td>1</td>\n",
       "      <td>Taylor Grove</td>\n",
       "      <td>Pamela</td>\n",
       "      <td>Edwards</td>\n",
       "      <td>69</td>\n",
       "      <td>Head</td>\n",
       "      <td>Married</td>\n",
       "      <td></td>\n",
       "      <td>Retired Engineer, technical sales</td>\n",
       "      <td>None</td>\n",
       "      <td>Christian</td>\n",
       "    </tr>\n",
       "    <tr>\n",
       "      <th>6899</th>\n",
       "      <td>8</td>\n",
       "      <td>Tiger Avenue</td>\n",
       "      <td>Leanne</td>\n",
       "      <td>Gill</td>\n",
       "      <td>22</td>\n",
       "      <td>None</td>\n",
       "      <td>Single</td>\n",
       "      <td></td>\n",
       "      <td>University Student</td>\n",
       "      <td>None</td>\n",
       "      <td>None</td>\n",
       "    </tr>\n",
       "    <tr>\n",
       "      <th>7348</th>\n",
       "      <td>25</td>\n",
       "      <td>Canterbury Well</td>\n",
       "      <td>Irene</td>\n",
       "      <td>Harvey</td>\n",
       "      <td>51</td>\n",
       "      <td>Head</td>\n",
       "      <td>Married</td>\n",
       "      <td></td>\n",
       "      <td>Librarian, public</td>\n",
       "      <td>None</td>\n",
       "      <td>Christian</td>\n",
       "    </tr>\n",
       "  </tbody>\n",
       "</table>\n",
       "</div>"
      ],
      "text/plain": [
       "      House Number           Street First Name  Surname  Age  \\\n",
       "1002             1     Taylor Grove     Pamela  Edwards   69   \n",
       "6899             8     Tiger Avenue     Leanne     Gill   22   \n",
       "7348            25  Canterbury Well      Irene   Harvey   51   \n",
       "\n",
       "     Relationship to Head of House Marital Status Gender  \\\n",
       "1002                          Head        Married          \n",
       "6899                          None         Single          \n",
       "7348                          Head        Married          \n",
       "\n",
       "                             Occupation Infirmity   Religion  \n",
       "1002  Retired Engineer, technical sales      None  Christian  \n",
       "6899                 University Student      None       None  \n",
       "7348                  Librarian, public      None  Christian  "
      ]
     },
     "execution_count": 26,
     "metadata": {},
     "output_type": "execute_result"
    }
   ],
   "source": [
    "df[df['Gender'] == \" \"]"
   ]
  },
  {
   "cell_type": "markdown",
   "id": "d0c6912f",
   "metadata": {},
   "source": [
    "- There are three records with blank Gender\n",
    "- Each household that each record belongs to will be examined to determine the gender of the subjects. If these cannot be determined, they will be converted to NaN"
   ]
  },
  {
   "cell_type": "code",
   "execution_count": 27,
   "id": "6da718b3",
   "metadata": {},
   "outputs": [
    {
     "data": {
      "text/html": [
       "<div>\n",
       "<style scoped>\n",
       "    .dataframe tbody tr th:only-of-type {\n",
       "        vertical-align: middle;\n",
       "    }\n",
       "\n",
       "    .dataframe tbody tr th {\n",
       "        vertical-align: top;\n",
       "    }\n",
       "\n",
       "    .dataframe thead th {\n",
       "        text-align: right;\n",
       "    }\n",
       "</style>\n",
       "<table border=\"1\" class=\"dataframe\">\n",
       "  <thead>\n",
       "    <tr style=\"text-align: right;\">\n",
       "      <th></th>\n",
       "      <th>House Number</th>\n",
       "      <th>Street</th>\n",
       "      <th>First Name</th>\n",
       "      <th>Surname</th>\n",
       "      <th>Age</th>\n",
       "      <th>Relationship to Head of House</th>\n",
       "      <th>Marital Status</th>\n",
       "      <th>Gender</th>\n",
       "      <th>Occupation</th>\n",
       "      <th>Infirmity</th>\n",
       "      <th>Religion</th>\n",
       "    </tr>\n",
       "  </thead>\n",
       "  <tbody>\n",
       "    <tr>\n",
       "      <th>1002</th>\n",
       "      <td>1</td>\n",
       "      <td>Taylor Grove</td>\n",
       "      <td>Pamela</td>\n",
       "      <td>Edwards</td>\n",
       "      <td>69</td>\n",
       "      <td>Head</td>\n",
       "      <td>Married</td>\n",
       "      <td></td>\n",
       "      <td>Retired Engineer, technical sales</td>\n",
       "      <td>None</td>\n",
       "      <td>Christian</td>\n",
       "    </tr>\n",
       "    <tr>\n",
       "      <th>1003</th>\n",
       "      <td>1</td>\n",
       "      <td>Taylor Grove</td>\n",
       "      <td>Garry</td>\n",
       "      <td>Edwards</td>\n",
       "      <td>72</td>\n",
       "      <td>Husband</td>\n",
       "      <td>Married</td>\n",
       "      <td>Male</td>\n",
       "      <td>Retired Ophthalmologist</td>\n",
       "      <td>None</td>\n",
       "      <td>Christian</td>\n",
       "    </tr>\n",
       "    <tr>\n",
       "      <th>1004</th>\n",
       "      <td>2</td>\n",
       "      <td>Taylor Grove</td>\n",
       "      <td>Olivia</td>\n",
       "      <td>Rose</td>\n",
       "      <td>73</td>\n",
       "      <td>Head</td>\n",
       "      <td>Widowed</td>\n",
       "      <td>Female</td>\n",
       "      <td>Retired Ergonomist</td>\n",
       "      <td>None</td>\n",
       "      <td>None</td>\n",
       "    </tr>\n",
       "  </tbody>\n",
       "</table>\n",
       "</div>"
      ],
      "text/plain": [
       "      House Number        Street First Name  Surname  Age  \\\n",
       "1002             1  Taylor Grove     Pamela  Edwards   69   \n",
       "1003             1  Taylor Grove      Garry  Edwards   72   \n",
       "1004             2  Taylor Grove     Olivia     Rose   73   \n",
       "\n",
       "     Relationship to Head of House Marital Status  Gender  \\\n",
       "1002                          Head        Married           \n",
       "1003                       Husband        Married    Male   \n",
       "1004                          Head        Widowed  Female   \n",
       "\n",
       "                             Occupation Infirmity   Religion  \n",
       "1002  Retired Engineer, technical sales      None  Christian  \n",
       "1003            Retired Ophthalmologist      None  Christian  \n",
       "1004                 Retired Ergonomist      None       None  "
      ]
     },
     "execution_count": 27,
     "metadata": {},
     "output_type": "execute_result"
    }
   ],
   "source": [
    "#first record\n",
    "df.iloc[1002:1005, :]"
   ]
  },
  {
   "cell_type": "markdown",
   "id": "3aac97ec",
   "metadata": {},
   "source": [
    "- Record 1002's gender will be Female because of the presence of her husband in the household."
   ]
  },
  {
   "cell_type": "code",
   "execution_count": 29,
   "id": "2d01d911",
   "metadata": {},
   "outputs": [],
   "source": [
    "df.at[1002, 'Gender'] = \"Female\""
   ]
  },
  {
   "cell_type": "code",
   "execution_count": 30,
   "id": "8d32cbc3",
   "metadata": {},
   "outputs": [
    {
     "data": {
      "text/plain": [
       "House Number                                                     1\n",
       "Street                                                Taylor Grove\n",
       "First Name                                                  Pamela\n",
       "Surname                                                    Edwards\n",
       "Age                                                             69\n",
       "Relationship to Head of House                                 Head\n",
       "Marital Status                                             Married\n",
       "Gender                                                      Female\n",
       "Occupation                       Retired Engineer, technical sales\n",
       "Infirmity                                                     None\n",
       "Religion                                                 Christian\n",
       "Name: 1002, dtype: object"
      ]
     },
     "execution_count": 30,
     "metadata": {},
     "output_type": "execute_result"
    }
   ],
   "source": [
    "df.iloc[1002, :]"
   ]
  },
  {
   "cell_type": "code",
   "execution_count": 32,
   "id": "3febd66a",
   "metadata": {},
   "outputs": [
    {
     "data": {
      "text/html": [
       "<div>\n",
       "<style scoped>\n",
       "    .dataframe tbody tr th:only-of-type {\n",
       "        vertical-align: middle;\n",
       "    }\n",
       "\n",
       "    .dataframe tbody tr th {\n",
       "        vertical-align: top;\n",
       "    }\n",
       "\n",
       "    .dataframe thead th {\n",
       "        text-align: right;\n",
       "    }\n",
       "</style>\n",
       "<table border=\"1\" class=\"dataframe\">\n",
       "  <thead>\n",
       "    <tr style=\"text-align: right;\">\n",
       "      <th></th>\n",
       "      <th>House Number</th>\n",
       "      <th>Street</th>\n",
       "      <th>First Name</th>\n",
       "      <th>Surname</th>\n",
       "      <th>Age</th>\n",
       "      <th>Relationship to Head of House</th>\n",
       "      <th>Marital Status</th>\n",
       "      <th>Gender</th>\n",
       "      <th>Occupation</th>\n",
       "      <th>Infirmity</th>\n",
       "      <th>Religion</th>\n",
       "    </tr>\n",
       "  </thead>\n",
       "  <tbody>\n",
       "    <tr>\n",
       "      <th>6898</th>\n",
       "      <td>8</td>\n",
       "      <td>Tiger Avenue</td>\n",
       "      <td>Gillian</td>\n",
       "      <td>Smith</td>\n",
       "      <td>43</td>\n",
       "      <td>Head</td>\n",
       "      <td>Single</td>\n",
       "      <td>Female</td>\n",
       "      <td>Database administrator</td>\n",
       "      <td>None</td>\n",
       "      <td>Christian</td>\n",
       "    </tr>\n",
       "    <tr>\n",
       "      <th>6899</th>\n",
       "      <td>8</td>\n",
       "      <td>Tiger Avenue</td>\n",
       "      <td>Leanne</td>\n",
       "      <td>Gill</td>\n",
       "      <td>22</td>\n",
       "      <td>None</td>\n",
       "      <td>Single</td>\n",
       "      <td></td>\n",
       "      <td>University Student</td>\n",
       "      <td>None</td>\n",
       "      <td>None</td>\n",
       "    </tr>\n",
       "    <tr>\n",
       "      <th>6900</th>\n",
       "      <td>1</td>\n",
       "      <td>Squirrel Street</td>\n",
       "      <td>Gareth</td>\n",
       "      <td>Glover</td>\n",
       "      <td>20</td>\n",
       "      <td>Head</td>\n",
       "      <td>Single</td>\n",
       "      <td>Male</td>\n",
       "      <td>University Student</td>\n",
       "      <td>None</td>\n",
       "      <td>None</td>\n",
       "    </tr>\n",
       "    <tr>\n",
       "      <th>6901</th>\n",
       "      <td>1</td>\n",
       "      <td>Squirrel Street</td>\n",
       "      <td>Kieran</td>\n",
       "      <td>Hancock</td>\n",
       "      <td>21</td>\n",
       "      <td>None</td>\n",
       "      <td>Single</td>\n",
       "      <td>Male</td>\n",
       "      <td>University Student</td>\n",
       "      <td>None</td>\n",
       "      <td>Christian</td>\n",
       "    </tr>\n",
       "  </tbody>\n",
       "</table>\n",
       "</div>"
      ],
      "text/plain": [
       "      House Number           Street First Name  Surname  Age  \\\n",
       "6898             8     Tiger Avenue    Gillian    Smith   43   \n",
       "6899             8     Tiger Avenue     Leanne     Gill   22   \n",
       "6900             1  Squirrel Street     Gareth   Glover   20   \n",
       "6901             1  Squirrel Street     Kieran  Hancock   21   \n",
       "\n",
       "     Relationship to Head of House Marital Status  Gender  \\\n",
       "6898                          Head         Single  Female   \n",
       "6899                          None         Single           \n",
       "6900                          Head         Single    Male   \n",
       "6901                          None         Single    Male   \n",
       "\n",
       "                  Occupation Infirmity   Religion  \n",
       "6898  Database administrator      None  Christian  \n",
       "6899      University Student      None       None  \n",
       "6900      University Student      None       None  \n",
       "6901      University Student      None  Christian  "
      ]
     },
     "execution_count": 32,
     "metadata": {},
     "output_type": "execute_result"
    }
   ],
   "source": [
    "#second record\n",
    "df.iloc[6898:6902, :]"
   ]
  },
  {
   "cell_type": "markdown",
   "id": "f4874243",
   "metadata": {},
   "source": [
    "- This shows that records 6898 and 6899 are housemates with no relationship. It is only rational that both of them will be of the same gender since they stay in the same apartment."
   ]
  },
  {
   "cell_type": "code",
   "execution_count": 35,
   "id": "0e843c47",
   "metadata": {},
   "outputs": [],
   "source": [
    "df.at[6899, 'Gender'] = \"Female\""
   ]
  },
  {
   "cell_type": "code",
   "execution_count": 36,
   "id": "71d2f6eb",
   "metadata": {},
   "outputs": [
    {
     "data": {
      "text/plain": [
       "House Number                                      8\n",
       "Street                                 Tiger Avenue\n",
       "First Name                                   Leanne\n",
       "Surname                                        Gill\n",
       "Age                                              22\n",
       "Relationship to Head of House                  None\n",
       "Marital Status                               Single\n",
       "Gender                                       Female\n",
       "Occupation                       University Student\n",
       "Infirmity                                      None\n",
       "Religion                                       None\n",
       "Name: 6899, dtype: object"
      ]
     },
     "execution_count": 36,
     "metadata": {},
     "output_type": "execute_result"
    }
   ],
   "source": [
    "df.iloc[6899, :]"
   ]
  },
  {
   "cell_type": "code",
   "execution_count": 38,
   "id": "f12e354b",
   "metadata": {},
   "outputs": [
    {
     "data": {
      "text/html": [
       "<div>\n",
       "<style scoped>\n",
       "    .dataframe tbody tr th:only-of-type {\n",
       "        vertical-align: middle;\n",
       "    }\n",
       "\n",
       "    .dataframe tbody tr th {\n",
       "        vertical-align: top;\n",
       "    }\n",
       "\n",
       "    .dataframe thead th {\n",
       "        text-align: right;\n",
       "    }\n",
       "</style>\n",
       "<table border=\"1\" class=\"dataframe\">\n",
       "  <thead>\n",
       "    <tr style=\"text-align: right;\">\n",
       "      <th></th>\n",
       "      <th>House Number</th>\n",
       "      <th>Street</th>\n",
       "      <th>First Name</th>\n",
       "      <th>Surname</th>\n",
       "      <th>Age</th>\n",
       "      <th>Relationship to Head of House</th>\n",
       "      <th>Marital Status</th>\n",
       "      <th>Gender</th>\n",
       "      <th>Occupation</th>\n",
       "      <th>Infirmity</th>\n",
       "      <th>Religion</th>\n",
       "    </tr>\n",
       "  </thead>\n",
       "  <tbody>\n",
       "    <tr>\n",
       "      <th>7348</th>\n",
       "      <td>25</td>\n",
       "      <td>Canterbury Well</td>\n",
       "      <td>Irene</td>\n",
       "      <td>Harvey</td>\n",
       "      <td>51</td>\n",
       "      <td>Head</td>\n",
       "      <td>Married</td>\n",
       "      <td></td>\n",
       "      <td>Librarian, public</td>\n",
       "      <td>None</td>\n",
       "      <td>Christian</td>\n",
       "    </tr>\n",
       "    <tr>\n",
       "      <th>7349</th>\n",
       "      <td>25</td>\n",
       "      <td>Canterbury Well</td>\n",
       "      <td>Christopher</td>\n",
       "      <td>Harvey</td>\n",
       "      <td>55</td>\n",
       "      <td>Husband</td>\n",
       "      <td>Married</td>\n",
       "      <td>Male</td>\n",
       "      <td>Curator</td>\n",
       "      <td>None</td>\n",
       "      <td>Christian</td>\n",
       "    </tr>\n",
       "    <tr>\n",
       "      <th>7350</th>\n",
       "      <td>25</td>\n",
       "      <td>Canterbury Well</td>\n",
       "      <td>Carolyn</td>\n",
       "      <td>Harvey</td>\n",
       "      <td>28</td>\n",
       "      <td>Daughter</td>\n",
       "      <td>Single</td>\n",
       "      <td>Female</td>\n",
       "      <td>Land/geomatics surveyor</td>\n",
       "      <td>None</td>\n",
       "      <td>Christian</td>\n",
       "    </tr>\n",
       "    <tr>\n",
       "      <th>7351</th>\n",
       "      <td>25</td>\n",
       "      <td>Canterbury Well</td>\n",
       "      <td>Holly</td>\n",
       "      <td>Harvey</td>\n",
       "      <td>12</td>\n",
       "      <td>Daughter</td>\n",
       "      <td>NaN</td>\n",
       "      <td>Female</td>\n",
       "      <td>Student</td>\n",
       "      <td>None</td>\n",
       "      <td>NaN</td>\n",
       "    </tr>\n",
       "  </tbody>\n",
       "</table>\n",
       "</div>"
      ],
      "text/plain": [
       "      House Number           Street   First Name Surname  Age  \\\n",
       "7348            25  Canterbury Well        Irene  Harvey   51   \n",
       "7349            25  Canterbury Well  Christopher  Harvey   55   \n",
       "7350            25  Canterbury Well      Carolyn  Harvey   28   \n",
       "7351            25  Canterbury Well        Holly  Harvey   12   \n",
       "\n",
       "     Relationship to Head of House Marital Status  Gender  \\\n",
       "7348                          Head        Married           \n",
       "7349                       Husband        Married    Male   \n",
       "7350                      Daughter         Single  Female   \n",
       "7351                      Daughter            NaN  Female   \n",
       "\n",
       "                   Occupation Infirmity   Religion  \n",
       "7348        Librarian, public      None  Christian  \n",
       "7349                  Curator      None  Christian  \n",
       "7350  Land/geomatics surveyor      None  Christian  \n",
       "7351                  Student      None        NaN  "
      ]
     },
     "execution_count": 38,
     "metadata": {},
     "output_type": "execute_result"
    }
   ],
   "source": [
    "df.iloc[7348:7352, :]"
   ]
  },
  {
   "cell_type": "markdown",
   "id": "3115951f",
   "metadata": {},
   "source": [
    "- The Gender value of record 7348 will be replaced with Female because the household details shows that she is the wife to record 7349"
   ]
  },
  {
   "cell_type": "code",
   "execution_count": 39,
   "id": "64f30605",
   "metadata": {},
   "outputs": [],
   "source": [
    "df.at[7348, 'Gender'] = \"Female\""
   ]
  },
  {
   "cell_type": "code",
   "execution_count": 40,
   "id": "cfa3774d",
   "metadata": {},
   "outputs": [
    {
     "data": {
      "text/plain": [
       "House Number                                    25\n",
       "Street                             Canterbury Well\n",
       "First Name                                   Irene\n",
       "Surname                                     Harvey\n",
       "Age                                             51\n",
       "Relationship to Head of House                 Head\n",
       "Marital Status                             Married\n",
       "Gender                                      Female\n",
       "Occupation                       Librarian, public\n",
       "Infirmity                                     None\n",
       "Religion                                 Christian\n",
       "Name: 7348, dtype: object"
      ]
     },
     "execution_count": 40,
     "metadata": {},
     "output_type": "execute_result"
    }
   ],
   "source": [
    "df.iloc[7348, :]"
   ]
  },
  {
   "cell_type": "code",
   "execution_count": 41,
   "id": "6a549689",
   "metadata": {},
   "outputs": [
    {
     "data": {
      "text/plain": [
       "Female    4374\n",
       "Male      4003\n",
       "Name: Gender, dtype: int64"
      ]
     },
     "execution_count": 41,
     "metadata": {},
     "output_type": "execute_result"
    }
   ],
   "source": [
    "#check\n",
    "df['Gender'].value_counts()"
   ]
  },
  {
   "cell_type": "code",
   "execution_count": 42,
   "id": "29deb77f",
   "metadata": {},
   "outputs": [
    {
     "data": {
      "text/plain": [
       "0"
      ]
     },
     "execution_count": 42,
     "metadata": {},
     "output_type": "execute_result"
    }
   ],
   "source": [
    "df['Gender'].isnull().sum()"
   ]
  },
  {
   "cell_type": "markdown",
   "id": "5cb0abfe",
   "metadata": {},
   "source": [
    "##### Occupation"
   ]
  },
  {
   "cell_type": "code",
   "execution_count": 43,
   "id": "3f364912",
   "metadata": {},
   "outputs": [
    {
     "data": {
      "text/plain": [
       "Student                                     1584\n",
       "University Student                           533\n",
       "Unemployed                                   529\n",
       "Child                                        473\n",
       "Armed forces operational officer              16\n",
       "                                            ... \n",
       "Retired Lecturer, higher education             1\n",
       "Retired Theme park manager                     1\n",
       "Retired Psychologist, counselling              1\n",
       "Retired Surveyor, commercial/residential       1\n",
       "Retired Counsellor                             1\n",
       "Name: Occupation, Length: 1084, dtype: int64"
      ]
     },
     "execution_count": 43,
     "metadata": {},
     "output_type": "execute_result"
    }
   ],
   "source": [
    "df['Occupation'].value_counts()"
   ]
  },
  {
   "cell_type": "markdown",
   "id": "7a7ea991",
   "metadata": {},
   "source": [
    "- There seems to be many retired workers. Categorize all retired workers into Retirees."
   ]
  },
  {
   "cell_type": "code",
   "execution_count": 45,
   "id": "cf4e46d5",
   "metadata": {},
   "outputs": [],
   "source": [
    "#categorize all retired workers into retirees\n",
    "df.loc[df['Occupation'].str.contains('Retired', case=False), 'Occupation'] = 'Retiree'"
   ]
  },
  {
   "cell_type": "code",
   "execution_count": 46,
   "id": "5f1d50b0",
   "metadata": {},
   "outputs": [
    {
     "data": {
      "text/plain": [
       "Student                            1584\n",
       "Retiree                             749\n",
       "University Student                  533\n",
       "Unemployed                          529\n",
       "Child                               473\n",
       "                                   ... \n",
       "Herpetologist                         2\n",
       "                                      1\n",
       "Commercial/residential surveyor       1\n",
       "Optometrist                           1\n",
       "Technical brewer                      1\n",
       "Name: Occupation, Length: 646, dtype: int64"
      ]
     },
     "execution_count": 46,
     "metadata": {},
     "output_type": "execute_result"
    }
   ],
   "source": [
    "df['Occupation'].value_counts()"
   ]
  },
  {
   "cell_type": "code",
   "execution_count": 47,
   "id": "662ca341",
   "metadata": {},
   "outputs": [
    {
     "data": {
      "text/plain": [
       "array(['Field trials officer', 'Student',\n",
       "       'Environmental education officer', 'Public librarian',\n",
       "       'University Student',\n",
       "       'Clinical scientist, histocompatibility and immunogenetics',\n",
       "       'Arts development officer', 'Unemployed',\n",
       "       'Physiological scientist', 'Site engineer', 'Child', 'Retiree',\n",
       "       'Equality and diversity officer', 'Surveyor, building',\n",
       "       'Contracting civil engineer', 'Editor, film/video',\n",
       "       'Hospital doctor', 'Engineer, civil (consulting)',\n",
       "       'Engineer, manufacturing', 'Sports therapist', 'Fish farm manager',\n",
       "       'Hydrographic surveyor', 'Furniture conservator/restorer', 'Actor',\n",
       "       'Engineer, manufacturing systems', 'Human resources officer',\n",
       "       'Broadcast journalist', 'Editor, commissioning', 'Set designer',\n",
       "       'Production designer, theatre/television/film',\n",
       "       'Therapist, sports', 'Health promotion specialist',\n",
       "       'Nurse, mental health', 'Translator',\n",
       "       'Tourist information centre manager',\n",
       "       'Commercial art gallery manager', 'Psychiatrist', 'PhD Student',\n",
       "       'Network engineer', 'Geologist, engineering', 'Mudlogger',\n",
       "       'Risk analyst', 'Curator', 'Teacher, early years/pre',\n",
       "       'Health service manager', 'Merchandiser, retail', 'Social worker',\n",
       "       'Learning disability nurse', 'Embryologist, clinical',\n",
       "       'Management consultant', 'Development worker, international aid',\n",
       "       'Technical sales engineer', 'Pension scheme manager', 'Dentist',\n",
       "       'Private music teacher', 'Surveyor, commercial/residential',\n",
       "       'Engineer, electrical', 'Surveyor, mining',\n",
       "       'IT sales professional', 'Garment/textile technologist',\n",
       "       'Designer, interior/spatial', 'Psychologist, counselling',\n",
       "       'Sales promotion account executive', 'Surveyor, insurance',\n",
       "       'Presenter, broadcasting', 'Software engineer',\n",
       "       'Local government officer', 'Health physicist',\n",
       "       'Engineer, aeronautical', 'Lecturer, higher education',\n",
       "       'Food technologist', 'Computer games developer', 'Podiatrist',\n",
       "       'Exhibition designer', 'Insurance claims handler',\n",
       "       'Prison officer', 'Community arts worker',\n",
       "       'Horticultural therapist', 'Programmer, systems',\n",
       "       'Water quality scientist', 'Glass blower/designer',\n",
       "       'Chartered management accountant', 'Information systems manager',\n",
       "       'Teaching laboratory technician',\n",
       "       'Research scientist (life sciences)', 'Adult nurse',\n",
       "       'Soil scientist', 'Accountant, chartered certified',\n",
       "       'Recruitment consultant', 'Journalist, newspaper', 'Tour manager',\n",
       "       'Surveyor, planning and development', 'Engineer, technical sales',\n",
       "       'Patent examiner', 'Exhibitions officer, museum/gallery',\n",
       "       'Designer, jewellery', 'Programmer, multimedia', 'Surgeon',\n",
       "       'Quality manager', 'Arboriculturist', 'Warehouse manager',\n",
       "       'Engineer, control and instrumentation',\n",
       "       'Conservation officer, nature', 'Product designer', 'Cabin crew',\n",
       "       'Medical illustrator', 'Customer service manager',\n",
       "       'Nurse, learning disability', 'Civil engineer, consulting',\n",
       "       'Oceanographer', 'Manufacturing systems engineer',\n",
       "       'Education administrator', 'Administrator, education',\n",
       "       'Psychiatric nurse', 'Copy', 'Associate Professor',\n",
       "       'Engineer, communications', 'Industrial/product designer', 'Sub',\n",
       "       'Paediatric nurse', 'Interpreter', 'Location manager',\n",
       "       'Technical brewer', 'Financial controller', 'Ship broker',\n",
       "       'Engineer, agricultural', 'Speech and language therapist',\n",
       "       'Chiropractor', 'Actuary', 'Clinical molecular geneticist',\n",
       "       'Records manager', 'Administrator, local government',\n",
       "       'Commissioning editor', 'Therapist, art', 'Astronomer',\n",
       "       'Designer, fashion/clothing', 'Psychotherapist, dance movement',\n",
       "       'Research scientist (maths)', 'Materials engineer', 'Firefighter',\n",
       "       'Brewing technologist', 'Tree surgeon', 'Intelligence analyst',\n",
       "       'Applications developer', 'Doctor, hospital', 'Midwife',\n",
       "       'Investment banker, corporate', 'Horticultural consultant',\n",
       "       'Data processing manager', 'Make', 'Haematologist',\n",
       "       'Production engineer', 'Copywriter, advertising',\n",
       "       'Health and safety adviser', 'Conservator, museum/gallery',\n",
       "       'Travel agency manager', 'Naval architect',\n",
       "       'Engineer, broadcasting (operations)', 'Metallurgist',\n",
       "       'Conference centre manager', 'Immunologist',\n",
       "       'Holiday representative', 'Scientist, physiological',\n",
       "       'Biochemist, clinical', 'Psychologist, clinical',\n",
       "       'Engineer, production', 'Forensic psychologist',\n",
       "       'Scientist, clinical (histocompatibility and immunogenetics)',\n",
       "       'Purchasing manager', 'Investment banker, operational',\n",
       "       'Lighting technician, broadcasting/film/video',\n",
       "       'Commercial horticulturist', 'Public affairs consultant',\n",
       "       'Chief of Staff', 'Teacher, secondary school', 'Graphic designer',\n",
       "       'Water engineer', 'Engineer, civil (contracting)',\n",
       "       'Engineer, building services', 'Forest/woodland manager',\n",
       "       'Museum/gallery curator', 'Surveyor, land/geomatics',\n",
       "       'Fisheries officer', 'Banker', 'Designer, multimedia',\n",
       "       'Energy engineer', 'Loss adjuster, chartered',\n",
       "       'Accounting technician', 'Colour technologist', 'Retail banker',\n",
       "       'Insurance underwriter', 'Occupational hygienist',\n",
       "       'Armed forces operational officer', 'Solicitor',\n",
       "       'Scientist, marine', 'Furniture designer', 'Call centre manager',\n",
       "       'Administrator, Civil Service',\n",
       "       'English as a second language teacher', 'Company secretary',\n",
       "       'Quarry manager', 'Printmaker', 'Lobbyist',\n",
       "       'Surveyor, hydrographic', 'Tourism officer',\n",
       "       'Designer, ceramics/pottery', 'Planning and development surveyor',\n",
       "       'Newspaper journalist', 'Theatre director', 'Equities trader',\n",
       "       'Cartographer', 'Social research officer, government',\n",
       "       'Physiotherapist', 'Scientist, water quality', 'Building surveyor',\n",
       "       'Research officer, political party', 'Education officer, museum',\n",
       "       'Television camera operator', 'Television/film/video producer',\n",
       "       'Social researcher', 'Buyer, retail',\n",
       "       'Corporate investment banker', 'Legal executive',\n",
       "       'Psychologist, educational', 'Homeopath',\n",
       "       'Doctor, general practice', 'Architectural technologist',\n",
       "       'Comptroller', 'Geophysical data processor',\n",
       "       'Higher education careers adviser', 'Biomedical scientist',\n",
       "       'Field seismologist',\n",
       "       'Chartered legal executive (England and Wales)',\n",
       "       'Charity fundraiser', 'Dancer', 'Horticulturist, commercial',\n",
       "       'Government social research officer', 'Risk manager',\n",
       "       'Logistics and distribution manager',\n",
       "       'Education officer, community', 'Mechanical engineer',\n",
       "       'Research scientist (medical)', 'Animal technologist',\n",
       "       'Community pharmacist', 'Research officer, trade union',\n",
       "       'Production assistant, television', 'Higher education lecturer',\n",
       "       'Electrical engineer', 'Web designer', 'Child psychotherapist',\n",
       "       'Chartered loss adjuster', 'Structural engineer',\n",
       "       'Scientific laboratory technician', 'IT consultant',\n",
       "       'Geographical information systems officer', 'Automotive engineer',\n",
       "       'Orthoptist', 'Telecommunications researcher',\n",
       "       'Health and safety inspector', 'Writer',\n",
       "       'Secondary school teacher', 'Accountant, chartered',\n",
       "       'Scientist, research (physical sciences)', 'Volunteer coordinator',\n",
       "       'Engineer, petroleum', 'Print production planner',\n",
       "       'Catering manager', 'Surveyor, rural practice',\n",
       "       'Designer, exhibition/display', 'Energy manager', 'Engineer, site',\n",
       "       'Theatre stage manager', 'International aid/development worker',\n",
       "       'Programme researcher, broadcasting/film/video',\n",
       "       'Chartered public finance accountant',\n",
       "       'Community education officer',\n",
       "       'Museum/gallery exhibitions officer', 'Data scientist',\n",
       "       'Ranger/warden', 'Armed forces technical officer', 'Economist',\n",
       "       'Race relations officer', 'Surveyor, minerals',\n",
       "       'Fitness centre manager', 'Geoscientist', 'Animal nutritionist',\n",
       "       'Dispensing optician', 'Communications engineer',\n",
       "       'Consulting civil engineer', 'Immigration officer',\n",
       "       'Advertising copywriter', 'Accountant, chartered public finance',\n",
       "       'Financial trader', 'Insurance broker', 'Engineer, chemical',\n",
       "       'Clinical cytogeneticist', 'Engineer, energy',\n",
       "       'Art gallery manager', 'Designer, furniture',\n",
       "       'Television floor manager', 'Barista', 'Primary school teacher',\n",
       "       'Optician, dispensing', 'Marketing executive',\n",
       "       'Landscape architect', 'Tax inspector',\n",
       "       'Runner, broadcasting/film/video', 'Public house manager',\n",
       "       'Horticulturist, amenity', 'Civil Service administrator',\n",
       "       'Claims inspector/assessor',\n",
       "       'Medical laboratory scientific officer', 'Licensed conveyancer',\n",
       "       'Rural practice surveyor', 'Transport planner',\n",
       "       'Journalist, broadcasting', 'Designer, graphic',\n",
       "       'Industrial buyer', 'Designer, blown glass/stained glass',\n",
       "       'Futures trader', 'Conservation officer, historic buildings',\n",
       "       'Production assistant, radio', 'Theatre manager',\n",
       "       'Legal secretary', 'Accountant, chartered management', 'Animator',\n",
       "       'Information officer', 'Retail merchandiser',\n",
       "       'Building services engineer', 'Development worker, community',\n",
       "       'Civil Service fast streamer', 'Careers information officer',\n",
       "       'Scientist, audiological', 'Agricultural consultant',\n",
       "       'Forensic scientist', 'Heritage manager', 'Therapist, music',\n",
       "       'Estate agent', 'Therapeutic radiographer', 'Chemical engineer',\n",
       "       'Broadcast presenter', 'Town planner',\n",
       "       'Outdoor activities/education manager', 'Programmer, applications',\n",
       "       'Scientist, biomedical', 'Film/video editor', 'Bookseller',\n",
       "       'Statistician', 'Teacher, music', 'Insurance account manager',\n",
       "       'Database administrator', 'Gaffer', 'Probation officer',\n",
       "       'Visual merchandiser', 'Geologist, wellsite',\n",
       "       'Clinical psychologist', 'IT trainer', 'Nutritional therapist',\n",
       "       'Editor, magazine features', 'Meteorologist', 'Engineer, water',\n",
       "       'Television production assistant', 'Media buyer',\n",
       "       'Amenity horticulturist', 'Counsellor', 'Photographer',\n",
       "       'Broadcast engineer', 'Ecologist', 'Textile designer',\n",
       "       'Lexicographer', 'Proofreader', 'Investment analyst',\n",
       "       'Land/geomatics surveyor', 'Chief Financial Officer',\n",
       "       'Plant breeder/geneticist', 'Early years teacher',\n",
       "       'Exercise physiologist', 'Music therapist',\n",
       "       'Engineer, maintenance (IT)', 'Therapist, nutritional',\n",
       "       'Architect', 'Environmental health practitioner', 'Retail buyer',\n",
       "       'Engineer, drilling', 'Sports administrator', 'Archivist',\n",
       "       'Designer, textile', 'Audiological scientist', 'Systems developer',\n",
       "       'Accommodation manager', 'Administrator, sports',\n",
       "       'Teacher, special educational needs', 'Farm manager',\n",
       "       'Advertising account executive', 'Magazine journalist',\n",
       "       'Learning mentor', 'Museum education officer', 'Ergonomist',\n",
       "       'Analytical chemist', 'Air broker', 'Environmental consultant',\n",
       "       'Scientist, research (medical)', 'Fast food restaurant manager',\n",
       "       'Barrister', 'Insurance risk surveyor', 'Advertising art director',\n",
       "       'Warden/ranger', 'Drilling engineer', 'Editorial assistant',\n",
       "       'Ophthalmologist', 'Oncologist', 'Musician', 'Pilot, airline',\n",
       "       'Nurse, adult', 'Personnel officer', 'Magazine features editor',\n",
       "       'English as a foreign language teacher', 'Dramatherapist',\n",
       "       'Solicitor, Scotland', 'Clinical embryologist', 'Osteopath',\n",
       "       'Surveyor, quantity', 'Psychologist, sport and exercise',\n",
       "       'Multimedia specialist', 'Scientist, research (maths)',\n",
       "       'Video editor',\n",
       "       'Armed forces logistics/support/administrative officer',\n",
       "       'Engineer, structural', 'Theme park manager',\n",
       "       'Conservator, furniture', 'Aid worker', 'Best boy',\n",
       "       'Counselling psychologist', 'Academic librarian', 'Airline pilot',\n",
       "       'Passenger transport manager', 'Secretary/administrator',\n",
       "       'Financial adviser', 'Arts administrator',\n",
       "       'Leisure centre manager', 'Chief Strategy Officer',\n",
       "       'Librarian, academic', 'Estate manager/land agent',\n",
       "       'Patent attorney', 'Chartered accountant', 'Multimedia programmer',\n",
       "       'Designer, television/film set',\n",
       "       'Emergency planning/management officer',\n",
       "       'Civil engineer, contracting', 'Secretary, company',\n",
       "       'Minerals surveyor', 'Paramedic', 'Electronics engineer',\n",
       "       'Diplomatic Services operational officer', 'Ceramics designer',\n",
       "       'Restaurant manager', 'Chiropodist',\n",
       "       'Commercial/residential surveyor', 'Physicist, medical',\n",
       "       'Professor Emeritus', 'Neurosurgeon', 'Financial manager',\n",
       "       'Retail manager', 'Radio producer', 'Hydrogeologist',\n",
       "       'Ambulance person', 'Illustrator', 'Designer, industrial/product',\n",
       "       'Freight forwarder', 'Sales professional, IT', 'Acupuncturist',\n",
       "       'Adult guidance worker', 'Office manager', 'Engineer, biomedical',\n",
       "       'Chief Operating Officer', 'Trade mark attorney',\n",
       "       'Corporate treasurer', 'Administrator',\n",
       "       'Historic buildings inspector/conservation officer',\n",
       "       'Trading standards officer', 'Engineer, maintenance',\n",
       "       'Occupational psychologist', 'Media planner', 'Youth worker',\n",
       "       'Geochemist', 'Operational researcher', 'Pharmacologist',\n",
       "       'Event organiser', 'Research officer, government',\n",
       "       'Clothing/textile technologist', 'Camera operator',\n",
       "       'Quantity surveyor', 'Hydrologist', 'Herpetologist',\n",
       "       'Medical sales representative', 'Fine artist',\n",
       "       'Special educational needs teacher', 'Psychologist, forensic',\n",
       "       'Medical secretary', 'Community development worker',\n",
       "       'Cytogeneticist', 'Pharmacist, community',\n",
       "       'Air traffic controller', 'Fashion designer',\n",
       "       'Publishing rights manager', 'Bonds trader',\n",
       "       'Advertising account planner', 'Facilities manager',\n",
       "       'Housing manager/officer', 'Journalist, magazine',\n",
       "       'Teacher, primary school', 'Operations geologist',\n",
       "       'Science writer', 'Producer, television/film/video', 'Music tutor',\n",
       "       'Museum/gallery conservator', 'Health visitor',\n",
       "       'Engineer, automotive', 'Stage manager', 'Production manager',\n",
       "       'Scientist, forensic', 'Administrator, arts', 'Microbiologist',\n",
       "       'Artist', 'Contractor', \"Politician's assistant\",\n",
       "       'Geophysicist/field seismologist', 'Diagnostic radiographer',\n",
       "       'Land', 'Medical technical officer',\n",
       "       'Education officer, environmental', 'Games developer',\n",
       "       'Armed forces training and education officer',\n",
       "       'Therapist, occupational', 'Medical physicist',\n",
       "       'Control and instrumentation engineer', 'Chief Executive Officer',\n",
       "       'Maintenance engineer', 'Restaurant manager, fast food',\n",
       "       'Teacher, adult education', 'Buyer, industrial',\n",
       "       'Pharmacist, hospital', 'Charity officer',\n",
       "       'Dance movement psychotherapist', 'Pensions consultant',\n",
       "       'Market researcher', 'Environmental manager', 'Jewellery designer',\n",
       "       'Financial risk analyst', 'Sales executive', 'Phytotherapist',\n",
       "       \"Nurse, children's\", 'Interior and spatial designer',\n",
       "       'Geneticist, molecular', 'Mental health nurse',\n",
       "       'Special effects artist', 'Recycling officer',\n",
       "       'Operational investment banker', 'Psychologist, occupational',\n",
       "       'Police officer', 'Toxicologist', 'Wellsite geologist',\n",
       "       'Psychotherapist, child', 'Archaeologist',\n",
       "       'Chartered certified accountant', 'Publishing copy', 'Herbalist',\n",
       "       'Lawyer', 'Press photographer',\n",
       "       'Teacher, English as a foreign language', 'Dietitian',\n",
       "       'Manufacturing engineer', 'Building control surveyor',\n",
       "       'Engineer, land', 'Air cabin crew',\n",
       "       'Sound technician, broadcasting/film/video',\n",
       "       'Administrator, charities/voluntary organisations',\n",
       "       'Trade union research officer', 'Technical author',\n",
       "       'Scientist, research (life sciences)',\n",
       "       'Lecturer, further education', 'Nature conservation officer',\n",
       "       'Advice worker', 'Educational psychologist', 'Dealer',\n",
       "       'Systems analyst', 'Further education lecturer', 'Tax adviser',\n",
       "       'Librarian, public', 'Seismic interpreter', 'Press sub',\n",
       "       'Producer, radio', 'Occupational therapist',\n",
       "       'Chief Technology Officer', 'Sports development officer',\n",
       "       'Research scientist (physical sciences)',\n",
       "       'Senior tax professional/tax inspector', 'Hotel manager',\n",
       "       'Therapist, drama', 'Clinical biochemist',\n",
       "       'Radio broadcast assistant', 'Engineer, electronics',\n",
       "       'Product manager', 'Marine scientist', 'Radiographer, therapeutic',\n",
       "       'Therapist, horticultural', 'Veterinary surgeon',\n",
       "       'Hospital pharmacist', 'Therapist, speech and language',\n",
       "       'Psychotherapist', 'Radiographer, diagnostic',\n",
       "       'Radiation protection practitioner', 'Merchant navy officer',\n",
       "       'Pathologist', 'Engineering geologist', 'Public relations officer',\n",
       "       'Financial planner', \"Barrister's clerk\",\n",
       "       'Public relations account executive', ' ',\n",
       "       'General practice doctor', 'Agricultural engineer',\n",
       "       'Scientist, product/process development', 'Petroleum engineer',\n",
       "       'Aeronautical engineer',\n",
       "       'Psychologist, prison and probation services',\n",
       "       'Biomedical engineer', 'Surveyor, building control',\n",
       "       'Regulatory affairs officer',\n",
       "       'Product/process development scientist',\n",
       "       'IT technical support officer', 'TEFL teacher', 'Sports coach',\n",
       "       'Mining engineer', 'Engineer, materials',\n",
       "       'Sport and exercise psychologist', 'Clinical research associate',\n",
       "       'Chemist, analytical', 'Careers adviser', 'Engineer, mining',\n",
       "       'Art therapist', 'Waste management officer',\n",
       "       'Chief Marketing Officer', 'Optometrist',\n",
       "       'Training and development officer', 'Personal assistant'],\n",
       "      dtype=object)"
      ]
     },
     "execution_count": 47,
     "metadata": {},
     "output_type": "execute_result"
    }
   ],
   "source": [
    "df['Occupation'].unique()"
   ]
  },
  {
   "cell_type": "code",
   "execution_count": 48,
   "id": "cf5e88d7",
   "metadata": {},
   "outputs": [
    {
     "data": {
      "text/html": [
       "<div>\n",
       "<style scoped>\n",
       "    .dataframe tbody tr th:only-of-type {\n",
       "        vertical-align: middle;\n",
       "    }\n",
       "\n",
       "    .dataframe tbody tr th {\n",
       "        vertical-align: top;\n",
       "    }\n",
       "\n",
       "    .dataframe thead th {\n",
       "        text-align: right;\n",
       "    }\n",
       "</style>\n",
       "<table border=\"1\" class=\"dataframe\">\n",
       "  <thead>\n",
       "    <tr style=\"text-align: right;\">\n",
       "      <th></th>\n",
       "      <th>House Number</th>\n",
       "      <th>Street</th>\n",
       "      <th>First Name</th>\n",
       "      <th>Surname</th>\n",
       "      <th>Age</th>\n",
       "      <th>Relationship to Head of House</th>\n",
       "      <th>Marital Status</th>\n",
       "      <th>Gender</th>\n",
       "      <th>Occupation</th>\n",
       "      <th>Infirmity</th>\n",
       "      <th>Religion</th>\n",
       "    </tr>\n",
       "  </thead>\n",
       "  <tbody>\n",
       "    <tr>\n",
       "      <th>3399</th>\n",
       "      <td>194</td>\n",
       "      <td>Harvey Road</td>\n",
       "      <td>Josephine</td>\n",
       "      <td>Anderson</td>\n",
       "      <td>73</td>\n",
       "      <td>Head</td>\n",
       "      <td>Divorced</td>\n",
       "      <td>Female</td>\n",
       "      <td></td>\n",
       "      <td>None</td>\n",
       "      <td>Christian</td>\n",
       "    </tr>\n",
       "  </tbody>\n",
       "</table>\n",
       "</div>"
      ],
      "text/plain": [
       "      House Number       Street First Name   Surname  Age  \\\n",
       "3399           194  Harvey Road  Josephine  Anderson   73   \n",
       "\n",
       "     Relationship to Head of House Marital Status  Gender Occupation  \\\n",
       "3399                          Head       Divorced  Female              \n",
       "\n",
       "     Infirmity   Religion  \n",
       "3399      None  Christian  "
      ]
     },
     "execution_count": 48,
     "metadata": {},
     "output_type": "execute_result"
    }
   ],
   "source": [
    "df[df['Occupation'] == \" \"]"
   ]
  },
  {
   "cell_type": "markdown",
   "id": "8c52088a",
   "metadata": {},
   "source": [
    "- The age of the record 3399 shows that she would be a retiree.\n",
    "- Replace the blank value of this record with Retiree"
   ]
  },
  {
   "cell_type": "code",
   "execution_count": 49,
   "id": "a28360bf",
   "metadata": {},
   "outputs": [],
   "source": [
    "df.at[3399, 'Occupation'] = 'Retiree'"
   ]
  },
  {
   "cell_type": "markdown",
   "id": "0b4c2f61",
   "metadata": {},
   "source": [
    "- Classify the PhD students as University students."
   ]
  },
  {
   "cell_type": "code",
   "execution_count": 50,
   "id": "29ea01f9",
   "metadata": {},
   "outputs": [],
   "source": [
    "df['Occupation'].replace('PhD Student', 'University Student', inplace=True)"
   ]
  },
  {
   "cell_type": "markdown",
   "id": "5d69974d",
   "metadata": {},
   "source": [
    "- Are there minors that are not students?"
   ]
  },
  {
   "cell_type": "code",
   "execution_count": 55,
   "id": "8f54a655",
   "metadata": {},
   "outputs": [
    {
     "data": {
      "text/html": [
       "<div>\n",
       "<style scoped>\n",
       "    .dataframe tbody tr th:only-of-type {\n",
       "        vertical-align: middle;\n",
       "    }\n",
       "\n",
       "    .dataframe tbody tr th {\n",
       "        vertical-align: top;\n",
       "    }\n",
       "\n",
       "    .dataframe thead th {\n",
       "        text-align: right;\n",
       "    }\n",
       "</style>\n",
       "<table border=\"1\" class=\"dataframe\">\n",
       "  <thead>\n",
       "    <tr style=\"text-align: right;\">\n",
       "      <th></th>\n",
       "      <th>House Number</th>\n",
       "      <th>Street</th>\n",
       "      <th>First Name</th>\n",
       "      <th>Surname</th>\n",
       "      <th>Age</th>\n",
       "      <th>Relationship to Head of House</th>\n",
       "      <th>Marital Status</th>\n",
       "      <th>Gender</th>\n",
       "      <th>Occupation</th>\n",
       "      <th>Infirmity</th>\n",
       "      <th>Religion</th>\n",
       "    </tr>\n",
       "  </thead>\n",
       "  <tbody>\n",
       "    <tr>\n",
       "      <th>7508</th>\n",
       "      <td>14</td>\n",
       "      <td>Daffodilhatch Street</td>\n",
       "      <td>Chloe</td>\n",
       "      <td>Lewis</td>\n",
       "      <td>16</td>\n",
       "      <td>Head</td>\n",
       "      <td>Divorced</td>\n",
       "      <td>Female</td>\n",
       "      <td>Unemployed</td>\n",
       "      <td>None</td>\n",
       "      <td>NaN</td>\n",
       "    </tr>\n",
       "  </tbody>\n",
       "</table>\n",
       "</div>"
      ],
      "text/plain": [
       "      House Number                Street First Name Surname  Age  \\\n",
       "7508            14  Daffodilhatch Street      Chloe   Lewis   16   \n",
       "\n",
       "     Relationship to Head of House Marital Status  Gender  Occupation  \\\n",
       "7508                          Head       Divorced  Female  Unemployed   \n",
       "\n",
       "     Infirmity Religion  \n",
       "7508      None      NaN  "
      ]
     },
     "execution_count": 55,
     "metadata": {},
     "output_type": "execute_result"
    }
   ],
   "source": [
    "df.loc[(df['Age'] < 18) & (df['Occupation'] != \"Student\") & (df['Occupation'] != \"Child\")]"
   ]
  },
  {
   "cell_type": "markdown",
   "id": "bba7ae34",
   "metadata": {},
   "source": [
    "- This is quite odd for a 16-year old to be divorced and unemployed at the same time. It's quite inconsistent. It's an outlier.\n",
    "- Check the household of this record."
   ]
  },
  {
   "cell_type": "code",
   "execution_count": 58,
   "id": "cc2ac36d",
   "metadata": {},
   "outputs": [
    {
     "data": {
      "text/html": [
       "<div>\n",
       "<style scoped>\n",
       "    .dataframe tbody tr th:only-of-type {\n",
       "        vertical-align: middle;\n",
       "    }\n",
       "\n",
       "    .dataframe tbody tr th {\n",
       "        vertical-align: top;\n",
       "    }\n",
       "\n",
       "    .dataframe thead th {\n",
       "        text-align: right;\n",
       "    }\n",
       "</style>\n",
       "<table border=\"1\" class=\"dataframe\">\n",
       "  <thead>\n",
       "    <tr style=\"text-align: right;\">\n",
       "      <th></th>\n",
       "      <th>House Number</th>\n",
       "      <th>Street</th>\n",
       "      <th>First Name</th>\n",
       "      <th>Surname</th>\n",
       "      <th>Age</th>\n",
       "      <th>Relationship to Head of House</th>\n",
       "      <th>Marital Status</th>\n",
       "      <th>Gender</th>\n",
       "      <th>Occupation</th>\n",
       "      <th>Infirmity</th>\n",
       "      <th>Religion</th>\n",
       "    </tr>\n",
       "  </thead>\n",
       "  <tbody>\n",
       "    <tr>\n",
       "      <th>7508</th>\n",
       "      <td>14</td>\n",
       "      <td>Daffodilhatch Street</td>\n",
       "      <td>Chloe</td>\n",
       "      <td>Lewis</td>\n",
       "      <td>16</td>\n",
       "      <td>Head</td>\n",
       "      <td>Divorced</td>\n",
       "      <td>Female</td>\n",
       "      <td>Unemployed</td>\n",
       "      <td>None</td>\n",
       "      <td>NaN</td>\n",
       "    </tr>\n",
       "    <tr>\n",
       "      <th>7509</th>\n",
       "      <td>14</td>\n",
       "      <td>Daffodilhatch Street</td>\n",
       "      <td>Fiona</td>\n",
       "      <td>Lewis</td>\n",
       "      <td>0</td>\n",
       "      <td>Daughter</td>\n",
       "      <td>NaN</td>\n",
       "      <td>Female</td>\n",
       "      <td>Child</td>\n",
       "      <td>None</td>\n",
       "      <td>NaN</td>\n",
       "    </tr>\n",
       "  </tbody>\n",
       "</table>\n",
       "</div>"
      ],
      "text/plain": [
       "      House Number                Street First Name Surname  Age  \\\n",
       "7508            14  Daffodilhatch Street      Chloe   Lewis   16   \n",
       "7509            14  Daffodilhatch Street      Fiona   Lewis    0   \n",
       "\n",
       "     Relationship to Head of House Marital Status  Gender  Occupation  \\\n",
       "7508                          Head       Divorced  Female  Unemployed   \n",
       "7509                      Daughter            NaN  Female       Child   \n",
       "\n",
       "     Infirmity Religion  \n",
       "7508      None      NaN  \n",
       "7509      None      NaN  "
      ]
     },
     "execution_count": 58,
     "metadata": {},
     "output_type": "execute_result"
    }
   ],
   "source": [
    "df.iloc[7508:7510, :]"
   ]
  },
  {
   "cell_type": "markdown",
   "id": "81f4b322",
   "metadata": {},
   "source": [
    "- So she has a child. There is a probability that the minor dropped out of school. \n",
    "- There is just one minor that is not a student."
   ]
  },
  {
   "cell_type": "code",
   "execution_count": 59,
   "id": "a5b77a87",
   "metadata": {},
   "outputs": [
    {
     "data": {
      "text/plain": [
       "Student                            1584\n",
       "Retiree                             750\n",
       "University Student                  543\n",
       "Unemployed                          529\n",
       "Child                               473\n",
       "                                   ... \n",
       "Herpetologist                         2\n",
       "Systems developer                     2\n",
       "Technical brewer                      1\n",
       "Commercial/residential surveyor       1\n",
       "Optometrist                           1\n",
       "Name: Occupation, Length: 644, dtype: int64"
      ]
     },
     "execution_count": 59,
     "metadata": {},
     "output_type": "execute_result"
    }
   ],
   "source": [
    "df['Occupation'].value_counts()"
   ]
  },
  {
   "cell_type": "code",
   "execution_count": 200,
   "id": "4e6f9cd0",
   "metadata": {},
   "outputs": [
    {
     "data": {
      "text/plain": [
       "0"
      ]
     },
     "execution_count": 200,
     "metadata": {},
     "output_type": "execute_result"
    }
   ],
   "source": [
    "df['Occupation'].isnull().sum()"
   ]
  },
  {
   "cell_type": "markdown",
   "id": "c8b6d9e3",
   "metadata": {},
   "source": [
    "##### Create a new column showing the Employment status of the people"
   ]
  },
  {
   "cell_type": "code",
   "execution_count": 60,
   "id": "4f1112c1",
   "metadata": {},
   "outputs": [],
   "source": [
    "#create an employment status column\n",
    "employment_status = []\n",
    "for row in df['Occupation']:\n",
    "    if row == 'Child':\n",
    "        employment_status.append('Child')\n",
    "    elif row == 'Student':\n",
    "        employment_status.append('Student')\n",
    "    elif row == 'University Student':\n",
    "        employment_status.append('University Student')\n",
    "    elif row == 'Retiree':\n",
    "        employment_status.append('Retiree')\n",
    "    elif row == 'Unemployed':\n",
    "        employment_status.append('Unemployed')\n",
    "    else:\n",
    "        employment_status.append('Employed')\n",
    "        "
   ]
  },
  {
   "cell_type": "code",
   "execution_count": 61,
   "id": "765ab6b2",
   "metadata": {},
   "outputs": [],
   "source": [
    "df['Employment Status'] = employment_status"
   ]
  },
  {
   "cell_type": "code",
   "execution_count": 62,
   "id": "7aef4089",
   "metadata": {},
   "outputs": [
    {
     "data": {
      "text/html": [
       "<div>\n",
       "<style scoped>\n",
       "    .dataframe tbody tr th:only-of-type {\n",
       "        vertical-align: middle;\n",
       "    }\n",
       "\n",
       "    .dataframe tbody tr th {\n",
       "        vertical-align: top;\n",
       "    }\n",
       "\n",
       "    .dataframe thead th {\n",
       "        text-align: right;\n",
       "    }\n",
       "</style>\n",
       "<table border=\"1\" class=\"dataframe\">\n",
       "  <thead>\n",
       "    <tr style=\"text-align: right;\">\n",
       "      <th></th>\n",
       "      <th>House Number</th>\n",
       "      <th>Street</th>\n",
       "      <th>First Name</th>\n",
       "      <th>Surname</th>\n",
       "      <th>Age</th>\n",
       "      <th>Relationship to Head of House</th>\n",
       "      <th>Marital Status</th>\n",
       "      <th>Gender</th>\n",
       "      <th>Occupation</th>\n",
       "      <th>Infirmity</th>\n",
       "      <th>Religion</th>\n",
       "      <th>Employment Status</th>\n",
       "    </tr>\n",
       "  </thead>\n",
       "  <tbody>\n",
       "    <tr>\n",
       "      <th>0</th>\n",
       "      <td>1</td>\n",
       "      <td>Regentchain Avenue</td>\n",
       "      <td>Ashleigh</td>\n",
       "      <td>Dale</td>\n",
       "      <td>41</td>\n",
       "      <td>Head</td>\n",
       "      <td>Divorced</td>\n",
       "      <td>Female</td>\n",
       "      <td>Field trials officer</td>\n",
       "      <td>None</td>\n",
       "      <td>Catholic</td>\n",
       "      <td>Employed</td>\n",
       "    </tr>\n",
       "    <tr>\n",
       "      <th>1</th>\n",
       "      <td>1</td>\n",
       "      <td>Regentchain Avenue</td>\n",
       "      <td>Deborah</td>\n",
       "      <td>Dale</td>\n",
       "      <td>11</td>\n",
       "      <td>Daughter</td>\n",
       "      <td>NaN</td>\n",
       "      <td>Female</td>\n",
       "      <td>Student</td>\n",
       "      <td>None</td>\n",
       "      <td>NaN</td>\n",
       "      <td>Student</td>\n",
       "    </tr>\n",
       "  </tbody>\n",
       "</table>\n",
       "</div>"
      ],
      "text/plain": [
       "   House Number              Street First Name Surname  Age  \\\n",
       "0             1  Regentchain Avenue   Ashleigh    Dale   41   \n",
       "1             1  Regentchain Avenue    Deborah    Dale   11   \n",
       "\n",
       "  Relationship to Head of House Marital Status  Gender            Occupation  \\\n",
       "0                          Head       Divorced  Female  Field trials officer   \n",
       "1                      Daughter            NaN  Female               Student   \n",
       "\n",
       "  Infirmity  Religion Employment Status  \n",
       "0      None  Catholic          Employed  \n",
       "1      None       NaN           Student  "
      ]
     },
     "execution_count": 62,
     "metadata": {},
     "output_type": "execute_result"
    }
   ],
   "source": [
    "df.head(2)"
   ]
  },
  {
   "cell_type": "markdown",
   "id": "dff215e2",
   "metadata": {},
   "source": [
    "##### Create a new column showing the age groups"
   ]
  },
  {
   "cell_type": "code",
   "execution_count": 63,
   "id": "6123c70f",
   "metadata": {},
   "outputs": [
    {
     "data": {
      "text/plain": [
       "count    8377.000000\n",
       "mean       36.305479\n",
       "std        21.781495\n",
       "min         0.000000\n",
       "25%        19.000000\n",
       "50%        36.000000\n",
       "75%        51.000000\n",
       "max       116.000000\n",
       "Name: Age, dtype: float64"
      ]
     },
     "execution_count": 63,
     "metadata": {},
     "output_type": "execute_result"
    }
   ],
   "source": [
    "df['Age'].describe()"
   ]
  },
  {
   "cell_type": "code",
   "execution_count": 94,
   "id": "dfcc2f6c",
   "metadata": {},
   "outputs": [],
   "source": [
    "bins = [-1, 4, 9, 14, 19, 24, 29, 34, 39, 44, 49, 54, 59, 64, 69, 74, 79, 84, 89, 94, 99, 104, 109, 114, 118]\n",
    "labels = ['0-4', '5-9', '10-14', '15-19', '20-24', '25-29', '30-34', '35-39', '40-44', '45-49', '50-54', '55-59', '60-64', '65-69', '70-74', '75-79', '80-84', '85-89', '90-94', '95-99', '100-104', '105-109', '110-114', '115+']\n",
    "df['Age group'] = pd.cut(df['Age'], bins=bins, labels=labels)"
   ]
  },
  {
   "cell_type": "code",
   "execution_count": 65,
   "id": "5a6ff48d",
   "metadata": {},
   "outputs": [
    {
     "data": {
      "text/html": [
       "<div>\n",
       "<style scoped>\n",
       "    .dataframe tbody tr th:only-of-type {\n",
       "        vertical-align: middle;\n",
       "    }\n",
       "\n",
       "    .dataframe tbody tr th {\n",
       "        vertical-align: top;\n",
       "    }\n",
       "\n",
       "    .dataframe thead th {\n",
       "        text-align: right;\n",
       "    }\n",
       "</style>\n",
       "<table border=\"1\" class=\"dataframe\">\n",
       "  <thead>\n",
       "    <tr style=\"text-align: right;\">\n",
       "      <th></th>\n",
       "      <th>House Number</th>\n",
       "      <th>Street</th>\n",
       "      <th>First Name</th>\n",
       "      <th>Surname</th>\n",
       "      <th>Age</th>\n",
       "      <th>Relationship to Head of House</th>\n",
       "      <th>Marital Status</th>\n",
       "      <th>Gender</th>\n",
       "      <th>Occupation</th>\n",
       "      <th>Infirmity</th>\n",
       "      <th>Religion</th>\n",
       "      <th>Employment Status</th>\n",
       "      <th>Age group</th>\n",
       "    </tr>\n",
       "  </thead>\n",
       "  <tbody>\n",
       "    <tr>\n",
       "      <th>0</th>\n",
       "      <td>1</td>\n",
       "      <td>Regentchain Avenue</td>\n",
       "      <td>Ashleigh</td>\n",
       "      <td>Dale</td>\n",
       "      <td>41</td>\n",
       "      <td>Head</td>\n",
       "      <td>Divorced</td>\n",
       "      <td>Female</td>\n",
       "      <td>Field trials officer</td>\n",
       "      <td>None</td>\n",
       "      <td>Catholic</td>\n",
       "      <td>Employed</td>\n",
       "      <td>40-44</td>\n",
       "    </tr>\n",
       "  </tbody>\n",
       "</table>\n",
       "</div>"
      ],
      "text/plain": [
       "   House Number              Street First Name Surname  Age  \\\n",
       "0             1  Regentchain Avenue   Ashleigh    Dale   41   \n",
       "\n",
       "  Relationship to Head of House Marital Status  Gender            Occupation  \\\n",
       "0                          Head       Divorced  Female  Field trials officer   \n",
       "\n",
       "  Infirmity  Religion Employment Status Age group  \n",
       "0      None  Catholic          Employed     40-44  "
      ]
     },
     "execution_count": 65,
     "metadata": {},
     "output_type": "execute_result"
    }
   ],
   "source": [
    "df.head(1)"
   ]
  },
  {
   "cell_type": "code",
   "execution_count": 96,
   "id": "3d6f0e39",
   "metadata": {},
   "outputs": [
    {
     "data": {
      "text/plain": [
       "0"
      ]
     },
     "execution_count": 96,
     "metadata": {},
     "output_type": "execute_result"
    }
   ],
   "source": [
    "df['Age group'].isnull().sum()"
   ]
  },
  {
   "cell_type": "markdown",
   "id": "b3877e55",
   "metadata": {},
   "source": [
    "##### Religion"
   ]
  },
  {
   "cell_type": "code",
   "execution_count": 66,
   "id": "57159c4f",
   "metadata": {},
   "outputs": [
    {
     "data": {
      "text/plain": [
       "None           2840\n",
       "Christian      1956\n",
       "Catholic        885\n",
       "Methodist       499\n",
       "Muslim           97\n",
       "Sikh             40\n",
       "Jewish           36\n",
       "Buddist           3\n",
       "Jedi              2\n",
       "                  2\n",
       "Quaker            1\n",
       "Housekeeper       1\n",
       "Pagan             1\n",
       "Private           1\n",
       "Orthodoxy         1\n",
       "Name: Religion, dtype: int64"
      ]
     },
     "execution_count": 66,
     "metadata": {},
     "output_type": "execute_result"
    }
   ],
   "source": [
    "df['Religion'].value_counts()"
   ]
  },
  {
   "cell_type": "markdown",
   "id": "f99acc91",
   "metadata": {},
   "source": [
    "- Blank value, House keeper, Private are not religions. Hence, they will be converted to NaN values."
   ]
  },
  {
   "cell_type": "code",
   "execution_count": 67,
   "id": "b5f10b90",
   "metadata": {},
   "outputs": [
    {
     "data": {
      "text/html": [
       "<div>\n",
       "<style scoped>\n",
       "    .dataframe tbody tr th:only-of-type {\n",
       "        vertical-align: middle;\n",
       "    }\n",
       "\n",
       "    .dataframe tbody tr th {\n",
       "        vertical-align: top;\n",
       "    }\n",
       "\n",
       "    .dataframe thead th {\n",
       "        text-align: right;\n",
       "    }\n",
       "</style>\n",
       "<table border=\"1\" class=\"dataframe\">\n",
       "  <thead>\n",
       "    <tr style=\"text-align: right;\">\n",
       "      <th></th>\n",
       "      <th>House Number</th>\n",
       "      <th>Street</th>\n",
       "      <th>First Name</th>\n",
       "      <th>Surname</th>\n",
       "      <th>Age</th>\n",
       "      <th>Relationship to Head of House</th>\n",
       "      <th>Marital Status</th>\n",
       "      <th>Gender</th>\n",
       "      <th>Occupation</th>\n",
       "      <th>Infirmity</th>\n",
       "      <th>Religion</th>\n",
       "      <th>Employment Status</th>\n",
       "      <th>Age group</th>\n",
       "    </tr>\n",
       "  </thead>\n",
       "  <tbody>\n",
       "    <tr>\n",
       "      <th>4288</th>\n",
       "      <td>12</td>\n",
       "      <td>Jones Ramp</td>\n",
       "      <td>Jane</td>\n",
       "      <td>Armstrong</td>\n",
       "      <td>46</td>\n",
       "      <td>Wife</td>\n",
       "      <td>Married</td>\n",
       "      <td>Female</td>\n",
       "      <td>Garment/textile technologist</td>\n",
       "      <td>None</td>\n",
       "      <td></td>\n",
       "      <td>Employed</td>\n",
       "      <td>45-49</td>\n",
       "    </tr>\n",
       "    <tr>\n",
       "      <th>7487</th>\n",
       "      <td>58</td>\n",
       "      <td>Canterbury Well</td>\n",
       "      <td>Christopher</td>\n",
       "      <td>Cole</td>\n",
       "      <td>15</td>\n",
       "      <td>Son</td>\n",
       "      <td>NaN</td>\n",
       "      <td>Male</td>\n",
       "      <td>Student</td>\n",
       "      <td>None</td>\n",
       "      <td></td>\n",
       "      <td>Student</td>\n",
       "      <td>15-19</td>\n",
       "    </tr>\n",
       "  </tbody>\n",
       "</table>\n",
       "</div>"
      ],
      "text/plain": [
       "      House Number           Street   First Name    Surname  Age  \\\n",
       "4288            12       Jones Ramp         Jane  Armstrong   46   \n",
       "7487            58  Canterbury Well  Christopher       Cole   15   \n",
       "\n",
       "     Relationship to Head of House Marital Status  Gender  \\\n",
       "4288                          Wife        Married  Female   \n",
       "7487                           Son            NaN    Male   \n",
       "\n",
       "                        Occupation Infirmity Religion Employment Status  \\\n",
       "4288  Garment/textile technologist      None                   Employed   \n",
       "7487                       Student      None                    Student   \n",
       "\n",
       "     Age group  \n",
       "4288     45-49  \n",
       "7487     15-19  "
      ]
     },
     "execution_count": 67,
     "metadata": {},
     "output_type": "execute_result"
    }
   ],
   "source": [
    "df[df['Religion'] == \" \"]"
   ]
  },
  {
   "cell_type": "code",
   "execution_count": 68,
   "id": "6a1ed3d0",
   "metadata": {},
   "outputs": [],
   "source": [
    "df['Religion'].replace(\" \", np.nan, inplace=True)\n",
    "df['Religion'].replace(\"Housekeeper\", np.nan, inplace=True)\n",
    "df['Religion'].replace(\"Private\", np.nan, inplace=True)"
   ]
  },
  {
   "cell_type": "code",
   "execution_count": 71,
   "id": "d5723329",
   "metadata": {},
   "outputs": [
    {
     "data": {
      "text/plain": [
       "None         2840\n",
       "Christian    1956\n",
       "Catholic      885\n",
       "Methodist     499\n",
       "Muslim         97\n",
       "Sikh           40\n",
       "Jewish         36\n",
       "Buddist         3\n",
       "Jedi            2\n",
       "Quaker          1\n",
       "Pagan           1\n",
       "Orthodoxy       1\n",
       "Name: Religion, dtype: int64"
      ]
     },
     "execution_count": 71,
     "metadata": {},
     "output_type": "execute_result"
    }
   ],
   "source": [
    "df['Religion'].value_counts()"
   ]
  },
  {
   "cell_type": "code",
   "execution_count": 72,
   "id": "5b16c1f1",
   "metadata": {},
   "outputs": [
    {
     "data": {
      "text/plain": [
       "2016"
      ]
     },
     "execution_count": 72,
     "metadata": {},
     "output_type": "execute_result"
    }
   ],
   "source": [
    "df['Religion'].isnull().sum()"
   ]
  },
  {
   "cell_type": "code",
   "execution_count": 74,
   "id": "d8906442",
   "metadata": {},
   "outputs": [
    {
     "data": {
      "text/html": [
       "<div>\n",
       "<style scoped>\n",
       "    .dataframe tbody tr th:only-of-type {\n",
       "        vertical-align: middle;\n",
       "    }\n",
       "\n",
       "    .dataframe tbody tr th {\n",
       "        vertical-align: top;\n",
       "    }\n",
       "\n",
       "    .dataframe thead th {\n",
       "        text-align: right;\n",
       "    }\n",
       "</style>\n",
       "<table border=\"1\" class=\"dataframe\">\n",
       "  <thead>\n",
       "    <tr style=\"text-align: right;\">\n",
       "      <th></th>\n",
       "      <th>count</th>\n",
       "      <th>mean</th>\n",
       "      <th>std</th>\n",
       "      <th>min</th>\n",
       "      <th>25%</th>\n",
       "      <th>50%</th>\n",
       "      <th>75%</th>\n",
       "      <th>max</th>\n",
       "    </tr>\n",
       "    <tr>\n",
       "      <th>Religion</th>\n",
       "      <th></th>\n",
       "      <th></th>\n",
       "      <th></th>\n",
       "      <th></th>\n",
       "      <th></th>\n",
       "      <th></th>\n",
       "      <th></th>\n",
       "      <th></th>\n",
       "    </tr>\n",
       "  </thead>\n",
       "  <tbody>\n",
       "    <tr>\n",
       "      <th>Buddist</th>\n",
       "      <td>3.0</td>\n",
       "      <td>29.666667</td>\n",
       "      <td>18.475209</td>\n",
       "      <td>19.0</td>\n",
       "      <td>19.00</td>\n",
       "      <td>19.0</td>\n",
       "      <td>35.0</td>\n",
       "      <td>51.0</td>\n",
       "    </tr>\n",
       "    <tr>\n",
       "      <th>Catholic</th>\n",
       "      <td>885.0</td>\n",
       "      <td>44.114124</td>\n",
       "      <td>16.228483</td>\n",
       "      <td>18.0</td>\n",
       "      <td>34.00</td>\n",
       "      <td>42.0</td>\n",
       "      <td>51.0</td>\n",
       "      <td>102.0</td>\n",
       "    </tr>\n",
       "    <tr>\n",
       "      <th>Christian</th>\n",
       "      <td>1956.0</td>\n",
       "      <td>49.942229</td>\n",
       "      <td>18.229041</td>\n",
       "      <td>18.0</td>\n",
       "      <td>36.00</td>\n",
       "      <td>51.0</td>\n",
       "      <td>62.0</td>\n",
       "      <td>116.0</td>\n",
       "    </tr>\n",
       "    <tr>\n",
       "      <th>Jedi</th>\n",
       "      <td>2.0</td>\n",
       "      <td>62.000000</td>\n",
       "      <td>1.414214</td>\n",
       "      <td>61.0</td>\n",
       "      <td>61.50</td>\n",
       "      <td>62.0</td>\n",
       "      <td>62.5</td>\n",
       "      <td>63.0</td>\n",
       "    </tr>\n",
       "    <tr>\n",
       "      <th>Jewish</th>\n",
       "      <td>36.0</td>\n",
       "      <td>39.611111</td>\n",
       "      <td>14.959522</td>\n",
       "      <td>19.0</td>\n",
       "      <td>27.00</td>\n",
       "      <td>36.5</td>\n",
       "      <td>48.0</td>\n",
       "      <td>70.0</td>\n",
       "    </tr>\n",
       "    <tr>\n",
       "      <th>Methodist</th>\n",
       "      <td>499.0</td>\n",
       "      <td>45.663327</td>\n",
       "      <td>17.872678</td>\n",
       "      <td>18.0</td>\n",
       "      <td>32.00</td>\n",
       "      <td>43.0</td>\n",
       "      <td>57.0</td>\n",
       "      <td>100.0</td>\n",
       "    </tr>\n",
       "    <tr>\n",
       "      <th>Muslim</th>\n",
       "      <td>97.0</td>\n",
       "      <td>34.556701</td>\n",
       "      <td>14.879354</td>\n",
       "      <td>18.0</td>\n",
       "      <td>24.00</td>\n",
       "      <td>29.0</td>\n",
       "      <td>42.0</td>\n",
       "      <td>94.0</td>\n",
       "    </tr>\n",
       "    <tr>\n",
       "      <th>None</th>\n",
       "      <td>2840.0</td>\n",
       "      <td>42.118310</td>\n",
       "      <td>16.694278</td>\n",
       "      <td>18.0</td>\n",
       "      <td>29.00</td>\n",
       "      <td>40.0</td>\n",
       "      <td>52.0</td>\n",
       "      <td>107.0</td>\n",
       "    </tr>\n",
       "    <tr>\n",
       "      <th>Orthodoxy</th>\n",
       "      <td>1.0</td>\n",
       "      <td>45.000000</td>\n",
       "      <td>NaN</td>\n",
       "      <td>45.0</td>\n",
       "      <td>45.00</td>\n",
       "      <td>45.0</td>\n",
       "      <td>45.0</td>\n",
       "      <td>45.0</td>\n",
       "    </tr>\n",
       "    <tr>\n",
       "      <th>Pagan</th>\n",
       "      <td>1.0</td>\n",
       "      <td>102.000000</td>\n",
       "      <td>NaN</td>\n",
       "      <td>102.0</td>\n",
       "      <td>102.00</td>\n",
       "      <td>102.0</td>\n",
       "      <td>102.0</td>\n",
       "      <td>102.0</td>\n",
       "    </tr>\n",
       "    <tr>\n",
       "      <th>Quaker</th>\n",
       "      <td>1.0</td>\n",
       "      <td>57.000000</td>\n",
       "      <td>NaN</td>\n",
       "      <td>57.0</td>\n",
       "      <td>57.00</td>\n",
       "      <td>57.0</td>\n",
       "      <td>57.0</td>\n",
       "      <td>57.0</td>\n",
       "    </tr>\n",
       "    <tr>\n",
       "      <th>Sikh</th>\n",
       "      <td>40.0</td>\n",
       "      <td>32.225000</td>\n",
       "      <td>13.809115</td>\n",
       "      <td>18.0</td>\n",
       "      <td>25.75</td>\n",
       "      <td>29.0</td>\n",
       "      <td>33.0</td>\n",
       "      <td>73.0</td>\n",
       "    </tr>\n",
       "  </tbody>\n",
       "</table>\n",
       "</div>"
      ],
      "text/plain": [
       "            count        mean        std    min     25%    50%    75%    max\n",
       "Religion                                                                    \n",
       "Buddist       3.0   29.666667  18.475209   19.0   19.00   19.0   35.0   51.0\n",
       "Catholic    885.0   44.114124  16.228483   18.0   34.00   42.0   51.0  102.0\n",
       "Christian  1956.0   49.942229  18.229041   18.0   36.00   51.0   62.0  116.0\n",
       "Jedi          2.0   62.000000   1.414214   61.0   61.50   62.0   62.5   63.0\n",
       "Jewish       36.0   39.611111  14.959522   19.0   27.00   36.5   48.0   70.0\n",
       "Methodist   499.0   45.663327  17.872678   18.0   32.00   43.0   57.0  100.0\n",
       "Muslim       97.0   34.556701  14.879354   18.0   24.00   29.0   42.0   94.0\n",
       "None       2840.0   42.118310  16.694278   18.0   29.00   40.0   52.0  107.0\n",
       "Orthodoxy     1.0   45.000000        NaN   45.0   45.00   45.0   45.0   45.0\n",
       "Pagan         1.0  102.000000        NaN  102.0  102.00  102.0  102.0  102.0\n",
       "Quaker        1.0   57.000000        NaN   57.0   57.00   57.0   57.0   57.0\n",
       "Sikh         40.0   32.225000  13.809115   18.0   25.75   29.0   33.0   73.0"
      ]
     },
     "execution_count": 74,
     "metadata": {},
     "output_type": "execute_result"
    }
   ],
   "source": [
    "df.groupby('Religion')['Age'].describe()"
   ]
  },
  {
   "cell_type": "markdown",
   "id": "e51a1c28",
   "metadata": {},
   "source": [
    "##### Infirmity"
   ]
  },
  {
   "cell_type": "code",
   "execution_count": 73,
   "id": "4ffedd8d",
   "metadata": {},
   "outputs": [
    {
     "data": {
      "text/plain": [
       "None                   8308\n",
       "Physical Disability      18\n",
       "                         13\n",
       "Mental Disability        10\n",
       "Blind                     9\n",
       "Disabled                  8\n",
       "Deaf                      7\n",
       "Unknown Infection         4\n",
       "Name: Infirmity, dtype: int64"
      ]
     },
     "execution_count": 73,
     "metadata": {},
     "output_type": "execute_result"
    }
   ],
   "source": [
    "df['Infirmity'].value_counts()"
   ]
  },
  {
   "cell_type": "code",
   "execution_count": 75,
   "id": "b9d3ae2d",
   "metadata": {},
   "outputs": [
    {
     "data": {
      "text/html": [
       "<div>\n",
       "<style scoped>\n",
       "    .dataframe tbody tr th:only-of-type {\n",
       "        vertical-align: middle;\n",
       "    }\n",
       "\n",
       "    .dataframe tbody tr th {\n",
       "        vertical-align: top;\n",
       "    }\n",
       "\n",
       "    .dataframe thead th {\n",
       "        text-align: right;\n",
       "    }\n",
       "</style>\n",
       "<table border=\"1\" class=\"dataframe\">\n",
       "  <thead>\n",
       "    <tr style=\"text-align: right;\">\n",
       "      <th></th>\n",
       "      <th>House Number</th>\n",
       "      <th>Street</th>\n",
       "      <th>First Name</th>\n",
       "      <th>Surname</th>\n",
       "      <th>Age</th>\n",
       "      <th>Relationship to Head of House</th>\n",
       "      <th>Marital Status</th>\n",
       "      <th>Gender</th>\n",
       "      <th>Occupation</th>\n",
       "      <th>Infirmity</th>\n",
       "      <th>Religion</th>\n",
       "      <th>Employment Status</th>\n",
       "      <th>Age group</th>\n",
       "    </tr>\n",
       "  </thead>\n",
       "  <tbody>\n",
       "    <tr>\n",
       "      <th>102</th>\n",
       "      <td>2</td>\n",
       "      <td>Smith Port</td>\n",
       "      <td>Reece</td>\n",
       "      <td>Knight</td>\n",
       "      <td>28</td>\n",
       "      <td>Head</td>\n",
       "      <td>Married</td>\n",
       "      <td>Male</td>\n",
       "      <td>Garment/textile technologist</td>\n",
       "      <td></td>\n",
       "      <td>None</td>\n",
       "      <td>Employed</td>\n",
       "      <td>25-29</td>\n",
       "    </tr>\n",
       "    <tr>\n",
       "      <th>258</th>\n",
       "      <td>106</td>\n",
       "      <td>Smith Port</td>\n",
       "      <td>Raymond</td>\n",
       "      <td>Brookes</td>\n",
       "      <td>27</td>\n",
       "      <td>Head</td>\n",
       "      <td>Divorced</td>\n",
       "      <td>Male</td>\n",
       "      <td>Programmer, multimedia</td>\n",
       "      <td></td>\n",
       "      <td>None</td>\n",
       "      <td>Employed</td>\n",
       "      <td>25-29</td>\n",
       "    </tr>\n",
       "    <tr>\n",
       "      <th>1593</th>\n",
       "      <td>26</td>\n",
       "      <td>Brady Creek</td>\n",
       "      <td>Adam</td>\n",
       "      <td>Hewitt</td>\n",
       "      <td>64</td>\n",
       "      <td>Husband</td>\n",
       "      <td>Married</td>\n",
       "      <td>Male</td>\n",
       "      <td>Unemployed</td>\n",
       "      <td></td>\n",
       "      <td>None</td>\n",
       "      <td>Unemployed</td>\n",
       "      <td>60-64</td>\n",
       "    </tr>\n",
       "    <tr>\n",
       "      <th>4053</th>\n",
       "      <td>20</td>\n",
       "      <td>Pendragon Lane</td>\n",
       "      <td>Diane</td>\n",
       "      <td>Rees</td>\n",
       "      <td>9</td>\n",
       "      <td>Granddaughter</td>\n",
       "      <td>NaN</td>\n",
       "      <td>Female</td>\n",
       "      <td>Student</td>\n",
       "      <td></td>\n",
       "      <td>NaN</td>\n",
       "      <td>Student</td>\n",
       "      <td>5-9</td>\n",
       "    </tr>\n",
       "    <tr>\n",
       "      <th>5554</th>\n",
       "      <td>12</td>\n",
       "      <td>Manor Flats</td>\n",
       "      <td>Garry</td>\n",
       "      <td>Williamson</td>\n",
       "      <td>46</td>\n",
       "      <td>Head</td>\n",
       "      <td>Single</td>\n",
       "      <td>Male</td>\n",
       "      <td>Local government officer</td>\n",
       "      <td></td>\n",
       "      <td>Christian</td>\n",
       "      <td>Employed</td>\n",
       "      <td>45-49</td>\n",
       "    </tr>\n",
       "    <tr>\n",
       "      <th>5637</th>\n",
       "      <td>60</td>\n",
       "      <td>Manor Flats</td>\n",
       "      <td>Vincent</td>\n",
       "      <td>Walker</td>\n",
       "      <td>43</td>\n",
       "      <td>Husband</td>\n",
       "      <td>Married</td>\n",
       "      <td>Male</td>\n",
       "      <td>Equality and diversity officer</td>\n",
       "      <td></td>\n",
       "      <td>None</td>\n",
       "      <td>Employed</td>\n",
       "      <td>40-44</td>\n",
       "    </tr>\n",
       "    <tr>\n",
       "      <th>5730</th>\n",
       "      <td>2</td>\n",
       "      <td>Hewitt Avenue</td>\n",
       "      <td>Teresa</td>\n",
       "      <td>Jones</td>\n",
       "      <td>7</td>\n",
       "      <td>Daughter</td>\n",
       "      <td>NaN</td>\n",
       "      <td>Female</td>\n",
       "      <td>Student</td>\n",
       "      <td></td>\n",
       "      <td>NaN</td>\n",
       "      <td>Student</td>\n",
       "      <td>5-9</td>\n",
       "    </tr>\n",
       "    <tr>\n",
       "      <th>5802</th>\n",
       "      <td>3</td>\n",
       "      <td>CherryChestnut Spurs</td>\n",
       "      <td>Victor</td>\n",
       "      <td>Fletcher</td>\n",
       "      <td>16</td>\n",
       "      <td>Son</td>\n",
       "      <td>NaN</td>\n",
       "      <td>Male</td>\n",
       "      <td>Student</td>\n",
       "      <td></td>\n",
       "      <td>NaN</td>\n",
       "      <td>Student</td>\n",
       "      <td>15-19</td>\n",
       "    </tr>\n",
       "    <tr>\n",
       "      <th>5807</th>\n",
       "      <td>5</td>\n",
       "      <td>CherryChestnut Spurs</td>\n",
       "      <td>Valerie</td>\n",
       "      <td>Dixon</td>\n",
       "      <td>5</td>\n",
       "      <td>Daughter</td>\n",
       "      <td>NaN</td>\n",
       "      <td>Female</td>\n",
       "      <td>Student</td>\n",
       "      <td></td>\n",
       "      <td>NaN</td>\n",
       "      <td>Student</td>\n",
       "      <td>5-9</td>\n",
       "    </tr>\n",
       "    <tr>\n",
       "      <th>6681</th>\n",
       "      <td>65</td>\n",
       "      <td>ExcaliburBellsby Drive</td>\n",
       "      <td>Hannah</td>\n",
       "      <td>Charlton</td>\n",
       "      <td>63</td>\n",
       "      <td>None</td>\n",
       "      <td>Single</td>\n",
       "      <td>Female</td>\n",
       "      <td>Tree surgeon</td>\n",
       "      <td></td>\n",
       "      <td>None</td>\n",
       "      <td>Employed</td>\n",
       "      <td>60-64</td>\n",
       "    </tr>\n",
       "    <tr>\n",
       "      <th>7034</th>\n",
       "      <td>38</td>\n",
       "      <td>Squirrel Street</td>\n",
       "      <td>Francesca</td>\n",
       "      <td>Green</td>\n",
       "      <td>26</td>\n",
       "      <td>Wife</td>\n",
       "      <td>Married</td>\n",
       "      <td>Female</td>\n",
       "      <td>Chartered public finance accountant</td>\n",
       "      <td></td>\n",
       "      <td>Catholic</td>\n",
       "      <td>Employed</td>\n",
       "      <td>25-29</td>\n",
       "    </tr>\n",
       "    <tr>\n",
       "      <th>7456</th>\n",
       "      <td>52</td>\n",
       "      <td>Canterbury Well</td>\n",
       "      <td>Lee</td>\n",
       "      <td>Bowen</td>\n",
       "      <td>47</td>\n",
       "      <td>Husband</td>\n",
       "      <td>Married</td>\n",
       "      <td>Male</td>\n",
       "      <td>Public affairs consultant</td>\n",
       "      <td></td>\n",
       "      <td>Catholic</td>\n",
       "      <td>Employed</td>\n",
       "      <td>45-49</td>\n",
       "    </tr>\n",
       "    <tr>\n",
       "      <th>8027</th>\n",
       "      <td>27</td>\n",
       "      <td>Snapdragon Run</td>\n",
       "      <td>Shane</td>\n",
       "      <td>Bailey</td>\n",
       "      <td>89</td>\n",
       "      <td>Head</td>\n",
       "      <td>Widowed</td>\n",
       "      <td>Male</td>\n",
       "      <td>Retiree</td>\n",
       "      <td></td>\n",
       "      <td>None</td>\n",
       "      <td>Retiree</td>\n",
       "      <td>85-89</td>\n",
       "    </tr>\n",
       "  </tbody>\n",
       "</table>\n",
       "</div>"
      ],
      "text/plain": [
       "      House Number                  Street First Name     Surname  Age  \\\n",
       "102              2              Smith Port      Reece      Knight   28   \n",
       "258            106              Smith Port    Raymond     Brookes   27   \n",
       "1593            26             Brady Creek       Adam      Hewitt   64   \n",
       "4053            20          Pendragon Lane      Diane        Rees    9   \n",
       "5554            12             Manor Flats      Garry  Williamson   46   \n",
       "5637            60             Manor Flats    Vincent      Walker   43   \n",
       "5730             2           Hewitt Avenue     Teresa       Jones    7   \n",
       "5802             3    CherryChestnut Spurs     Victor    Fletcher   16   \n",
       "5807             5    CherryChestnut Spurs    Valerie       Dixon    5   \n",
       "6681            65  ExcaliburBellsby Drive     Hannah    Charlton   63   \n",
       "7034            38         Squirrel Street  Francesca       Green   26   \n",
       "7456            52         Canterbury Well        Lee       Bowen   47   \n",
       "8027            27          Snapdragon Run      Shane      Bailey   89   \n",
       "\n",
       "     Relationship to Head of House Marital Status  Gender  \\\n",
       "102                           Head        Married    Male   \n",
       "258                           Head       Divorced    Male   \n",
       "1593                       Husband        Married    Male   \n",
       "4053                 Granddaughter            NaN  Female   \n",
       "5554                          Head         Single    Male   \n",
       "5637                       Husband        Married    Male   \n",
       "5730                      Daughter            NaN  Female   \n",
       "5802                           Son            NaN    Male   \n",
       "5807                      Daughter            NaN  Female   \n",
       "6681                          None         Single  Female   \n",
       "7034                          Wife        Married  Female   \n",
       "7456                       Husband        Married    Male   \n",
       "8027                          Head        Widowed    Male   \n",
       "\n",
       "                               Occupation Infirmity   Religion  \\\n",
       "102          Garment/textile technologist                 None   \n",
       "258                Programmer, multimedia                 None   \n",
       "1593                           Unemployed                 None   \n",
       "4053                              Student                  NaN   \n",
       "5554             Local government officer            Christian   \n",
       "5637       Equality and diversity officer                 None   \n",
       "5730                              Student                  NaN   \n",
       "5802                              Student                  NaN   \n",
       "5807                              Student                  NaN   \n",
       "6681                         Tree surgeon                 None   \n",
       "7034  Chartered public finance accountant             Catholic   \n",
       "7456            Public affairs consultant             Catholic   \n",
       "8027                              Retiree                 None   \n",
       "\n",
       "     Employment Status Age group  \n",
       "102           Employed     25-29  \n",
       "258           Employed     25-29  \n",
       "1593        Unemployed     60-64  \n",
       "4053           Student       5-9  \n",
       "5554          Employed     45-49  \n",
       "5637          Employed     40-44  \n",
       "5730           Student       5-9  \n",
       "5802           Student     15-19  \n",
       "5807           Student       5-9  \n",
       "6681          Employed     60-64  \n",
       "7034          Employed     25-29  \n",
       "7456          Employed     45-49  \n",
       "8027           Retiree     85-89  "
      ]
     },
     "execution_count": 75,
     "metadata": {},
     "output_type": "execute_result"
    }
   ],
   "source": [
    "df[df['Infirmity'] == \" \"]"
   ]
  },
  {
   "cell_type": "markdown",
   "id": "79441b86",
   "metadata": {},
   "source": [
    "- The blank values will be converted to null values since there are no details that can point to the presence of infirmity."
   ]
  },
  {
   "cell_type": "code",
   "execution_count": 76,
   "id": "fda5a0d6",
   "metadata": {},
   "outputs": [],
   "source": [
    "#convert blank values to NaN values\n",
    "df['Infirmity'].replace(\" \", np.nan, inplace=True)"
   ]
  },
  {
   "cell_type": "code",
   "execution_count": 77,
   "id": "886a7b89",
   "metadata": {},
   "outputs": [
    {
     "data": {
      "text/plain": [
       "13"
      ]
     },
     "execution_count": 77,
     "metadata": {},
     "output_type": "execute_result"
    }
   ],
   "source": [
    "df['Infirmity'].isnull().sum()"
   ]
  },
  {
   "cell_type": "markdown",
   "id": "23ca6836",
   "metadata": {},
   "source": [
    "##### Create a column of commuters and non-commuters"
   ]
  },
  {
   "cell_type": "markdown",
   "id": "872afdd4",
   "metadata": {},
   "source": [
    "- Classify professions that can be done remotely as non-commuting jobs\n",
    "- Students, child, unemployed, primary and secondary school teachers also considered non commuters\n",
    "- University Students are commute"
   ]
  },
  {
   "cell_type": "code",
   "execution_count": 214,
   "id": "acac9bbd",
   "metadata": {},
   "outputs": [],
   "source": [
    "#designers, analysts, school teachers\n",
    "non_commuters = ['designer', 'rural', 'developer', 'analyst', 'copywrighter', 'data', 'secondary school', 'teacher', 'Retiree', 'Child', 'Unemployed']\n",
    "commuter_status = []\n",
    "for row in df['Occupation']:\n",
    "    if any(string in row for string in non_commuters):\n",
    "        commuter_status.append('Non commuter')\n",
    "    elif row == \"University Student\":\n",
    "        commuter_status.append('Commuter')\n",
    "    else:\n",
    "        commuter_status.append('Commuter')\n"
   ]
  },
  {
   "cell_type": "code",
   "execution_count": 215,
   "id": "029619f1",
   "metadata": {},
   "outputs": [],
   "source": [
    "df['Commuter Status'] = commuter_status"
   ]
  },
  {
   "cell_type": "code",
   "execution_count": 97,
   "id": "6e0952ec",
   "metadata": {},
   "outputs": [
    {
     "name": "stdout",
     "output_type": "stream",
     "text": [
      "<class 'pandas.core.frame.DataFrame'>\n",
      "RangeIndex: 8377 entries, 0 to 8376\n",
      "Data columns (total 14 columns):\n",
      " #   Column                         Non-Null Count  Dtype   \n",
      "---  ------                         --------------  -----   \n",
      " 0   House Number                   8377 non-null   int64   \n",
      " 1   Street                         8377 non-null   object  \n",
      " 2   First Name                     8377 non-null   object  \n",
      " 3   Surname                        8377 non-null   object  \n",
      " 4   Age                            8377 non-null   int32   \n",
      " 5   Relationship to Head of House  8377 non-null   object  \n",
      " 6   Marital Status                 6402 non-null   object  \n",
      " 7   Gender                         8377 non-null   object  \n",
      " 8   Occupation                     8377 non-null   object  \n",
      " 9   Infirmity                      8364 non-null   object  \n",
      " 10  Religion                       6361 non-null   object  \n",
      " 11  Employment Status              8377 non-null   object  \n",
      " 12  Age group                      8377 non-null   category\n",
      " 13  Commuter Status                8377 non-null   object  \n",
      "dtypes: category(1), int32(1), int64(1), object(11)\n",
      "memory usage: 827.1+ KB\n"
     ]
    }
   ],
   "source": [
    "df.info()"
   ]
  },
  {
   "cell_type": "markdown",
   "id": "f3e76bf1",
   "metadata": {},
   "source": [
    "##### Household Occupancy \n",
    "\n",
    "- To determine household occupancy, combining the house number and the street will be important."
   ]
  },
  {
   "cell_type": "code",
   "execution_count": 98,
   "id": "860595b2",
   "metadata": {},
   "outputs": [],
   "source": [
    "#combining the house number and street\n",
    "df['House Street'] = df['House Number'].astype(str) + \"-\" + df['Street']"
   ]
  },
  {
   "cell_type": "code",
   "execution_count": 99,
   "id": "6a83c6ee",
   "metadata": {},
   "outputs": [],
   "source": [
    "#calculate the number of people in each household\n",
    "Occupancy = df['House Street'].value_counts()"
   ]
  },
  {
   "cell_type": "code",
   "execution_count": 100,
   "id": "f3136bc5",
   "metadata": {},
   "outputs": [],
   "source": [
    "df_h = pd.DataFrame(Occupancy)"
   ]
  },
  {
   "cell_type": "code",
   "execution_count": 101,
   "id": "744623c8",
   "metadata": {},
   "outputs": [],
   "source": [
    "df_h = df_h.reset_index()"
   ]
  },
  {
   "cell_type": "code",
   "execution_count": 102,
   "id": "d8c25639",
   "metadata": {},
   "outputs": [],
   "source": [
    "df_h.columns = ['House Street', 'Occupancy level']"
   ]
  },
  {
   "cell_type": "code",
   "execution_count": 103,
   "id": "29e17c0b",
   "metadata": {},
   "outputs": [
    {
     "data": {
      "text/html": [
       "<div>\n",
       "<style scoped>\n",
       "    .dataframe tbody tr th:only-of-type {\n",
       "        vertical-align: middle;\n",
       "    }\n",
       "\n",
       "    .dataframe tbody tr th {\n",
       "        vertical-align: top;\n",
       "    }\n",
       "\n",
       "    .dataframe thead th {\n",
       "        text-align: right;\n",
       "    }\n",
       "</style>\n",
       "<table border=\"1\" class=\"dataframe\">\n",
       "  <thead>\n",
       "    <tr style=\"text-align: right;\">\n",
       "      <th></th>\n",
       "      <th>House Street</th>\n",
       "      <th>Occupancy level</th>\n",
       "    </tr>\n",
       "  </thead>\n",
       "  <tbody>\n",
       "    <tr>\n",
       "      <th>0</th>\n",
       "      <td>42-Davies Avenue</td>\n",
       "      <td>22</td>\n",
       "    </tr>\n",
       "    <tr>\n",
       "      <th>1</th>\n",
       "      <td>13-Davies Avenue</td>\n",
       "      <td>21</td>\n",
       "    </tr>\n",
       "    <tr>\n",
       "      <th>2</th>\n",
       "      <td>1-Thames Villa</td>\n",
       "      <td>19</td>\n",
       "    </tr>\n",
       "    <tr>\n",
       "      <th>3</th>\n",
       "      <td>33-Davies Avenue</td>\n",
       "      <td>19</td>\n",
       "    </tr>\n",
       "    <tr>\n",
       "      <th>4</th>\n",
       "      <td>7-November Falls</td>\n",
       "      <td>18</td>\n",
       "    </tr>\n",
       "  </tbody>\n",
       "</table>\n",
       "</div>"
      ],
      "text/plain": [
       "       House Street  Occupancy level\n",
       "0  42-Davies Avenue               22\n",
       "1  13-Davies Avenue               21\n",
       "2    1-Thames Villa               19\n",
       "3  33-Davies Avenue               19\n",
       "4  7-November Falls               18"
      ]
     },
     "execution_count": 103,
     "metadata": {},
     "output_type": "execute_result"
    }
   ],
   "source": [
    "df_h.head()"
   ]
  },
  {
   "cell_type": "code",
   "execution_count": 104,
   "id": "0e2f3e9c",
   "metadata": {},
   "outputs": [
    {
     "data": {
      "text/html": [
       "<div>\n",
       "<style scoped>\n",
       "    .dataframe tbody tr th:only-of-type {\n",
       "        vertical-align: middle;\n",
       "    }\n",
       "\n",
       "    .dataframe tbody tr th {\n",
       "        vertical-align: top;\n",
       "    }\n",
       "\n",
       "    .dataframe thead th {\n",
       "        text-align: right;\n",
       "    }\n",
       "</style>\n",
       "<table border=\"1\" class=\"dataframe\">\n",
       "  <thead>\n",
       "    <tr style=\"text-align: right;\">\n",
       "      <th></th>\n",
       "      <th>House Number</th>\n",
       "      <th>Street</th>\n",
       "      <th>First Name</th>\n",
       "      <th>Surname</th>\n",
       "      <th>Age</th>\n",
       "      <th>Relationship to Head of House</th>\n",
       "      <th>Marital Status</th>\n",
       "      <th>Gender</th>\n",
       "      <th>Occupation</th>\n",
       "      <th>Infirmity</th>\n",
       "      <th>Religion</th>\n",
       "      <th>Employment Status</th>\n",
       "      <th>Age group</th>\n",
       "      <th>Commuter Status</th>\n",
       "      <th>House Street</th>\n",
       "      <th>Occupancy level</th>\n",
       "    </tr>\n",
       "  </thead>\n",
       "  <tbody>\n",
       "    <tr>\n",
       "      <th>0</th>\n",
       "      <td>1</td>\n",
       "      <td>Regentchain Avenue</td>\n",
       "      <td>Ashleigh</td>\n",
       "      <td>Dale</td>\n",
       "      <td>41</td>\n",
       "      <td>Head</td>\n",
       "      <td>Divorced</td>\n",
       "      <td>Female</td>\n",
       "      <td>Field trials officer</td>\n",
       "      <td>None</td>\n",
       "      <td>Catholic</td>\n",
       "      <td>Employed</td>\n",
       "      <td>40-44</td>\n",
       "      <td>Commuter</td>\n",
       "      <td>1-Regentchain Avenue</td>\n",
       "      <td>3</td>\n",
       "    </tr>\n",
       "    <tr>\n",
       "      <th>1</th>\n",
       "      <td>1</td>\n",
       "      <td>Regentchain Avenue</td>\n",
       "      <td>Deborah</td>\n",
       "      <td>Dale</td>\n",
       "      <td>11</td>\n",
       "      <td>Daughter</td>\n",
       "      <td>NaN</td>\n",
       "      <td>Female</td>\n",
       "      <td>Student</td>\n",
       "      <td>None</td>\n",
       "      <td>NaN</td>\n",
       "      <td>Student</td>\n",
       "      <td>10-14</td>\n",
       "      <td>Non commuter</td>\n",
       "      <td>1-Regentchain Avenue</td>\n",
       "      <td>3</td>\n",
       "    </tr>\n",
       "    <tr>\n",
       "      <th>2</th>\n",
       "      <td>1</td>\n",
       "      <td>Regentchain Avenue</td>\n",
       "      <td>Gary</td>\n",
       "      <td>Dale</td>\n",
       "      <td>7</td>\n",
       "      <td>Son</td>\n",
       "      <td>NaN</td>\n",
       "      <td>Male</td>\n",
       "      <td>Student</td>\n",
       "      <td>None</td>\n",
       "      <td>NaN</td>\n",
       "      <td>Student</td>\n",
       "      <td>5-9</td>\n",
       "      <td>Non commuter</td>\n",
       "      <td>1-Regentchain Avenue</td>\n",
       "      <td>3</td>\n",
       "    </tr>\n",
       "  </tbody>\n",
       "</table>\n",
       "</div>"
      ],
      "text/plain": [
       "   House Number              Street First Name Surname  Age  \\\n",
       "0             1  Regentchain Avenue   Ashleigh    Dale   41   \n",
       "1             1  Regentchain Avenue    Deborah    Dale   11   \n",
       "2             1  Regentchain Avenue       Gary    Dale    7   \n",
       "\n",
       "  Relationship to Head of House Marital Status  Gender            Occupation  \\\n",
       "0                          Head       Divorced  Female  Field trials officer   \n",
       "1                      Daughter            NaN  Female               Student   \n",
       "2                           Son            NaN    Male               Student   \n",
       "\n",
       "  Infirmity  Religion Employment Status Age group Commuter Status  \\\n",
       "0      None  Catholic          Employed     40-44        Commuter   \n",
       "1      None       NaN           Student     10-14    Non commuter   \n",
       "2      None       NaN           Student       5-9    Non commuter   \n",
       "\n",
       "           House Street  Occupancy level  \n",
       "0  1-Regentchain Avenue                3  \n",
       "1  1-Regentchain Avenue                3  \n",
       "2  1-Regentchain Avenue                3  "
      ]
     },
     "execution_count": 104,
     "metadata": {},
     "output_type": "execute_result"
    }
   ],
   "source": [
    "#merge dataframes df and df_h together\n",
    "df = pd.merge(df, df_h, how='inner', on = 'House Street')\n",
    "df.head(3)"
   ]
  },
  {
   "cell_type": "markdown",
   "id": "4d400ea8",
   "metadata": {},
   "source": [
    "##### House Number"
   ]
  },
  {
   "cell_type": "code",
   "execution_count": 182,
   "id": "7fa4e49b",
   "metadata": {},
   "outputs": [
    {
     "data": {
      "text/plain": [
       "1      372\n",
       "3      265\n",
       "7      250\n",
       "5      249\n",
       "2      247\n",
       "      ... \n",
       "193      1\n",
       "194      1\n",
       "195      1\n",
       "196      1\n",
       "197      1\n",
       "Name: House Number, Length: 197, dtype: int64"
      ]
     },
     "execution_count": 182,
     "metadata": {},
     "output_type": "execute_result"
    }
   ],
   "source": [
    "df['House Number'].value_counts()"
   ]
  },
  {
   "cell_type": "code",
   "execution_count": 183,
   "id": "e97aeead",
   "metadata": {},
   "outputs": [
    {
     "data": {
      "text/plain": [
       "array([  1,   2,   3,   4,   5,   6,   7,   8,   9,  10,  11,  12,  13,\n",
       "        14,  15,  16,  17,  18,  19,  20,  21,  22,  23,  24,  25,  26,\n",
       "        27,  28,  29,  30,  31,  32,  33,  34,  35,  36,  37,  38,  39,\n",
       "        40,  41,  42,  43,  44,  45,  46,  47,  48,  49,  50,  51,  52,\n",
       "        53,  54,  55,  56,  57,  58,  59,  60,  61,  62,  63,  64,  65,\n",
       "        66,  67,  68,  69,  70,  71,  72,  73,  74,  75,  76,  77,  78,\n",
       "        79,  80,  81,  82,  83,  84,  85,  86,  87,  88,  89,  90,  91,\n",
       "        92,  93,  94,  95,  96,  97,  98,  99, 100, 101, 102, 103, 104,\n",
       "       105, 106, 107, 108, 109, 110, 111, 112, 113, 114, 115, 116, 117,\n",
       "       118, 119, 120, 121, 122, 123, 124, 125, 126, 127, 128, 129, 130,\n",
       "       131, 132, 133, 134, 135, 136, 137, 138, 139, 140, 141, 142, 143,\n",
       "       144, 145, 146, 147, 148, 149, 150, 151, 152, 153, 154, 155, 156,\n",
       "       157, 158, 159, 160, 161, 162, 163, 164, 165, 166, 167, 168, 169,\n",
       "       170, 171, 172, 173, 174, 175, 176, 177, 178, 179, 180, 181, 182,\n",
       "       183, 184, 185, 186, 187, 188, 189, 190, 191, 192, 193, 194, 195,\n",
       "       196, 197], dtype=int64)"
      ]
     },
     "execution_count": 183,
     "metadata": {},
     "output_type": "execute_result"
    }
   ],
   "source": [
    "df['House Number'].unique()"
   ]
  },
  {
   "cell_type": "markdown",
   "id": "3898e872",
   "metadata": {},
   "source": [
    "##### Surname"
   ]
  },
  {
   "cell_type": "code",
   "execution_count": 184,
   "id": "824d19cd",
   "metadata": {},
   "outputs": [
    {
     "data": {
      "text/plain": [
       "array(['Dale', 'Grant', 'Hall', 'Price', 'Dean', 'Taylor', 'Stevenson',\n",
       "       'Austin', 'Miles', 'Johnson', 'Elliott', 'Cooper', 'Webster',\n",
       "       'Stone', 'Duncan', 'Jones', 'Long', 'Cross', 'Wall', 'Williams',\n",
       "       'Ellis', 'Webb', 'Conway', 'Morton', 'Hooper', 'Thompson', 'Patel',\n",
       "       ' ', 'Warren', 'Smith', 'Giles', 'Clark', 'James', 'Coates',\n",
       "       'Carr', 'Henderson', 'Harrison', 'Hart', 'Burgess', 'Turnbull',\n",
       "       'Freeman', 'Manning', 'Richardson', 'Davies', 'Rowley', 'Shaw',\n",
       "       'Wilson', 'Watson', 'Khan', 'Allen', 'Lewis', 'Barton', 'Bates',\n",
       "       'Walker', 'Butler', 'Knight', 'Little', 'George', 'Barker', 'Cox',\n",
       "       'Nash', 'Harris', 'Potter', 'Day', 'Cooke', 'Thomas', 'Campbell',\n",
       "       'Wright', 'Brown', 'Atkinson', 'Jackson-Atkinson', 'Bradshaw',\n",
       "       'Vincent', 'Green', 'Hamilton', 'Bryan', 'Roberts', 'Murphy',\n",
       "       'Lawrence', 'Bryant', 'Whitehead', 'Morgan', 'Thorpe', 'Bartlett',\n",
       "       'Bentley', 'Turner', 'Wilkinson', 'Reed', 'Parkinson', 'Ali',\n",
       "       'Kerr', 'Greenwood', 'Whittaker', 'Murray-Whittaker', 'Gibbons',\n",
       "       'Burns', 'Anderson', 'Lowe', 'Powell', 'Summers', 'Farmer', 'Todd',\n",
       "       'Waters', 'Nixon', 'Gray', 'McDonald', 'Reid', 'Wood', 'Johnston',\n",
       "       'Pearson', 'Norris', 'Martin', 'Robinson', 'Harding', 'Farrell',\n",
       "       'Lee', 'Gallagher', 'Marsh', 'Gibson', 'Stephens', 'Robertson',\n",
       "       'Rowe', 'Watkins', 'Hawkins', 'Dawson', 'Jenkins', 'Scott', 'Read',\n",
       "       'Brookes', 'Bruce', 'McLean', 'Bond', 'Parker', 'Ahmed', 'Norton',\n",
       "       'Owen', 'Howell', 'Chapman', 'Edwards', 'Howe', 'Adams',\n",
       "       'Robinson-Adams', 'Robson', 'Russell', 'Burke', 'Hunt', 'Saunders',\n",
       "       'Gardner', 'Lucas', 'Page', 'Kelly', 'Gilbert', 'Short', 'Tucker',\n",
       "       'Singh', 'Matthews', 'Donnelly', 'Baker', 'Mahmood', 'Chambers',\n",
       "       'Fisher', 'Franklin', 'Barnett', 'Phillips', 'Tomlinson', 'Pearce',\n",
       "       'McCarthy', 'Warner', 'Young', 'Brooks', 'Howard', 'Booth',\n",
       "       'Francis', 'Davis', 'Newton', 'Ward', 'Stokes', 'Jarvis',\n",
       "       'Richards', 'Burton', 'Kelly-Reid', 'Miller', 'Gould', 'Mann',\n",
       "       'Bolton', 'Lynch', 'Dunn', 'Palmer-Richards', 'Horton', 'Boyle',\n",
       "       'Moore', 'Foster', 'Forster', 'Hill', 'Collins', 'Daly', 'Black',\n",
       "       'Cunningham', 'Hilton', 'Gardiner', 'Naylor', 'Burrows', 'Stewart',\n",
       "       'Doyle', 'Clarke', 'Higgins', 'Willis', 'Bull', 'Marshall-Mills',\n",
       "       'Bennett', 'Curtis', 'Payne', 'Brown-Page', \"O'Neill\", 'Houghton',\n",
       "       'Lawson', 'Knowles', 'Iqbal', 'Stevens', 'Porter', 'Connor',\n",
       "       'West', 'Rhodes', 'Simpson-Rhodes', 'Rice', 'Shepherd', 'Ingram',\n",
       "       'Bray', 'Kemp', 'Rogers', 'Barlow', 'Dobson', 'Evans', 'Carter',\n",
       "       'Armstrong', 'Cook', 'Rees', 'Holmes', 'Sims', 'Talbot',\n",
       "       'Clark-Talbot', 'Faulkner', 'Bowen', 'Parsons', 'Sullivan',\n",
       "       'Howells', 'Abbott', 'Griffiths', 'Carpenter', 'Glover', 'Berry',\n",
       "       'Dennis', 'Allen-Armstrong', 'Swift', 'Fox', 'Kennedy', 'Morris',\n",
       "       'Cole', 'Clark-Carter', 'Frost', 'Parkin', 'Williams-Gibbons',\n",
       "       'Nicholls', 'Weston', 'Humphries-Smith', 'Ahmed-Robinson',\n",
       "       'Simpson', 'Andrews', 'Harvey', 'Gray-Harvey', 'Patel-Gray-Harvey',\n",
       "       'Jackson', 'Pritchard', 'Taylor-Brooks', 'White', 'Rose', 'Palmer',\n",
       "       'Law', 'Wilkins', 'Nolan', 'Young-Jones', 'Bibi', 'Bradley',\n",
       "       'Carey', 'Wells', 'Baxter', 'Owens', 'Arnold', 'Norman',\n",
       "       'Blackburn', \"O'Sullivan\", \"O'Connor\", 'Morley', 'Ball', 'Fowler',\n",
       "       'Mitchell', 'Hartley', 'Sharp', 'Cameron', 'Carroll', 'Fry',\n",
       "       'Page-Rose', 'Pugh', 'Mills', 'Dickinson', 'Bevan', 'Jennings',\n",
       "       'Ross', 'Ryan', 'Hobbs', 'Osborne', 'Barnes', 'Rahman', 'Simmons',\n",
       "       'Parker-Simmons', 'Blake', 'Thornton', 'Griffin', 'Hyde', 'Dodd',\n",
       "       'Middleton-Dodd', 'Nicholson', 'Hurst', 'Wade', 'Watts', 'Pollard',\n",
       "       'Begum', 'Alexander', 'Thomas-Harrison', 'Harper', 'Macdonald',\n",
       "       'Kay', 'Wong', 'Power', 'Bell', 'Heath', 'Phillips-Stokes',\n",
       "       'Fletcher', 'Moss', 'King', 'Nelson', 'Walton', 'Oliver',\n",
       "       'Clayton', 'Spencer', 'May', 'Pratt', 'Thomson', 'Hughes',\n",
       "       'Mellor', 'Clark-Simmons', 'Craig', 'Gough', 'French', 'Reynolds',\n",
       "       'Metcalfe', 'Shaw-Thomas', 'Wallis', 'Shah', 'Kay-Owens', 'Sharpe',\n",
       "       'Marsden', 'Walsh', 'Lamb', 'Ferguson', 'Lees-Hooper', 'Hayward',\n",
       "       'Dixon', 'Baldwin', 'Kaur', 'Whitehouse', 'Hewitt', 'Brady',\n",
       "       'Preston', 'Holland', 'Steele', 'Leach', 'Archer', 'Byrne',\n",
       "       'Gibbs', 'Lord', 'Ford', 'Barber', 'Holloway', 'Carr-King',\n",
       "       'Coleman', 'Storey', 'Saunders-Randall', 'Jenkins-Evans',\n",
       "       'Payne-Thomas', 'Quinn', 'Savage', 'Byrne-Murphy', 'Jones-Smith',\n",
       "       'Williams-Cameron', 'Davis-Williams-Cameron', 'Phillips-Savage',\n",
       "       'Butcher', 'Holt', 'Murray', 'Peters', 'Clements', 'Bird',\n",
       "       'Cartwright', 'Williamson', 'Ashton', 'Marshall', 'Lloyd',\n",
       "       'Hussain', 'Brooks-Allen', 'Doherty', 'Lyons', 'Green-Johnson',\n",
       "       'Hutchinson', 'Sanderson', 'Hayes', 'Hunter-Allen', 'Atkins',\n",
       "       'Graham', 'Goodwin', 'Chan', 'Perry', 'Hunter', 'Crawford',\n",
       "       \"O'Brien\", 'Poole', 'Sheppard', 'Douglas', 'Gill',\n",
       "       'Talbot-Thompson', 'Vaughan', 'Chadwick', 'Barrett-Brown',\n",
       "       'Godfrey', 'Sinclair', 'Williams-Johnson', 'Kemp-Smith', 'Collier',\n",
       "       'Pope', 'Kirby', 'Sanders', 'Hancock', 'Andrews-Johnson',\n",
       "       \"O'Neill-Wilson\", 'Townsend', 'Goddard', 'Jones-Clarke', 'Myers',\n",
       "       'Fuller', 'Yates', 'Hodgson', 'Morrison', 'Woods', 'Gregory',\n",
       "       'Fleming', 'Humphries', 'Davison', 'Kirby-Davey', 'Vincent-Barlow',\n",
       "       'Dyer', 'Williams-Martin', 'Roberts-Thomas', 'Davey',\n",
       "       'McDonald-Nicholson', 'Hammond', 'Humphreys', 'Patterson',\n",
       "       'Holden', 'Charlton', 'Wade-Campbell', 'Sinclair-Butler',\n",
       "       'Herbert', 'Perkins', 'Sutton', 'Houghton-Graham', 'Kent',\n",
       "       'Leonard', 'Mason', 'Field', 'Williams-Booth', 'Lane', 'Woodward',\n",
       "       'Lambert', 'Fitzgerald', 'Welch', 'McKenzie', 'Skinner', 'Kirk',\n",
       "       'Davidson', 'Peacock', 'Reeves', 'Henry', 'Sykes', 'Barrett',\n",
       "       'Ball-Wright', 'Hudson', 'Hale', 'Hopkins', 'Cooper-Hart',\n",
       "       'Hanson', 'Kelly-Richards', 'Clarke-Ward', 'Bailey', 'Hicks',\n",
       "       'Whitehead-Reed', 'Wheeler', 'Dixon-Wilkinson', 'Waters-Byrne',\n",
       "       'Lawrence-Fisher', 'Allan', 'Taylor-Nolan', 'Goodwin-Moore',\n",
       "       'Lees', 'Woods-Wall', 'John', 'Hope', 'Smart', 'Wallace',\n",
       "       'Steele-Jones', 'James-Davies', 'Matthews-Lowe', 'Brown-Taylor',\n",
       "       'Wright-Cox', 'Daniels', 'Kaur-Williamson', 'Noble', 'Newman',\n",
       "       \"O'Donnell\", 'Pickering', 'Kerr-Lawson', 'Winter', 'Reed-Porter',\n",
       "       'Akhtar', 'Price-Watson', 'Harper-Price-Watson', 'Parkes',\n",
       "       'Wilkinson-Stephenson', 'Duffy', 'Flynn', 'Garner', 'Thomas-Fry',\n",
       "       'Finch', 'Martin-Martin', 'Brennan', 'Buckley', 'Joyce',\n",
       "       'Smith-Wong', 'Birch', 'Graham-Fitzgerald', 'Haynes', 'Connolly',\n",
       "       'Howarth', 'Pope-Chambers', 'Stanley', 'Potts', 'Banks',\n",
       "       'Brown-Clark', 'Marsh-Brown', 'Humphries-Turner', 'Hughes-Walker',\n",
       "       'Kent-Cross', 'Bell-Smith', 'North', 'Clarke-Harvey',\n",
       "       'Harper-Gill', 'Miah', 'Carter-James', 'Schofield', 'Parry',\n",
       "       'Jenkins-Brennan', 'Foster-Gardiner', 'Jordan', 'Jones-Hartley',\n",
       "       'Wood-Kaur', 'Ford-Wood', 'Coleman-Brown', 'Hughes-Gray',\n",
       "       'Marsh-Douglas', 'Newton-Gill', 'Morris-Barton', 'Elliott-Fuller',\n",
       "       'Shaw-Allen', 'Wilkinson-Cole', 'Smith-Parkin',\n",
       "       'Richardson-Jackson', 'Walters-Sanders', 'Humphries-Roberts',\n",
       "       'Brown-Webb', \"Walton-O'Donnell\", 'Cartwright-Hall',\n",
       "       'Richards-Cartwright-Hall', 'Chandler', 'Coles', 'Browne',\n",
       "       'Kent-Wilson', 'Briggs', 'Lee-Roberts', 'Stephenson', 'Hargreaves',\n",
       "       'Reynolds-Smith', 'Kirk-Hartley', 'Young-Ryan', 'Burgess-Bailey',\n",
       "       'Tucker-Roberts', 'Walters', 'Simpson-Lamb', 'Bishop', 'Middleton',\n",
       "       'Scott-Burns', 'Mistry', 'Smith-Parker', 'Johnson-Evans', 'Benson',\n",
       "       'Gordon', 'Howard-Edwards', 'Walsh-Jones', 'Pickering-Walsh-Jones',\n",
       "       'Riley', 'Richards-White', 'Howe-Shaw', 'Wood-Jones',\n",
       "       'Fisher-Brown', 'Wyatt', 'Chamberlain', 'Smith-Baker',\n",
       "       'Chandler-Arnold', 'Foster-Jones', 'Freeman-Harrison',\n",
       "       'Robinson-Lowe', 'Brown-Noble', 'Brennan-Bowen', 'Kaur-Frost',\n",
       "       'Hamilton-Powell', 'Pearce-Carter', 'Kent-Williams',\n",
       "       'Payne-Miller', 'Fraser-Webb', 'Scott-Jackson', 'Crawford-Johnson',\n",
       "       'Moran', 'Harris-Carr', 'Evans-Anderson', 'Roberts-Green', 'Tyler',\n",
       "       'Hardy', 'Pollard-Kelly', 'Shah-Jackson', 'Williams-Kerr',\n",
       "       'Chambers-Wong', 'James-Jones', 'Smith-James-Jones', 'Patel-Finch',\n",
       "       'Hall-Patel-Finch', 'Parsons-Lewis', 'Wilson-Taylor',\n",
       "       'Burgess-Thomas', 'Ferguson-Lucas', 'Jennings-Davis',\n",
       "       'Wilson-Goodwin', 'Stokes-Lewis'], dtype=object)"
      ]
     },
     "execution_count": 184,
     "metadata": {},
     "output_type": "execute_result"
    }
   ],
   "source": [
    "df['Surname'].unique()"
   ]
  },
  {
   "cell_type": "code",
   "execution_count": 185,
   "id": "aa55eb1c",
   "metadata": {},
   "outputs": [
    {
     "data": {
      "text/html": [
       "<div>\n",
       "<style scoped>\n",
       "    .dataframe tbody tr th:only-of-type {\n",
       "        vertical-align: middle;\n",
       "    }\n",
       "\n",
       "    .dataframe tbody tr th {\n",
       "        vertical-align: top;\n",
       "    }\n",
       "\n",
       "    .dataframe thead th {\n",
       "        text-align: right;\n",
       "    }\n",
       "</style>\n",
       "<table border=\"1\" class=\"dataframe\">\n",
       "  <thead>\n",
       "    <tr style=\"text-align: right;\">\n",
       "      <th></th>\n",
       "      <th>House Number</th>\n",
       "      <th>Street</th>\n",
       "      <th>First Name</th>\n",
       "      <th>Surname</th>\n",
       "      <th>Age</th>\n",
       "      <th>Relationship to Head of House</th>\n",
       "      <th>Marital Status</th>\n",
       "      <th>Gender</th>\n",
       "      <th>Occupation</th>\n",
       "      <th>Infirmity</th>\n",
       "      <th>Religion</th>\n",
       "      <th>Employment Status</th>\n",
       "      <th>Age group</th>\n",
       "      <th>Commuter Status</th>\n",
       "      <th>House Street</th>\n",
       "      <th>Occupancy level</th>\n",
       "    </tr>\n",
       "  </thead>\n",
       "  <tbody>\n",
       "    <tr>\n",
       "      <th>60</th>\n",
       "      <td>8</td>\n",
       "      <td>Telegraphnet Street</td>\n",
       "      <td>Linda</td>\n",
       "      <td></td>\n",
       "      <td>41</td>\n",
       "      <td>Daughter</td>\n",
       "      <td>Single</td>\n",
       "      <td>Female</td>\n",
       "      <td>Commercial art gallery manager</td>\n",
       "      <td>None</td>\n",
       "      <td>Christian</td>\n",
       "      <td>Employed</td>\n",
       "      <td>40-44</td>\n",
       "      <td>Commuter</td>\n",
       "      <td>8-Telegraphnet Street</td>\n",
       "      <td>5</td>\n",
       "    </tr>\n",
       "    <tr>\n",
       "      <th>4252</th>\n",
       "      <td>48</td>\n",
       "      <td>Chan Estate</td>\n",
       "      <td>Denise</td>\n",
       "      <td></td>\n",
       "      <td>9</td>\n",
       "      <td>Adopted Daughter</td>\n",
       "      <td>NaN</td>\n",
       "      <td>Female</td>\n",
       "      <td>Student</td>\n",
       "      <td>None</td>\n",
       "      <td>NaN</td>\n",
       "      <td>Student</td>\n",
       "      <td>5-9</td>\n",
       "      <td>Non commuter</td>\n",
       "      <td>48-Chan Estate</td>\n",
       "      <td>5</td>\n",
       "    </tr>\n",
       "  </tbody>\n",
       "</table>\n",
       "</div>"
      ],
      "text/plain": [
       "      House Number               Street First Name Surname  Age  \\\n",
       "60               8  Telegraphnet Street      Linda           41   \n",
       "4252            48          Chan Estate     Denise            9   \n",
       "\n",
       "     Relationship to Head of House Marital Status  Gender  \\\n",
       "60                        Daughter         Single  Female   \n",
       "4252              Adopted Daughter            NaN  Female   \n",
       "\n",
       "                          Occupation Infirmity   Religion Employment Status  \\\n",
       "60    Commercial art gallery manager      None  Christian          Employed   \n",
       "4252                         Student      None        NaN           Student   \n",
       "\n",
       "     Age group Commuter Status           House Street  Occupancy level  \n",
       "60       40-44        Commuter  8-Telegraphnet Street                5  \n",
       "4252       5-9    Non commuter         48-Chan Estate                5  "
      ]
     },
     "execution_count": 185,
     "metadata": {},
     "output_type": "execute_result"
    }
   ],
   "source": [
    "df[df['Surname'] == \" \"]"
   ]
  },
  {
   "cell_type": "markdown",
   "id": "e1416e87",
   "metadata": {},
   "source": [
    "- There are two records with blank values.\n",
    "- Carefully investigate the household they belong to and replace the blank values appropriately."
   ]
  },
  {
   "cell_type": "code",
   "execution_count": 186,
   "id": "0cbf1c61",
   "metadata": {},
   "outputs": [
    {
     "data": {
      "text/html": [
       "<div>\n",
       "<style scoped>\n",
       "    .dataframe tbody tr th:only-of-type {\n",
       "        vertical-align: middle;\n",
       "    }\n",
       "\n",
       "    .dataframe tbody tr th {\n",
       "        vertical-align: top;\n",
       "    }\n",
       "\n",
       "    .dataframe thead th {\n",
       "        text-align: right;\n",
       "    }\n",
       "</style>\n",
       "<table border=\"1\" class=\"dataframe\">\n",
       "  <thead>\n",
       "    <tr style=\"text-align: right;\">\n",
       "      <th></th>\n",
       "      <th>House Number</th>\n",
       "      <th>Street</th>\n",
       "      <th>First Name</th>\n",
       "      <th>Surname</th>\n",
       "      <th>Age</th>\n",
       "      <th>Relationship to Head of House</th>\n",
       "      <th>Marital Status</th>\n",
       "      <th>Gender</th>\n",
       "      <th>Occupation</th>\n",
       "      <th>Infirmity</th>\n",
       "      <th>Religion</th>\n",
       "      <th>Employment Status</th>\n",
       "      <th>Age group</th>\n",
       "      <th>Commuter Status</th>\n",
       "      <th>House Street</th>\n",
       "      <th>Occupancy level</th>\n",
       "    </tr>\n",
       "  </thead>\n",
       "  <tbody>\n",
       "    <tr>\n",
       "      <th>58</th>\n",
       "      <td>8</td>\n",
       "      <td>Telegraphnet Street</td>\n",
       "      <td>Kate</td>\n",
       "      <td>Patel</td>\n",
       "      <td>44</td>\n",
       "      <td>Daughter</td>\n",
       "      <td>Single</td>\n",
       "      <td>Female</td>\n",
       "      <td>Translator</td>\n",
       "      <td>None</td>\n",
       "      <td>Christian</td>\n",
       "      <td>Employed</td>\n",
       "      <td>40-44</td>\n",
       "      <td>Commuter</td>\n",
       "      <td>8-Telegraphnet Street</td>\n",
       "      <td>5</td>\n",
       "    </tr>\n",
       "    <tr>\n",
       "      <th>59</th>\n",
       "      <td>8</td>\n",
       "      <td>Telegraphnet Street</td>\n",
       "      <td>Damien</td>\n",
       "      <td>Patel</td>\n",
       "      <td>42</td>\n",
       "      <td>Son</td>\n",
       "      <td>Single</td>\n",
       "      <td>Male</td>\n",
       "      <td>Tourist information centre manager</td>\n",
       "      <td>None</td>\n",
       "      <td>Christian</td>\n",
       "      <td>Employed</td>\n",
       "      <td>40-44</td>\n",
       "      <td>Commuter</td>\n",
       "      <td>8-Telegraphnet Street</td>\n",
       "      <td>5</td>\n",
       "    </tr>\n",
       "    <tr>\n",
       "      <th>60</th>\n",
       "      <td>8</td>\n",
       "      <td>Telegraphnet Street</td>\n",
       "      <td>Linda</td>\n",
       "      <td></td>\n",
       "      <td>41</td>\n",
       "      <td>Daughter</td>\n",
       "      <td>Single</td>\n",
       "      <td>Female</td>\n",
       "      <td>Commercial art gallery manager</td>\n",
       "      <td>None</td>\n",
       "      <td>Christian</td>\n",
       "      <td>Employed</td>\n",
       "      <td>40-44</td>\n",
       "      <td>Commuter</td>\n",
       "      <td>8-Telegraphnet Street</td>\n",
       "      <td>5</td>\n",
       "    </tr>\n",
       "    <tr>\n",
       "      <th>61</th>\n",
       "      <td>8</td>\n",
       "      <td>Telegraphnet Street</td>\n",
       "      <td>Patricia</td>\n",
       "      <td>Patel</td>\n",
       "      <td>38</td>\n",
       "      <td>Daughter</td>\n",
       "      <td>Divorced</td>\n",
       "      <td>Female</td>\n",
       "      <td>Psychiatrist</td>\n",
       "      <td>None</td>\n",
       "      <td>Christian</td>\n",
       "      <td>Employed</td>\n",
       "      <td>35-39</td>\n",
       "      <td>Commuter</td>\n",
       "      <td>8-Telegraphnet Street</td>\n",
       "      <td>5</td>\n",
       "    </tr>\n",
       "  </tbody>\n",
       "</table>\n",
       "</div>"
      ],
      "text/plain": [
       "    House Number               Street First Name Surname  Age  \\\n",
       "58             8  Telegraphnet Street       Kate   Patel   44   \n",
       "59             8  Telegraphnet Street     Damien   Patel   42   \n",
       "60             8  Telegraphnet Street      Linda           41   \n",
       "61             8  Telegraphnet Street   Patricia   Patel   38   \n",
       "\n",
       "   Relationship to Head of House Marital Status  Gender  \\\n",
       "58                      Daughter         Single  Female   \n",
       "59                           Son         Single    Male   \n",
       "60                      Daughter         Single  Female   \n",
       "61                      Daughter       Divorced  Female   \n",
       "\n",
       "                            Occupation Infirmity   Religion Employment Status  \\\n",
       "58                          Translator      None  Christian          Employed   \n",
       "59  Tourist information centre manager      None  Christian          Employed   \n",
       "60      Commercial art gallery manager      None  Christian          Employed   \n",
       "61                        Psychiatrist      None  Christian          Employed   \n",
       "\n",
       "   Age group Commuter Status           House Street  Occupancy level  \n",
       "58     40-44        Commuter  8-Telegraphnet Street                5  \n",
       "59     40-44        Commuter  8-Telegraphnet Street                5  \n",
       "60     40-44        Commuter  8-Telegraphnet Street                5  \n",
       "61     35-39        Commuter  8-Telegraphnet Street                5  "
      ]
     },
     "execution_count": 186,
     "metadata": {},
     "output_type": "execute_result"
    }
   ],
   "source": [
    "#checking the first record\n",
    "df.iloc[58:62, :]"
   ]
  },
  {
   "cell_type": "markdown",
   "id": "f86f5c7f",
   "metadata": {},
   "source": [
    "- Record 60 belongs to the Patel family"
   ]
  },
  {
   "cell_type": "code",
   "execution_count": 187,
   "id": "9d2d03d2",
   "metadata": {},
   "outputs": [],
   "source": [
    "df.at[60, 'Surname'] = \"Patel\""
   ]
  },
  {
   "cell_type": "code",
   "execution_count": 190,
   "id": "ddf1388a",
   "metadata": {},
   "outputs": [
    {
     "data": {
      "text/html": [
       "<div>\n",
       "<style scoped>\n",
       "    .dataframe tbody tr th:only-of-type {\n",
       "        vertical-align: middle;\n",
       "    }\n",
       "\n",
       "    .dataframe tbody tr th {\n",
       "        vertical-align: top;\n",
       "    }\n",
       "\n",
       "    .dataframe thead th {\n",
       "        text-align: right;\n",
       "    }\n",
       "</style>\n",
       "<table border=\"1\" class=\"dataframe\">\n",
       "  <thead>\n",
       "    <tr style=\"text-align: right;\">\n",
       "      <th></th>\n",
       "      <th>House Number</th>\n",
       "      <th>Street</th>\n",
       "      <th>First Name</th>\n",
       "      <th>Surname</th>\n",
       "      <th>Age</th>\n",
       "      <th>Relationship to Head of House</th>\n",
       "      <th>Marital Status</th>\n",
       "      <th>Gender</th>\n",
       "      <th>Occupation</th>\n",
       "      <th>Infirmity</th>\n",
       "      <th>Religion</th>\n",
       "      <th>Employment Status</th>\n",
       "      <th>Age group</th>\n",
       "      <th>Commuter Status</th>\n",
       "      <th>House Street</th>\n",
       "      <th>Occupancy level</th>\n",
       "    </tr>\n",
       "  </thead>\n",
       "  <tbody>\n",
       "    <tr>\n",
       "      <th>4248</th>\n",
       "      <td>48</td>\n",
       "      <td>Chan Estate</td>\n",
       "      <td>Francesca</td>\n",
       "      <td>Lloyd</td>\n",
       "      <td>37</td>\n",
       "      <td>Head</td>\n",
       "      <td>Married</td>\n",
       "      <td>Female</td>\n",
       "      <td>Drilling engineer</td>\n",
       "      <td>None</td>\n",
       "      <td>Catholic</td>\n",
       "      <td>Employed</td>\n",
       "      <td>35-39</td>\n",
       "      <td>Commuter</td>\n",
       "      <td>48-Chan Estate</td>\n",
       "      <td>5</td>\n",
       "    </tr>\n",
       "    <tr>\n",
       "      <th>4249</th>\n",
       "      <td>48</td>\n",
       "      <td>Chan Estate</td>\n",
       "      <td>Shane</td>\n",
       "      <td>Lloyd</td>\n",
       "      <td>41</td>\n",
       "      <td>Husband</td>\n",
       "      <td>Married</td>\n",
       "      <td>Male</td>\n",
       "      <td>Banker</td>\n",
       "      <td>None</td>\n",
       "      <td>Catholic</td>\n",
       "      <td>Employed</td>\n",
       "      <td>40-44</td>\n",
       "      <td>Commuter</td>\n",
       "      <td>48-Chan Estate</td>\n",
       "      <td>5</td>\n",
       "    </tr>\n",
       "    <tr>\n",
       "      <th>4250</th>\n",
       "      <td>48</td>\n",
       "      <td>Chan Estate</td>\n",
       "      <td>Alexandra</td>\n",
       "      <td>Lloyd</td>\n",
       "      <td>13</td>\n",
       "      <td>Daughter</td>\n",
       "      <td>NaN</td>\n",
       "      <td>Female</td>\n",
       "      <td>Student</td>\n",
       "      <td>None</td>\n",
       "      <td>NaN</td>\n",
       "      <td>Student</td>\n",
       "      <td>10-14</td>\n",
       "      <td>Non commuter</td>\n",
       "      <td>48-Chan Estate</td>\n",
       "      <td>5</td>\n",
       "    </tr>\n",
       "    <tr>\n",
       "      <th>4251</th>\n",
       "      <td>48</td>\n",
       "      <td>Chan Estate</td>\n",
       "      <td>Arthur</td>\n",
       "      <td>Lloyd</td>\n",
       "      <td>12</td>\n",
       "      <td>Son</td>\n",
       "      <td>NaN</td>\n",
       "      <td>Male</td>\n",
       "      <td>Student</td>\n",
       "      <td>None</td>\n",
       "      <td>NaN</td>\n",
       "      <td>Student</td>\n",
       "      <td>10-14</td>\n",
       "      <td>Non commuter</td>\n",
       "      <td>48-Chan Estate</td>\n",
       "      <td>5</td>\n",
       "    </tr>\n",
       "    <tr>\n",
       "      <th>4252</th>\n",
       "      <td>48</td>\n",
       "      <td>Chan Estate</td>\n",
       "      <td>Denise</td>\n",
       "      <td></td>\n",
       "      <td>9</td>\n",
       "      <td>Adopted Daughter</td>\n",
       "      <td>NaN</td>\n",
       "      <td>Female</td>\n",
       "      <td>Student</td>\n",
       "      <td>None</td>\n",
       "      <td>NaN</td>\n",
       "      <td>Student</td>\n",
       "      <td>5-9</td>\n",
       "      <td>Non commuter</td>\n",
       "      <td>48-Chan Estate</td>\n",
       "      <td>5</td>\n",
       "    </tr>\n",
       "  </tbody>\n",
       "</table>\n",
       "</div>"
      ],
      "text/plain": [
       "      House Number       Street First Name Surname  Age  \\\n",
       "4248            48  Chan Estate  Francesca   Lloyd   37   \n",
       "4249            48  Chan Estate      Shane   Lloyd   41   \n",
       "4250            48  Chan Estate  Alexandra   Lloyd   13   \n",
       "4251            48  Chan Estate     Arthur   Lloyd   12   \n",
       "4252            48  Chan Estate     Denise            9   \n",
       "\n",
       "     Relationship to Head of House Marital Status  Gender         Occupation  \\\n",
       "4248                          Head        Married  Female  Drilling engineer   \n",
       "4249                       Husband        Married    Male             Banker   \n",
       "4250                      Daughter            NaN  Female            Student   \n",
       "4251                           Son            NaN    Male            Student   \n",
       "4252              Adopted Daughter            NaN  Female            Student   \n",
       "\n",
       "     Infirmity  Religion Employment Status Age group Commuter Status  \\\n",
       "4248      None  Catholic          Employed     35-39        Commuter   \n",
       "4249      None  Catholic          Employed     40-44        Commuter   \n",
       "4250      None       NaN           Student     10-14    Non commuter   \n",
       "4251      None       NaN           Student     10-14    Non commuter   \n",
       "4252      None       NaN           Student       5-9    Non commuter   \n",
       "\n",
       "        House Street  Occupancy level  \n",
       "4248  48-Chan Estate                5  \n",
       "4249  48-Chan Estate                5  \n",
       "4250  48-Chan Estate                5  \n",
       "4251  48-Chan Estate                5  \n",
       "4252  48-Chan Estate                5  "
      ]
     },
     "execution_count": 190,
     "metadata": {},
     "output_type": "execute_result"
    }
   ],
   "source": [
    "#checking the second record\n",
    "df.iloc[4248:4253, :]"
   ]
  },
  {
   "cell_type": "markdown",
   "id": "832e37be",
   "metadata": {},
   "source": [
    "- Record 4252 belongs to the Lloyd family"
   ]
  },
  {
   "cell_type": "code",
   "execution_count": 191,
   "id": "f415015e",
   "metadata": {},
   "outputs": [],
   "source": [
    "df.at[4252, 'Surname'] = \"Lloyd\""
   ]
  },
  {
   "cell_type": "markdown",
   "id": "43bfd6f8",
   "metadata": {},
   "source": [
    "##### First Name"
   ]
  },
  {
   "cell_type": "code",
   "execution_count": 193,
   "id": "97aa5554",
   "metadata": {},
   "outputs": [
    {
     "data": {
      "text/html": [
       "<div>\n",
       "<style scoped>\n",
       "    .dataframe tbody tr th:only-of-type {\n",
       "        vertical-align: middle;\n",
       "    }\n",
       "\n",
       "    .dataframe tbody tr th {\n",
       "        vertical-align: top;\n",
       "    }\n",
       "\n",
       "    .dataframe thead th {\n",
       "        text-align: right;\n",
       "    }\n",
       "</style>\n",
       "<table border=\"1\" class=\"dataframe\">\n",
       "  <thead>\n",
       "    <tr style=\"text-align: right;\">\n",
       "      <th></th>\n",
       "      <th>House Number</th>\n",
       "      <th>Street</th>\n",
       "      <th>First Name</th>\n",
       "      <th>Surname</th>\n",
       "      <th>Age</th>\n",
       "      <th>Relationship to Head of House</th>\n",
       "      <th>Marital Status</th>\n",
       "      <th>Gender</th>\n",
       "      <th>Occupation</th>\n",
       "      <th>Infirmity</th>\n",
       "      <th>Religion</th>\n",
       "      <th>Employment Status</th>\n",
       "      <th>Age group</th>\n",
       "      <th>Commuter Status</th>\n",
       "      <th>House Street</th>\n",
       "      <th>Occupancy level</th>\n",
       "    </tr>\n",
       "  </thead>\n",
       "  <tbody>\n",
       "    <tr>\n",
       "      <th>1497</th>\n",
       "      <td>4</td>\n",
       "      <td>Power Keys</td>\n",
       "      <td></td>\n",
       "      <td>Frost</td>\n",
       "      <td>88</td>\n",
       "      <td>Head</td>\n",
       "      <td>Widowed</td>\n",
       "      <td>Male</td>\n",
       "      <td>Retiree</td>\n",
       "      <td>None</td>\n",
       "      <td>Methodist</td>\n",
       "      <td>Retiree</td>\n",
       "      <td>85-89</td>\n",
       "      <td>Non commuter</td>\n",
       "      <td>4-Power Keys</td>\n",
       "      <td>1</td>\n",
       "    </tr>\n",
       "  </tbody>\n",
       "</table>\n",
       "</div>"
      ],
      "text/plain": [
       "      House Number      Street First Name Surname  Age  \\\n",
       "1497             4  Power Keys              Frost   88   \n",
       "\n",
       "     Relationship to Head of House Marital Status Gender Occupation Infirmity  \\\n",
       "1497                          Head        Widowed   Male    Retiree      None   \n",
       "\n",
       "       Religion Employment Status Age group Commuter Status  House Street  \\\n",
       "1497  Methodist           Retiree     85-89    Non commuter  4-Power Keys   \n",
       "\n",
       "      Occupancy level  \n",
       "1497                1  "
      ]
     },
     "execution_count": 193,
     "metadata": {},
     "output_type": "execute_result"
    }
   ],
   "source": [
    "df[df['First Name'] == \" \"]"
   ]
  },
  {
   "cell_type": "markdown",
   "id": "c0d3ed52",
   "metadata": {},
   "source": [
    "- This record shows that the man is a widower and stays alone. His surname was only inputed probably because he really has no one to help with it in the house."
   ]
  },
  {
   "cell_type": "markdown",
   "id": "3dee197b",
   "metadata": {},
   "source": [
    "##### Infirmity"
   ]
  },
  {
   "cell_type": "code",
   "execution_count": 194,
   "id": "6b55135a",
   "metadata": {},
   "outputs": [
    {
     "data": {
      "text/plain": [
       "None                   8308\n",
       "Physical Disability      18\n",
       "Mental Disability        10\n",
       "Blind                     9\n",
       "Disabled                  8\n",
       "Deaf                      7\n",
       "Unknown Infection         4\n",
       "Name: Infirmity, dtype: int64"
      ]
     },
     "execution_count": 194,
     "metadata": {},
     "output_type": "execute_result"
    }
   ],
   "source": [
    "df['Infirmity'].value_counts()"
   ]
  },
  {
   "cell_type": "code",
   "execution_count": 196,
   "id": "91fa3218",
   "metadata": {},
   "outputs": [
    {
     "data": {
      "text/plain": [
       "13"
      ]
     },
     "execution_count": 196,
     "metadata": {},
     "output_type": "execute_result"
    }
   ],
   "source": [
    "df['Infirmity'].isnull().sum()"
   ]
  },
  {
   "cell_type": "markdown",
   "id": "efc25e55",
   "metadata": {},
   "source": [
    "## Exploratory Data Analysis"
   ]
  },
  {
   "cell_type": "markdown",
   "id": "61ce4c88",
   "metadata": {},
   "source": [
    "### Population Pyramid"
   ]
  },
  {
   "cell_type": "code",
   "execution_count": 105,
   "id": "cd68062a",
   "metadata": {},
   "outputs": [],
   "source": [
    "#create a duplicate dataframe for the population pyramid\n",
    "df_p = df.copy()"
   ]
  },
  {
   "cell_type": "code",
   "execution_count": 106,
   "id": "94b1bd68",
   "metadata": {},
   "outputs": [],
   "source": [
    "#drop columns that are not needed for the population pyramid\n",
    "df_p = df_p.drop(['House Number', 'Street', 'First Name', 'Surname', 'Relationship to Head of House', 'Occupation', 'Commuter Status', 'Employment Status', 'Religion', 'Infirmity'], axis=1)"
   ]
  },
  {
   "cell_type": "code",
   "execution_count": 109,
   "id": "c927aaf3",
   "metadata": {},
   "outputs": [],
   "source": [
    "#drop these columns\n",
    "df_p = df_p.drop(['House Street', 'Occupancy level'], axis=1)"
   ]
  },
  {
   "cell_type": "code",
   "execution_count": 111,
   "id": "c14eb83c",
   "metadata": {},
   "outputs": [],
   "source": [
    "#drop this column\n",
    "df_p = df_p.drop(['Marital Status'], axis=1)"
   ]
  },
  {
   "cell_type": "code",
   "execution_count": 112,
   "id": "e3295256",
   "metadata": {},
   "outputs": [
    {
     "data": {
      "text/html": [
       "<div>\n",
       "<style scoped>\n",
       "    .dataframe tbody tr th:only-of-type {\n",
       "        vertical-align: middle;\n",
       "    }\n",
       "\n",
       "    .dataframe tbody tr th {\n",
       "        vertical-align: top;\n",
       "    }\n",
       "\n",
       "    .dataframe thead th {\n",
       "        text-align: right;\n",
       "    }\n",
       "</style>\n",
       "<table border=\"1\" class=\"dataframe\">\n",
       "  <thead>\n",
       "    <tr style=\"text-align: right;\">\n",
       "      <th></th>\n",
       "      <th>Age</th>\n",
       "      <th>Gender</th>\n",
       "      <th>Age group</th>\n",
       "    </tr>\n",
       "  </thead>\n",
       "  <tbody>\n",
       "    <tr>\n",
       "      <th>0</th>\n",
       "      <td>41</td>\n",
       "      <td>Female</td>\n",
       "      <td>40-44</td>\n",
       "    </tr>\n",
       "    <tr>\n",
       "      <th>1</th>\n",
       "      <td>11</td>\n",
       "      <td>Female</td>\n",
       "      <td>10-14</td>\n",
       "    </tr>\n",
       "  </tbody>\n",
       "</table>\n",
       "</div>"
      ],
      "text/plain": [
       "   Age  Gender Age group\n",
       "0   41  Female     40-44\n",
       "1   11  Female     10-14"
      ]
     },
     "execution_count": 112,
     "metadata": {},
     "output_type": "execute_result"
    }
   ],
   "source": [
    "df_p.head(2)"
   ]
  },
  {
   "cell_type": "code",
   "execution_count": 113,
   "id": "0ae134be",
   "metadata": {},
   "outputs": [],
   "source": [
    "# create two new columns 'Male' and 'Female' based on the 'Gender' column\n",
    "df_new = pd.get_dummies(df_p['Gender'])\n",
    "\n",
    "# concatenate the new columns with the original dataframe\n",
    "df_p = pd.concat([df_p, df_new], axis=1)\n",
    "\n",
    "# drop the original 'Gender' column\n",
    "df_p.drop('Gender', axis=1, inplace=True)"
   ]
  },
  {
   "cell_type": "code",
   "execution_count": 114,
   "id": "1c7fd2d9",
   "metadata": {},
   "outputs": [
    {
     "data": {
      "text/html": [
       "<div>\n",
       "<style scoped>\n",
       "    .dataframe tbody tr th:only-of-type {\n",
       "        vertical-align: middle;\n",
       "    }\n",
       "\n",
       "    .dataframe tbody tr th {\n",
       "        vertical-align: top;\n",
       "    }\n",
       "\n",
       "    .dataframe thead th {\n",
       "        text-align: right;\n",
       "    }\n",
       "</style>\n",
       "<table border=\"1\" class=\"dataframe\">\n",
       "  <thead>\n",
       "    <tr style=\"text-align: right;\">\n",
       "      <th></th>\n",
       "      <th>Age</th>\n",
       "      <th>Age group</th>\n",
       "      <th>Female</th>\n",
       "      <th>Male</th>\n",
       "    </tr>\n",
       "  </thead>\n",
       "  <tbody>\n",
       "    <tr>\n",
       "      <th>0</th>\n",
       "      <td>41</td>\n",
       "      <td>40-44</td>\n",
       "      <td>1</td>\n",
       "      <td>0</td>\n",
       "    </tr>\n",
       "    <tr>\n",
       "      <th>1</th>\n",
       "      <td>11</td>\n",
       "      <td>10-14</td>\n",
       "      <td>1</td>\n",
       "      <td>0</td>\n",
       "    </tr>\n",
       "    <tr>\n",
       "      <th>2</th>\n",
       "      <td>7</td>\n",
       "      <td>5-9</td>\n",
       "      <td>0</td>\n",
       "      <td>1</td>\n",
       "    </tr>\n",
       "    <tr>\n",
       "      <th>3</th>\n",
       "      <td>40</td>\n",
       "      <td>40-44</td>\n",
       "      <td>0</td>\n",
       "      <td>1</td>\n",
       "    </tr>\n",
       "    <tr>\n",
       "      <th>4</th>\n",
       "      <td>35</td>\n",
       "      <td>35-39</td>\n",
       "      <td>1</td>\n",
       "      <td>0</td>\n",
       "    </tr>\n",
       "  </tbody>\n",
       "</table>\n",
       "</div>"
      ],
      "text/plain": [
       "   Age Age group  Female  Male\n",
       "0   41     40-44       1     0\n",
       "1   11     10-14       1     0\n",
       "2    7       5-9       0     1\n",
       "3   40     40-44       0     1\n",
       "4   35     35-39       1     0"
      ]
     },
     "execution_count": 114,
     "metadata": {},
     "output_type": "execute_result"
    }
   ],
   "source": [
    "df_p.head()"
   ]
  },
  {
   "cell_type": "code",
   "execution_count": 116,
   "id": "e5116b5c",
   "metadata": {},
   "outputs": [],
   "source": [
    "#remove age column\n",
    "df_p = df_p.drop(['Age'], axis=1)"
   ]
  },
  {
   "cell_type": "code",
   "execution_count": 117,
   "id": "cf93859b",
   "metadata": {},
   "outputs": [],
   "source": [
    "# use pd.pivot_table() to get the count of each age group for males and females\n",
    "df_p = pd.pivot_table(df_p, values=['Male', 'Female'], index='Age group', aggfunc='sum')"
   ]
  },
  {
   "cell_type": "code",
   "execution_count": 118,
   "id": "5ccc6e68",
   "metadata": {},
   "outputs": [
    {
     "data": {
      "text/html": [
       "<div>\n",
       "<style scoped>\n",
       "    .dataframe tbody tr th:only-of-type {\n",
       "        vertical-align: middle;\n",
       "    }\n",
       "\n",
       "    .dataframe tbody tr th {\n",
       "        vertical-align: top;\n",
       "    }\n",
       "\n",
       "    .dataframe thead th {\n",
       "        text-align: right;\n",
       "    }\n",
       "</style>\n",
       "<table border=\"1\" class=\"dataframe\">\n",
       "  <thead>\n",
       "    <tr style=\"text-align: right;\">\n",
       "      <th></th>\n",
       "      <th>Female</th>\n",
       "      <th>Male</th>\n",
       "    </tr>\n",
       "    <tr>\n",
       "      <th>Age group</th>\n",
       "      <th></th>\n",
       "      <th></th>\n",
       "    </tr>\n",
       "  </thead>\n",
       "  <tbody>\n",
       "    <tr>\n",
       "      <th>0-4</th>\n",
       "      <td>239.0</td>\n",
       "      <td>234.0</td>\n",
       "    </tr>\n",
       "    <tr>\n",
       "      <th>5-9</th>\n",
       "      <td>269.0</td>\n",
       "      <td>275.0</td>\n",
       "    </tr>\n",
       "    <tr>\n",
       "      <th>10-14</th>\n",
       "      <td>294.0</td>\n",
       "      <td>292.0</td>\n",
       "    </tr>\n",
       "  </tbody>\n",
       "</table>\n",
       "</div>"
      ],
      "text/plain": [
       "           Female   Male\n",
       "Age group               \n",
       "0-4         239.0  234.0\n",
       "5-9         269.0  275.0\n",
       "10-14       294.0  292.0"
      ]
     },
     "execution_count": 118,
     "metadata": {},
     "output_type": "execute_result"
    }
   ],
   "source": [
    "df_p.head(3)"
   ]
  },
  {
   "cell_type": "code",
   "execution_count": 119,
   "id": "8d439f7f",
   "metadata": {},
   "outputs": [],
   "source": [
    "df_p['Female_x'] = df_p['Female'] * -1"
   ]
  },
  {
   "cell_type": "code",
   "execution_count": 120,
   "id": "cc385e41",
   "metadata": {},
   "outputs": [],
   "source": [
    "df_p = df_p.reset_index()"
   ]
  },
  {
   "cell_type": "code",
   "execution_count": 121,
   "id": "a9ec2b7d",
   "metadata": {},
   "outputs": [],
   "source": [
    "df_p.columns = ['Age group', 'Female', 'Male', 'Female_x']"
   ]
  },
  {
   "cell_type": "code",
   "execution_count": 122,
   "id": "00de1ad2",
   "metadata": {},
   "outputs": [
    {
     "data": {
      "text/html": [
       "<div>\n",
       "<style scoped>\n",
       "    .dataframe tbody tr th:only-of-type {\n",
       "        vertical-align: middle;\n",
       "    }\n",
       "\n",
       "    .dataframe tbody tr th {\n",
       "        vertical-align: top;\n",
       "    }\n",
       "\n",
       "    .dataframe thead th {\n",
       "        text-align: right;\n",
       "    }\n",
       "</style>\n",
       "<table border=\"1\" class=\"dataframe\">\n",
       "  <thead>\n",
       "    <tr style=\"text-align: right;\">\n",
       "      <th></th>\n",
       "      <th>Age group</th>\n",
       "      <th>Female</th>\n",
       "      <th>Male</th>\n",
       "      <th>Female_x</th>\n",
       "    </tr>\n",
       "  </thead>\n",
       "  <tbody>\n",
       "    <tr>\n",
       "      <th>0</th>\n",
       "      <td>0-4</td>\n",
       "      <td>239.0</td>\n",
       "      <td>234.0</td>\n",
       "      <td>-239.0</td>\n",
       "    </tr>\n",
       "    <tr>\n",
       "      <th>1</th>\n",
       "      <td>5-9</td>\n",
       "      <td>269.0</td>\n",
       "      <td>275.0</td>\n",
       "      <td>-269.0</td>\n",
       "    </tr>\n",
       "    <tr>\n",
       "      <th>2</th>\n",
       "      <td>10-14</td>\n",
       "      <td>294.0</td>\n",
       "      <td>292.0</td>\n",
       "      <td>-294.0</td>\n",
       "    </tr>\n",
       "  </tbody>\n",
       "</table>\n",
       "</div>"
      ],
      "text/plain": [
       "  Age group  Female   Male  Female_x\n",
       "0       0-4   239.0  234.0    -239.0\n",
       "1       5-9   269.0  275.0    -269.0\n",
       "2     10-14   294.0  292.0    -294.0"
      ]
     },
     "execution_count": 122,
     "metadata": {},
     "output_type": "execute_result"
    }
   ],
   "source": [
    "df_p.head(3)"
   ]
  },
  {
   "cell_type": "code",
   "execution_count": 127,
   "id": "56156086",
   "metadata": {},
   "outputs": [],
   "source": [
    "df_p['Male_x'] = df_p['Male'] * -1"
   ]
  },
  {
   "cell_type": "code",
   "execution_count": 128,
   "id": "6b22fb6f",
   "metadata": {},
   "outputs": [
    {
     "data": {
      "image/png": "[encoded data removed]",
      "text/plain": [
       "<Figure size 720x720 with 1 Axes>"
      ]
     },
     "metadata": {
      "needs_background": "light"
     },
     "output_type": "display_data"
    }
   ],
   "source": [
    "#generate a population pyramid using seaborn\n",
    "Age_order = ['105+','100-104','95-99', '90-94', '85-89', '80-84', '75-79', '70-74', '65-69', '60-64', '55-59', '50-54', '45-49', '40-44', '35-39', '30-34', '25-29', '20-24', '15-19', '10-14', '5-9', '0-4']\n",
    "plt.figure(figsize=[10,10])\n",
    "bar_plot = sns.barplot(x='Male_x', y='Age group', data=df_p, order=Age_order)\n",
    "\n",
    "bar_plot = sns.barplot(x='Female', y='Age group', data=df_p, order=Age_order)\n",
    "\n",
    "bar_plot.set(xlabel=\"Population\", ylabel=\"Age-Group\", title = \"Population Pyramid\")\n",
    "plt.axvline(x=0, color='black');"
   ]
  },
  {
   "cell_type": "markdown",
   "id": "8a1ce657",
   "metadata": {},
   "source": [
    "- The population shows that there are more young people and middle aged people.\n",
    "- The older age (from 65 to 120) is shrinking."
   ]
  },
  {
   "cell_type": "markdown",
   "id": "cdbaf153",
   "metadata": {},
   "source": [
    "### Gender"
   ]
  },
  {
   "cell_type": "code",
   "execution_count": 133,
   "id": "744b527d",
   "metadata": {},
   "outputs": [
    {
     "data": {
      "image/png": "[encoded data removed]",
      "text/plain": [
       "<Figure size 432x288 with 1 Axes>"
      ]
     },
     "metadata": {
      "needs_background": "light"
     },
     "output_type": "display_data"
    }
   ],
   "source": [
    "sns.countplot(data=df, x='Gender')\n",
    "plt.title('Population Distribution by Gender');"
   ]
  },
  {
   "cell_type": "markdown",
   "id": "301eee7b",
   "metadata": {},
   "source": [
    "- There are more females than males in the population"
   ]
  },
  {
   "cell_type": "code",
   "execution_count": 131,
   "id": "eff05bc9",
   "metadata": {},
   "outputs": [
    {
     "data": {
      "text/plain": [
       "Female    4374\n",
       "Male      4003\n",
       "Name: Gender, dtype: int64"
      ]
     },
     "execution_count": 131,
     "metadata": {},
     "output_type": "execute_result"
    }
   ],
   "source": [
    "df['Gender'].value_counts()"
   ]
  },
  {
   "cell_type": "code",
   "execution_count": 132,
   "id": "68c718dc",
   "metadata": {},
   "outputs": [
    {
     "data": {
      "text/html": [
       "<div>\n",
       "<style scoped>\n",
       "    .dataframe tbody tr th:only-of-type {\n",
       "        vertical-align: middle;\n",
       "    }\n",
       "\n",
       "    .dataframe tbody tr th {\n",
       "        vertical-align: top;\n",
       "    }\n",
       "\n",
       "    .dataframe thead th {\n",
       "        text-align: right;\n",
       "    }\n",
       "</style>\n",
       "<table border=\"1\" class=\"dataframe\">\n",
       "  <thead>\n",
       "    <tr style=\"text-align: right;\">\n",
       "      <th></th>\n",
       "      <th>count</th>\n",
       "      <th>mean</th>\n",
       "      <th>std</th>\n",
       "      <th>min</th>\n",
       "      <th>25%</th>\n",
       "      <th>50%</th>\n",
       "      <th>75%</th>\n",
       "      <th>max</th>\n",
       "    </tr>\n",
       "    <tr>\n",
       "      <th>Gender</th>\n",
       "      <th></th>\n",
       "      <th></th>\n",
       "      <th></th>\n",
       "      <th></th>\n",
       "      <th></th>\n",
       "      <th></th>\n",
       "      <th></th>\n",
       "      <th></th>\n",
       "    </tr>\n",
       "  </thead>\n",
       "  <tbody>\n",
       "    <tr>\n",
       "      <th>Female</th>\n",
       "      <td>4374.0</td>\n",
       "      <td>36.779378</td>\n",
       "      <td>21.538919</td>\n",
       "      <td>0.0</td>\n",
       "      <td>19.0</td>\n",
       "      <td>37.0</td>\n",
       "      <td>51.0</td>\n",
       "      <td>116.0</td>\n",
       "    </tr>\n",
       "    <tr>\n",
       "      <th>Male</th>\n",
       "      <td>4003.0</td>\n",
       "      <td>35.787659</td>\n",
       "      <td>22.034544</td>\n",
       "      <td>0.0</td>\n",
       "      <td>17.0</td>\n",
       "      <td>34.0</td>\n",
       "      <td>52.0</td>\n",
       "      <td>112.0</td>\n",
       "    </tr>\n",
       "  </tbody>\n",
       "</table>\n",
       "</div>"
      ],
      "text/plain": [
       "         count       mean        std  min   25%   50%   75%    max\n",
       "Gender                                                            \n",
       "Female  4374.0  36.779378  21.538919  0.0  19.0  37.0  51.0  116.0\n",
       "Male    4003.0  35.787659  22.034544  0.0  17.0  34.0  52.0  112.0"
      ]
     },
     "execution_count": 132,
     "metadata": {},
     "output_type": "execute_result"
    }
   ],
   "source": [
    "df.groupby('Gender')['Age'].describe()"
   ]
  },
  {
   "cell_type": "code",
   "execution_count": 134,
   "id": "9b6b2b20",
   "metadata": {},
   "outputs": [
    {
     "data": {
      "image/png": "[encoded data removed]",
      "text/plain": [
       "<Figure size 432x288 with 1 Axes>"
      ]
     },
     "metadata": {
      "needs_background": "light"
     },
     "output_type": "display_data"
    }
   ],
   "source": [
    "sns.boxplot(data=df, x='Gender', y='Age')\n",
    "plt.title('Boxplot of Gender by Age');"
   ]
  },
  {
   "cell_type": "markdown",
   "id": "48add6ca",
   "metadata": {},
   "source": [
    "- Seems like there are older females than males. The average age of females is more than that of males."
   ]
  },
  {
   "cell_type": "code",
   "execution_count": 170,
   "id": "72173a06",
   "metadata": {},
   "outputs": [
    {
     "data": {
      "image/png": "[encoded data removed]",
      "text/plain": [
       "<Figure size 1440x360 with 1 Axes>"
      ]
     },
     "metadata": {
      "needs_background": "light"
     },
     "output_type": "display_data"
    }
   ],
   "source": [
    "plt.figure(figsize=[20,5])\n",
    "sns.countplot(data=df, x='Age group', hue='Gender')\n",
    "plt.title('Distribution of Gender across Age groups');"
   ]
  },
  {
   "cell_type": "code",
   "execution_count": 202,
   "id": "d697b60a",
   "metadata": {},
   "outputs": [
    {
     "data": {
      "image/png": "[encoded data removed]",
      "text/plain": [
       "<Figure size 1440x360 with 1 Axes>"
      ]
     },
     "metadata": {
      "needs_background": "light"
     },
     "output_type": "display_data"
    }
   ],
   "source": [
    "plt.figure(figsize=[20,5])\n",
    "sns.countplot(data=df, x='Age group')\n",
    "plt.title('Population Count across Age groups');"
   ]
  },
  {
   "cell_type": "markdown",
   "id": "158cd7cb",
   "metadata": {},
   "source": [
    "### Unemployment Trend"
   ]
  },
  {
   "cell_type": "code",
   "execution_count": 204,
   "id": "2a9c7bfa",
   "metadata": {},
   "outputs": [
    {
     "data": {
      "image/png": "[encoded data removed]",
      "text/plain": [
       "<Figure size 720x360 with 1 Axes>"
      ]
     },
     "metadata": {
      "needs_background": "light"
     },
     "output_type": "display_data"
    }
   ],
   "source": [
    "df_unemployed = df[df.Occupation == \"Unemployed\"]\n",
    "unemployed = df_unemployed.groupby(['Age group','Gender']).size().reset_index(name='count')\n",
    "\n",
    "# Pivot the table to create unemployed population pyramid\n",
    "unemployed_p = unemployed.pivot_table(values='count', index='Age group', columns='Gender')\n",
    "\n",
    "# Plot the population pyramid\n",
    "unemployed_p.plot(kind='bar', stacked=True, figsize=(10,5))\n",
    "plt.ylabel('Number of Individuals')\n",
    "plt.xlabel('Age group')\n",
    "plt.title('Age distribution of the Unemployed')\n",
    "plt.show()"
   ]
  },
  {
   "cell_type": "markdown",
   "id": "72f6fdd9",
   "metadata": {},
   "source": [
    "- Age group 45-49 has the highest number of unemployed followed by age group 35-39.\n",
    "- Across the age groups, female are more unemployed than males"
   ]
  },
  {
   "cell_type": "code",
   "execution_count": 136,
   "id": "b3614174",
   "metadata": {},
   "outputs": [
    {
     "data": {
      "text/plain": [
       "Female    0.646503\n",
       "Male      0.353497\n",
       "Name: Gender, dtype: float64"
      ]
     },
     "execution_count": 136,
     "metadata": {},
     "output_type": "execute_result"
    }
   ],
   "source": [
    "df_unemployed['Gender'].value_counts(normalize=True)"
   ]
  },
  {
   "cell_type": "markdown",
   "id": "bd9a4ae8",
   "metadata": {},
   "source": [
    "- ~65% of the unemployed populace is made up of female."
   ]
  },
  {
   "cell_type": "code",
   "execution_count": 219,
   "id": "76af10e1",
   "metadata": {},
   "outputs": [
    {
     "data": {
      "text/plain": [
       "Employed              53.694640\n",
       "Student               18.908917\n",
       "Retiree                8.953086\n",
       "University Student     6.482034\n",
       "Unemployed             6.314910\n",
       "Child                  5.646413\n",
       "Name: Employment Status, dtype: float64"
      ]
     },
     "execution_count": 219,
     "metadata": {},
     "output_type": "execute_result"
    }
   ],
   "source": [
    "df['Employment Status'].value_counts(normalize=True) *100"
   ]
  },
  {
   "cell_type": "markdown",
   "id": "51c4706f",
   "metadata": {},
   "source": [
    "### Religion"
   ]
  },
  {
   "cell_type": "code",
   "execution_count": 142,
   "id": "af8f39c9",
   "metadata": {},
   "outputs": [
    {
     "data": {
      "image/png": "[encoded data removed]",
      "text/plain": [
       "<Figure size 432x288 with 1 Axes>"
      ]
     },
     "metadata": {
      "needs_background": "light"
     },
     "output_type": "display_data"
    }
   ],
   "source": [
    "sns.countplot(data=df, x='Religion').set_title('Distribution of Religion among the population')\n",
    "plt.xticks(rotation=90);"
   ]
  },
  {
   "cell_type": "code",
   "execution_count": 162,
   "id": "220aa4d1",
   "metadata": {},
   "outputs": [
    {
     "data": {
      "image/png": "[encoded data removed]",
      "text/plain": [
       "<Figure size 1440x360 with 1 Axes>"
      ]
     },
     "metadata": {
      "needs_background": "light"
     },
     "output_type": "display_data"
    }
   ],
   "source": [
    "plt.figure(figsize=[20,5])\n",
    "sns.boxplot(data=df, x='Religion', y='Age').set_title(\"Religious Affiliation\");"
   ]
  },
  {
   "cell_type": "code",
   "execution_count": 139,
   "id": "e712465f",
   "metadata": {},
   "outputs": [
    {
     "data": {
      "text/html": [
       "<div>\n",
       "<style scoped>\n",
       "    .dataframe tbody tr th:only-of-type {\n",
       "        vertical-align: middle;\n",
       "    }\n",
       "\n",
       "    .dataframe tbody tr th {\n",
       "        vertical-align: top;\n",
       "    }\n",
       "\n",
       "    .dataframe thead th {\n",
       "        text-align: right;\n",
       "    }\n",
       "</style>\n",
       "<table border=\"1\" class=\"dataframe\">\n",
       "  <thead>\n",
       "    <tr style=\"text-align: right;\">\n",
       "      <th></th>\n",
       "      <th>count</th>\n",
       "      <th>mean</th>\n",
       "      <th>std</th>\n",
       "      <th>min</th>\n",
       "      <th>25%</th>\n",
       "      <th>50%</th>\n",
       "      <th>75%</th>\n",
       "      <th>max</th>\n",
       "    </tr>\n",
       "    <tr>\n",
       "      <th>Religion</th>\n",
       "      <th></th>\n",
       "      <th></th>\n",
       "      <th></th>\n",
       "      <th></th>\n",
       "      <th></th>\n",
       "      <th></th>\n",
       "      <th></th>\n",
       "      <th></th>\n",
       "    </tr>\n",
       "  </thead>\n",
       "  <tbody>\n",
       "    <tr>\n",
       "      <th>Buddist</th>\n",
       "      <td>3.0</td>\n",
       "      <td>29.666667</td>\n",
       "      <td>18.475209</td>\n",
       "      <td>19.0</td>\n",
       "      <td>19.00</td>\n",
       "      <td>19.0</td>\n",
       "      <td>35.0</td>\n",
       "      <td>51.0</td>\n",
       "    </tr>\n",
       "    <tr>\n",
       "      <th>Catholic</th>\n",
       "      <td>885.0</td>\n",
       "      <td>44.114124</td>\n",
       "      <td>16.228483</td>\n",
       "      <td>18.0</td>\n",
       "      <td>34.00</td>\n",
       "      <td>42.0</td>\n",
       "      <td>51.0</td>\n",
       "      <td>102.0</td>\n",
       "    </tr>\n",
       "    <tr>\n",
       "      <th>Christian</th>\n",
       "      <td>1956.0</td>\n",
       "      <td>49.942229</td>\n",
       "      <td>18.229041</td>\n",
       "      <td>18.0</td>\n",
       "      <td>36.00</td>\n",
       "      <td>51.0</td>\n",
       "      <td>62.0</td>\n",
       "      <td>116.0</td>\n",
       "    </tr>\n",
       "    <tr>\n",
       "      <th>Jedi</th>\n",
       "      <td>2.0</td>\n",
       "      <td>62.000000</td>\n",
       "      <td>1.414214</td>\n",
       "      <td>61.0</td>\n",
       "      <td>61.50</td>\n",
       "      <td>62.0</td>\n",
       "      <td>62.5</td>\n",
       "      <td>63.0</td>\n",
       "    </tr>\n",
       "    <tr>\n",
       "      <th>Jewish</th>\n",
       "      <td>36.0</td>\n",
       "      <td>39.611111</td>\n",
       "      <td>14.959522</td>\n",
       "      <td>19.0</td>\n",
       "      <td>27.00</td>\n",
       "      <td>36.5</td>\n",
       "      <td>48.0</td>\n",
       "      <td>70.0</td>\n",
       "    </tr>\n",
       "    <tr>\n",
       "      <th>Methodist</th>\n",
       "      <td>499.0</td>\n",
       "      <td>45.663327</td>\n",
       "      <td>17.872678</td>\n",
       "      <td>18.0</td>\n",
       "      <td>32.00</td>\n",
       "      <td>43.0</td>\n",
       "      <td>57.0</td>\n",
       "      <td>100.0</td>\n",
       "    </tr>\n",
       "    <tr>\n",
       "      <th>Muslim</th>\n",
       "      <td>97.0</td>\n",
       "      <td>34.556701</td>\n",
       "      <td>14.879354</td>\n",
       "      <td>18.0</td>\n",
       "      <td>24.00</td>\n",
       "      <td>29.0</td>\n",
       "      <td>42.0</td>\n",
       "      <td>94.0</td>\n",
       "    </tr>\n",
       "    <tr>\n",
       "      <th>None</th>\n",
       "      <td>2840.0</td>\n",
       "      <td>42.118310</td>\n",
       "      <td>16.694278</td>\n",
       "      <td>18.0</td>\n",
       "      <td>29.00</td>\n",
       "      <td>40.0</td>\n",
       "      <td>52.0</td>\n",
       "      <td>107.0</td>\n",
       "    </tr>\n",
       "    <tr>\n",
       "      <th>Orthodoxy</th>\n",
       "      <td>1.0</td>\n",
       "      <td>45.000000</td>\n",
       "      <td>NaN</td>\n",
       "      <td>45.0</td>\n",
       "      <td>45.00</td>\n",
       "      <td>45.0</td>\n",
       "      <td>45.0</td>\n",
       "      <td>45.0</td>\n",
       "    </tr>\n",
       "    <tr>\n",
       "      <th>Pagan</th>\n",
       "      <td>1.0</td>\n",
       "      <td>102.000000</td>\n",
       "      <td>NaN</td>\n",
       "      <td>102.0</td>\n",
       "      <td>102.00</td>\n",
       "      <td>102.0</td>\n",
       "      <td>102.0</td>\n",
       "      <td>102.0</td>\n",
       "    </tr>\n",
       "    <tr>\n",
       "      <th>Quaker</th>\n",
       "      <td>1.0</td>\n",
       "      <td>57.000000</td>\n",
       "      <td>NaN</td>\n",
       "      <td>57.0</td>\n",
       "      <td>57.00</td>\n",
       "      <td>57.0</td>\n",
       "      <td>57.0</td>\n",
       "      <td>57.0</td>\n",
       "    </tr>\n",
       "    <tr>\n",
       "      <th>Sikh</th>\n",
       "      <td>40.0</td>\n",
       "      <td>32.225000</td>\n",
       "      <td>13.809115</td>\n",
       "      <td>18.0</td>\n",
       "      <td>25.75</td>\n",
       "      <td>29.0</td>\n",
       "      <td>33.0</td>\n",
       "      <td>73.0</td>\n",
       "    </tr>\n",
       "  </tbody>\n",
       "</table>\n",
       "</div>"
      ],
      "text/plain": [
       "            count        mean        std    min     25%    50%    75%    max\n",
       "Religion                                                                    \n",
       "Buddist       3.0   29.666667  18.475209   19.0   19.00   19.0   35.0   51.0\n",
       "Catholic    885.0   44.114124  16.228483   18.0   34.00   42.0   51.0  102.0\n",
       "Christian  1956.0   49.942229  18.229041   18.0   36.00   51.0   62.0  116.0\n",
       "Jedi          2.0   62.000000   1.414214   61.0   61.50   62.0   62.5   63.0\n",
       "Jewish       36.0   39.611111  14.959522   19.0   27.00   36.5   48.0   70.0\n",
       "Methodist   499.0   45.663327  17.872678   18.0   32.00   43.0   57.0  100.0\n",
       "Muslim       97.0   34.556701  14.879354   18.0   24.00   29.0   42.0   94.0\n",
       "None       2840.0   42.118310  16.694278   18.0   29.00   40.0   52.0  107.0\n",
       "Orthodoxy     1.0   45.000000        NaN   45.0   45.00   45.0   45.0   45.0\n",
       "Pagan         1.0  102.000000        NaN  102.0  102.00  102.0  102.0  102.0\n",
       "Quaker        1.0   57.000000        NaN   57.0   57.00   57.0   57.0   57.0\n",
       "Sikh         40.0   32.225000  13.809115   18.0   25.75   29.0   33.0   73.0"
      ]
     },
     "execution_count": 139,
     "metadata": {},
     "output_type": "execute_result"
    }
   ],
   "source": [
    "df.groupby('Religion')['Age'].describe()"
   ]
  },
  {
   "cell_type": "code",
   "execution_count": 144,
   "id": "ca03f4c5",
   "metadata": {},
   "outputs": [
    {
     "data": {
      "text/plain": [
       "None         44.647068\n",
       "Christian    30.749882\n",
       "Catholic     13.912907\n",
       "Methodist     7.844679\n",
       "Muslim        1.524917\n",
       "Sikh          0.628832\n",
       "Jewish        0.565949\n",
       "Buddist       0.047162\n",
       "Jedi          0.031442\n",
       "Quaker        0.015721\n",
       "Pagan         0.015721\n",
       "Orthodoxy     0.015721\n",
       "Name: Religion, dtype: float64"
      ]
     },
     "execution_count": 144,
     "metadata": {},
     "output_type": "execute_result"
    }
   ],
   "source": [
    "df['Religion'].value_counts(normalize=True) * 100"
   ]
  },
  {
   "cell_type": "code",
   "execution_count": 206,
   "id": "bb523066",
   "metadata": {},
   "outputs": [
    {
     "data": {
      "text/plain": [
       "None         2840\n",
       "Christian    1956\n",
       "Catholic      885\n",
       "Methodist     499\n",
       "Muslim         97\n",
       "Sikh           40\n",
       "Jewish         36\n",
       "Buddist         3\n",
       "Jedi            2\n",
       "Quaker          1\n",
       "Pagan           1\n",
       "Orthodoxy       1\n",
       "Name: Religion, dtype: int64"
      ]
     },
     "execution_count": 206,
     "metadata": {},
     "output_type": "execute_result"
    }
   ],
   "source": [
    "df['Religion'].value_counts()"
   ]
  },
  {
   "cell_type": "code",
   "execution_count": 205,
   "id": "84a070d6",
   "metadata": {},
   "outputs": [
    {
     "data": {
      "image/png": "[encoded data removed]",
      "text/plain": [
       "<Figure size 720x360 with 1 Axes>"
      ]
     },
     "metadata": {
      "needs_background": "light"
     },
     "output_type": "display_data"
    }
   ],
   "source": [
    "plt.figure(figsize=[10,5])\n",
    "sns.countplot(data=df, x='Religion', hue='Gender')\n",
    "plt.title('Gender Distriution of the Population Across Religions');"
   ]
  },
  {
   "cell_type": "markdown",
   "id": "e3a00410",
   "metadata": {},
   "source": [
    "- Most people have no religion.\n",
    "- The most frequent religion is \"Christian\" followed by \"Catholic\" and then \"Methodist\".\n",
    "- The female population seems more religious."
   ]
  },
  {
   "cell_type": "markdown",
   "id": "a32f6576",
   "metadata": {},
   "source": [
    "### Household Occupancy"
   ]
  },
  {
   "cell_type": "code",
   "execution_count": 147,
   "id": "8e342986",
   "metadata": {},
   "outputs": [
    {
     "data": {
      "text/plain": [
       "count    8377.000000\n",
       "mean        4.095619\n",
       "std         3.029196\n",
       "min         1.000000\n",
       "25%         2.000000\n",
       "50%         4.000000\n",
       "75%         5.000000\n",
       "max        22.000000\n",
       "Name: Occupancy level, dtype: float64"
      ]
     },
     "execution_count": 147,
     "metadata": {},
     "output_type": "execute_result"
    }
   ],
   "source": [
    "df['Occupancy level'].describe()"
   ]
  },
  {
   "cell_type": "code",
   "execution_count": 148,
   "id": "a8456ab0",
   "metadata": {},
   "outputs": [
    {
     "data": {
      "image/png": "[encoded data removed]",
      "text/plain": [
       "<Figure size 360x360 with 1 Axes>"
      ]
     },
     "metadata": {
      "needs_background": "light"
     },
     "output_type": "display_data"
    }
   ],
   "source": [
    "sns.displot(data=df, x='Occupancy level');"
   ]
  },
  {
   "cell_type": "code",
   "execution_count": 207,
   "id": "1f179841",
   "metadata": {},
   "outputs": [
    {
     "data": {
      "image/png": "[encoded data removed]",
      "text/plain": [
       "<Figure size 432x288 with 1 Axes>"
      ]
     },
     "metadata": {
      "needs_background": "light"
     },
     "output_type": "display_data"
    }
   ],
   "source": [
    "sns.boxplot(data=df, x='Occupancy level')\n",
    "plt.title('Boxplot of Household Occupancy');"
   ]
  },
  {
   "cell_type": "code",
   "execution_count": 149,
   "id": "e6ab90e2",
   "metadata": {},
   "outputs": [
    {
     "data": {
      "text/plain": [
       "3     1662\n",
       "4     1640\n",
       "2     1532\n",
       "5     1480\n",
       "1      901\n",
       "6      354\n",
       "11     121\n",
       "7      119\n",
       "10     110\n",
       "12      96\n",
       "8       88\n",
       "9       72\n",
       "19      38\n",
       "18      36\n",
       "14      28\n",
       "13      26\n",
       "22      22\n",
       "21      21\n",
       "16      16\n",
       "15      15\n",
       "Name: Occupancy level, dtype: int64"
      ]
     },
     "execution_count": 149,
     "metadata": {},
     "output_type": "execute_result"
    }
   ],
   "source": [
    "df['Occupancy level'].value_counts()"
   ]
  },
  {
   "cell_type": "markdown",
   "id": "8e04d895",
   "metadata": {},
   "source": [
    "- The most common occupancy rate is 3\n",
    "- The median occupancy level is 4.\n",
    "- The highest occupancy level is 22."
   ]
  },
  {
   "cell_type": "markdown",
   "id": "ec694180",
   "metadata": {},
   "source": [
    "### Marital Status"
   ]
  },
  {
   "cell_type": "code",
   "execution_count": 150,
   "id": "5d5687e0",
   "metadata": {},
   "outputs": [
    {
     "data": {
      "text/html": [
       "<div>\n",
       "<style scoped>\n",
       "    .dataframe tbody tr th:only-of-type {\n",
       "        vertical-align: middle;\n",
       "    }\n",
       "\n",
       "    .dataframe tbody tr th {\n",
       "        vertical-align: top;\n",
       "    }\n",
       "\n",
       "    .dataframe thead th {\n",
       "        text-align: right;\n",
       "    }\n",
       "</style>\n",
       "<table border=\"1\" class=\"dataframe\">\n",
       "  <thead>\n",
       "    <tr style=\"text-align: right;\">\n",
       "      <th></th>\n",
       "      <th>count</th>\n",
       "      <th>mean</th>\n",
       "      <th>std</th>\n",
       "      <th>min</th>\n",
       "      <th>25%</th>\n",
       "      <th>50%</th>\n",
       "      <th>75%</th>\n",
       "      <th>max</th>\n",
       "    </tr>\n",
       "    <tr>\n",
       "      <th>Marital Status</th>\n",
       "      <th></th>\n",
       "      <th></th>\n",
       "      <th></th>\n",
       "      <th></th>\n",
       "      <th></th>\n",
       "      <th></th>\n",
       "      <th></th>\n",
       "      <th></th>\n",
       "    </tr>\n",
       "  </thead>\n",
       "  <tbody>\n",
       "    <tr>\n",
       "      <th>Divorced</th>\n",
       "      <td>791.0</td>\n",
       "      <td>4.018963</td>\n",
       "      <td>3.734329</td>\n",
       "      <td>1.0</td>\n",
       "      <td>1.0</td>\n",
       "      <td>3.0</td>\n",
       "      <td>5.0</td>\n",
       "      <td>22.0</td>\n",
       "    </tr>\n",
       "    <tr>\n",
       "      <th>Married</th>\n",
       "      <td>2224.0</td>\n",
       "      <td>3.530576</td>\n",
       "      <td>2.016790</td>\n",
       "      <td>2.0</td>\n",
       "      <td>2.0</td>\n",
       "      <td>3.0</td>\n",
       "      <td>4.0</td>\n",
       "      <td>22.0</td>\n",
       "    </tr>\n",
       "    <tr>\n",
       "      <th>Single</th>\n",
       "      <td>3000.0</td>\n",
       "      <td>4.267667</td>\n",
       "      <td>3.348197</td>\n",
       "      <td>1.0</td>\n",
       "      <td>2.0</td>\n",
       "      <td>4.0</td>\n",
       "      <td>5.0</td>\n",
       "      <td>22.0</td>\n",
       "    </tr>\n",
       "    <tr>\n",
       "      <th>Widowed</th>\n",
       "      <td>387.0</td>\n",
       "      <td>2.715762</td>\n",
       "      <td>3.802349</td>\n",
       "      <td>1.0</td>\n",
       "      <td>1.0</td>\n",
       "      <td>1.0</td>\n",
       "      <td>3.0</td>\n",
       "      <td>22.0</td>\n",
       "    </tr>\n",
       "  </tbody>\n",
       "</table>\n",
       "</div>"
      ],
      "text/plain": [
       "                 count      mean       std  min  25%  50%  75%   max\n",
       "Marital Status                                                      \n",
       "Divorced         791.0  4.018963  3.734329  1.0  1.0  3.0  5.0  22.0\n",
       "Married         2224.0  3.530576  2.016790  2.0  2.0  3.0  4.0  22.0\n",
       "Single          3000.0  4.267667  3.348197  1.0  2.0  4.0  5.0  22.0\n",
       "Widowed          387.0  2.715762  3.802349  1.0  1.0  1.0  3.0  22.0"
      ]
     },
     "execution_count": 150,
     "metadata": {},
     "output_type": "execute_result"
    }
   ],
   "source": [
    "df.groupby('Marital Status')['Occupancy level'].describe()"
   ]
  },
  {
   "cell_type": "code",
   "execution_count": 173,
   "id": "de1651b9",
   "metadata": {},
   "outputs": [],
   "source": [
    "df_married = df[df['Marital Status'] == \"Married\"]\n",
    "df_single = df[df['Marital Status'] == \"Single\"]\n",
    "df_divorced = df[df['Marital Status'] == \"Divorced\"]\n",
    "df_widowed = df[df['Marital Status'] == \"Widowed\"]"
   ]
  },
  {
   "cell_type": "code",
   "execution_count": 178,
   "id": "01c9700a",
   "metadata": {},
   "outputs": [
    {
     "data": {
      "image/png": "[encoded data removed]",
      "text/plain": [
       "<Figure size 432x288 with 1 Axes>"
      ]
     },
     "metadata": {
      "needs_background": "light"
     },
     "output_type": "display_data"
    }
   ],
   "source": [
    "df_married.plot.scatter(x='Occupancy level', y='Age', s=50)\n",
    "plt.xlabel(\"Marital Status = Married\")\n",
    "plt.title('Marital Status Versus Occupancy Level');"
   ]
  },
  {
   "cell_type": "code",
   "execution_count": 179,
   "id": "d44f4b3a",
   "metadata": {},
   "outputs": [
    {
     "data": {
      "image/png": "[encoded data removed]",
      "text/plain": [
       "<Figure size 432x288 with 1 Axes>"
      ]
     },
     "metadata": {
      "needs_background": "light"
     },
     "output_type": "display_data"
    }
   ],
   "source": [
    "df_single.plot.scatter(x='Occupancy level', y='Age', s=50)\n",
    "plt.xlabel(\"Marital Status = Single\")\n",
    "plt.title('Marital Status Versus Occupancy Level');"
   ]
  },
  {
   "cell_type": "code",
   "execution_count": 180,
   "id": "652a54d0",
   "metadata": {},
   "outputs": [
    {
     "data": {
      "image/png": "[encoded data removed]",
      "text/plain": [
       "<Figure size 432x288 with 1 Axes>"
      ]
     },
     "metadata": {
      "needs_background": "light"
     },
     "output_type": "display_data"
    }
   ],
   "source": [
    "df_divorced.plot.scatter(x='Occupancy level', y='Age', s=50)\n",
    "plt.xlabel(\"Marital Status = Divorced\")\n",
    "plt.title('Marital Status Versus Occupancy Level');"
   ]
  },
  {
   "cell_type": "code",
   "execution_count": 181,
   "id": "379f990d",
   "metadata": {},
   "outputs": [
    {
     "data": {
      "image/png": "[encoded data removed]",
      "text/plain": [
       "<Figure size 432x288 with 1 Axes>"
      ]
     },
     "metadata": {
      "needs_background": "light"
     },
     "output_type": "display_data"
    }
   ],
   "source": [
    "df_widowed.plot.scatter(x='Occupancy level', y='Age', s=50)\n",
    "plt.xlabel(\"Marital Status = Widowed\")\n",
    "plt.title('Marital Status Versus Occupancy Level');"
   ]
  },
  {
   "cell_type": "markdown",
   "id": "ffeca059",
   "metadata": {},
   "source": [
    "- The Scatter plots above show that Singles occupy all and even the high occupancy rates which confirms co-habitation among people who are not related especially young and middle aged people.\n",
    "- Married people occupy more of the occupancy rates between 2 and 7. This is due to the children and adopted children that make up the family unit.\n",
    "- The Widowed also occupy more of very low occupancy rates of 1 to 5.\n",
    "- The Divorced also occupy more of occupancy rates of 1 to 5."
   ]
  },
  {
   "cell_type": "code",
   "execution_count": 157,
   "id": "e606b5f0",
   "metadata": {},
   "outputs": [
    {
     "name": "stdout",
     "output_type": "stream",
     "text": [
      "<class 'pandas.core.frame.DataFrame'>\n",
      "Int64Index: 8377 entries, 0 to 8376\n",
      "Data columns (total 16 columns):\n",
      " #   Column                         Non-Null Count  Dtype   \n",
      "---  ------                         --------------  -----   \n",
      " 0   House Number                   8377 non-null   int64   \n",
      " 1   Street                         8377 non-null   object  \n",
      " 2   First Name                     8377 non-null   object  \n",
      " 3   Surname                        8377 non-null   object  \n",
      " 4   Age                            8377 non-null   int32   \n",
      " 5   Relationship to Head of House  8377 non-null   object  \n",
      " 6   Marital Status                 6402 non-null   object  \n",
      " 7   Gender                         8377 non-null   object  \n",
      " 8   Occupation                     8377 non-null   object  \n",
      " 9   Infirmity                      8364 non-null   object  \n",
      " 10  Religion                       6361 non-null   object  \n",
      " 11  Employment Status              8377 non-null   object  \n",
      " 12  Age group                      8377 non-null   category\n",
      " 13  Commuter Status                8377 non-null   object  \n",
      " 14  House Street                   8377 non-null   object  \n",
      " 15  Occupancy level                8377 non-null   int64   \n",
      "dtypes: category(1), int32(1), int64(2), object(12)\n",
      "memory usage: 1.3+ MB\n"
     ]
    }
   ],
   "source": [
    "df.info()"
   ]
  },
  {
   "cell_type": "code",
   "execution_count": 154,
   "id": "cc40d283",
   "metadata": {},
   "outputs": [
    {
     "data": {
      "image/png": "[encoded data removed]",
      "text/plain": [
       "<Figure size 432x288 with 1 Axes>"
      ]
     },
     "metadata": {
      "needs_background": "light"
     },
     "output_type": "display_data"
    }
   ],
   "source": [
    "sns.violinplot(data=df, x='Marital Status', y='Occupancy level')\n",
    "plt.xlabel('Marital Status')\n",
    "plt.ylabel('Occupancy level');"
   ]
  },
  {
   "cell_type": "code",
   "execution_count": 163,
   "id": "b3c31886",
   "metadata": {},
   "outputs": [
    {
     "data": {
      "image/png": "[encoded data removed]",
      "text/plain": [
       "<Figure size 432x288 with 1 Axes>"
      ]
     },
     "metadata": {
      "needs_background": "light"
     },
     "output_type": "display_data"
    }
   ],
   "source": [
    "sns.countplot(data=df, x='Marital Status', hue='Gender');"
   ]
  },
  {
   "cell_type": "markdown",
   "id": "149dc28c",
   "metadata": {},
   "source": [
    "- Generally, there are more females in the popuulation.\n",
    "- However, there are more divorced females than males."
   ]
  },
  {
   "cell_type": "markdown",
   "id": "a4f012e5",
   "metadata": {},
   "source": [
    "### Divorce and Marriage Ratio"
   ]
  },
  {
   "cell_type": "code",
   "execution_count": 165,
   "id": "7b95367f",
   "metadata": {},
   "outputs": [
    {
     "data": {
      "text/plain": [
       "Marital Status  Gender\n",
       "Divorced        Female     474\n",
       "                Male       317\n",
       "Married         Female    1119\n",
       "                Male      1105\n",
       "Single          Female    1585\n",
       "                Male      1415\n",
       "Widowed         Female     226\n",
       "                Male       161\n",
       "Name: Gender, dtype: int64"
      ]
     },
     "execution_count": 165,
     "metadata": {},
     "output_type": "execute_result"
    }
   ],
   "source": [
    "df.groupby('Marital Status')['Gender'].value_counts()"
   ]
  },
  {
   "cell_type": "markdown",
   "id": "27919f65",
   "metadata": {},
   "source": [
    "- To calculate the Divorce to Marriage ratio, the number of divorced females will be put into consideration and the number of married people divided by 2 will be used. "
   ]
  },
  {
   "cell_type": "markdown",
   "id": "6d71df2f",
   "metadata": {},
   "source": [
    "- divorced_fenale = 474\n",
    "- married = 2224/2 = 1112\n",
    "\n",
    "- divorce to marriage ratio- 1:43\n",
    "- This shows that there is one divorce for every 43 marriages"
   ]
  },
  {
   "cell_type": "markdown",
   "id": "59b934fd",
   "metadata": {},
   "source": [
    "### Commuters"
   ]
  },
  {
   "cell_type": "code",
   "execution_count": 216,
   "id": "48be8514",
   "metadata": {},
   "outputs": [
    {
     "data": {
      "image/png": "[encoded data removed]",
      "text/plain": [
       "<Figure size 432x288 with 1 Axes>"
      ]
     },
     "metadata": {
      "needs_background": "light"
     },
     "output_type": "display_data"
    }
   ],
   "source": [
    "sns.countplot(data=df, x='Commuter Status', hue='Employment Status');"
   ]
  },
  {
   "cell_type": "code",
   "execution_count": 217,
   "id": "ccb6d8ed",
   "metadata": {},
   "outputs": [
    {
     "data": {
      "image/png": "[encoded data removed]",
      "text/plain": [
       "<Figure size 432x288 with 1 Axes>"
      ]
     },
     "metadata": {
      "needs_background": "light"
     },
     "output_type": "display_data"
    }
   ],
   "source": [
    "sns.countplot(data=df, x='Commuter Status')\n",
    "plt.title('Distribution of Population by Commuter Status');"
   ]
  },
  {
   "cell_type": "code",
   "execution_count": 218,
   "id": "75e4c043",
   "metadata": {},
   "outputs": [
    {
     "data": {
      "text/plain": [
       "Commuter        76.029605\n",
       "Non commuter    23.970395\n",
       "Name: Commuter Status, dtype: float64"
      ]
     },
     "execution_count": 218,
     "metadata": {},
     "output_type": "execute_result"
    }
   ],
   "source": [
    "df['Commuter Status'].value_counts(normalize=True) * 100"
   ]
  },
  {
   "cell_type": "markdown",
   "id": "d014fddb",
   "metadata": {},
   "source": [
    "- Approximately 51% of the population commute to nearby cities."
   ]
  },
  {
   "cell_type": "markdown",
   "id": "3b5ed78b",
   "metadata": {},
   "source": [
    "### Relationships"
   ]
  },
  {
   "cell_type": "code",
   "execution_count": 166,
   "id": "d0783f72",
   "metadata": {},
   "outputs": [
    {
     "data": {
      "text/plain": [
       "Head                     3073\n",
       "Son                      1427\n",
       "Daughter                 1336\n",
       "Husband                   809\n",
       "None                      599\n",
       "Wife                      299\n",
       "Lodger                    281\n",
       "Partner                   242\n",
       "Granddaughter              86\n",
       "Grandson                   69\n",
       "Cousin                     38\n",
       "Sibling                    32\n",
       "Visitor                    21\n",
       "Step-Daughter              16\n",
       "Adopted Daughter           12\n",
       "Nephew                     10\n",
       "Adopted Son                10\n",
       "Step-Son                    9\n",
       "Neice                       6\n",
       "Adopted Granddaughter       2\n",
       "Name: Relationship to Head of House, dtype: int64"
      ]
     },
     "execution_count": 166,
     "metadata": {},
     "output_type": "execute_result"
    }
   ],
   "source": [
    "df['Relationship to Head of House'].value_counts()"
   ]
  },
  {
   "cell_type": "markdown",
   "id": "8aacd796",
   "metadata": {},
   "source": [
    "##### How Religion affect the age at which divorce occurs."
   ]
  },
  {
   "cell_type": "code",
   "execution_count": 197,
   "id": "8af2db18",
   "metadata": {},
   "outputs": [
    {
     "data": {
      "image/png": "[encoded data removed]",
      "text/plain": [
       "<Figure size 432x288 with 1 Axes>"
      ]
     },
     "metadata": {
      "needs_background": "light"
     },
     "output_type": "display_data"
    }
   ],
   "source": [
    "sns.boxplot(data=df_divorced, x='Religion', y='Age');"
   ]
  },
  {
   "cell_type": "code",
   "execution_count": 220,
   "id": "3553df6c",
   "metadata": {},
   "outputs": [
    {
     "data": {
      "text/plain": [
       "35-39      8.403963\n",
       "40-44      7.962278\n",
       "45-49      7.950340\n",
       "15-19      7.651904\n",
       "20-24      7.520592\n",
       "10-14      6.995344\n",
       "30-34      6.840158\n",
       "25-29      6.828220\n",
       "5-9        6.493972\n",
       "50-54      6.326847\n",
       "0-4        5.646413\n",
       "55-59      5.455414\n",
       "60-64      4.643667\n",
       "65-69      3.342485\n",
       "70-74      3.079862\n",
       "75-79      1.933867\n",
       "80-84      1.372806\n",
       "85-89      0.990808\n",
       "90-94      0.238749\n",
       "100-104    0.131312\n",
       "95-99      0.119374\n",
       "105-109    0.047750\n",
       "110-114    0.011937\n",
       "115+       0.011937\n",
       "Name: Age group, dtype: float64"
      ]
     },
     "execution_count": 220,
     "metadata": {},
     "output_type": "execute_result"
    }
   ],
   "source": [
    "df['Age group'].value_counts(normalize=True) * 100"
   ]
  },
  {
   "cell_type": "markdown",
   "id": "07abff9e",
   "metadata": {},
   "source": [
    "### Birth rate\n",
    "- Since the last time the census was conducted is the last ten years, the birth rate will include the number of children from age 0 to 9.\n",
    "- Crude birth rate = Number of births (0-9)/ population count * 1000"
   ]
  },
  {
   "cell_type": "code",
   "execution_count": 208,
   "id": "284e3923",
   "metadata": {},
   "outputs": [
    {
     "data": {
      "text/plain": [
       "35-39      704\n",
       "40-44      667\n",
       "45-49      666\n",
       "15-19      641\n",
       "20-24      630\n",
       "10-14      586\n",
       "30-34      573\n",
       "25-29      572\n",
       "5-9        544\n",
       "50-54      530\n",
       "0-4        473\n",
       "55-59      457\n",
       "60-64      389\n",
       "65-69      280\n",
       "70-74      258\n",
       "75-79      162\n",
       "80-84      115\n",
       "85-89       83\n",
       "90-94       20\n",
       "100-104     11\n",
       "95-99       10\n",
       "105-109      4\n",
       "110-114      1\n",
       "115+         1\n",
       "Name: Age group, dtype: int64"
      ]
     },
     "execution_count": 208,
     "metadata": {},
     "output_type": "execute_result"
    }
   ],
   "source": [
    "df['Age group'].value_counts()"
   ]
  },
  {
   "cell_type": "markdown",
   "id": "b1526651",
   "metadata": {},
   "source": [
    "- Age groups 0-4, 5-9 = 473 + 544 = 1017\n",
    "- 1017/8377 * 1000 = 121 births per thousand"
   ]
  },
  {
   "cell_type": "markdown",
   "id": "22513ba6",
   "metadata": {},
   "source": [
    "### Infirmity"
   ]
  },
  {
   "cell_type": "code",
   "execution_count": 227,
   "id": "e5a7f7c6",
   "metadata": {},
   "outputs": [
    {
     "data": {
      "image/png": "[encoded data removed]",
      "text/plain": [
       "<Figure size 1080x360 with 1 Axes>"
      ]
     },
     "metadata": {
      "needs_background": "light"
     },
     "output_type": "display_data"
    }
   ],
   "source": [
    "plt.figure(figsize=[15,5])\n",
    "sns.countplot(data=df, x='Infirmity')\n",
    "plt.title('Population Count of those with Infirmity');"
   ]
  },
  {
   "cell_type": "code",
   "execution_count": 224,
   "id": "2a96f662",
   "metadata": {},
   "outputs": [
    {
     "data": {
      "image/png": "[encoded data removed]",
      "text/plain": [
       "<Figure size 1080x360 with 1 Axes>"
      ]
     },
     "metadata": {
      "needs_background": "light"
     },
     "output_type": "display_data"
    }
   ],
   "source": [
    "plt.figure(figsize=[15,5])\n",
    "sns.boxplot(data=df, x='Infirmity', y='Age')\n",
    "plt.title('Age distribution of those with Infirmity');"
   ]
  },
  {
   "cell_type": "code",
   "execution_count": 225,
   "id": "77cdaab7",
   "metadata": {},
   "outputs": [
    {
     "data": {
      "text/plain": [
       "None                   8308\n",
       "Physical Disability      18\n",
       "Mental Disability        10\n",
       "Blind                     9\n",
       "Disabled                  8\n",
       "Deaf                      7\n",
       "Unknown Infection         4\n",
       "Name: Infirmity, dtype: int64"
      ]
     },
     "execution_count": 225,
     "metadata": {},
     "output_type": "execute_result"
    }
   ],
   "source": [
    "df['Infirmity'].value_counts()"
   ]
  },
  {
   "cell_type": "code",
   "execution_count": null,
   "id": "99bf5f61",
   "metadata": {},
   "outputs": [],
   "source": []
  }
 ],
 "metadata": {
  "kernelspec": {
   "display_name": "Python 3 (ipykernel)",
   "language": "python",
   "name": "python3"
  },
  "language_info": {
   "codemirror_mode": {
    "name": "ipython",
    "version": 3
   },
   "file_extension": ".py",
   "mimetype": "text/x-python",
   "name": "python",
   "nbconvert_exporter": "python",
   "pygments_lexer": "ipython3",
   "version": "3.9.7"
  }
 },
 "nbformat": 4,
 "nbformat_minor": 5
}
