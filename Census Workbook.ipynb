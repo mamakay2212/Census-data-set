{
 "cells": [
  {
   "cell_type": "code",
   "execution_count": 1,
   "id": "17a3ea77",
   "metadata": {},
   "outputs": [],
   "source": [
    "#import the necessary libraries\n",
    "import pandas as pd\n",
    "import numpy as np\n",
    "import matplotlib.pyplot as plt\n",
    "import seaborn as sns\n",
    "\n",
    "%matplotlib inline"
   ]
  },
  {
   "cell_type": "code",
   "execution_count": 2,
   "id": "35ddabba",
   "metadata": {},
   "outputs": [],
   "source": [
    "#read the csv file into pandas\n",
    "def wrangle(filepath):\n",
    "    df = pd.read_csv(filepath)\n",
    "    \n",
    "    return df"
   ]
  },
  {
   "cell_type": "code",
   "execution_count": 3,
   "id": "016c8ee8",
   "metadata": {},
   "outputs": [
    {
     "data": {
      "text/html": [
       "<div>\n",
       "<style scoped>\n",
       "    .dataframe tbody tr th:only-of-type {\n",
       "        vertical-align: middle;\n",
       "    }\n",
       "\n",
       "    .dataframe tbody tr th {\n",
       "        vertical-align: top;\n",
       "    }\n",
       "\n",
       "    .dataframe thead th {\n",
       "        text-align: right;\n",
       "    }\n",
       "</style>\n",
       "<table border=\"1\" class=\"dataframe\">\n",
       "  <thead>\n",
       "    <tr style=\"text-align: right;\">\n",
       "      <th></th>\n",
       "      <th>House Number</th>\n",
       "      <th>Street</th>\n",
       "      <th>First Name</th>\n",
       "      <th>Surname</th>\n",
       "      <th>Age</th>\n",
       "      <th>Relationship to Head of House</th>\n",
       "      <th>Marital Status</th>\n",
       "      <th>Gender</th>\n",
       "      <th>Occupation</th>\n",
       "      <th>Infirmity</th>\n",
       "      <th>Religion</th>\n",
       "    </tr>\n",
       "  </thead>\n",
       "  <tbody>\n",
       "    <tr>\n",
       "      <th>0</th>\n",
       "      <td>1</td>\n",
       "      <td>Allen Circle</td>\n",
       "      <td>John</td>\n",
       "      <td>Grant</td>\n",
       "      <td>43</td>\n",
       "      <td>Head</td>\n",
       "      <td>Married</td>\n",
       "      <td>Male</td>\n",
       "      <td>Operational investment banker</td>\n",
       "      <td>None</td>\n",
       "      <td>None</td>\n",
       "    </tr>\n",
       "    <tr>\n",
       "      <th>1</th>\n",
       "      <td>1</td>\n",
       "      <td>Allen Circle</td>\n",
       "      <td>Kim</td>\n",
       "      <td>Grant</td>\n",
       "      <td>37</td>\n",
       "      <td>Wife</td>\n",
       "      <td>Married</td>\n",
       "      <td>Female</td>\n",
       "      <td>Intelligence analyst</td>\n",
       "      <td>None</td>\n",
       "      <td>None</td>\n",
       "    </tr>\n",
       "    <tr>\n",
       "      <th>2</th>\n",
       "      <td>2</td>\n",
       "      <td>Allen Circle</td>\n",
       "      <td>Sally</td>\n",
       "      <td>Atkinson</td>\n",
       "      <td>44</td>\n",
       "      <td>Head</td>\n",
       "      <td>Single</td>\n",
       "      <td>Female</td>\n",
       "      <td>Production designer, theatre/television/film</td>\n",
       "      <td>None</td>\n",
       "      <td>Christian</td>\n",
       "    </tr>\n",
       "    <tr>\n",
       "      <th>3</th>\n",
       "      <td>2</td>\n",
       "      <td>Allen Circle</td>\n",
       "      <td>Karl</td>\n",
       "      <td>Robertson</td>\n",
       "      <td>44</td>\n",
       "      <td>Partner</td>\n",
       "      <td>Single</td>\n",
       "      <td>Male</td>\n",
       "      <td>Paediatric nurse</td>\n",
       "      <td>None</td>\n",
       "      <td>Christian</td>\n",
       "    </tr>\n",
       "    <tr>\n",
       "      <th>4</th>\n",
       "      <td>2</td>\n",
       "      <td>Allen Circle</td>\n",
       "      <td>Tracy</td>\n",
       "      <td>Atkinson</td>\n",
       "      <td>24</td>\n",
       "      <td>Daughter</td>\n",
       "      <td>Single</td>\n",
       "      <td>Female</td>\n",
       "      <td>Child psychotherapist</td>\n",
       "      <td>None</td>\n",
       "      <td>Christian</td>\n",
       "    </tr>\n",
       "  </tbody>\n",
       "</table>\n",
       "</div>"
      ],
      "text/plain": [
       "   House Number        Street First Name    Surname Age  \\\n",
       "0             1  Allen Circle       John      Grant  43   \n",
       "1             1  Allen Circle        Kim      Grant  37   \n",
       "2             2  Allen Circle      Sally   Atkinson  44   \n",
       "3             2  Allen Circle       Karl  Robertson  44   \n",
       "4             2  Allen Circle      Tracy   Atkinson  24   \n",
       "\n",
       "  Relationship to Head of House Marital Status  Gender  \\\n",
       "0                          Head        Married    Male   \n",
       "1                          Wife        Married  Female   \n",
       "2                          Head         Single  Female   \n",
       "3                       Partner         Single    Male   \n",
       "4                      Daughter         Single  Female   \n",
       "\n",
       "                                     Occupation Infirmity   Religion  \n",
       "0                 Operational investment banker      None       None  \n",
       "1                          Intelligence analyst      None       None  \n",
       "2  Production designer, theatre/television/film      None  Christian  \n",
       "3                              Paediatric nurse      None  Christian  \n",
       "4                         Child psychotherapist      None  Christian  "
      ]
     },
     "execution_count": 3,
     "metadata": {},
     "output_type": "execute_result"
    }
   ],
   "source": [
    "df = pd.read_csv(\"census01 DataSet.csv\")\n",
    "df.head()"
   ]
  },
  {
   "cell_type": "code",
   "execution_count": 4,
   "id": "3b8ee47c",
   "metadata": {},
   "outputs": [
    {
     "data": {
      "text/html": [
       "<div>\n",
       "<style scoped>\n",
       "    .dataframe tbody tr th:only-of-type {\n",
       "        vertical-align: middle;\n",
       "    }\n",
       "\n",
       "    .dataframe tbody tr th {\n",
       "        vertical-align: top;\n",
       "    }\n",
       "\n",
       "    .dataframe thead th {\n",
       "        text-align: right;\n",
       "    }\n",
       "</style>\n",
       "<table border=\"1\" class=\"dataframe\">\n",
       "  <thead>\n",
       "    <tr style=\"text-align: right;\">\n",
       "      <th></th>\n",
       "      <th>House Number</th>\n",
       "      <th>Street</th>\n",
       "      <th>First Name</th>\n",
       "      <th>Surname</th>\n",
       "      <th>Age</th>\n",
       "      <th>Relationship to Head of House</th>\n",
       "      <th>Marital Status</th>\n",
       "      <th>Gender</th>\n",
       "      <th>Occupation</th>\n",
       "      <th>Infirmity</th>\n",
       "      <th>Religion</th>\n",
       "    </tr>\n",
       "  </thead>\n",
       "  <tbody>\n",
       "    <tr>\n",
       "      <th>2546</th>\n",
       "      <td>7</td>\n",
       "      <td>Smith Squares</td>\n",
       "      <td>Mathew</td>\n",
       "      <td>Thomas-Warren</td>\n",
       "      <td>23</td>\n",
       "      <td>Son</td>\n",
       "      <td>Single</td>\n",
       "      <td>Male</td>\n",
       "      <td>Unemployed</td>\n",
       "      <td>None</td>\n",
       "      <td>None</td>\n",
       "    </tr>\n",
       "    <tr>\n",
       "      <th>1427</th>\n",
       "      <td>141</td>\n",
       "      <td>Mace Green</td>\n",
       "      <td>Olivia</td>\n",
       "      <td>Peacock</td>\n",
       "      <td>8</td>\n",
       "      <td>Daughter</td>\n",
       "      <td>NaN</td>\n",
       "      <td>Female</td>\n",
       "      <td>Student</td>\n",
       "      <td>None</td>\n",
       "      <td>NaN</td>\n",
       "    </tr>\n",
       "    <tr>\n",
       "      <th>732</th>\n",
       "      <td>147</td>\n",
       "      <td>Aberdeen Avenue</td>\n",
       "      <td>Kieran</td>\n",
       "      <td>Bowen</td>\n",
       "      <td>22</td>\n",
       "      <td>Son</td>\n",
       "      <td>Single</td>\n",
       "      <td>Male</td>\n",
       "      <td>University Student</td>\n",
       "      <td>None</td>\n",
       "      <td>Methodist</td>\n",
       "    </tr>\n",
       "    <tr>\n",
       "      <th>1109</th>\n",
       "      <td>51</td>\n",
       "      <td>Mace Green</td>\n",
       "      <td>Deborah</td>\n",
       "      <td>Matthews</td>\n",
       "      <td>59</td>\n",
       "      <td>Lodger</td>\n",
       "      <td>Single</td>\n",
       "      <td>Female</td>\n",
       "      <td>Pharmacologist</td>\n",
       "      <td>None</td>\n",
       "      <td>Christian</td>\n",
       "    </tr>\n",
       "    <tr>\n",
       "      <th>6992</th>\n",
       "      <td>10</td>\n",
       "      <td>Summers Meadows</td>\n",
       "      <td>Mathew</td>\n",
       "      <td>Jones</td>\n",
       "      <td>57</td>\n",
       "      <td>Head</td>\n",
       "      <td>Divorced</td>\n",
       "      <td>Male</td>\n",
       "      <td>Pharmacist, community</td>\n",
       "      <td>None</td>\n",
       "      <td>None</td>\n",
       "    </tr>\n",
       "    <tr>\n",
       "      <th>1599</th>\n",
       "      <td>192</td>\n",
       "      <td>Mace Green</td>\n",
       "      <td>Denise</td>\n",
       "      <td>Simpson-Morris</td>\n",
       "      <td>34</td>\n",
       "      <td>Daughter</td>\n",
       "      <td>Single</td>\n",
       "      <td>Female</td>\n",
       "      <td>Higher education careers adviser</td>\n",
       "      <td>None</td>\n",
       "      <td>None</td>\n",
       "    </tr>\n",
       "    <tr>\n",
       "      <th>1742</th>\n",
       "      <td>29</td>\n",
       "      <td>Whittaker Crescent</td>\n",
       "      <td>Simon</td>\n",
       "      <td>Johnson</td>\n",
       "      <td>21</td>\n",
       "      <td>Head</td>\n",
       "      <td>Single</td>\n",
       "      <td>Male</td>\n",
       "      <td>University Student</td>\n",
       "      <td>None</td>\n",
       "      <td>None</td>\n",
       "    </tr>\n",
       "    <tr>\n",
       "      <th>8351</th>\n",
       "      <td>8</td>\n",
       "      <td>Connolly Park</td>\n",
       "      <td>Joanna</td>\n",
       "      <td>Smith</td>\n",
       "      <td>62</td>\n",
       "      <td>Lodger</td>\n",
       "      <td>Divorced</td>\n",
       "      <td>Female</td>\n",
       "      <td>Aid worker</td>\n",
       "      <td>None</td>\n",
       "      <td>Methodist</td>\n",
       "    </tr>\n",
       "    <tr>\n",
       "      <th>5841</th>\n",
       "      <td>74</td>\n",
       "      <td>Dennis Viaduct</td>\n",
       "      <td>Caroline</td>\n",
       "      <td>Hughes</td>\n",
       "      <td>25</td>\n",
       "      <td>Daughter</td>\n",
       "      <td>Single</td>\n",
       "      <td>Female</td>\n",
       "      <td>Printmaker</td>\n",
       "      <td>None</td>\n",
       "      <td>None</td>\n",
       "    </tr>\n",
       "    <tr>\n",
       "      <th>7098</th>\n",
       "      <td>47</td>\n",
       "      <td>Summers Meadows</td>\n",
       "      <td>Steven</td>\n",
       "      <td>Hill</td>\n",
       "      <td>16</td>\n",
       "      <td>Son</td>\n",
       "      <td>NaN</td>\n",
       "      <td>Male</td>\n",
       "      <td>Student</td>\n",
       "      <td>None</td>\n",
       "      <td>NaN</td>\n",
       "    </tr>\n",
       "    <tr>\n",
       "      <th>7400</th>\n",
       "      <td>104</td>\n",
       "      <td>Allen Manor</td>\n",
       "      <td>Brett</td>\n",
       "      <td>Lawson</td>\n",
       "      <td>1</td>\n",
       "      <td>Son</td>\n",
       "      <td>NaN</td>\n",
       "      <td>Male</td>\n",
       "      <td>Child</td>\n",
       "      <td>None</td>\n",
       "      <td>NaN</td>\n",
       "    </tr>\n",
       "    <tr>\n",
       "      <th>6558</th>\n",
       "      <td>34</td>\n",
       "      <td>Butterfly Street</td>\n",
       "      <td>Adam</td>\n",
       "      <td>Watson</td>\n",
       "      <td>52</td>\n",
       "      <td>Head</td>\n",
       "      <td>Divorced</td>\n",
       "      <td>Male</td>\n",
       "      <td>Engineer, automotive</td>\n",
       "      <td>None</td>\n",
       "      <td>None</td>\n",
       "    </tr>\n",
       "    <tr>\n",
       "      <th>8213</th>\n",
       "      <td>10</td>\n",
       "      <td>Hughes Stravenue</td>\n",
       "      <td>Dale</td>\n",
       "      <td>Williams</td>\n",
       "      <td>66</td>\n",
       "      <td>Son-in-law</td>\n",
       "      <td>Married</td>\n",
       "      <td>Male</td>\n",
       "      <td>Product/process development scientist</td>\n",
       "      <td>None</td>\n",
       "      <td>Catholic</td>\n",
       "    </tr>\n",
       "    <tr>\n",
       "      <th>3843</th>\n",
       "      <td>77</td>\n",
       "      <td>Rhubarbshot Street</td>\n",
       "      <td>Lisa</td>\n",
       "      <td>Lewis</td>\n",
       "      <td>32</td>\n",
       "      <td>None</td>\n",
       "      <td>Single</td>\n",
       "      <td>Female</td>\n",
       "      <td>Unemployed</td>\n",
       "      <td>None</td>\n",
       "      <td>None</td>\n",
       "    </tr>\n",
       "    <tr>\n",
       "      <th>303</th>\n",
       "      <td>16</td>\n",
       "      <td>Aberdeen Avenue</td>\n",
       "      <td>Dylan</td>\n",
       "      <td>Lee</td>\n",
       "      <td>47</td>\n",
       "      <td>Head</td>\n",
       "      <td>Single</td>\n",
       "      <td>Male</td>\n",
       "      <td>Unemployed</td>\n",
       "      <td>None</td>\n",
       "      <td>None</td>\n",
       "    </tr>\n",
       "  </tbody>\n",
       "</table>\n",
       "</div>"
      ],
      "text/plain": [
       "      House Number              Street First Name         Surname Age  \\\n",
       "2546             7       Smith Squares     Mathew   Thomas-Warren  23   \n",
       "1427           141          Mace Green     Olivia         Peacock   8   \n",
       "732            147     Aberdeen Avenue     Kieran           Bowen  22   \n",
       "1109            51          Mace Green    Deborah        Matthews  59   \n",
       "6992            10     Summers Meadows     Mathew           Jones  57   \n",
       "1599           192          Mace Green     Denise  Simpson-Morris  34   \n",
       "1742            29  Whittaker Crescent      Simon         Johnson  21   \n",
       "8351             8       Connolly Park     Joanna           Smith  62   \n",
       "5841            74      Dennis Viaduct   Caroline          Hughes  25   \n",
       "7098            47     Summers Meadows     Steven            Hill  16   \n",
       "7400           104         Allen Manor      Brett          Lawson   1   \n",
       "6558            34    Butterfly Street       Adam          Watson  52   \n",
       "8213            10    Hughes Stravenue       Dale        Williams  66   \n",
       "3843            77  Rhubarbshot Street       Lisa           Lewis  32   \n",
       "303             16     Aberdeen Avenue      Dylan             Lee  47   \n",
       "\n",
       "     Relationship to Head of House Marital Status  Gender  \\\n",
       "2546                           Son         Single    Male   \n",
       "1427                      Daughter            NaN  Female   \n",
       "732                            Son         Single    Male   \n",
       "1109                        Lodger         Single  Female   \n",
       "6992                          Head       Divorced    Male   \n",
       "1599                      Daughter         Single  Female   \n",
       "1742                          Head         Single    Male   \n",
       "8351                        Lodger       Divorced  Female   \n",
       "5841                      Daughter         Single  Female   \n",
       "7098                           Son            NaN    Male   \n",
       "7400                           Son            NaN    Male   \n",
       "6558                          Head       Divorced    Male   \n",
       "8213                    Son-in-law        Married    Male   \n",
       "3843                          None         Single  Female   \n",
       "303                           Head         Single    Male   \n",
       "\n",
       "                                 Occupation Infirmity   Religion  \n",
       "2546                             Unemployed      None       None  \n",
       "1427                                Student      None        NaN  \n",
       "732                      University Student      None  Methodist  \n",
       "1109                         Pharmacologist      None  Christian  \n",
       "6992                  Pharmacist, community      None       None  \n",
       "1599       Higher education careers adviser      None       None  \n",
       "1742                     University Student      None       None  \n",
       "8351                             Aid worker      None  Methodist  \n",
       "5841                             Printmaker      None       None  \n",
       "7098                                Student      None        NaN  \n",
       "7400                                  Child      None        NaN  \n",
       "6558                   Engineer, automotive      None       None  \n",
       "8213  Product/process development scientist      None   Catholic  \n",
       "3843                             Unemployed      None       None  \n",
       "303                              Unemployed      None       None  "
      ]
     },
     "execution_count": 4,
     "metadata": {},
     "output_type": "execute_result"
    }
   ],
   "source": [
    "df.sample(15)"
   ]
  },
  {
   "cell_type": "code",
   "execution_count": 5,
   "id": "944fd5a1",
   "metadata": {},
   "outputs": [
    {
     "name": "stdout",
     "output_type": "stream",
     "text": [
      "<class 'pandas.core.frame.DataFrame'>\n",
      "RangeIndex: 9405 entries, 0 to 9404\n",
      "Data columns (total 11 columns):\n",
      " #   Column                         Non-Null Count  Dtype \n",
      "---  ------                         --------------  ----- \n",
      " 0   House Number                   9405 non-null   int64 \n",
      " 1   Street                         9405 non-null   object\n",
      " 2   First Name                     9405 non-null   object\n",
      " 3   Surname                        9405 non-null   object\n",
      " 4   Age                            9405 non-null   object\n",
      " 5   Relationship to Head of House  9405 non-null   object\n",
      " 6   Marital Status                 7171 non-null   object\n",
      " 7   Gender                         9405 non-null   object\n",
      " 8   Occupation                     9405 non-null   object\n",
      " 9   Infirmity                      9405 non-null   object\n",
      " 10  Religion                       7131 non-null   object\n",
      "dtypes: int64(1), object(10)\n",
      "memory usage: 808.4+ KB\n"
     ]
    }
   ],
   "source": [
    "df.info()"
   ]
  },
  {
   "cell_type": "markdown",
   "id": "1933e4bc",
   "metadata": {},
   "source": [
    "### Data assessment"
   ]
  },
  {
   "cell_type": "code",
   "execution_count": 6,
   "id": "450f2ea1",
   "metadata": {},
   "outputs": [
    {
     "data": {
      "text/plain": [
       "1"
      ]
     },
     "execution_count": 6,
     "metadata": {},
     "output_type": "execute_result"
    }
   ],
   "source": [
    "df.duplicated().sum()"
   ]
  },
  {
   "cell_type": "code",
   "execution_count": 7,
   "id": "d3048d80",
   "metadata": {},
   "outputs": [
    {
     "data": {
      "text/html": [
       "<div>\n",
       "<style scoped>\n",
       "    .dataframe tbody tr th:only-of-type {\n",
       "        vertical-align: middle;\n",
       "    }\n",
       "\n",
       "    .dataframe tbody tr th {\n",
       "        vertical-align: top;\n",
       "    }\n",
       "\n",
       "    .dataframe thead th {\n",
       "        text-align: right;\n",
       "    }\n",
       "</style>\n",
       "<table border=\"1\" class=\"dataframe\">\n",
       "  <thead>\n",
       "    <tr style=\"text-align: right;\">\n",
       "      <th></th>\n",
       "      <th>House Number</th>\n",
       "      <th>Street</th>\n",
       "      <th>First Name</th>\n",
       "      <th>Surname</th>\n",
       "      <th>Age</th>\n",
       "      <th>Relationship to Head of House</th>\n",
       "      <th>Marital Status</th>\n",
       "      <th>Gender</th>\n",
       "      <th>Occupation</th>\n",
       "      <th>Infirmity</th>\n",
       "      <th>Religion</th>\n",
       "    </tr>\n",
       "  </thead>\n",
       "  <tbody>\n",
       "    <tr>\n",
       "      <th>5526</th>\n",
       "      <td>39</td>\n",
       "      <td>Godfrey Lane</td>\n",
       "      <td>Emma</td>\n",
       "      <td>Jackson</td>\n",
       "      <td>14</td>\n",
       "      <td>Daughter</td>\n",
       "      <td>NaN</td>\n",
       "      <td>Female</td>\n",
       "      <td>Student</td>\n",
       "      <td>None</td>\n",
       "      <td>NaN</td>\n",
       "    </tr>\n",
       "  </tbody>\n",
       "</table>\n",
       "</div>"
      ],
      "text/plain": [
       "      House Number        Street First Name  Surname Age  \\\n",
       "5526            39  Godfrey Lane       Emma  Jackson  14   \n",
       "\n",
       "     Relationship to Head of House Marital Status  Gender Occupation  \\\n",
       "5526                      Daughter            NaN  Female    Student   \n",
       "\n",
       "     Infirmity Religion  \n",
       "5526      None      NaN  "
      ]
     },
     "execution_count": 7,
     "metadata": {},
     "output_type": "execute_result"
    }
   ],
   "source": [
    "df[df.duplicated()]"
   ]
  },
  {
   "cell_type": "code",
   "execution_count": 8,
   "id": "bf570961",
   "metadata": {},
   "outputs": [
    {
     "data": {
      "text/html": [
       "<div>\n",
       "<style scoped>\n",
       "    .dataframe tbody tr th:only-of-type {\n",
       "        vertical-align: middle;\n",
       "    }\n",
       "\n",
       "    .dataframe tbody tr th {\n",
       "        vertical-align: top;\n",
       "    }\n",
       "\n",
       "    .dataframe thead th {\n",
       "        text-align: right;\n",
       "    }\n",
       "</style>\n",
       "<table border=\"1\" class=\"dataframe\">\n",
       "  <thead>\n",
       "    <tr style=\"text-align: right;\">\n",
       "      <th></th>\n",
       "      <th>House Number</th>\n",
       "      <th>Street</th>\n",
       "      <th>First Name</th>\n",
       "      <th>Surname</th>\n",
       "      <th>Age</th>\n",
       "      <th>Relationship to Head of House</th>\n",
       "      <th>Marital Status</th>\n",
       "      <th>Gender</th>\n",
       "      <th>Occupation</th>\n",
       "      <th>Infirmity</th>\n",
       "      <th>Religion</th>\n",
       "    </tr>\n",
       "  </thead>\n",
       "  <tbody>\n",
       "    <tr>\n",
       "      <th>5525</th>\n",
       "      <td>39</td>\n",
       "      <td>Godfrey Lane</td>\n",
       "      <td>Emma</td>\n",
       "      <td>Jackson</td>\n",
       "      <td>14</td>\n",
       "      <td>Daughter</td>\n",
       "      <td>NaN</td>\n",
       "      <td>Female</td>\n",
       "      <td>Student</td>\n",
       "      <td>None</td>\n",
       "      <td>NaN</td>\n",
       "    </tr>\n",
       "    <tr>\n",
       "      <th>5526</th>\n",
       "      <td>39</td>\n",
       "      <td>Godfrey Lane</td>\n",
       "      <td>Emma</td>\n",
       "      <td>Jackson</td>\n",
       "      <td>14</td>\n",
       "      <td>Daughter</td>\n",
       "      <td>NaN</td>\n",
       "      <td>Female</td>\n",
       "      <td>Student</td>\n",
       "      <td>None</td>\n",
       "      <td>NaN</td>\n",
       "    </tr>\n",
       "  </tbody>\n",
       "</table>\n",
       "</div>"
      ],
      "text/plain": [
       "      House Number        Street First Name  Surname Age  \\\n",
       "5525            39  Godfrey Lane       Emma  Jackson  14   \n",
       "5526            39  Godfrey Lane       Emma  Jackson  14   \n",
       "\n",
       "     Relationship to Head of House Marital Status  Gender Occupation  \\\n",
       "5525                      Daughter            NaN  Female    Student   \n",
       "5526                      Daughter            NaN  Female    Student   \n",
       "\n",
       "     Infirmity Religion  \n",
       "5525      None      NaN  \n",
       "5526      None      NaN  "
      ]
     },
     "execution_count": 8,
     "metadata": {},
     "output_type": "execute_result"
    }
   ],
   "source": [
    "df.iloc[5525:5527, :]"
   ]
  },
  {
   "cell_type": "code",
   "execution_count": 9,
   "id": "c1d241f5",
   "metadata": {},
   "outputs": [],
   "source": [
    "#drop duplicate\n",
    "df = df.drop_duplicates()"
   ]
  },
  {
   "cell_type": "markdown",
   "id": "f1139006",
   "metadata": {},
   "source": [
    "### Data cleaning\n",
    "\n",
    "##### Marital Status column"
   ]
  },
  {
   "cell_type": "code",
   "execution_count": 10,
   "id": "de454547",
   "metadata": {},
   "outputs": [
    {
     "data": {
      "text/plain": [
       "Single      3209\n",
       "Married     2727\n",
       "Divorced     875\n",
       "Widowed      359\n",
       "               1\n",
       "Name: Marital Status, dtype: int64"
      ]
     },
     "execution_count": 10,
     "metadata": {},
     "output_type": "execute_result"
    }
   ],
   "source": [
    "df['Marital Status'].value_counts()"
   ]
  },
  {
   "cell_type": "markdown",
   "id": "d7e94d34",
   "metadata": {},
   "source": [
    "- The marital status column has four distinct values with one blank value while others are NaN values. \n",
    "- The row with the marital status as a blank value is row 603. The row shows that the subject is a husband but the marital status is evaded. Given the other details provided by other columns, the blank value will be replaced with \"Married\".\n",
    "- The NaN values present in the marital status are for minors; those under 18."
   ]
  },
  {
   "cell_type": "code",
   "execution_count": 11,
   "id": "db46f277",
   "metadata": {},
   "outputs": [],
   "source": [
    "#replace the blank value with \"Married\"\n",
    "df['Marital Status'].replace(\" \", \"Married\", inplace=True)"
   ]
  },
  {
   "cell_type": "code",
   "execution_count": 12,
   "id": "46a0e0ff",
   "metadata": {},
   "outputs": [],
   "source": [
    "#replace the NaN values with \"Minor\"\n",
    "df['Marital Status'].replace(np.nan, \"Minor\", inplace=True)"
   ]
  },
  {
   "cell_type": "code",
   "execution_count": 13,
   "id": "ea8ac002",
   "metadata": {},
   "outputs": [
    {
     "data": {
      "text/plain": [
       "Single      3209\n",
       "Married     2728\n",
       "Minor       2233\n",
       "Divorced     875\n",
       "Widowed      359\n",
       "Name: Marital Status, dtype: int64"
      ]
     },
     "execution_count": 13,
     "metadata": {},
     "output_type": "execute_result"
    }
   ],
   "source": [
    "df['Marital Status'].value_counts()"
   ]
  },
  {
   "cell_type": "markdown",
   "id": "b88bac61",
   "metadata": {},
   "source": [
    "##### Religion column"
   ]
  },
  {
   "cell_type": "code",
   "execution_count": 14,
   "id": "4b7cb1e6",
   "metadata": {},
   "outputs": [
    {
     "data": {
      "text/plain": [
       "None         3118\n",
       "Christian    2101\n",
       "Catholic     1022\n",
       "Methodist     638\n",
       "Muslim        147\n",
       "Sikh           53\n",
       "Jewish         39\n",
       "Nope            2\n",
       "Undecided       2\n",
       "Buddist         2\n",
       "Pagan           2\n",
       "Quaker          2\n",
       "Sith            2\n",
       "Jedi            1\n",
       "Name: Religion, dtype: int64"
      ]
     },
     "execution_count": 14,
     "metadata": {},
     "output_type": "execute_result"
    }
   ],
   "source": [
    "df['Religion'].value_counts()"
   ]
  },
  {
   "cell_type": "markdown",
   "id": "5034fc13",
   "metadata": {},
   "source": [
    "- The distinct values of Religion are shown above.\n",
    "- It shows that a major part of the population has \"None\" as their religion.\n",
    "- The NaN values are attributed to minors. This shows that there is no religion transfer from parents to children."
   ]
  },
  {
   "cell_type": "markdown",
   "id": "a9ac7f6e",
   "metadata": {},
   "source": [
    "###### Age column"
   ]
  },
  {
   "cell_type": "code",
   "execution_count": 15,
   "id": "854c122d",
   "metadata": {},
   "outputs": [
    {
     "data": {
      "text/plain": [
       "count     9404\n",
       "unique     118\n",
       "top         41\n",
       "freq       196\n",
       "Name: Age, dtype: object"
      ]
     },
     "execution_count": 15,
     "metadata": {},
     "output_type": "execute_result"
    }
   ],
   "source": [
    "df['Age'].describe()"
   ]
  },
  {
   "cell_type": "markdown",
   "id": "ed5e3229",
   "metadata": {},
   "source": [
    "- The age data type is inputed as an object\n",
    "- The house number data type is inputed as integer"
   ]
  },
  {
   "cell_type": "code",
   "execution_count": 16,
   "id": "f50112d9",
   "metadata": {},
   "outputs": [
    {
     "data": {
      "text/plain": [
       "House Number                                 125\n",
       "Street                           Aberdeen Avenue\n",
       "First Name                                  Mary\n",
       "Surname                                   Miller\n",
       "Age                                             \n",
       "Relationship to Head of House           Daughter\n",
       "Marital Status                             Minor\n",
       "Gender                                    Female\n",
       "Occupation                                 Child\n",
       "Infirmity                                   None\n",
       "Religion                                     NaN\n",
       "Name: 656, dtype: object"
      ]
     },
     "execution_count": 16,
     "metadata": {},
     "output_type": "execute_result"
    }
   ],
   "source": [
    "df.iloc[656]"
   ]
  },
  {
   "cell_type": "markdown",
   "id": "497f54d1",
   "metadata": {},
   "source": [
    "- The only row that is making it impossible for the column to be converted to int is row 656.\n",
    "- The age of the girl was not inputed. This can either be regarded as NaN or be replaced with a suitable value given the details from other columns. Since the subject's occupation is \"child\", the age of the subject will be less than 5. "
   ]
  },
  {
   "cell_type": "code",
   "execution_count": 17,
   "id": "0d852d29",
   "metadata": {},
   "outputs": [],
   "source": [
    "#replacing the blank value with 1\n",
    "df['Age'].replace(\" \", 1, inplace=True)"
   ]
  },
  {
   "cell_type": "code",
   "execution_count": 18,
   "id": "5a13b67f",
   "metadata": {},
   "outputs": [
    {
     "data": {
      "text/plain": [
       "41                    196\n",
       "42                    177\n",
       "40                    172\n",
       "44                    172\n",
       "37                    164\n",
       "                     ... \n",
       "51.589355621448114      1\n",
       "101                     1\n",
       "103                     1\n",
       "105                     1\n",
       "2.0                     1\n",
       "Name: Age, Length: 118, dtype: int64"
      ]
     },
     "execution_count": 18,
     "metadata": {},
     "output_type": "execute_result"
    }
   ],
   "source": [
    "df['Age'].value_counts()"
   ]
  },
  {
   "cell_type": "code",
   "execution_count": 19,
   "id": "ccc4ab7f",
   "metadata": {},
   "outputs": [
    {
     "data": {
      "text/plain": [
       "array(['43', '37', '44', '24', '13', '50', '14', '10', '29', '0', '56',\n",
       "       '46', '11', '42', '4', '1', '57', '58', '12', '59', '65', '20',\n",
       "       '45', '39', '34', '31', '28', '21', '9', '7', '51', '22', '2',\n",
       "       '61', '32', '17', '72', '40', '16', '3', '23', '76', '35', '52',\n",
       "       '53', '26', '47', '15', '33', '55', '38', '41', '8', '18', '19',\n",
       "       '36', '69', '60', '5', '84', '63', '88', '71', '49', '74', '25',\n",
       "       '48', '67', '66', '70', '83', '80', '54', '98', '64', '6', '86',\n",
       "       '27', '30', '62', '73', '79', '81', '78', '68', 1, '75', '82',\n",
       "       '89', '87', '91', '85', '77', '99', '102', '92', '104', '100',\n",
       "       '90', '95', '96', '97', '105', '103', '101', '94', '93',\n",
       "       '51.589355621448114', '53.589355621448114', '7.0', '3.0', '1.0',\n",
       "       '107', '61.14390708730485', '10.0', '9.0', '6.0', '2.0'],\n",
       "      dtype=object)"
      ]
     },
     "execution_count": 19,
     "metadata": {},
     "output_type": "execute_result"
    }
   ],
   "source": [
    "df['Age'].unique()"
   ]
  },
  {
   "cell_type": "markdown",
   "id": "033eb1f6",
   "metadata": {},
   "source": [
    "- The values \"51.589355621448114\", \"53.589...\", \"61.143...\"\n",
    "- The floats 7.0, 3.0, 1.0, 10.0, 9.0, 6.0, 2.0\n",
    "- These are values that will be cleaned and replaced appropriately."
   ]
  },
  {
   "cell_type": "markdown",
   "id": "4e8e3d43",
   "metadata": {},
   "source": [
    "- Replacing the value 2.0 with 2 and the 51.5893... with the value before the decimal point"
   ]
  },
  {
   "cell_type": "code",
   "execution_count": 20,
   "id": "e29bb55d",
   "metadata": {
    "scrolled": true
   },
   "outputs": [
    {
     "data": {
      "text/html": [
       "<div>\n",
       "<style scoped>\n",
       "    .dataframe tbody tr th:only-of-type {\n",
       "        vertical-align: middle;\n",
       "    }\n",
       "\n",
       "    .dataframe tbody tr th {\n",
       "        vertical-align: top;\n",
       "    }\n",
       "\n",
       "    .dataframe thead th {\n",
       "        text-align: right;\n",
       "    }\n",
       "</style>\n",
       "<table border=\"1\" class=\"dataframe\">\n",
       "  <thead>\n",
       "    <tr style=\"text-align: right;\">\n",
       "      <th></th>\n",
       "      <th>House Number</th>\n",
       "      <th>Street</th>\n",
       "      <th>First Name</th>\n",
       "      <th>Surname</th>\n",
       "      <th>Age</th>\n",
       "      <th>Relationship to Head of House</th>\n",
       "      <th>Marital Status</th>\n",
       "      <th>Gender</th>\n",
       "      <th>Occupation</th>\n",
       "      <th>Infirmity</th>\n",
       "      <th>Religion</th>\n",
       "    </tr>\n",
       "  </thead>\n",
       "  <tbody>\n",
       "    <tr>\n",
       "      <th>7300</th>\n",
       "      <td>69</td>\n",
       "      <td>Allen Manor</td>\n",
       "      <td>Beth</td>\n",
       "      <td>Wright</td>\n",
       "      <td>51.589355621448114</td>\n",
       "      <td>Head</td>\n",
       "      <td>Married</td>\n",
       "      <td>Female</td>\n",
       "      <td>Unemployed</td>\n",
       "      <td>None</td>\n",
       "      <td>Methodist</td>\n",
       "    </tr>\n",
       "  </tbody>\n",
       "</table>\n",
       "</div>"
      ],
      "text/plain": [
       "      House Number       Street First Name Surname                 Age  \\\n",
       "7300            69  Allen Manor       Beth  Wright  51.589355621448114   \n",
       "\n",
       "     Relationship to Head of House Marital Status  Gender  Occupation  \\\n",
       "7300                          Head        Married  Female  Unemployed   \n",
       "\n",
       "     Infirmity   Religion  \n",
       "7300      None  Methodist  "
      ]
     },
     "execution_count": 20,
     "metadata": {},
     "output_type": "execute_result"
    }
   ],
   "source": [
    "df.loc[df['Age'] == \"51.589355621448114\"]"
   ]
  },
  {
   "cell_type": "code",
   "execution_count": 21,
   "id": "96c7cd79",
   "metadata": {},
   "outputs": [
    {
     "data": {
      "text/html": [
       "<div>\n",
       "<style scoped>\n",
       "    .dataframe tbody tr th:only-of-type {\n",
       "        vertical-align: middle;\n",
       "    }\n",
       "\n",
       "    .dataframe tbody tr th {\n",
       "        vertical-align: top;\n",
       "    }\n",
       "\n",
       "    .dataframe thead th {\n",
       "        text-align: right;\n",
       "    }\n",
       "</style>\n",
       "<table border=\"1\" class=\"dataframe\">\n",
       "  <thead>\n",
       "    <tr style=\"text-align: right;\">\n",
       "      <th></th>\n",
       "      <th>House Number</th>\n",
       "      <th>Street</th>\n",
       "      <th>First Name</th>\n",
       "      <th>Surname</th>\n",
       "      <th>Age</th>\n",
       "      <th>Relationship to Head of House</th>\n",
       "      <th>Marital Status</th>\n",
       "      <th>Gender</th>\n",
       "      <th>Occupation</th>\n",
       "      <th>Infirmity</th>\n",
       "      <th>Religion</th>\n",
       "    </tr>\n",
       "  </thead>\n",
       "  <tbody>\n",
       "    <tr>\n",
       "      <th>8455</th>\n",
       "      <td>24</td>\n",
       "      <td>Connolly Park</td>\n",
       "      <td>Alexander</td>\n",
       "      <td>Jones</td>\n",
       "      <td>2.0</td>\n",
       "      <td>Son</td>\n",
       "      <td>Minor</td>\n",
       "      <td>Male</td>\n",
       "      <td>Child</td>\n",
       "      <td>None</td>\n",
       "      <td>NaN</td>\n",
       "    </tr>\n",
       "  </tbody>\n",
       "</table>\n",
       "</div>"
      ],
      "text/plain": [
       "      House Number         Street First Name Surname  Age  \\\n",
       "8455            24  Connolly Park  Alexander   Jones  2.0   \n",
       "\n",
       "     Relationship to Head of House Marital Status Gender Occupation Infirmity  \\\n",
       "8455                           Son          Minor   Male      Child      None   \n",
       "\n",
       "     Religion  \n",
       "8455      NaN  "
      ]
     },
     "execution_count": 21,
     "metadata": {},
     "output_type": "execute_result"
    }
   ],
   "source": [
    "df.loc[df['Age'] == \"2.0\"]"
   ]
  },
  {
   "cell_type": "code",
   "execution_count": 22,
   "id": "18808139",
   "metadata": {},
   "outputs": [],
   "source": [
    "df['Age'].replace(\"51.589355621448114\", 51, inplace=True)\n",
    "df['Age'].replace(\"2.0\", 2, inplace=True)"
   ]
  },
  {
   "cell_type": "code",
   "execution_count": 23,
   "id": "b932182f",
   "metadata": {},
   "outputs": [
    {
     "data": {
      "text/html": [
       "<div>\n",
       "<style scoped>\n",
       "    .dataframe tbody tr th:only-of-type {\n",
       "        vertical-align: middle;\n",
       "    }\n",
       "\n",
       "    .dataframe tbody tr th {\n",
       "        vertical-align: top;\n",
       "    }\n",
       "\n",
       "    .dataframe thead th {\n",
       "        text-align: right;\n",
       "    }\n",
       "</style>\n",
       "<table border=\"1\" class=\"dataframe\">\n",
       "  <thead>\n",
       "    <tr style=\"text-align: right;\">\n",
       "      <th></th>\n",
       "      <th>House Number</th>\n",
       "      <th>Street</th>\n",
       "      <th>First Name</th>\n",
       "      <th>Surname</th>\n",
       "      <th>Age</th>\n",
       "      <th>Relationship to Head of House</th>\n",
       "      <th>Marital Status</th>\n",
       "      <th>Gender</th>\n",
       "      <th>Occupation</th>\n",
       "      <th>Infirmity</th>\n",
       "      <th>Religion</th>\n",
       "    </tr>\n",
       "  </thead>\n",
       "  <tbody>\n",
       "    <tr>\n",
       "      <th>7303</th>\n",
       "      <td>69</td>\n",
       "      <td>Allen Manor</td>\n",
       "      <td>Jack</td>\n",
       "      <td>Wright</td>\n",
       "      <td>3.0</td>\n",
       "      <td>Son</td>\n",
       "      <td>Minor</td>\n",
       "      <td>Male</td>\n",
       "      <td>Child</td>\n",
       "      <td>None</td>\n",
       "      <td>NaN</td>\n",
       "    </tr>\n",
       "  </tbody>\n",
       "</table>\n",
       "</div>"
      ],
      "text/plain": [
       "      House Number       Street First Name Surname  Age  \\\n",
       "7303            69  Allen Manor       Jack  Wright  3.0   \n",
       "\n",
       "     Relationship to Head of House Marital Status Gender Occupation Infirmity  \\\n",
       "7303                           Son          Minor   Male      Child      None   \n",
       "\n",
       "     Religion  \n",
       "7303      NaN  "
      ]
     },
     "execution_count": 23,
     "metadata": {},
     "output_type": "execute_result"
    }
   ],
   "source": [
    "df.loc[df['Age'] == \"3.0\"]"
   ]
  },
  {
   "cell_type": "code",
   "execution_count": 24,
   "id": "423c3151",
   "metadata": {},
   "outputs": [],
   "source": [
    "# replacing these floats with the value before the decimal point\n",
    "df['Age'].replace(\"53.589355621448114\", 53, inplace=True)\n",
    "df['Age'].replace(\"61.14390708730485\", 61, inplace=True)\n",
    "df['Age'].replace(\"7.0\", 7, inplace=True)\n",
    "df['Age'].replace(\"3.0\", 3, inplace=True)\n",
    "df['Age'].replace(\"1.0\", 1, inplace=True)\n",
    "df['Age'].replace(\"10.0\", 10, inplace=True)\n",
    "df['Age'].replace(\"9.0\", 9, inplace=True)\n",
    "df['Age'].replace(\"6.0\", 6, inplace=True)"
   ]
  },
  {
   "cell_type": "markdown",
   "id": "c7ac1589",
   "metadata": {},
   "source": [
    "- After this, it will be easier to convert the age data type into int"
   ]
  },
  {
   "cell_type": "code",
   "execution_count": 25,
   "id": "4d3e84cb",
   "metadata": {},
   "outputs": [],
   "source": [
    "#convert the datatype to int\n",
    "df['Age'] = df['Age'].astype(int)"
   ]
  },
  {
   "cell_type": "code",
   "execution_count": 26,
   "id": "0f8feef0",
   "metadata": {},
   "outputs": [
    {
     "data": {
      "text/plain": [
       "count    9404.000000\n",
       "mean       36.145364\n",
       "std        21.490054\n",
       "min         0.000000\n",
       "25%        18.000000\n",
       "50%        36.000000\n",
       "75%        51.000000\n",
       "max       107.000000\n",
       "Name: Age, dtype: float64"
      ]
     },
     "execution_count": 26,
     "metadata": {},
     "output_type": "execute_result"
    }
   ],
   "source": [
    "df['Age'].describe()"
   ]
  },
  {
   "cell_type": "code",
   "execution_count": 27,
   "id": "5bf2827d",
   "metadata": {},
   "outputs": [
    {
     "name": "stdout",
     "output_type": "stream",
     "text": [
      "<class 'pandas.core.frame.DataFrame'>\n",
      "Int64Index: 9404 entries, 0 to 9404\n",
      "Data columns (total 11 columns):\n",
      " #   Column                         Non-Null Count  Dtype \n",
      "---  ------                         --------------  ----- \n",
      " 0   House Number                   9404 non-null   int64 \n",
      " 1   Street                         9404 non-null   object\n",
      " 2   First Name                     9404 non-null   object\n",
      " 3   Surname                        9404 non-null   object\n",
      " 4   Age                            9404 non-null   int32 \n",
      " 5   Relationship to Head of House  9404 non-null   object\n",
      " 6   Marital Status                 9404 non-null   object\n",
      " 7   Gender                         9404 non-null   object\n",
      " 8   Occupation                     9404 non-null   object\n",
      " 9   Infirmity                      9404 non-null   object\n",
      " 10  Religion                       7131 non-null   object\n",
      "dtypes: int32(1), int64(1), object(9)\n",
      "memory usage: 844.9+ KB\n"
     ]
    }
   ],
   "source": [
    "df.info()"
   ]
  },
  {
   "cell_type": "markdown",
   "id": "4901996e",
   "metadata": {},
   "source": [
    "###### Occupation column"
   ]
  },
  {
   "cell_type": "code",
   "execution_count": 28,
   "id": "ae7142a9",
   "metadata": {},
   "outputs": [
    {
     "data": {
      "text/plain": [
       "Student                                 0.195874\n",
       "Unemployed                              0.069013\n",
       "University Student                      0.062846\n",
       "Child                                   0.052425\n",
       "PhD Student                             0.002233\n",
       "                                          ...   \n",
       "Retired Research scientist (medical)    0.000106\n",
       "Retired Therapist, occupational         0.000106\n",
       "Retired Veterinary surgeon              0.000106\n",
       "Retired Accounting technician           0.000106\n",
       "Retired Dancer                          0.000106\n",
       "Name: Occupation, Length: 1096, dtype: float64"
      ]
     },
     "execution_count": 28,
     "metadata": {},
     "output_type": "execute_result"
    }
   ],
   "source": [
    "df['Occupation'].value_counts(normalize=True)"
   ]
  },
  {
   "cell_type": "markdown",
   "id": "1d3dd5bb",
   "metadata": {},
   "source": [
    "- 6.9% of the population are unemployed. \n",
    "- 19.5% of the population are students.\n",
    "- 6.2% of the population are students in the university\n"
   ]
  },
  {
   "cell_type": "code",
   "execution_count": 29,
   "id": "5dca9569",
   "metadata": {
    "scrolled": true
   },
   "outputs": [],
   "source": [
    "df.loc[df['Occupation'].str.contains('Retired', case=False), 'Occupation'] = 'Retiree'"
   ]
  },
  {
   "cell_type": "code",
   "execution_count": 30,
   "id": "2a2148e5",
   "metadata": {},
   "outputs": [
    {
     "data": {
      "text/plain": [
       "Student                         0.195874\n",
       "Retiree                         0.084219\n",
       "Unemployed                      0.069013\n",
       "University Student              0.062846\n",
       "Child                           0.052425\n",
       "                                  ...   \n",
       "Interpreter                     0.000213\n",
       "Quarry manager                  0.000213\n",
       "Engineer, energy                0.000213\n",
       "Education officer, community    0.000106\n",
       "Sports administrator            0.000106\n",
       "Name: Occupation, Length: 646, dtype: float64"
      ]
     },
     "execution_count": 30,
     "metadata": {},
     "output_type": "execute_result"
    }
   ],
   "source": [
    "df['Occupation'].value_counts(normalize=True)"
   ]
  },
  {
   "cell_type": "markdown",
   "id": "672c2009",
   "metadata": {},
   "source": [
    "- Retirees constitute 8.4% of the population while Unemployed constitute 6.9% of the population."
   ]
  },
  {
   "cell_type": "code",
   "execution_count": 31,
   "id": "fbfed2a9",
   "metadata": {},
   "outputs": [
    {
     "data": {
      "text/plain": [
       "Student               1842\n",
       "University Student     591\n",
       "PhD Student             21\n",
       "Name: Occupation, dtype: int64"
      ]
     },
     "execution_count": 31,
     "metadata": {},
     "output_type": "execute_result"
    }
   ],
   "source": [
    "#group all students together whether university or phd students\n",
    "df.loc[df['Occupation'].str.contains('Student', case=False), 'Occupation'].value_counts()"
   ]
  },
  {
   "cell_type": "code",
   "execution_count": 32,
   "id": "cdd050a6",
   "metadata": {},
   "outputs": [],
   "source": [
    "#categorize phd students as university students\n",
    "df['Occupation'].replace(\"PhD Student\", \"University Student\", inplace=True)"
   ]
  },
  {
   "cell_type": "markdown",
   "id": "e5f2a057",
   "metadata": {},
   "source": [
    "##### Street column"
   ]
  },
  {
   "cell_type": "code",
   "execution_count": 33,
   "id": "957af930",
   "metadata": {},
   "outputs": [
    {
     "data": {
      "text/plain": [
       "Mace Green            751\n",
       "Dennis Viaduct        691\n",
       "Aberdeen Avenue       579\n",
       "Rhubarbshot Street    481\n",
       "Allen Manor           457\n",
       "                     ... \n",
       "Turner Commune          5\n",
       "Jenkins Barn            5\n",
       "Perth Abbey             5\n",
       "Jarvis Folly            3\n",
       "Wallis Haven            1\n",
       "Name: Street, Length: 105, dtype: int64"
      ]
     },
     "execution_count": 33,
     "metadata": {},
     "output_type": "execute_result"
    }
   ],
   "source": [
    "df['Street'].value_counts()"
   ]
  },
  {
   "cell_type": "markdown",
   "id": "0695c946",
   "metadata": {},
   "source": [
    "### Exploratory data analysis"
   ]
  },
  {
   "cell_type": "code",
   "execution_count": 34,
   "id": "3f5bb2d0",
   "metadata": {},
   "outputs": [
    {
     "data": {
      "image/png": "[encoded data removed]",
      "text/plain": [
       "<Figure size 432x288 with 1 Axes>"
      ]
     },
     "metadata": {
      "needs_background": "light"
     },
     "output_type": "display_data"
    }
   ],
   "source": [
    "sns.countplot(data=df, x=\"Gender\");"
   ]
  },
  {
   "cell_type": "code",
   "execution_count": 35,
   "id": "54472aab",
   "metadata": {},
   "outputs": [
    {
     "data": {
      "text/plain": [
       "Female    4957\n",
       "Male      4447\n",
       "Name: Gender, dtype: int64"
      ]
     },
     "execution_count": 35,
     "metadata": {},
     "output_type": "execute_result"
    }
   ],
   "source": [
    "df['Gender'].value_counts()"
   ]
  },
  {
   "cell_type": "code",
   "execution_count": 36,
   "id": "7e2ec99a",
   "metadata": {},
   "outputs": [
    {
     "data": {
      "image/png": "[encoded data removed]",
      "text/plain": [
       "<Figure size 432x288 with 1 Axes>"
      ]
     },
     "metadata": {
      "needs_background": "light"
     },
     "output_type": "display_data"
    }
   ],
   "source": [
    "sns.boxplot(data=df, x='Marital Status', y='Age')\n",
    "plt.xlabel(\"Marital Status\")\n",
    "plt.ylabel(\"Age\")\n",
    "plt.title(\"Distribution of Marital Status by Age\");"
   ]
  },
  {
   "cell_type": "code",
   "execution_count": 37,
   "id": "89fe91a9",
   "metadata": {},
   "outputs": [
    {
     "data": {
      "text/html": [
       "<div>\n",
       "<style scoped>\n",
       "    .dataframe tbody tr th:only-of-type {\n",
       "        vertical-align: middle;\n",
       "    }\n",
       "\n",
       "    .dataframe tbody tr th {\n",
       "        vertical-align: top;\n",
       "    }\n",
       "\n",
       "    .dataframe thead th {\n",
       "        text-align: right;\n",
       "    }\n",
       "</style>\n",
       "<table border=\"1\" class=\"dataframe\">\n",
       "  <thead>\n",
       "    <tr style=\"text-align: right;\">\n",
       "      <th></th>\n",
       "      <th>House Number</th>\n",
       "      <th>Street</th>\n",
       "      <th>First Name</th>\n",
       "      <th>Surname</th>\n",
       "      <th>Age</th>\n",
       "      <th>Relationship to Head of House</th>\n",
       "      <th>Marital Status</th>\n",
       "      <th>Gender</th>\n",
       "      <th>Occupation</th>\n",
       "      <th>Infirmity</th>\n",
       "      <th>Religion</th>\n",
       "    </tr>\n",
       "  </thead>\n",
       "  <tbody>\n",
       "    <tr>\n",
       "      <th>227</th>\n",
       "      <td>35</td>\n",
       "      <td>Calendar Mill</td>\n",
       "      <td>Josephine</td>\n",
       "      <td>Hamilton</td>\n",
       "      <td>19</td>\n",
       "      <td>Wife</td>\n",
       "      <td>Married</td>\n",
       "      <td>Female</td>\n",
       "      <td>University Student</td>\n",
       "      <td>None</td>\n",
       "      <td>None</td>\n",
       "    </tr>\n",
       "    <tr>\n",
       "      <th>832</th>\n",
       "      <td>1</td>\n",
       "      <td>Mace Trafficway</td>\n",
       "      <td>Leah</td>\n",
       "      <td>Boyle</td>\n",
       "      <td>19</td>\n",
       "      <td>Head</td>\n",
       "      <td>Married</td>\n",
       "      <td>Female</td>\n",
       "      <td>Therapist, nutritional</td>\n",
       "      <td>None</td>\n",
       "      <td>Christian</td>\n",
       "    </tr>\n",
       "    <tr>\n",
       "      <th>833</th>\n",
       "      <td>1</td>\n",
       "      <td>Mace Trafficway</td>\n",
       "      <td>Ronald</td>\n",
       "      <td>Boyle</td>\n",
       "      <td>19</td>\n",
       "      <td>Husband</td>\n",
       "      <td>Married</td>\n",
       "      <td>Male</td>\n",
       "      <td>University Student</td>\n",
       "      <td>None</td>\n",
       "      <td>Christian</td>\n",
       "    </tr>\n",
       "    <tr>\n",
       "      <th>910</th>\n",
       "      <td>13</td>\n",
       "      <td>Salmon Street</td>\n",
       "      <td>Conor</td>\n",
       "      <td>Powell</td>\n",
       "      <td>19</td>\n",
       "      <td>Husband</td>\n",
       "      <td>Married</td>\n",
       "      <td>Male</td>\n",
       "      <td>University Student</td>\n",
       "      <td>None</td>\n",
       "      <td>None</td>\n",
       "    </tr>\n",
       "    <tr>\n",
       "      <th>1041</th>\n",
       "      <td>30</td>\n",
       "      <td>Mace Green</td>\n",
       "      <td>Danielle</td>\n",
       "      <td>Gardner</td>\n",
       "      <td>19</td>\n",
       "      <td>Head</td>\n",
       "      <td>Married</td>\n",
       "      <td>Female</td>\n",
       "      <td>University Student</td>\n",
       "      <td>None</td>\n",
       "      <td>Methodist</td>\n",
       "    </tr>\n",
       "    <tr>\n",
       "      <th>1757</th>\n",
       "      <td>8</td>\n",
       "      <td>Brown Crescent</td>\n",
       "      <td>Terry</td>\n",
       "      <td>Mills</td>\n",
       "      <td>19</td>\n",
       "      <td>Head</td>\n",
       "      <td>Married</td>\n",
       "      <td>Male</td>\n",
       "      <td>University Student</td>\n",
       "      <td>None</td>\n",
       "      <td>None</td>\n",
       "    </tr>\n",
       "    <tr>\n",
       "      <th>1758</th>\n",
       "      <td>8</td>\n",
       "      <td>Brown Crescent</td>\n",
       "      <td>Gail</td>\n",
       "      <td>Mills</td>\n",
       "      <td>19</td>\n",
       "      <td>Wife</td>\n",
       "      <td>Married</td>\n",
       "      <td>Female</td>\n",
       "      <td>University Student</td>\n",
       "      <td>None</td>\n",
       "      <td>None</td>\n",
       "    </tr>\n",
       "    <tr>\n",
       "      <th>3895</th>\n",
       "      <td>99</td>\n",
       "      <td>Rhubarbshot Street</td>\n",
       "      <td>Emma</td>\n",
       "      <td>Blackburn</td>\n",
       "      <td>19</td>\n",
       "      <td>Wife</td>\n",
       "      <td>Married</td>\n",
       "      <td>Female</td>\n",
       "      <td>Accountant, chartered</td>\n",
       "      <td>None</td>\n",
       "      <td>Methodist</td>\n",
       "    </tr>\n",
       "    <tr>\n",
       "      <th>4036</th>\n",
       "      <td>148</td>\n",
       "      <td>Rhubarbshot Street</td>\n",
       "      <td>Gemma</td>\n",
       "      <td>Booth</td>\n",
       "      <td>19</td>\n",
       "      <td>Wife</td>\n",
       "      <td>Married</td>\n",
       "      <td>Female</td>\n",
       "      <td>University Student</td>\n",
       "      <td>None</td>\n",
       "      <td>None</td>\n",
       "    </tr>\n",
       "    <tr>\n",
       "      <th>4157</th>\n",
       "      <td>31</td>\n",
       "      <td>Murray Avenue</td>\n",
       "      <td>Francesca</td>\n",
       "      <td>Martin</td>\n",
       "      <td>19</td>\n",
       "      <td>Wife</td>\n",
       "      <td>Married</td>\n",
       "      <td>Female</td>\n",
       "      <td>University Student</td>\n",
       "      <td>None</td>\n",
       "      <td>None</td>\n",
       "    </tr>\n",
       "    <tr>\n",
       "      <th>4596</th>\n",
       "      <td>3</td>\n",
       "      <td>Penny Avenue</td>\n",
       "      <td>Jessica</td>\n",
       "      <td>King</td>\n",
       "      <td>19</td>\n",
       "      <td>Wife</td>\n",
       "      <td>Married</td>\n",
       "      <td>Female</td>\n",
       "      <td>University Student</td>\n",
       "      <td>None</td>\n",
       "      <td>Methodist</td>\n",
       "    </tr>\n",
       "    <tr>\n",
       "      <th>4731</th>\n",
       "      <td>23</td>\n",
       "      <td>Goodluck Harbors</td>\n",
       "      <td>Tracy</td>\n",
       "      <td>Pearce</td>\n",
       "      <td>19</td>\n",
       "      <td>Head</td>\n",
       "      <td>Married</td>\n",
       "      <td>Female</td>\n",
       "      <td>University Student</td>\n",
       "      <td>None</td>\n",
       "      <td>Christian</td>\n",
       "    </tr>\n",
       "    <tr>\n",
       "      <th>4954</th>\n",
       "      <td>21</td>\n",
       "      <td>Cougar Lane</td>\n",
       "      <td>Adrian</td>\n",
       "      <td>Scott</td>\n",
       "      <td>19</td>\n",
       "      <td>Head</td>\n",
       "      <td>Married</td>\n",
       "      <td>Male</td>\n",
       "      <td>University Student</td>\n",
       "      <td>None</td>\n",
       "      <td>Christian</td>\n",
       "    </tr>\n",
       "    <tr>\n",
       "      <th>4955</th>\n",
       "      <td>21</td>\n",
       "      <td>Cougar Lane</td>\n",
       "      <td>Annette</td>\n",
       "      <td>Scott</td>\n",
       "      <td>19</td>\n",
       "      <td>Wife</td>\n",
       "      <td>Married</td>\n",
       "      <td>Female</td>\n",
       "      <td>University Student</td>\n",
       "      <td>None</td>\n",
       "      <td>Christian</td>\n",
       "    </tr>\n",
       "    <tr>\n",
       "      <th>5687</th>\n",
       "      <td>29</td>\n",
       "      <td>Dennis Viaduct</td>\n",
       "      <td>Julie</td>\n",
       "      <td>White</td>\n",
       "      <td>19</td>\n",
       "      <td>Wife</td>\n",
       "      <td>Married</td>\n",
       "      <td>Female</td>\n",
       "      <td>University Student</td>\n",
       "      <td>None</td>\n",
       "      <td>None</td>\n",
       "    </tr>\n",
       "    <tr>\n",
       "      <th>6574</th>\n",
       "      <td>1</td>\n",
       "      <td>Coindike Street</td>\n",
       "      <td>Carl</td>\n",
       "      <td>Taylor</td>\n",
       "      <td>19</td>\n",
       "      <td>Head</td>\n",
       "      <td>Married</td>\n",
       "      <td>Male</td>\n",
       "      <td>University Student</td>\n",
       "      <td>None</td>\n",
       "      <td>None</td>\n",
       "    </tr>\n",
       "    <tr>\n",
       "      <th>6575</th>\n",
       "      <td>1</td>\n",
       "      <td>Coindike Street</td>\n",
       "      <td>Sylvia</td>\n",
       "      <td>Taylor</td>\n",
       "      <td>19</td>\n",
       "      <td>Wife</td>\n",
       "      <td>Married</td>\n",
       "      <td>Female</td>\n",
       "      <td>University Student</td>\n",
       "      <td>None</td>\n",
       "      <td>None</td>\n",
       "    </tr>\n",
       "    <tr>\n",
       "      <th>7134</th>\n",
       "      <td>6</td>\n",
       "      <td>Allen Manor</td>\n",
       "      <td>Mary</td>\n",
       "      <td>Green</td>\n",
       "      <td>19</td>\n",
       "      <td>Head</td>\n",
       "      <td>Married</td>\n",
       "      <td>Female</td>\n",
       "      <td>University Student</td>\n",
       "      <td>None</td>\n",
       "      <td>Methodist</td>\n",
       "    </tr>\n",
       "    <tr>\n",
       "      <th>7179</th>\n",
       "      <td>23</td>\n",
       "      <td>Allen Manor</td>\n",
       "      <td>Kathryn</td>\n",
       "      <td>Thomas</td>\n",
       "      <td>19</td>\n",
       "      <td>Head</td>\n",
       "      <td>Married</td>\n",
       "      <td>Female</td>\n",
       "      <td>University Student</td>\n",
       "      <td>None</td>\n",
       "      <td>None</td>\n",
       "    </tr>\n",
       "    <tr>\n",
       "      <th>7201</th>\n",
       "      <td>33</td>\n",
       "      <td>Allen Manor</td>\n",
       "      <td>Georgina</td>\n",
       "      <td>Dixon</td>\n",
       "      <td>19</td>\n",
       "      <td>Head</td>\n",
       "      <td>Married</td>\n",
       "      <td>Female</td>\n",
       "      <td>University Student</td>\n",
       "      <td>None</td>\n",
       "      <td>None</td>\n",
       "    </tr>\n",
       "    <tr>\n",
       "      <th>7525</th>\n",
       "      <td>155</td>\n",
       "      <td>Allen Manor</td>\n",
       "      <td>Julie</td>\n",
       "      <td>Jones</td>\n",
       "      <td>16</td>\n",
       "      <td>Head</td>\n",
       "      <td>Married</td>\n",
       "      <td>Female</td>\n",
       "      <td>Student</td>\n",
       "      <td>None</td>\n",
       "      <td>NaN</td>\n",
       "    </tr>\n",
       "    <tr>\n",
       "      <th>7526</th>\n",
       "      <td>155</td>\n",
       "      <td>Allen Manor</td>\n",
       "      <td>Kyle</td>\n",
       "      <td>Jones</td>\n",
       "      <td>19</td>\n",
       "      <td>Husband</td>\n",
       "      <td>Married</td>\n",
       "      <td>Male</td>\n",
       "      <td>University Student</td>\n",
       "      <td>None</td>\n",
       "      <td>None</td>\n",
       "    </tr>\n",
       "    <tr>\n",
       "      <th>7531</th>\n",
       "      <td>157</td>\n",
       "      <td>Allen Manor</td>\n",
       "      <td>Marian</td>\n",
       "      <td>Jones</td>\n",
       "      <td>19</td>\n",
       "      <td>Head</td>\n",
       "      <td>Married</td>\n",
       "      <td>Female</td>\n",
       "      <td>University Student</td>\n",
       "      <td>None</td>\n",
       "      <td>Methodist</td>\n",
       "    </tr>\n",
       "    <tr>\n",
       "      <th>7532</th>\n",
       "      <td>157</td>\n",
       "      <td>Allen Manor</td>\n",
       "      <td>Jamie</td>\n",
       "      <td>Jones</td>\n",
       "      <td>19</td>\n",
       "      <td>Husband</td>\n",
       "      <td>Married</td>\n",
       "      <td>Male</td>\n",
       "      <td>University Student</td>\n",
       "      <td>None</td>\n",
       "      <td>Methodist</td>\n",
       "    </tr>\n",
       "    <tr>\n",
       "      <th>8004</th>\n",
       "      <td>1</td>\n",
       "      <td>Quaysideweave Road</td>\n",
       "      <td>Ashley</td>\n",
       "      <td>Hurst</td>\n",
       "      <td>18</td>\n",
       "      <td>Head</td>\n",
       "      <td>Married</td>\n",
       "      <td>Male</td>\n",
       "      <td>Student</td>\n",
       "      <td>None</td>\n",
       "      <td>NaN</td>\n",
       "    </tr>\n",
       "    <tr>\n",
       "      <th>8005</th>\n",
       "      <td>1</td>\n",
       "      <td>Quaysideweave Road</td>\n",
       "      <td>Danielle</td>\n",
       "      <td>Hurst</td>\n",
       "      <td>19</td>\n",
       "      <td>Wife</td>\n",
       "      <td>Married</td>\n",
       "      <td>Female</td>\n",
       "      <td>University Student</td>\n",
       "      <td>None</td>\n",
       "      <td>None</td>\n",
       "    </tr>\n",
       "    <tr>\n",
       "      <th>9146</th>\n",
       "      <td>1</td>\n",
       "      <td>Upland Crescent</td>\n",
       "      <td>Annette</td>\n",
       "      <td>Martin</td>\n",
       "      <td>19</td>\n",
       "      <td>Wife</td>\n",
       "      <td>Married</td>\n",
       "      <td>Female</td>\n",
       "      <td>University Student</td>\n",
       "      <td>None</td>\n",
       "      <td>None</td>\n",
       "    </tr>\n",
       "  </tbody>\n",
       "</table>\n",
       "</div>"
      ],
      "text/plain": [
       "      House Number              Street First Name    Surname  Age  \\\n",
       "227             35       Calendar Mill  Josephine   Hamilton   19   \n",
       "832              1     Mace Trafficway       Leah      Boyle   19   \n",
       "833              1     Mace Trafficway     Ronald      Boyle   19   \n",
       "910             13       Salmon Street      Conor     Powell   19   \n",
       "1041            30          Mace Green   Danielle    Gardner   19   \n",
       "1757             8      Brown Crescent      Terry      Mills   19   \n",
       "1758             8      Brown Crescent       Gail      Mills   19   \n",
       "3895            99  Rhubarbshot Street       Emma  Blackburn   19   \n",
       "4036           148  Rhubarbshot Street      Gemma      Booth   19   \n",
       "4157            31       Murray Avenue  Francesca     Martin   19   \n",
       "4596             3        Penny Avenue    Jessica       King   19   \n",
       "4731            23    Goodluck Harbors      Tracy     Pearce   19   \n",
       "4954            21         Cougar Lane     Adrian      Scott   19   \n",
       "4955            21         Cougar Lane    Annette      Scott   19   \n",
       "5687            29      Dennis Viaduct      Julie      White   19   \n",
       "6574             1     Coindike Street       Carl     Taylor   19   \n",
       "6575             1     Coindike Street     Sylvia     Taylor   19   \n",
       "7134             6         Allen Manor       Mary      Green   19   \n",
       "7179            23         Allen Manor    Kathryn     Thomas   19   \n",
       "7201            33         Allen Manor   Georgina      Dixon   19   \n",
       "7525           155         Allen Manor      Julie      Jones   16   \n",
       "7526           155         Allen Manor       Kyle      Jones   19   \n",
       "7531           157         Allen Manor     Marian      Jones   19   \n",
       "7532           157         Allen Manor      Jamie      Jones   19   \n",
       "8004             1  Quaysideweave Road     Ashley      Hurst   18   \n",
       "8005             1  Quaysideweave Road   Danielle      Hurst   19   \n",
       "9146             1     Upland Crescent    Annette     Martin   19   \n",
       "\n",
       "     Relationship to Head of House Marital Status  Gender  \\\n",
       "227                           Wife        Married  Female   \n",
       "832                           Head        Married  Female   \n",
       "833                        Husband        Married    Male   \n",
       "910                        Husband        Married    Male   \n",
       "1041                          Head        Married  Female   \n",
       "1757                          Head        Married    Male   \n",
       "1758                          Wife        Married  Female   \n",
       "3895                          Wife        Married  Female   \n",
       "4036                          Wife        Married  Female   \n",
       "4157                          Wife        Married  Female   \n",
       "4596                          Wife        Married  Female   \n",
       "4731                          Head        Married  Female   \n",
       "4954                          Head        Married    Male   \n",
       "4955                          Wife        Married  Female   \n",
       "5687                          Wife        Married  Female   \n",
       "6574                          Head        Married    Male   \n",
       "6575                          Wife        Married  Female   \n",
       "7134                          Head        Married  Female   \n",
       "7179                          Head        Married  Female   \n",
       "7201                          Head        Married  Female   \n",
       "7525                          Head        Married  Female   \n",
       "7526                       Husband        Married    Male   \n",
       "7531                          Head        Married  Female   \n",
       "7532                       Husband        Married    Male   \n",
       "8004                          Head        Married    Male   \n",
       "8005                          Wife        Married  Female   \n",
       "9146                          Wife        Married  Female   \n",
       "\n",
       "                  Occupation Infirmity   Religion  \n",
       "227       University Student      None       None  \n",
       "832   Therapist, nutritional      None  Christian  \n",
       "833       University Student      None  Christian  \n",
       "910       University Student      None       None  \n",
       "1041      University Student      None  Methodist  \n",
       "1757      University Student      None       None  \n",
       "1758      University Student      None       None  \n",
       "3895   Accountant, chartered      None  Methodist  \n",
       "4036      University Student      None       None  \n",
       "4157      University Student      None       None  \n",
       "4596      University Student      None  Methodist  \n",
       "4731      University Student      None  Christian  \n",
       "4954      University Student      None  Christian  \n",
       "4955      University Student      None  Christian  \n",
       "5687      University Student      None       None  \n",
       "6574      University Student      None       None  \n",
       "6575      University Student      None       None  \n",
       "7134      University Student      None  Methodist  \n",
       "7179      University Student      None       None  \n",
       "7201      University Student      None       None  \n",
       "7525                 Student      None        NaN  \n",
       "7526      University Student      None       None  \n",
       "7531      University Student      None  Methodist  \n",
       "7532      University Student      None  Methodist  \n",
       "8004                 Student      None        NaN  \n",
       "8005      University Student      None       None  \n",
       "9146      University Student      None       None  "
      ]
     },
     "execution_count": 37,
     "metadata": {},
     "output_type": "execute_result"
    }
   ],
   "source": [
    "df.loc[(df['Age'] < 20) & (df['Marital Status'] == \"Married\")]"
   ]
  },
  {
   "cell_type": "markdown",
   "id": "d17ff135",
   "metadata": {},
   "source": [
    "- There is a household of a 16 year old wife who is a student and a 19-year old husband who is a University Student."
   ]
  },
  {
   "cell_type": "code",
   "execution_count": 38,
   "id": "a3471f1e",
   "metadata": {},
   "outputs": [
    {
     "data": {
      "text/html": [
       "<div>\n",
       "<style scoped>\n",
       "    .dataframe tbody tr th:only-of-type {\n",
       "        vertical-align: middle;\n",
       "    }\n",
       "\n",
       "    .dataframe tbody tr th {\n",
       "        vertical-align: top;\n",
       "    }\n",
       "\n",
       "    .dataframe thead th {\n",
       "        text-align: right;\n",
       "    }\n",
       "</style>\n",
       "<table border=\"1\" class=\"dataframe\">\n",
       "  <thead>\n",
       "    <tr style=\"text-align: right;\">\n",
       "      <th></th>\n",
       "      <th>House Number</th>\n",
       "      <th>Street</th>\n",
       "      <th>First Name</th>\n",
       "      <th>Surname</th>\n",
       "      <th>Age</th>\n",
       "      <th>Relationship to Head of House</th>\n",
       "      <th>Marital Status</th>\n",
       "      <th>Gender</th>\n",
       "      <th>Occupation</th>\n",
       "      <th>Infirmity</th>\n",
       "      <th>Religion</th>\n",
       "    </tr>\n",
       "  </thead>\n",
       "  <tbody>\n",
       "    <tr>\n",
       "      <th>6852</th>\n",
       "      <td>32</td>\n",
       "      <td>Ball Lane</td>\n",
       "      <td>Declan</td>\n",
       "      <td>Nash</td>\n",
       "      <td>19</td>\n",
       "      <td>Son</td>\n",
       "      <td>Widowed</td>\n",
       "      <td>Male</td>\n",
       "      <td>University Student</td>\n",
       "      <td>None</td>\n",
       "      <td>None</td>\n",
       "    </tr>\n",
       "  </tbody>\n",
       "</table>\n",
       "</div>"
      ],
      "text/plain": [
       "      House Number     Street First Name Surname  Age  \\\n",
       "6852            32  Ball Lane     Declan    Nash   19   \n",
       "\n",
       "     Relationship to Head of House Marital Status Gender          Occupation  \\\n",
       "6852                           Son        Widowed   Male  University Student   \n",
       "\n",
       "     Infirmity Religion  \n",
       "6852      None     None  "
      ]
     },
     "execution_count": 38,
     "metadata": {},
     "output_type": "execute_result"
    }
   ],
   "source": [
    "df.loc[(df['Age'] < 20) & (df['Marital Status'] == \"Widowed\")]"
   ]
  },
  {
   "cell_type": "markdown",
   "id": "a9b03ae4",
   "metadata": {},
   "source": [
    "- This is an outright lie. How can a 19-year old son to the house be widowed?\n",
    "- The marital status of this subject will be replaced with Single."
   ]
  },
  {
   "cell_type": "code",
   "execution_count": 39,
   "id": "0e916aef",
   "metadata": {},
   "outputs": [],
   "source": [
    "#replacing the marital status of row 6852\n",
    "df.at[6852, 'Marital Status']= \"Single\""
   ]
  },
  {
   "cell_type": "code",
   "execution_count": 40,
   "id": "989628b7",
   "metadata": {},
   "outputs": [
    {
     "data": {
      "text/html": [
       "<div>\n",
       "<style scoped>\n",
       "    .dataframe tbody tr th:only-of-type {\n",
       "        vertical-align: middle;\n",
       "    }\n",
       "\n",
       "    .dataframe tbody tr th {\n",
       "        vertical-align: top;\n",
       "    }\n",
       "\n",
       "    .dataframe thead th {\n",
       "        text-align: right;\n",
       "    }\n",
       "</style>\n",
       "<table border=\"1\" class=\"dataframe\">\n",
       "  <thead>\n",
       "    <tr style=\"text-align: right;\">\n",
       "      <th></th>\n",
       "      <th>count</th>\n",
       "      <th>mean</th>\n",
       "      <th>std</th>\n",
       "      <th>min</th>\n",
       "      <th>25%</th>\n",
       "      <th>50%</th>\n",
       "      <th>75%</th>\n",
       "      <th>max</th>\n",
       "    </tr>\n",
       "    <tr>\n",
       "      <th>Marital Status</th>\n",
       "      <th></th>\n",
       "      <th></th>\n",
       "      <th></th>\n",
       "      <th></th>\n",
       "      <th></th>\n",
       "      <th></th>\n",
       "      <th></th>\n",
       "      <th></th>\n",
       "    </tr>\n",
       "  </thead>\n",
       "  <tbody>\n",
       "    <tr>\n",
       "      <th>Divorced</th>\n",
       "      <td>875.0</td>\n",
       "      <td>41.266286</td>\n",
       "      <td>16.382895</td>\n",
       "      <td>16.0</td>\n",
       "      <td>29.00</td>\n",
       "      <td>39.0</td>\n",
       "      <td>50.0</td>\n",
       "      <td>103.0</td>\n",
       "    </tr>\n",
       "    <tr>\n",
       "      <th>Married</th>\n",
       "      <td>2728.0</td>\n",
       "      <td>51.470308</td>\n",
       "      <td>16.731991</td>\n",
       "      <td>16.0</td>\n",
       "      <td>39.00</td>\n",
       "      <td>50.0</td>\n",
       "      <td>63.0</td>\n",
       "      <td>107.0</td>\n",
       "    </tr>\n",
       "    <tr>\n",
       "      <th>Minor</th>\n",
       "      <td>2233.0</td>\n",
       "      <td>9.165696</td>\n",
       "      <td>4.985044</td>\n",
       "      <td>0.0</td>\n",
       "      <td>5.00</td>\n",
       "      <td>9.0</td>\n",
       "      <td>14.0</td>\n",
       "      <td>17.0</td>\n",
       "    </tr>\n",
       "    <tr>\n",
       "      <th>Single</th>\n",
       "      <td>3210.0</td>\n",
       "      <td>37.438941</td>\n",
       "      <td>13.811541</td>\n",
       "      <td>18.0</td>\n",
       "      <td>25.00</td>\n",
       "      <td>36.0</td>\n",
       "      <td>47.0</td>\n",
       "      <td>99.0</td>\n",
       "    </tr>\n",
       "    <tr>\n",
       "      <th>Widowed</th>\n",
       "      <td>358.0</td>\n",
       "      <td>63.536313</td>\n",
       "      <td>17.859946</td>\n",
       "      <td>20.0</td>\n",
       "      <td>50.25</td>\n",
       "      <td>68.5</td>\n",
       "      <td>75.0</td>\n",
       "      <td>105.0</td>\n",
       "    </tr>\n",
       "  </tbody>\n",
       "</table>\n",
       "</div>"
      ],
      "text/plain": [
       "                 count       mean        std   min    25%   50%   75%    max\n",
       "Marital Status                                                              \n",
       "Divorced         875.0  41.266286  16.382895  16.0  29.00  39.0  50.0  103.0\n",
       "Married         2728.0  51.470308  16.731991  16.0  39.00  50.0  63.0  107.0\n",
       "Minor           2233.0   9.165696   4.985044   0.0   5.00   9.0  14.0   17.0\n",
       "Single          3210.0  37.438941  13.811541  18.0  25.00  36.0  47.0   99.0\n",
       "Widowed          358.0  63.536313  17.859946  20.0  50.25  68.5  75.0  105.0"
      ]
     },
     "execution_count": 40,
     "metadata": {},
     "output_type": "execute_result"
    }
   ],
   "source": [
    "df.groupby('Marital Status')['Age'].describe()"
   ]
  },
  {
   "cell_type": "code",
   "execution_count": 41,
   "id": "03534e47",
   "metadata": {},
   "outputs": [
    {
     "data": {
      "image/png": "[encoded data removed]",
      "text/plain": [
       "<Figure size 432x288 with 1 Axes>"
      ]
     },
     "metadata": {
      "needs_background": "light"
     },
     "output_type": "display_data"
    }
   ],
   "source": [
    "sns.countplot(data=df, x='Marital Status');"
   ]
  },
  {
   "cell_type": "markdown",
   "id": "0e59e265",
   "metadata": {},
   "source": [
    "- There is a high probability to have more singles will get married in the future. Hence, the married people will increase and invariably will lead to more children."
   ]
  },
  {
   "cell_type": "code",
   "execution_count": 42,
   "id": "b574d72c",
   "metadata": {},
   "outputs": [
    {
     "data": {
      "image/png": "[encoded data removed]",
      "text/plain": [
       "<Figure size 432x288 with 1 Axes>"
      ]
     },
     "metadata": {
      "needs_background": "light"
     },
     "output_type": "display_data"
    }
   ],
   "source": [
    "sns.histplot(data=df, x='Age');"
   ]
  },
  {
   "cell_type": "code",
   "execution_count": 43,
   "id": "27c9fe21",
   "metadata": {},
   "outputs": [
    {
     "data": {
      "image/png": "[encoded data removed]",
      "text/plain": [
       "<Figure size 432x288 with 1 Axes>"
      ]
     },
     "metadata": {
      "needs_background": "light"
     },
     "output_type": "display_data"
    }
   ],
   "source": [
    "sns.countplot(data=df, x='Religion')\n",
    "plt.xticks(rotation=90);"
   ]
  },
  {
   "cell_type": "markdown",
   "id": "28741b84",
   "metadata": {},
   "source": [
    "#### Religion distribution"
   ]
  },
  {
   "cell_type": "code",
   "execution_count": 44,
   "id": "388da199",
   "metadata": {},
   "outputs": [
    {
     "data": {
      "image/png": "[encoded data removed]",
      "text/plain": [
       "<Figure size 1440x360 with 1 Axes>"
      ]
     },
     "metadata": {
      "needs_background": "light"
     },
     "output_type": "display_data"
    }
   ],
   "source": [
    "plt.figure(figsize=[20,5])\n",
    "sns.boxplot(data=df, x='Religion', y='Age');"
   ]
  },
  {
   "cell_type": "code",
   "execution_count": 45,
   "id": "afd0e262",
   "metadata": {},
   "outputs": [
    {
     "data": {
      "text/html": [
       "<div>\n",
       "<style scoped>\n",
       "    .dataframe tbody tr th:only-of-type {\n",
       "        vertical-align: middle;\n",
       "    }\n",
       "\n",
       "    .dataframe tbody tr th {\n",
       "        vertical-align: top;\n",
       "    }\n",
       "\n",
       "    .dataframe thead th {\n",
       "        text-align: right;\n",
       "    }\n",
       "</style>\n",
       "<table border=\"1\" class=\"dataframe\">\n",
       "  <thead>\n",
       "    <tr style=\"text-align: right;\">\n",
       "      <th></th>\n",
       "      <th>count</th>\n",
       "      <th>mean</th>\n",
       "      <th>std</th>\n",
       "      <th>min</th>\n",
       "      <th>25%</th>\n",
       "      <th>50%</th>\n",
       "      <th>75%</th>\n",
       "      <th>max</th>\n",
       "    </tr>\n",
       "    <tr>\n",
       "      <th>Religion</th>\n",
       "      <th></th>\n",
       "      <th></th>\n",
       "      <th></th>\n",
       "      <th></th>\n",
       "      <th></th>\n",
       "      <th></th>\n",
       "      <th></th>\n",
       "      <th></th>\n",
       "    </tr>\n",
       "  </thead>\n",
       "  <tbody>\n",
       "    <tr>\n",
       "      <th>Buddist</th>\n",
       "      <td>2.0</td>\n",
       "      <td>28.500000</td>\n",
       "      <td>0.707107</td>\n",
       "      <td>28.0</td>\n",
       "      <td>28.25</td>\n",
       "      <td>28.5</td>\n",
       "      <td>28.75</td>\n",
       "      <td>29.0</td>\n",
       "    </tr>\n",
       "    <tr>\n",
       "      <th>Catholic</th>\n",
       "      <td>1022.0</td>\n",
       "      <td>43.190802</td>\n",
       "      <td>14.881899</td>\n",
       "      <td>18.0</td>\n",
       "      <td>34.00</td>\n",
       "      <td>42.0</td>\n",
       "      <td>50.00</td>\n",
       "      <td>104.0</td>\n",
       "    </tr>\n",
       "    <tr>\n",
       "      <th>Christian</th>\n",
       "      <td>2101.0</td>\n",
       "      <td>50.110900</td>\n",
       "      <td>17.430312</td>\n",
       "      <td>18.0</td>\n",
       "      <td>37.00</td>\n",
       "      <td>51.0</td>\n",
       "      <td>63.00</td>\n",
       "      <td>104.0</td>\n",
       "    </tr>\n",
       "    <tr>\n",
       "      <th>Jedi</th>\n",
       "      <td>1.0</td>\n",
       "      <td>42.000000</td>\n",
       "      <td>NaN</td>\n",
       "      <td>42.0</td>\n",
       "      <td>42.00</td>\n",
       "      <td>42.0</td>\n",
       "      <td>42.00</td>\n",
       "      <td>42.0</td>\n",
       "    </tr>\n",
       "    <tr>\n",
       "      <th>Jewish</th>\n",
       "      <td>39.0</td>\n",
       "      <td>48.487179</td>\n",
       "      <td>18.681361</td>\n",
       "      <td>20.0</td>\n",
       "      <td>34.00</td>\n",
       "      <td>48.0</td>\n",
       "      <td>65.50</td>\n",
       "      <td>86.0</td>\n",
       "    </tr>\n",
       "    <tr>\n",
       "      <th>Methodist</th>\n",
       "      <td>638.0</td>\n",
       "      <td>44.468652</td>\n",
       "      <td>17.148116</td>\n",
       "      <td>18.0</td>\n",
       "      <td>31.00</td>\n",
       "      <td>42.0</td>\n",
       "      <td>56.00</td>\n",
       "      <td>98.0</td>\n",
       "    </tr>\n",
       "    <tr>\n",
       "      <th>Muslim</th>\n",
       "      <td>147.0</td>\n",
       "      <td>37.571429</td>\n",
       "      <td>16.422504</td>\n",
       "      <td>19.0</td>\n",
       "      <td>24.50</td>\n",
       "      <td>32.0</td>\n",
       "      <td>48.50</td>\n",
       "      <td>87.0</td>\n",
       "    </tr>\n",
       "    <tr>\n",
       "      <th>None</th>\n",
       "      <td>3118.0</td>\n",
       "      <td>42.026940</td>\n",
       "      <td>17.031305</td>\n",
       "      <td>18.0</td>\n",
       "      <td>29.00</td>\n",
       "      <td>40.0</td>\n",
       "      <td>51.75</td>\n",
       "      <td>107.0</td>\n",
       "    </tr>\n",
       "    <tr>\n",
       "      <th>Nope</th>\n",
       "      <td>2.0</td>\n",
       "      <td>35.000000</td>\n",
       "      <td>21.213203</td>\n",
       "      <td>20.0</td>\n",
       "      <td>27.50</td>\n",
       "      <td>35.0</td>\n",
       "      <td>42.50</td>\n",
       "      <td>50.0</td>\n",
       "    </tr>\n",
       "    <tr>\n",
       "      <th>Pagan</th>\n",
       "      <td>2.0</td>\n",
       "      <td>52.500000</td>\n",
       "      <td>0.707107</td>\n",
       "      <td>52.0</td>\n",
       "      <td>52.25</td>\n",
       "      <td>52.5</td>\n",
       "      <td>52.75</td>\n",
       "      <td>53.0</td>\n",
       "    </tr>\n",
       "    <tr>\n",
       "      <th>Quaker</th>\n",
       "      <td>2.0</td>\n",
       "      <td>27.000000</td>\n",
       "      <td>12.727922</td>\n",
       "      <td>18.0</td>\n",
       "      <td>22.50</td>\n",
       "      <td>27.0</td>\n",
       "      <td>31.50</td>\n",
       "      <td>36.0</td>\n",
       "    </tr>\n",
       "    <tr>\n",
       "      <th>Sikh</th>\n",
       "      <td>53.0</td>\n",
       "      <td>37.000000</td>\n",
       "      <td>17.835789</td>\n",
       "      <td>19.0</td>\n",
       "      <td>26.00</td>\n",
       "      <td>32.0</td>\n",
       "      <td>39.00</td>\n",
       "      <td>89.0</td>\n",
       "    </tr>\n",
       "    <tr>\n",
       "      <th>Sith</th>\n",
       "      <td>2.0</td>\n",
       "      <td>63.000000</td>\n",
       "      <td>43.840620</td>\n",
       "      <td>32.0</td>\n",
       "      <td>47.50</td>\n",
       "      <td>63.0</td>\n",
       "      <td>78.50</td>\n",
       "      <td>94.0</td>\n",
       "    </tr>\n",
       "    <tr>\n",
       "      <th>Undecided</th>\n",
       "      <td>2.0</td>\n",
       "      <td>28.500000</td>\n",
       "      <td>2.121320</td>\n",
       "      <td>27.0</td>\n",
       "      <td>27.75</td>\n",
       "      <td>28.5</td>\n",
       "      <td>29.25</td>\n",
       "      <td>30.0</td>\n",
       "    </tr>\n",
       "  </tbody>\n",
       "</table>\n",
       "</div>"
      ],
      "text/plain": [
       "            count       mean        std   min    25%   50%    75%    max\n",
       "Religion                                                                \n",
       "Buddist       2.0  28.500000   0.707107  28.0  28.25  28.5  28.75   29.0\n",
       "Catholic   1022.0  43.190802  14.881899  18.0  34.00  42.0  50.00  104.0\n",
       "Christian  2101.0  50.110900  17.430312  18.0  37.00  51.0  63.00  104.0\n",
       "Jedi          1.0  42.000000        NaN  42.0  42.00  42.0  42.00   42.0\n",
       "Jewish       39.0  48.487179  18.681361  20.0  34.00  48.0  65.50   86.0\n",
       "Methodist   638.0  44.468652  17.148116  18.0  31.00  42.0  56.00   98.0\n",
       "Muslim      147.0  37.571429  16.422504  19.0  24.50  32.0  48.50   87.0\n",
       "None       3118.0  42.026940  17.031305  18.0  29.00  40.0  51.75  107.0\n",
       "Nope          2.0  35.000000  21.213203  20.0  27.50  35.0  42.50   50.0\n",
       "Pagan         2.0  52.500000   0.707107  52.0  52.25  52.5  52.75   53.0\n",
       "Quaker        2.0  27.000000  12.727922  18.0  22.50  27.0  31.50   36.0\n",
       "Sikh         53.0  37.000000  17.835789  19.0  26.00  32.0  39.00   89.0\n",
       "Sith          2.0  63.000000  43.840620  32.0  47.50  63.0  78.50   94.0\n",
       "Undecided     2.0  28.500000   2.121320  27.0  27.75  28.5  29.25   30.0"
      ]
     },
     "execution_count": 45,
     "metadata": {},
     "output_type": "execute_result"
    }
   ],
   "source": [
    "df.groupby('Religion')['Age'].describe()"
   ]
  },
  {
   "cell_type": "markdown",
   "id": "8e78a76e",
   "metadata": {},
   "source": [
    "##### Household occupancy\n",
    "\n",
    "- Duplicate the dataframe\n",
    "- Use the duplicate to carry out this data wrangling"
   ]
  },
  {
   "cell_type": "code",
   "execution_count": 46,
   "id": "9f85a319",
   "metadata": {},
   "outputs": [],
   "source": [
    "df_h = df.copy()"
   ]
  },
  {
   "cell_type": "markdown",
   "id": "27aa0a62",
   "metadata": {},
   "source": [
    "- To determine household occupancy, combining the house number and the street will be important."
   ]
  },
  {
   "cell_type": "code",
   "execution_count": 47,
   "id": "55ef9605",
   "metadata": {},
   "outputs": [],
   "source": [
    "df_h['House Street'] = df_h['House Number'].astype(str) + \"-\" + df_h['Street']"
   ]
  },
  {
   "cell_type": "code",
   "execution_count": 48,
   "id": "00eb34b1",
   "metadata": {},
   "outputs": [
    {
     "data": {
      "text/html": [
       "<div>\n",
       "<style scoped>\n",
       "    .dataframe tbody tr th:only-of-type {\n",
       "        vertical-align: middle;\n",
       "    }\n",
       "\n",
       "    .dataframe tbody tr th {\n",
       "        vertical-align: top;\n",
       "    }\n",
       "\n",
       "    .dataframe thead th {\n",
       "        text-align: right;\n",
       "    }\n",
       "</style>\n",
       "<table border=\"1\" class=\"dataframe\">\n",
       "  <thead>\n",
       "    <tr style=\"text-align: right;\">\n",
       "      <th></th>\n",
       "      <th>House Number</th>\n",
       "      <th>Street</th>\n",
       "      <th>First Name</th>\n",
       "      <th>Surname</th>\n",
       "      <th>Age</th>\n",
       "      <th>Relationship to Head of House</th>\n",
       "      <th>Marital Status</th>\n",
       "      <th>Gender</th>\n",
       "      <th>Occupation</th>\n",
       "      <th>Infirmity</th>\n",
       "      <th>Religion</th>\n",
       "      <th>House Street</th>\n",
       "    </tr>\n",
       "  </thead>\n",
       "  <tbody>\n",
       "    <tr>\n",
       "      <th>0</th>\n",
       "      <td>1</td>\n",
       "      <td>Allen Circle</td>\n",
       "      <td>John</td>\n",
       "      <td>Grant</td>\n",
       "      <td>43</td>\n",
       "      <td>Head</td>\n",
       "      <td>Married</td>\n",
       "      <td>Male</td>\n",
       "      <td>Operational investment banker</td>\n",
       "      <td>None</td>\n",
       "      <td>None</td>\n",
       "      <td>1-Allen Circle</td>\n",
       "    </tr>\n",
       "    <tr>\n",
       "      <th>1</th>\n",
       "      <td>1</td>\n",
       "      <td>Allen Circle</td>\n",
       "      <td>Kim</td>\n",
       "      <td>Grant</td>\n",
       "      <td>37</td>\n",
       "      <td>Wife</td>\n",
       "      <td>Married</td>\n",
       "      <td>Female</td>\n",
       "      <td>Intelligence analyst</td>\n",
       "      <td>None</td>\n",
       "      <td>None</td>\n",
       "      <td>1-Allen Circle</td>\n",
       "    </tr>\n",
       "  </tbody>\n",
       "</table>\n",
       "</div>"
      ],
      "text/plain": [
       "   House Number        Street First Name Surname  Age  \\\n",
       "0             1  Allen Circle       John   Grant   43   \n",
       "1             1  Allen Circle        Kim   Grant   37   \n",
       "\n",
       "  Relationship to Head of House Marital Status  Gender  \\\n",
       "0                          Head        Married    Male   \n",
       "1                          Wife        Married  Female   \n",
       "\n",
       "                      Occupation Infirmity Religion    House Street  \n",
       "0  Operational investment banker      None     None  1-Allen Circle  \n",
       "1           Intelligence analyst      None     None  1-Allen Circle  "
      ]
     },
     "execution_count": 48,
     "metadata": {},
     "output_type": "execute_result"
    }
   ],
   "source": [
    "df_h.head(2)"
   ]
  },
  {
   "cell_type": "code",
   "execution_count": 49,
   "id": "1c147247",
   "metadata": {},
   "outputs": [],
   "source": [
    "#calculate the number of people in each household\n",
    " \n",
    "Occupancy = df_h['House Street'].value_counts()"
   ]
  },
  {
   "cell_type": "code",
   "execution_count": 50,
   "id": "3ecb6d22",
   "metadata": {},
   "outputs": [],
   "source": [
    "#assign the count of household to a dataframe df_h1\n",
    "df_h1 = pd.DataFrame(Occupancy) "
   ]
  },
  {
   "cell_type": "code",
   "execution_count": 51,
   "id": "c389e186",
   "metadata": {},
   "outputs": [],
   "source": [
    "df_h1 = df_h1.reset_index()"
   ]
  },
  {
   "cell_type": "code",
   "execution_count": 52,
   "id": "37a7f5ba",
   "metadata": {},
   "outputs": [],
   "source": [
    "df_h1.columns = ['House Street', 'Occupancy level']"
   ]
  },
  {
   "cell_type": "code",
   "execution_count": 53,
   "id": "7af14fef",
   "metadata": {},
   "outputs": [
    {
     "data": {
      "text/html": [
       "<div>\n",
       "<style scoped>\n",
       "    .dataframe tbody tr th:only-of-type {\n",
       "        vertical-align: middle;\n",
       "    }\n",
       "\n",
       "    .dataframe tbody tr th {\n",
       "        vertical-align: top;\n",
       "    }\n",
       "\n",
       "    .dataframe thead th {\n",
       "        text-align: right;\n",
       "    }\n",
       "</style>\n",
       "<table border=\"1\" class=\"dataframe\">\n",
       "  <thead>\n",
       "    <tr style=\"text-align: right;\">\n",
       "      <th></th>\n",
       "      <th>House Street</th>\n",
       "      <th>Occupancy level</th>\n",
       "    </tr>\n",
       "  </thead>\n",
       "  <tbody>\n",
       "    <tr>\n",
       "      <th>0</th>\n",
       "      <td>34-Powys Lane</td>\n",
       "      <td>20</td>\n",
       "    </tr>\n",
       "    <tr>\n",
       "      <th>1</th>\n",
       "      <td>43-Powys Lane</td>\n",
       "      <td>19</td>\n",
       "    </tr>\n",
       "    <tr>\n",
       "      <th>2</th>\n",
       "      <td>44-Connolly Park</td>\n",
       "      <td>17</td>\n",
       "    </tr>\n",
       "    <tr>\n",
       "      <th>3</th>\n",
       "      <td>3-Sutton Crescent</td>\n",
       "      <td>17</td>\n",
       "    </tr>\n",
       "    <tr>\n",
       "      <th>4</th>\n",
       "      <td>35-Connolly Park</td>\n",
       "      <td>16</td>\n",
       "    </tr>\n",
       "  </tbody>\n",
       "</table>\n",
       "</div>"
      ],
      "text/plain": [
       "        House Street  Occupancy level\n",
       "0      34-Powys Lane               20\n",
       "1      43-Powys Lane               19\n",
       "2   44-Connolly Park               17\n",
       "3  3-Sutton Crescent               17\n",
       "4   35-Connolly Park               16"
      ]
     },
     "execution_count": 53,
     "metadata": {},
     "output_type": "execute_result"
    }
   ],
   "source": [
    "df_h1.head()"
   ]
  },
  {
   "cell_type": "code",
   "execution_count": 54,
   "id": "422b5825",
   "metadata": {},
   "outputs": [
    {
     "data": {
      "text/plain": [
       "count    3329.000000\n",
       "mean        2.824872\n",
       "std         1.678564\n",
       "min         1.000000\n",
       "25%         2.000000\n",
       "50%         3.000000\n",
       "75%         4.000000\n",
       "max        20.000000\n",
       "Name: Occupancy level, dtype: float64"
      ]
     },
     "execution_count": 54,
     "metadata": {},
     "output_type": "execute_result"
    }
   ],
   "source": [
    "df_h1['Occupancy level'].describe()"
   ]
  },
  {
   "cell_type": "code",
   "execution_count": 55,
   "id": "7788bf7b",
   "metadata": {},
   "outputs": [
    {
     "data": {
      "image/png": "[encoded data removed]",
      "text/plain": [
       "<Figure size 432x288 with 1 Axes>"
      ]
     },
     "metadata": {
      "needs_background": "light"
     },
     "output_type": "display_data"
    }
   ],
   "source": [
    "sns.histplot(data=df_h1, x='Occupancy level');"
   ]
  },
  {
   "cell_type": "code",
   "execution_count": 56,
   "id": "be597af9",
   "metadata": {},
   "outputs": [
    {
     "data": {
      "image/png": "[encoded data removed]",
      "text/plain": [
       "<Figure size 432x288 with 1 Axes>"
      ]
     },
     "metadata": {
      "needs_background": "light"
     },
     "output_type": "display_data"
    }
   ],
   "source": [
    "sns.boxplot(data=df_h1, y='Occupancy level');"
   ]
  },
  {
   "cell_type": "code",
   "execution_count": 57,
   "id": "6e669b3e",
   "metadata": {},
   "outputs": [],
   "source": [
    "df_h1 = pd.merge(df_h1, df_h, how='inner', on='House Street')"
   ]
  },
  {
   "cell_type": "code",
   "execution_count": 58,
   "id": "ad218e74",
   "metadata": {
    "scrolled": true
   },
   "outputs": [
    {
     "data": {
      "text/html": [
       "<div>\n",
       "<style scoped>\n",
       "    .dataframe tbody tr th:only-of-type {\n",
       "        vertical-align: middle;\n",
       "    }\n",
       "\n",
       "    .dataframe tbody tr th {\n",
       "        vertical-align: top;\n",
       "    }\n",
       "\n",
       "    .dataframe thead th {\n",
       "        text-align: right;\n",
       "    }\n",
       "</style>\n",
       "<table border=\"1\" class=\"dataframe\">\n",
       "  <thead>\n",
       "    <tr style=\"text-align: right;\">\n",
       "      <th></th>\n",
       "      <th>House Street</th>\n",
       "      <th>Occupancy level</th>\n",
       "      <th>House Number</th>\n",
       "      <th>Street</th>\n",
       "      <th>First Name</th>\n",
       "      <th>Surname</th>\n",
       "      <th>Age</th>\n",
       "      <th>Relationship to Head of House</th>\n",
       "      <th>Marital Status</th>\n",
       "      <th>Gender</th>\n",
       "      <th>Occupation</th>\n",
       "      <th>Infirmity</th>\n",
       "      <th>Religion</th>\n",
       "    </tr>\n",
       "  </thead>\n",
       "  <tbody>\n",
       "    <tr>\n",
       "      <th>0</th>\n",
       "      <td>34-Powys Lane</td>\n",
       "      <td>20</td>\n",
       "      <td>34</td>\n",
       "      <td>Powys Lane</td>\n",
       "      <td>Jean</td>\n",
       "      <td>Davies</td>\n",
       "      <td>47</td>\n",
       "      <td>Head</td>\n",
       "      <td>Married</td>\n",
       "      <td>Female</td>\n",
       "      <td>Doctor, hospital</td>\n",
       "      <td>None</td>\n",
       "      <td>None</td>\n",
       "    </tr>\n",
       "    <tr>\n",
       "      <th>1</th>\n",
       "      <td>34-Powys Lane</td>\n",
       "      <td>20</td>\n",
       "      <td>34</td>\n",
       "      <td>Powys Lane</td>\n",
       "      <td>Maurice</td>\n",
       "      <td>Davies</td>\n",
       "      <td>48</td>\n",
       "      <td>Husband</td>\n",
       "      <td>Married</td>\n",
       "      <td>Male</td>\n",
       "      <td>Armed forces operational officer</td>\n",
       "      <td>None</td>\n",
       "      <td>None</td>\n",
       "    </tr>\n",
       "    <tr>\n",
       "      <th>2</th>\n",
       "      <td>34-Powys Lane</td>\n",
       "      <td>20</td>\n",
       "      <td>34</td>\n",
       "      <td>Powys Lane</td>\n",
       "      <td>Toby</td>\n",
       "      <td>Gray</td>\n",
       "      <td>15</td>\n",
       "      <td>Son</td>\n",
       "      <td>Minor</td>\n",
       "      <td>Male</td>\n",
       "      <td>Student</td>\n",
       "      <td>None</td>\n",
       "      <td>NaN</td>\n",
       "    </tr>\n",
       "    <tr>\n",
       "      <th>3</th>\n",
       "      <td>34-Powys Lane</td>\n",
       "      <td>20</td>\n",
       "      <td>34</td>\n",
       "      <td>Powys Lane</td>\n",
       "      <td>Cameron</td>\n",
       "      <td>Gray</td>\n",
       "      <td>11</td>\n",
       "      <td>Son</td>\n",
       "      <td>Minor</td>\n",
       "      <td>Male</td>\n",
       "      <td>Student</td>\n",
       "      <td>None</td>\n",
       "      <td>NaN</td>\n",
       "    </tr>\n",
       "    <tr>\n",
       "      <th>4</th>\n",
       "      <td>34-Powys Lane</td>\n",
       "      <td>20</td>\n",
       "      <td>34</td>\n",
       "      <td>Powys Lane</td>\n",
       "      <td>Eleanor</td>\n",
       "      <td>Gray</td>\n",
       "      <td>8</td>\n",
       "      <td>Daughter</td>\n",
       "      <td>Minor</td>\n",
       "      <td>Female</td>\n",
       "      <td>Student</td>\n",
       "      <td>None</td>\n",
       "      <td>NaN</td>\n",
       "    </tr>\n",
       "  </tbody>\n",
       "</table>\n",
       "</div>"
      ],
      "text/plain": [
       "    House Street  Occupancy level  House Number      Street First Name  \\\n",
       "0  34-Powys Lane               20            34  Powys Lane       Jean   \n",
       "1  34-Powys Lane               20            34  Powys Lane    Maurice   \n",
       "2  34-Powys Lane               20            34  Powys Lane       Toby   \n",
       "3  34-Powys Lane               20            34  Powys Lane    Cameron   \n",
       "4  34-Powys Lane               20            34  Powys Lane    Eleanor   \n",
       "\n",
       "  Surname  Age Relationship to Head of House Marital Status  Gender  \\\n",
       "0  Davies   47                          Head        Married  Female   \n",
       "1  Davies   48                       Husband        Married    Male   \n",
       "2    Gray   15                           Son          Minor    Male   \n",
       "3    Gray   11                           Son          Minor    Male   \n",
       "4    Gray    8                      Daughter          Minor  Female   \n",
       "\n",
       "                         Occupation Infirmity Religion  \n",
       "0                  Doctor, hospital      None     None  \n",
       "1  Armed forces operational officer      None     None  \n",
       "2                           Student      None      NaN  \n",
       "3                           Student      None      NaN  \n",
       "4                           Student      None      NaN  "
      ]
     },
     "execution_count": 58,
     "metadata": {},
     "output_type": "execute_result"
    }
   ],
   "source": [
    "df_h1.head()"
   ]
  },
  {
   "cell_type": "code",
   "execution_count": 121,
   "id": "14e481dd",
   "metadata": {},
   "outputs": [
    {
     "data": {
      "text/html": [
       "<div>\n",
       "<style scoped>\n",
       "    .dataframe tbody tr th:only-of-type {\n",
       "        vertical-align: middle;\n",
       "    }\n",
       "\n",
       "    .dataframe tbody tr th {\n",
       "        vertical-align: top;\n",
       "    }\n",
       "\n",
       "    .dataframe thead th {\n",
       "        text-align: right;\n",
       "    }\n",
       "</style>\n",
       "<table border=\"1\" class=\"dataframe\">\n",
       "  <thead>\n",
       "    <tr style=\"text-align: right;\">\n",
       "      <th></th>\n",
       "      <th>count</th>\n",
       "      <th>mean</th>\n",
       "      <th>std</th>\n",
       "      <th>min</th>\n",
       "      <th>25%</th>\n",
       "      <th>50%</th>\n",
       "      <th>75%</th>\n",
       "      <th>max</th>\n",
       "    </tr>\n",
       "    <tr>\n",
       "      <th>Marital Status</th>\n",
       "      <th></th>\n",
       "      <th></th>\n",
       "      <th></th>\n",
       "      <th></th>\n",
       "      <th></th>\n",
       "      <th></th>\n",
       "      <th></th>\n",
       "      <th></th>\n",
       "    </tr>\n",
       "  </thead>\n",
       "  <tbody>\n",
       "    <tr>\n",
       "      <th>Divorced</th>\n",
       "      <td>875.0</td>\n",
       "      <td>3.716571</td>\n",
       "      <td>2.754175</td>\n",
       "      <td>1.0</td>\n",
       "      <td>2.0</td>\n",
       "      <td>3.0</td>\n",
       "      <td>5.0</td>\n",
       "      <td>20.0</td>\n",
       "    </tr>\n",
       "    <tr>\n",
       "      <th>Married</th>\n",
       "      <td>2728.0</td>\n",
       "      <td>3.326246</td>\n",
       "      <td>1.611706</td>\n",
       "      <td>2.0</td>\n",
       "      <td>2.0</td>\n",
       "      <td>3.0</td>\n",
       "      <td>4.0</td>\n",
       "      <td>20.0</td>\n",
       "    </tr>\n",
       "    <tr>\n",
       "      <th>Minor</th>\n",
       "      <td>2233.0</td>\n",
       "      <td>4.357815</td>\n",
       "      <td>2.281795</td>\n",
       "      <td>2.0</td>\n",
       "      <td>3.0</td>\n",
       "      <td>4.0</td>\n",
       "      <td>5.0</td>\n",
       "      <td>20.0</td>\n",
       "    </tr>\n",
       "    <tr>\n",
       "      <th>Single</th>\n",
       "      <td>3210.0</td>\n",
       "      <td>4.081620</td>\n",
       "      <td>2.774624</td>\n",
       "      <td>1.0</td>\n",
       "      <td>2.0</td>\n",
       "      <td>4.0</td>\n",
       "      <td>5.0</td>\n",
       "      <td>20.0</td>\n",
       "    </tr>\n",
       "    <tr>\n",
       "      <th>Widowed</th>\n",
       "      <td>358.0</td>\n",
       "      <td>2.187151</td>\n",
       "      <td>2.019832</td>\n",
       "      <td>1.0</td>\n",
       "      <td>1.0</td>\n",
       "      <td>1.0</td>\n",
       "      <td>3.0</td>\n",
       "      <td>17.0</td>\n",
       "    </tr>\n",
       "  </tbody>\n",
       "</table>\n",
       "</div>"
      ],
      "text/plain": [
       "                 count      mean       std  min  25%  50%  75%   max\n",
       "Marital Status                                                      \n",
       "Divorced         875.0  3.716571  2.754175  1.0  2.0  3.0  5.0  20.0\n",
       "Married         2728.0  3.326246  1.611706  2.0  2.0  3.0  4.0  20.0\n",
       "Minor           2233.0  4.357815  2.281795  2.0  3.0  4.0  5.0  20.0\n",
       "Single          3210.0  4.081620  2.774624  1.0  2.0  4.0  5.0  20.0\n",
       "Widowed          358.0  2.187151  2.019832  1.0  1.0  1.0  3.0  17.0"
      ]
     },
     "execution_count": 121,
     "metadata": {},
     "output_type": "execute_result"
    }
   ],
   "source": [
    "df_h1.groupby('Marital Status')['Occupancy level'].describe()"
   ]
  },
  {
   "cell_type": "code",
   "execution_count": 145,
   "id": "506c2165",
   "metadata": {},
   "outputs": [
    {
     "data": {
      "image/png": "[encoded data removed]",
      "text/plain": [
       "<Figure size 432x288 with 1 Axes>"
      ]
     },
     "metadata": {
      "needs_background": "light"
     },
     "output_type": "display_data"
    }
   ],
   "source": [
    "sns.violinplot(data=df_h1, x='Marital Status', y='Occupancy level')\n",
    "plt.xlabel('Marital Status')\n",
    "plt.ylabel('Occupancy level');"
   ]
  },
  {
   "cell_type": "code",
   "execution_count": 155,
   "id": "f75a2087",
   "metadata": {},
   "outputs": [
    {
     "data": {
      "text/plain": [
       "Marital Status\n",
       "Divorced    41.266286\n",
       "Married     51.470308\n",
       "Minor        9.165696\n",
       "Single      37.438941\n",
       "Widowed     63.536313\n",
       "Name: Age, dtype: float64"
      ]
     },
     "execution_count": 155,
     "metadata": {},
     "output_type": "execute_result"
    }
   ],
   "source": [
    "df_h1.groupby('Marital Status')['Age'].mean()"
   ]
  },
  {
   "cell_type": "code",
   "execution_count": 169,
   "id": "0cd0a64a",
   "metadata": {},
   "outputs": [
    {
     "data": {
      "text/plain": [
       "3     2214\n",
       "4     2052\n",
       "2     1838\n",
       "5     1660\n",
       "1      709\n",
       "6      396\n",
       "12     120\n",
       "7      105\n",
       "11      99\n",
       "9       72\n",
       "17      34\n",
       "10      20\n",
       "20      20\n",
       "19      19\n",
       "8       16\n",
       "16      16\n",
       "14      14\n",
       "Name: Occupancy level, dtype: int64"
      ]
     },
     "execution_count": 169,
     "metadata": {},
     "output_type": "execute_result"
    }
   ],
   "source": [
    "df_h1['Occupancy level'].value_counts()"
   ]
  },
  {
   "cell_type": "code",
   "execution_count": 172,
   "id": "8538815f",
   "metadata": {},
   "outputs": [
    {
     "data": {
      "image/png": "[encoded data removed]",
      "text/plain": [
       "<Figure size 432x288 with 1 Axes>"
      ]
     },
     "metadata": {
      "needs_background": "light"
     },
     "output_type": "display_data"
    }
   ],
   "source": [
    "df_h1.plot.scatter(x='Marital Status', y='Occupancy level');"
   ]
  },
  {
   "cell_type": "code",
   "execution_count": 63,
   "id": "09b6d2c3",
   "metadata": {},
   "outputs": [
    {
     "name": "stdout",
     "output_type": "stream",
     "text": [
      "<class 'pandas.core.frame.DataFrame'>\n",
      "Int64Index: 9404 entries, 0 to 9404\n",
      "Data columns (total 11 columns):\n",
      " #   Column                         Non-Null Count  Dtype \n",
      "---  ------                         --------------  ----- \n",
      " 0   House Number                   9404 non-null   int64 \n",
      " 1   Street                         9404 non-null   object\n",
      " 2   First Name                     9404 non-null   object\n",
      " 3   Surname                        9404 non-null   object\n",
      " 4   Age                            9404 non-null   int32 \n",
      " 5   Relationship to Head of House  9404 non-null   object\n",
      " 6   Marital Status                 9404 non-null   object\n",
      " 7   Gender                         9404 non-null   object\n",
      " 8   Occupation                     9404 non-null   object\n",
      " 9   Infirmity                      9404 non-null   object\n",
      " 10  Religion                       7131 non-null   object\n",
      "dtypes: int32(1), int64(1), object(9)\n",
      "memory usage: 1.1+ MB\n"
     ]
    }
   ],
   "source": [
    "df.info()"
   ]
  },
  {
   "cell_type": "markdown",
   "id": "01d625a7",
   "metadata": {},
   "source": [
    "##### Unemployment trend"
   ]
  },
  {
   "cell_type": "code",
   "execution_count": 64,
   "id": "03568d01",
   "metadata": {},
   "outputs": [
    {
     "data": {
      "image/png": "[encoded data removed]",
      "text/plain": [
       "<Figure size 432x288 with 1 Axes>"
      ]
     },
     "metadata": {
      "needs_background": "light"
     },
     "output_type": "display_data"
    }
   ],
   "source": [
    "df_unemployed = df[df.Occupation == \"Unemployed\"]\n",
    "sns.distplot(df_unemployed['Age'], label='Gender')\n",
    "plt.xlabel('Age')\n",
    "plt.ylabel('Frequency')\n",
    "plt.title('Age distribution of the Unemployed');"
   ]
  },
  {
   "cell_type": "code",
   "execution_count": 88,
   "id": "6118c76c",
   "metadata": {},
   "outputs": [
    {
     "data": {
      "image/png": "[encoded data removed]",
      "text/plain": [
       "<Figure size 720x720 with 1 Axes>"
      ]
     },
     "metadata": {
      "needs_background": "light"
     },
     "output_type": "display_data"
    }
   ],
   "source": [
    "#bins = [0, 20, 40, 60, 80, 100]\n",
    "#labels = [0, 20, 40, 60, 80]\n",
    "#df_unemployed['age_bins'] = pd.cut(df_unemployed['Age'], bins= bins, labels=labels)\n",
    "\n",
    "unemployed = df_unemployed.groupby(['Age','Gender']).size().reset_index(name='count')\n",
    "\n",
    "# Pivot the table to create unemployed population pyramid\n",
    "unemployed_p = unemployed.pivot_table(values='count', index='Age', columns='Gender')\n",
    "\n",
    "# Plot the population pyramid\n",
    "unemployed_p.plot(kind='barh', stacked=True, figsize=(10,10))\n",
    "plt.xlabel('Number of Individuals')\n",
    "plt.ylabel('Age')\n",
    "plt.title('Age distribution of the Unemployed')\n",
    "plt.show()"
   ]
  },
  {
   "cell_type": "markdown",
   "id": "1e359c9c",
   "metadata": {},
   "source": [
    "#### Population Pyramid"
   ]
  },
  {
   "cell_type": "code",
   "execution_count": 70,
   "id": "c64855f2",
   "metadata": {},
   "outputs": [],
   "source": [
    "#create a duplicate dataframe for the population pyramid\n",
    "df_p = df.copy()"
   ]
  },
  {
   "cell_type": "code",
   "execution_count": 72,
   "id": "904d0edb",
   "metadata": {},
   "outputs": [],
   "source": [
    "#drop columns that are not needed for the population pyramid\n",
    "df_p = df_p.drop(['House Number', 'Street', 'First Name', 'Surname', 'Relationship to Head of House', 'Occupation', 'Religion', 'Infirmity'], axis=1)"
   ]
  },
  {
   "cell_type": "code",
   "execution_count": 73,
   "id": "316792fe",
   "metadata": {},
   "outputs": [
    {
     "data": {
      "text/html": [
       "<div>\n",
       "<style scoped>\n",
       "    .dataframe tbody tr th:only-of-type {\n",
       "        vertical-align: middle;\n",
       "    }\n",
       "\n",
       "    .dataframe tbody tr th {\n",
       "        vertical-align: top;\n",
       "    }\n",
       "\n",
       "    .dataframe thead th {\n",
       "        text-align: right;\n",
       "    }\n",
       "</style>\n",
       "<table border=\"1\" class=\"dataframe\">\n",
       "  <thead>\n",
       "    <tr style=\"text-align: right;\">\n",
       "      <th></th>\n",
       "      <th>Age</th>\n",
       "      <th>Marital Status</th>\n",
       "      <th>Gender</th>\n",
       "    </tr>\n",
       "  </thead>\n",
       "  <tbody>\n",
       "    <tr>\n",
       "      <th>0</th>\n",
       "      <td>43</td>\n",
       "      <td>Married</td>\n",
       "      <td>Male</td>\n",
       "    </tr>\n",
       "    <tr>\n",
       "      <th>1</th>\n",
       "      <td>37</td>\n",
       "      <td>Married</td>\n",
       "      <td>Female</td>\n",
       "    </tr>\n",
       "  </tbody>\n",
       "</table>\n",
       "</div>"
      ],
      "text/plain": [
       "   Age Marital Status  Gender\n",
       "0   43        Married    Male\n",
       "1   37        Married  Female"
      ]
     },
     "execution_count": 73,
     "metadata": {},
     "output_type": "execute_result"
    }
   ],
   "source": [
    "df_p.head(2)"
   ]
  },
  {
   "cell_type": "code",
   "execution_count": 74,
   "id": "a7404974",
   "metadata": {},
   "outputs": [
    {
     "data": {
      "text/plain": [
       "count    9404.000000\n",
       "mean       36.145364\n",
       "std        21.490054\n",
       "min         0.000000\n",
       "25%        18.000000\n",
       "50%        36.000000\n",
       "75%        51.000000\n",
       "max       107.000000\n",
       "Name: Age, dtype: float64"
      ]
     },
     "execution_count": 74,
     "metadata": {},
     "output_type": "execute_result"
    }
   ],
   "source": [
    "df_p['Age'].describe()"
   ]
  },
  {
   "cell_type": "code",
   "execution_count": 89,
   "id": "1b234d58",
   "metadata": {},
   "outputs": [],
   "source": [
    "bins = [0, 4, 9, 14, 19, 24, 29, 34, 39, 44, 49, 54, 59, 64, 69, 74, 79, 84, 89, 94, 99]\n",
    "labels = ['0-4', '5-9', '10-14', '15-19', '20-24', '25-29', '30-34', '35-39', '40-44', '45-49', '50-54', '55-59', '60-64', '65-69', '70-74', '75-79', '80-84', '85-89', '90-94', '95+']\n",
    "df_p['Age group'] = pd.cut(df_p['Age'], bins=bins, labels=labels)"
   ]
  },
  {
   "cell_type": "code",
   "execution_count": 78,
   "id": "b5321fd9",
   "metadata": {},
   "outputs": [
    {
     "data": {
      "text/html": [
       "<div>\n",
       "<style scoped>\n",
       "    .dataframe tbody tr th:only-of-type {\n",
       "        vertical-align: middle;\n",
       "    }\n",
       "\n",
       "    .dataframe tbody tr th {\n",
       "        vertical-align: top;\n",
       "    }\n",
       "\n",
       "    .dataframe thead th {\n",
       "        text-align: right;\n",
       "    }\n",
       "</style>\n",
       "<table border=\"1\" class=\"dataframe\">\n",
       "  <thead>\n",
       "    <tr style=\"text-align: right;\">\n",
       "      <th></th>\n",
       "      <th>Age</th>\n",
       "      <th>Marital Status</th>\n",
       "      <th>Gender</th>\n",
       "      <th>Age group</th>\n",
       "    </tr>\n",
       "  </thead>\n",
       "  <tbody>\n",
       "    <tr>\n",
       "      <th>0</th>\n",
       "      <td>43</td>\n",
       "      <td>Married</td>\n",
       "      <td>Male</td>\n",
       "      <td>40-44</td>\n",
       "    </tr>\n",
       "    <tr>\n",
       "      <th>1</th>\n",
       "      <td>37</td>\n",
       "      <td>Married</td>\n",
       "      <td>Female</td>\n",
       "      <td>35-39</td>\n",
       "    </tr>\n",
       "  </tbody>\n",
       "</table>\n",
       "</div>"
      ],
      "text/plain": [
       "   Age Marital Status  Gender Age group\n",
       "0   43        Married    Male     40-44\n",
       "1   37        Married  Female     35-39"
      ]
     },
     "execution_count": 78,
     "metadata": {},
     "output_type": "execute_result"
    }
   ],
   "source": [
    "df_p.head(2)"
   ]
  },
  {
   "cell_type": "code",
   "execution_count": 91,
   "id": "7968e563",
   "metadata": {},
   "outputs": [
    {
     "data": {
      "image/png": "[encoded data removed]",
      "text/plain": [
       "<Figure size 720x1440 with 1 Axes>"
      ]
     },
     "metadata": {
      "needs_background": "light"
     },
     "output_type": "display_data"
    }
   ],
   "source": [
    "age_sex = df_p.groupby(['Age group', 'Gender']).size().reset_index(name='count')\n",
    "\n",
    "# Pivot the table to create a population pyramid\n",
    "pyramid = age_sex.pivot_table(values='count', index='Age group', columns='Gender')\n",
    "\n",
    "# Plot the population pyramid\n",
    "pyramid.plot(kind='barh', stacked=True, figsize=(10,20))\n",
    "plt.xlabel('Number of Individuals')\n",
    "plt.ylabel('Age Group')\n",
    "plt.title('Age Distribution of the Population')\n",
    "plt.show()"
   ]
  },
  {
   "cell_type": "markdown",
   "id": "3fbe1a66",
   "metadata": {},
   "source": [
    "- To generate an age pyramid, the gender column has to be melted into two columns, the age and marital status columns must be removed."
   ]
  },
  {
   "cell_type": "code",
   "execution_count": 102,
   "id": "2879ba7f",
   "metadata": {},
   "outputs": [],
   "source": [
    "#make a copy of the dataframe\n",
    "df_age = df_p.copy()"
   ]
  },
  {
   "cell_type": "code",
   "execution_count": 103,
   "id": "63910d2b",
   "metadata": {},
   "outputs": [],
   "source": [
    "#drop age and marital status columns\n",
    "df_age = df_age.drop(['Marital Status'], axis=1)"
   ]
  },
  {
   "cell_type": "code",
   "execution_count": 104,
   "id": "a0223f0e",
   "metadata": {},
   "outputs": [
    {
     "data": {
      "text/html": [
       "<div>\n",
       "<style scoped>\n",
       "    .dataframe tbody tr th:only-of-type {\n",
       "        vertical-align: middle;\n",
       "    }\n",
       "\n",
       "    .dataframe tbody tr th {\n",
       "        vertical-align: top;\n",
       "    }\n",
       "\n",
       "    .dataframe thead th {\n",
       "        text-align: right;\n",
       "    }\n",
       "</style>\n",
       "<table border=\"1\" class=\"dataframe\">\n",
       "  <thead>\n",
       "    <tr style=\"text-align: right;\">\n",
       "      <th></th>\n",
       "      <th>Age</th>\n",
       "      <th>Gender</th>\n",
       "      <th>Age group</th>\n",
       "    </tr>\n",
       "  </thead>\n",
       "  <tbody>\n",
       "    <tr>\n",
       "      <th>0</th>\n",
       "      <td>43</td>\n",
       "      <td>Male</td>\n",
       "      <td>40-44</td>\n",
       "    </tr>\n",
       "    <tr>\n",
       "      <th>1</th>\n",
       "      <td>37</td>\n",
       "      <td>Female</td>\n",
       "      <td>35-39</td>\n",
       "    </tr>\n",
       "  </tbody>\n",
       "</table>\n",
       "</div>"
      ],
      "text/plain": [
       "   Age  Gender Age group\n",
       "0   43    Male     40-44\n",
       "1   37  Female     35-39"
      ]
     },
     "execution_count": 104,
     "metadata": {},
     "output_type": "execute_result"
    }
   ],
   "source": [
    "df_age.head(2)"
   ]
  },
  {
   "cell_type": "code",
   "execution_count": 105,
   "id": "f1dcf78c",
   "metadata": {},
   "outputs": [
    {
     "data": {
      "text/plain": [
       "(9404, 3)"
      ]
     },
     "execution_count": 105,
     "metadata": {},
     "output_type": "execute_result"
    }
   ],
   "source": [
    "df_age.shape"
   ]
  },
  {
   "cell_type": "code",
   "execution_count": 106,
   "id": "732d3dc5",
   "metadata": {},
   "outputs": [],
   "source": [
    "# create two new columns 'Male' and 'Female' based on the 'Gender' column\n",
    "df_new = pd.get_dummies(df_age['Gender'])\n",
    "\n",
    "# concatenate the new columns with the original dataframe\n",
    "df_age = pd.concat([df_age, df_new], axis=1)\n",
    "\n",
    "# drop the original 'Gender' column\n",
    "df_age.drop('Gender', axis=1, inplace=True)"
   ]
  },
  {
   "cell_type": "code",
   "execution_count": 107,
   "id": "21aae4e0",
   "metadata": {},
   "outputs": [
    {
     "data": {
      "text/html": [
       "<div>\n",
       "<style scoped>\n",
       "    .dataframe tbody tr th:only-of-type {\n",
       "        vertical-align: middle;\n",
       "    }\n",
       "\n",
       "    .dataframe tbody tr th {\n",
       "        vertical-align: top;\n",
       "    }\n",
       "\n",
       "    .dataframe thead th {\n",
       "        text-align: right;\n",
       "    }\n",
       "</style>\n",
       "<table border=\"1\" class=\"dataframe\">\n",
       "  <thead>\n",
       "    <tr style=\"text-align: right;\">\n",
       "      <th></th>\n",
       "      <th>Age</th>\n",
       "      <th>Age group</th>\n",
       "      <th>Female</th>\n",
       "      <th>Male</th>\n",
       "    </tr>\n",
       "  </thead>\n",
       "  <tbody>\n",
       "    <tr>\n",
       "      <th>0</th>\n",
       "      <td>43</td>\n",
       "      <td>40-44</td>\n",
       "      <td>0</td>\n",
       "      <td>1</td>\n",
       "    </tr>\n",
       "    <tr>\n",
       "      <th>1</th>\n",
       "      <td>37</td>\n",
       "      <td>35-39</td>\n",
       "      <td>1</td>\n",
       "      <td>0</td>\n",
       "    </tr>\n",
       "    <tr>\n",
       "      <th>2</th>\n",
       "      <td>44</td>\n",
       "      <td>40-44</td>\n",
       "      <td>1</td>\n",
       "      <td>0</td>\n",
       "    </tr>\n",
       "    <tr>\n",
       "      <th>3</th>\n",
       "      <td>44</td>\n",
       "      <td>40-44</td>\n",
       "      <td>0</td>\n",
       "      <td>1</td>\n",
       "    </tr>\n",
       "    <tr>\n",
       "      <th>4</th>\n",
       "      <td>24</td>\n",
       "      <td>20-24</td>\n",
       "      <td>1</td>\n",
       "      <td>0</td>\n",
       "    </tr>\n",
       "  </tbody>\n",
       "</table>\n",
       "</div>"
      ],
      "text/plain": [
       "   Age Age group  Female  Male\n",
       "0   43     40-44       0     1\n",
       "1   37     35-39       1     0\n",
       "2   44     40-44       1     0\n",
       "3   44     40-44       0     1\n",
       "4   24     20-24       1     0"
      ]
     },
     "execution_count": 107,
     "metadata": {},
     "output_type": "execute_result"
    }
   ],
   "source": [
    "df_age.head()"
   ]
  },
  {
   "cell_type": "code",
   "execution_count": 108,
   "id": "daeb4aca",
   "metadata": {},
   "outputs": [],
   "source": [
    "#remove age column\n",
    "df_age = df_age.drop(['Age'], axis=1)"
   ]
  },
  {
   "cell_type": "code",
   "execution_count": 109,
   "id": "032305b8",
   "metadata": {},
   "outputs": [],
   "source": [
    "# use pd.pivot_table() to get the count of each age group for males and females\n",
    "df_age = pd.pivot_table(df_age, values=['Male', 'Female'], index='Age group', aggfunc='sum')"
   ]
  },
  {
   "cell_type": "code",
   "execution_count": 110,
   "id": "d09f0f3d",
   "metadata": {},
   "outputs": [
    {
     "data": {
      "text/html": [
       "<div>\n",
       "<style scoped>\n",
       "    .dataframe tbody tr th:only-of-type {\n",
       "        vertical-align: middle;\n",
       "    }\n",
       "\n",
       "    .dataframe tbody tr th {\n",
       "        vertical-align: top;\n",
       "    }\n",
       "\n",
       "    .dataframe thead th {\n",
       "        text-align: right;\n",
       "    }\n",
       "</style>\n",
       "<table border=\"1\" class=\"dataframe\">\n",
       "  <thead>\n",
       "    <tr style=\"text-align: right;\">\n",
       "      <th></th>\n",
       "      <th>Female</th>\n",
       "      <th>Male</th>\n",
       "    </tr>\n",
       "    <tr>\n",
       "      <th>Age group</th>\n",
       "      <th></th>\n",
       "      <th></th>\n",
       "    </tr>\n",
       "  </thead>\n",
       "  <tbody>\n",
       "    <tr>\n",
       "      <th>0-4</th>\n",
       "      <td>196.0</td>\n",
       "      <td>223.0</td>\n",
       "    </tr>\n",
       "    <tr>\n",
       "      <th>5-9</th>\n",
       "      <td>316.0</td>\n",
       "      <td>336.0</td>\n",
       "    </tr>\n",
       "    <tr>\n",
       "      <th>10-14</th>\n",
       "      <td>328.0</td>\n",
       "      <td>347.0</td>\n",
       "    </tr>\n",
       "    <tr>\n",
       "      <th>15-19</th>\n",
       "      <td>355.0</td>\n",
       "      <td>349.0</td>\n",
       "    </tr>\n",
       "    <tr>\n",
       "      <th>20-24</th>\n",
       "      <td>347.0</td>\n",
       "      <td>338.0</td>\n",
       "    </tr>\n",
       "  </tbody>\n",
       "</table>\n",
       "</div>"
      ],
      "text/plain": [
       "           Female   Male\n",
       "Age group               \n",
       "0-4         196.0  223.0\n",
       "5-9         316.0  336.0\n",
       "10-14       328.0  347.0\n",
       "15-19       355.0  349.0\n",
       "20-24       347.0  338.0"
      ]
     },
     "execution_count": 110,
     "metadata": {},
     "output_type": "execute_result"
    }
   ],
   "source": [
    "df_age.head()"
   ]
  },
  {
   "cell_type": "code",
   "execution_count": 111,
   "id": "b6cc3340",
   "metadata": {},
   "outputs": [],
   "source": [
    "df_age['Female_x'] = df_age['Female'] * -1"
   ]
  },
  {
   "cell_type": "code",
   "execution_count": 112,
   "id": "ac9d01b6",
   "metadata": {},
   "outputs": [
    {
     "data": {
      "text/html": [
       "<div>\n",
       "<style scoped>\n",
       "    .dataframe tbody tr th:only-of-type {\n",
       "        vertical-align: middle;\n",
       "    }\n",
       "\n",
       "    .dataframe tbody tr th {\n",
       "        vertical-align: top;\n",
       "    }\n",
       "\n",
       "    .dataframe thead th {\n",
       "        text-align: right;\n",
       "    }\n",
       "</style>\n",
       "<table border=\"1\" class=\"dataframe\">\n",
       "  <thead>\n",
       "    <tr style=\"text-align: right;\">\n",
       "      <th></th>\n",
       "      <th>Female</th>\n",
       "      <th>Male</th>\n",
       "      <th>Female_x</th>\n",
       "    </tr>\n",
       "    <tr>\n",
       "      <th>Age group</th>\n",
       "      <th></th>\n",
       "      <th></th>\n",
       "      <th></th>\n",
       "    </tr>\n",
       "  </thead>\n",
       "  <tbody>\n",
       "    <tr>\n",
       "      <th>0-4</th>\n",
       "      <td>196.0</td>\n",
       "      <td>223.0</td>\n",
       "      <td>-196.0</td>\n",
       "    </tr>\n",
       "    <tr>\n",
       "      <th>5-9</th>\n",
       "      <td>316.0</td>\n",
       "      <td>336.0</td>\n",
       "      <td>-316.0</td>\n",
       "    </tr>\n",
       "    <tr>\n",
       "      <th>10-14</th>\n",
       "      <td>328.0</td>\n",
       "      <td>347.0</td>\n",
       "      <td>-328.0</td>\n",
       "    </tr>\n",
       "  </tbody>\n",
       "</table>\n",
       "</div>"
      ],
      "text/plain": [
       "           Female   Male  Female_x\n",
       "Age group                         \n",
       "0-4         196.0  223.0    -196.0\n",
       "5-9         316.0  336.0    -316.0\n",
       "10-14       328.0  347.0    -328.0"
      ]
     },
     "execution_count": 112,
     "metadata": {},
     "output_type": "execute_result"
    }
   ],
   "source": [
    "df_age.head(3)"
   ]
  },
  {
   "cell_type": "code",
   "execution_count": 114,
   "id": "6496ac62",
   "metadata": {},
   "outputs": [],
   "source": [
    "df_age = df_age.reset_index()"
   ]
  },
  {
   "cell_type": "code",
   "execution_count": 115,
   "id": "6a3494ec",
   "metadata": {},
   "outputs": [],
   "source": [
    "df_age.columns = ['Age group', 'Female', 'Male', 'Female_x']"
   ]
  },
  {
   "cell_type": "code",
   "execution_count": 120,
   "id": "322bafd0",
   "metadata": {},
   "outputs": [
    {
     "data": {
      "image/png": "[encoded data removed]",
      "text/plain": [
       "<Figure size 720x720 with 1 Axes>"
      ]
     },
     "metadata": {
      "needs_background": "light"
     },
     "output_type": "display_data"
    }
   ],
   "source": [
    "#generate a population pyramid using seaborn\n",
    "Age_order = ['95+', '90-94', '85-89', '80-84', '75-79', '70-74', '65-69', '60-64', '55-59', '50-54', '45-49', '40-44', '35-39', '30-34', '25-29', '20-24', '15-19', '10-14', '5-9', '0-4']\n",
    "plt.figure(figsize=[10,10])\n",
    "bar_plot = sns.barplot(x='Male', y='Age group', data=df_age, order=Age_order)\n",
    "\n",
    "bar_plot = sns.barplot(x='Female_x', y='Age group', data=df_age, order=Age_order)\n",
    "\n",
    "bar_plot.set(xlabel=\"Population\", ylabel=\"Age-Group\", title = \"Population Pyramid\")\n",
    "plt.axvline(x=0, color='black');"
   ]
  },
  {
   "cell_type": "markdown",
   "id": "d9d5a772",
   "metadata": {},
   "source": [
    "##### Employment category"
   ]
  },
  {
   "cell_type": "code",
   "execution_count": 125,
   "id": "9ee0bd2f",
   "metadata": {},
   "outputs": [],
   "source": [
    "#create an employment status column\n",
    "employment_status = []\n",
    "for row in df['Occupation']:\n",
    "    if row == 'Child':\n",
    "        employment_status.append('Child')\n",
    "    elif row == 'Student':\n",
    "        employment_status.append('Student')\n",
    "    elif row == 'University Student':\n",
    "        employment_status.append('University Student')\n",
    "    elif row == 'Retiree':\n",
    "        employment_status.append('Retiree')\n",
    "    elif row == 'Unemployed':\n",
    "        employment_status.append('Unemployed')\n",
    "    else:\n",
    "        employment_status.append('Employed')\n",
    "        "
   ]
  },
  {
   "cell_type": "code",
   "execution_count": 126,
   "id": "fb9ed629",
   "metadata": {},
   "outputs": [],
   "source": [
    "df['Employment Status'] = employment_status"
   ]
  },
  {
   "cell_type": "code",
   "execution_count": 167,
   "id": "785fd469",
   "metadata": {},
   "outputs": [
    {
     "data": {
      "image/png": "[encoded data removed]",
      "text/plain": [
       "<Figure size 432x288 with 1 Axes>"
      ]
     },
     "metadata": {
      "needs_background": "light"
     },
     "output_type": "display_data"
    }
   ],
   "source": [
    "df['Employment Status'].value_counts().plot(kind='barh')\n",
    "plt.ylabel('Employment Status')\n",
    "plt.xlabel('Population Count')\n",
    "plt.title('Distribution of the Population by Employment Status');"
   ]
  },
  {
   "cell_type": "code",
   "execution_count": 165,
   "id": "38ccf5ad",
   "metadata": {},
   "outputs": [
    {
     "data": {
      "text/plain": [
       "Employed              53.339005\n",
       "Student               19.587410\n",
       "Retiree                8.421948\n",
       "Unemployed             6.901319\n",
       "University Student     6.507869\n",
       "Child                  5.242450\n",
       "Name: Employment Status, dtype: float64"
      ]
     },
     "execution_count": 165,
     "metadata": {},
     "output_type": "execute_result"
    }
   ],
   "source": [
    "df['Employment Status'].value_counts(normalize=True)*100"
   ]
  },
  {
   "cell_type": "code",
   "execution_count": 124,
   "id": "fd95914a",
   "metadata": {},
   "outputs": [
    {
     "data": {
      "text/plain": [
       "array(['Operational investment banker', 'Intelligence analyst',\n",
       "       'Production designer, theatre/television/film', 'Paediatric nurse',\n",
       "       'Child psychotherapist', 'Student', 'Event organiser',\n",
       "       'Surveyor, commercial/residential', 'Unemployed', 'Child',\n",
       "       'Housing manager/officer', 'Advice worker',\n",
       "       'International aid/development worker',\n",
       "       'Senior tax professional/tax inspector',\n",
       "       'Research scientist (medical)', 'Loss adjuster, chartered',\n",
       "       'Patent examiner', 'Cytogeneticist', 'Education administrator',\n",
       "       'University Student', 'Mechanical engineer', 'Wellsite geologist',\n",
       "       'Exhibition designer', 'Civil Service fast streamer',\n",
       "       'Accountant, chartered public finance', 'Restaurant manager',\n",
       "       'Surveyor, building', 'Passenger transport manager',\n",
       "       'Product designer', 'Graphic designer', 'Theatre manager',\n",
       "       'Public relations officer', 'Youth worker',\n",
       "       'Pension scheme manager', 'Recruitment consultant', 'Comptroller',\n",
       "       'Advertising art director', 'Surveyor, land/geomatics',\n",
       "       'Operational researcher', 'Retiree', 'Jewellery designer',\n",
       "       'Acupuncturist', 'Control and instrumentation engineer',\n",
       "       'Sports therapist', 'Tourist information centre manager',\n",
       "       'Photographer', 'Administrator, charities/voluntary organisations',\n",
       "       'Personal assistant', 'Designer, exhibition/display', 'Aid worker',\n",
       "       'Chartered legal executive (England and Wales)',\n",
       "       'Administrator, sports', 'Risk analyst', 'Colour technologist',\n",
       "       'Conference centre manager', 'Clinical biochemist',\n",
       "       'Occupational therapist', 'Ergonomist', 'Engineer, petroleum',\n",
       "       'Surveyor, planning and development', 'Ship broker',\n",
       "       'Trade union research officer', 'Research officer, trade union',\n",
       "       'Financial planner', 'Chief Executive Officer',\n",
       "       'Civil engineer, contracting', 'Transport planner',\n",
       "       'Fitness centre manager', 'Land/geomatics surveyor',\n",
       "       'Engineer, structural', 'Therapist, music',\n",
       "       'Waste management officer', 'Production engineer',\n",
       "       'Applications developer', 'Freight forwarder',\n",
       "       'Designer, furniture', 'Patent attorney', 'Art gallery manager',\n",
       "       'Visual merchandiser', 'Diagnostic radiographer', 'Barrister',\n",
       "       'Glass blower/designer', 'Animator',\n",
       "       'Research officer, political party',\n",
       "       'Research officer, government', 'Conservator, museum/gallery',\n",
       "       'Air traffic controller', 'Rural practice surveyor',\n",
       "       'Engineer, civil (contracting)', 'Health physicist',\n",
       "       'Designer, graphic', 'Commercial art gallery manager',\n",
       "       'Merchandiser, retail', 'Charity officer',\n",
       "       'Building services engineer',\n",
       "       'Engineer, control and instrumentation', 'Operations geologist',\n",
       "       'TEFL teacher', 'Media planner', 'Seismic interpreter',\n",
       "       'Exercise physiologist', 'Dance movement psychotherapist',\n",
       "       'Medical secretary', 'Economist', 'Engineer, maintenance (IT)',\n",
       "       'Police officer', 'Forensic psychologist', 'Neurosurgeon',\n",
       "       'Nurse, adult',\n",
       "       'Scientist, clinical (histocompatibility and immunogenetics)',\n",
       "       'Geoscientist', 'Engineer, water', 'Designer, jewellery',\n",
       "       'Health and safety adviser', 'Marketing executive',\n",
       "       'Sales promotion account executive', 'Health and safety inspector',\n",
       "       'Building control surveyor', 'Counselling psychologist',\n",
       "       'Lecturer, higher education', 'Public house manager',\n",
       "       'Chiropractor', 'Publishing copy', 'Physiological scientist',\n",
       "       'Designer, interior/spatial', 'Set designer',\n",
       "       'Engineer, manufacturing', 'Administrator, Civil Service',\n",
       "       'Furniture designer', 'Chartered certified accountant',\n",
       "       'Industrial buyer', 'Biomedical engineer', 'Biochemist, clinical',\n",
       "       'Surveyor, quantity', 'Accommodation manager',\n",
       "       'Public affairs consultant', 'Retail manager',\n",
       "       'Teacher, primary school', 'Producer, radio',\n",
       "       'Pharmacist, community', 'Personnel officer',\n",
       "       'Designer, television/film set', 'Therapeutic radiographer',\n",
       "       'Tourism officer', 'Actor', 'Arts development officer',\n",
       "       'Legal executive', 'Careers information officer',\n",
       "       'Occupational hygienist', 'Surgeon',\n",
       "       'Chartered public finance accountant', 'Teacher, early years/pre',\n",
       "       'Dentist', 'Information officer', 'Aeronautical engineer',\n",
       "       'Equities trader', 'Outdoor activities/education manager',\n",
       "       'Petroleum engineer', 'Musician', 'Systems developer',\n",
       "       'Teaching laboratory technician',\n",
       "       'Diplomatic Services operational officer', 'Hydrologist',\n",
       "       'Agricultural engineer', 'Trading standards officer',\n",
       "       'Administrator', 'Programmer, multimedia',\n",
       "       'Engineer, communications', 'Special effects artist',\n",
       "       'Environmental education officer', 'Water quality scientist',\n",
       "       'Garment/textile technologist', 'Best boy',\n",
       "       'Horticulturist, commercial', 'Hydrogeologist',\n",
       "       'Geneticist, molecular', 'Plant breeder/geneticist',\n",
       "       'Civil Service administrator', 'Forest/woodland manager',\n",
       "       'Adult guidance worker', 'Editor, film/video',\n",
       "       'Broadcast presenter', 'Bookseller', 'Video editor',\n",
       "       'Physicist, medical', 'Early years teacher',\n",
       "       'Copywriter, advertising', 'Mudlogger', 'Cabin crew',\n",
       "       'Psychotherapist, dance movement', 'Dealer',\n",
       "       'Theatre stage manager', 'Magazine features editor',\n",
       "       'Herpetologist', 'Fisheries officer', 'Public librarian',\n",
       "       'Corporate investment banker', 'Nurse, mental health',\n",
       "       'Administrator, local government', 'Administrator, education',\n",
       "       'Scientist, research (medical)', 'Astronomer',\n",
       "       'Chartered accountant', 'Warehouse manager', 'Legal secretary',\n",
       "       'Armed forces technical officer', 'Site engineer',\n",
       "       'Energy manager', 'Scientist, research (maths)',\n",
       "       'Magazine journalist', 'Retail merchandiser',\n",
       "       'Agricultural consultant', 'Banker', 'Dispensing optician',\n",
       "       'Therapist, occupational', 'Secondary school teacher',\n",
       "       'Drilling engineer', 'Designer, multimedia',\n",
       "       'Engineer, maintenance', 'Programmer, applications',\n",
       "       'Field seismologist', 'Emergency planning/management officer',\n",
       "       'Teacher, English as a foreign language', 'Tax inspector',\n",
       "       'Art therapist', 'Press sub', 'Scientist, marine',\n",
       "       'Geophysical data processor', 'Actuary', 'Multimedia specialist',\n",
       "       'Accounting technician', 'Dancer', 'Engineer, technical sales',\n",
       "       'Health promotion specialist', 'Secretary/administrator',\n",
       "       'Civil engineer, consulting', 'Tree surgeon', 'Chiropodist',\n",
       "       'Radiographer, therapeutic', 'Health visitor',\n",
       "       'Publishing rights manager', 'Science writer',\n",
       "       'Accountant, chartered management',\n",
       "       'Chartered management accountant', 'Scientist, forensic',\n",
       "       'Embryologist, clinical', 'Printmaker',\n",
       "       'Manufacturing systems engineer', 'Chemist, analytical',\n",
       "       'Museum/gallery conservator', 'Optometrist',\n",
       "       'Environmental consultant', 'Learning mentor',\n",
       "       'Investment banker, operational', 'Materials engineer',\n",
       "       'Educational psychologist', 'Water engineer', 'Engineer, chemical',\n",
       "       'Retail banker', 'Geophysicist/field seismologist',\n",
       "       'Financial controller', 'Teacher, secondary school',\n",
       "       'Engineer, civil (consulting)', 'Clinical research associate',\n",
       "       'Engineer, production', 'Holiday representative',\n",
       "       'Ambulance person', 'Further education lecturer',\n",
       "       'Scientist, product/process development',\n",
       "       'Sport and exercise psychologist', \"Barrister's clerk\",\n",
       "       'Librarian, public', 'Airline pilot', 'Professor Emeritus',\n",
       "       'Toxicologist', 'Stage manager', 'Theme park manager',\n",
       "       'Research scientist (maths)', 'Producer, television/film/video',\n",
       "       'Chief of Staff', 'Engineer, electrical',\n",
       "       'Communications engineer', 'Designer, industrial/product',\n",
       "       'Surveyor, rural practice', 'Ophthalmologist',\n",
       "       'Sales professional, IT', 'Theatre director',\n",
       "       \"Politician's assistant\", 'Records manager',\n",
       "       'Multimedia programmer', 'Adult nurse', 'Trade mark attorney',\n",
       "       'Financial risk analyst', 'Technical author',\n",
       "       'Chief Operating Officer', 'Training and development officer',\n",
       "       'Engineering geologist', 'Horticultural therapist',\n",
       "       'Clinical embryologist', 'Teacher, special educational needs',\n",
       "       'Interior and spatial designer', 'Clinical molecular geneticist',\n",
       "       'Editor, magazine features', 'Surveyor, minerals', 'Make',\n",
       "       'Scientist, water quality', \"Nurse, children's\", 'Hospital doctor',\n",
       "       'Illustrator', 'Associate Professor', 'Journalist, newspaper',\n",
       "       'Pharmacologist', 'Commercial/residential surveyor',\n",
       "       'Museum/gallery curator', 'Radiation protection practitioner',\n",
       "       'Database administrator', 'Psychiatrist',\n",
       "       'Engineer, broadcasting (operations)', 'Therapist, nutritional',\n",
       "       'Tour manager', 'Occupational psychologist', 'Ceramics designer',\n",
       "       'Designer, blown glass/stained glass', 'Probation officer',\n",
       "       'Community education officer', 'Engineer, manufacturing systems',\n",
       "       'Armed forces logistics/support/administrative officer',\n",
       "       'Learning disability nurse', 'Insurance broker',\n",
       "       'Information systems manager', 'Engineer, aeronautical',\n",
       "       'Designer, textile', 'Insurance claims handler', 'Haematologist',\n",
       "       'Engineer, mining', 'Town planner', 'Lexicographer',\n",
       "       'Sports development officer', 'Planning and development surveyor',\n",
       "       'Nature conservation officer', 'Osteopath',\n",
       "       'Print production planner', 'Heritage manager',\n",
       "       'Optician, dispensing', 'Air cabin crew', 'Leisure centre manager',\n",
       "       'Electronics engineer', 'Purchasing manager',\n",
       "       'Historic buildings inspector/conservation officer', 'Paramedic',\n",
       "       'Restaurant manager, fast food', 'Psychologist, clinical',\n",
       "       'Contractor', 'Facilities manager', 'Accountant, chartered',\n",
       "       'Psychiatric nurse', 'Geologist, engineering',\n",
       "       'Engineer, electronics', 'Speech and language therapist',\n",
       "       'Risk manager', 'Engineer, materials', 'Local government officer',\n",
       "       'English as a second language teacher',\n",
       "       'Medical sales representative', 'Surveyor, building control',\n",
       "       'Doctor, general practice', 'Television camera operator',\n",
       "       'Education officer, environmental',\n",
       "       'Television production assistant', 'Proofreader',\n",
       "       'Estate manager/land agent', 'Librarian, academic',\n",
       "       'Teacher, music', 'Therapist, sports', 'Management consultant',\n",
       "       'Animal technologist', 'Copy', 'Radio producer', 'Microbiologist',\n",
       "       'Clinical psychologist', 'Automotive engineer', 'Dietitian',\n",
       "       'Electrical engineer', 'Oceanographer',\n",
       "       'Investment banker, corporate', 'Armed forces operational officer',\n",
       "       'Insurance account manager', 'Architectural technologist',\n",
       "       'Insurance risk surveyor', 'Advertising account planner',\n",
       "       'Clothing/textile technologist', 'Food technologist',\n",
       "       'Development worker, community', 'Veterinary surgeon',\n",
       "       'Nutritional therapist', 'Naval architect', 'Air broker',\n",
       "       'Soil scientist', 'Herbalist', 'Financial adviser', 'Barista',\n",
       "       'Production assistant, television', 'Merchant navy officer',\n",
       "       'Therapist, drama', 'Sports coach',\n",
       "       'Special educational needs teacher', 'Bonds trader',\n",
       "       'Immigration officer', 'Mental health nurse', 'Financial trader',\n",
       "       'Commissioning editor',\n",
       "       'Psychologist, prison and probation services', 'Farm manager',\n",
       "       'Biomedical scientist', 'Engineer, automotive',\n",
       "       'Geologist, wellsite', 'Translator', 'Games developer',\n",
       "       'Production manager', 'Estate agent', 'Technical sales engineer',\n",
       "       'Investment analyst', 'Psychologist, forensic', 'Doctor, hospital',\n",
       "       'Immunologist', 'Technical brewer', 'Lobbyist',\n",
       "       'Financial manager', 'Statistician', 'Counsellor',\n",
       "       'Call centre manager', 'Journalist, magazine',\n",
       "       'IT sales professional', 'Therapist, speech and language',\n",
       "       'Private music teacher', 'Buyer, industrial', 'Gaffer',\n",
       "       'Scientist, biomedical', 'Cartographer',\n",
       "       'Lighting technician, broadcasting/film/video',\n",
       "       'Surveyor, insurance', 'Environmental manager', 'Psychotherapist',\n",
       "       'Runner, broadcasting/film/video', 'Warden/ranger',\n",
       "       'Accountant, chartered certified', 'Pharmacist, hospital',\n",
       "       'Surveyor, mining', 'Chief Strategy Officer',\n",
       "       'Sound technician, broadcasting/film/video',\n",
       "       'Brewing technologist', 'Building surveyor', 'Ranger/warden',\n",
       "       'Amenity horticulturist', 'Primary school teacher',\n",
       "       'Scientist, research (life sciences)',\n",
       "       'Programme researcher, broadcasting/film/video',\n",
       "       'General practice doctor', 'Manufacturing engineer', 'IT trainer',\n",
       "       'Customer service manager', 'Teacher, adult education',\n",
       "       'Conservator, furniture', 'Public relations account executive',\n",
       "       'Quality manager', 'Conservation officer, historic buildings',\n",
       "       'Research scientist (physical sciences)', 'Pilot, airline',\n",
       "       'Fast food restaurant manager', 'Music tutor',\n",
       "       'Presenter, broadcasting', 'Commercial horticulturist',\n",
       "       'Fashion designer', 'Horticultural consultant',\n",
       "       'Radiographer, diagnostic', 'Psychologist, counselling',\n",
       "       'Government social research officer',\n",
       "       'Higher education careers adviser', 'Web designer', 'Geochemist',\n",
       "       'Psychologist, educational', 'Podiatrist', 'Market researcher',\n",
       "       'Analytical chemist', 'Artist', 'Midwife', 'Volunteer coordinator',\n",
       "       'Exhibitions officer, museum/gallery', 'Audiological scientist',\n",
       "       'Programmer, systems', 'Hospital pharmacist', 'Film/video editor',\n",
       "       'Clinical cytogeneticist',\n",
       "       'Clinical scientist, histocompatibility and immunogenetics',\n",
       "       'Fine artist', 'Community pharmacist', 'Physiotherapist',\n",
       "       'Surveyor, hydrographic', 'Media buyer',\n",
       "       'English as a foreign language teacher', ' ',\n",
       "       'Higher education lecturer', 'Contracting civil engineer',\n",
       "       'Race relations officer', 'Tax adviser', 'Prison officer',\n",
       "       'Designer, ceramics/pottery', 'Ecologist', 'Fish farm manager',\n",
       "       'Curator', 'IT consultant', 'Social researcher',\n",
       "       'Social research officer, government',\n",
       "       'Television/film/video producer', 'Engineer, building services',\n",
       "       'Quantity surveyor', 'Animal nutritionist',\n",
       "       'Journalist, broadcasting', 'Archaeologist', 'Location manager',\n",
       "       'Social worker', 'Chief Technology Officer',\n",
       "       'Editor, commissioning', 'Architect', 'Retail buyer',\n",
       "       'Camera operator', 'Broadcast engineer', 'Dramatherapist',\n",
       "       'Press photographer', 'Chemical engineer', 'Minerals surveyor',\n",
       "       'Interpreter', 'Psychotherapist, child', 'Data processing manager',\n",
       "       'Insurance underwriter', 'Regulatory affairs officer',\n",
       "       'Pensions consultant', 'Editorial assistant', 'Product manager',\n",
       "       'Consulting civil engineer', 'Community development worker',\n",
       "       'Engineer, biomedical', 'Field trials officer', 'Futures trader',\n",
       "       'Industrial/product designer', 'Oncologist',\n",
       "       'Chartered loss adjuster', 'Travel agency manager',\n",
       "       'Museum education officer', 'Nurse, learning disability',\n",
       "       'Environmental health practitioner', 'Engineer, drilling',\n",
       "       'Engineer, land', 'Firefighter', 'Health service manager',\n",
       "       'Writer', 'Product/process development scientist',\n",
       "       'Marine scientist', 'Secretary, company', 'Licensed conveyancer',\n",
       "       'Museum/gallery exhibitions officer',\n",
       "       'Furniture conservator/restorer', 'Production assistant, radio',\n",
       "       'Hotel manager', 'Solicitor', 'Chief Marketing Officer',\n",
       "       'Medical technical officer', 'Conservation officer, nature',\n",
       "       'Development worker, international aid', 'Scientist, audiological',\n",
       "       'Engineer, site', 'Network engineer', 'Textile designer',\n",
       "       'Software engineer', 'Equality and diversity officer',\n",
       "       'Radio broadcast assistant', 'Lecturer, further education',\n",
       "       'Homeopath', 'Sub', 'Telecommunications researcher',\n",
       "       'Community arts worker', 'Medical laboratory scientific officer',\n",
       "       'Data scientist', 'Therapist, horticultural',\n",
       "       'Solicitor, Scotland', 'Education officer, museum',\n",
       "       'Forensic scientist', 'Buyer, retail', 'Chief Financial Officer',\n",
       "       'Archivist', 'Education officer, community', 'Charity fundraiser',\n",
       "       'Systems analyst', 'Mining engineer',\n",
       "       'Logistics and distribution manager', 'Orthoptist',\n",
       "       'Designer, fashion/clothing',\n",
       "       'Geographical information systems officer', 'Administrator, arts',\n",
       "       'Arboriculturist', 'Psychologist, sport and exercise',\n",
       "       'Company secretary', 'Phytotherapist', 'Energy engineer',\n",
       "       'Recycling officer', 'Human resources officer',\n",
       "       'IT technical support officer', 'Arts administrator',\n",
       "       'Therapist, art', 'Advertising account executive',\n",
       "       'Medical illustrator', 'Catering manager', 'Meteorologist',\n",
       "       'Broadcast journalist', 'Sales executive',\n",
       "       'Engineer, agricultural', 'Advertising copywriter',\n",
       "       'Music therapist', 'Careers adviser',\n",
       "       'Research scientist (life sciences)', 'Horticulturist, amenity',\n",
       "       'Hydrographic surveyor', 'Corporate treasurer', 'Lawyer',\n",
       "       'Office manager', 'Land', 'Television floor manager',\n",
       "       'Medical physicist', 'Armed forces training and education officer',\n",
       "       'Psychologist, occupational', 'Maintenance engineer',\n",
       "       'Academic librarian', 'Claims inspector/assessor', 'Pathologist',\n",
       "       'Newspaper journalist', 'Computer games developer',\n",
       "       'Landscape architect', 'Structural engineer',\n",
       "       'Scientist, physiological', 'Scientific laboratory technician',\n",
       "       'Scientist, research (physical sciences)', 'Metallurgist',\n",
       "       'Quarry manager', 'Engineer, energy', 'Sports administrator'],\n",
       "      dtype=object)"
      ]
     },
     "execution_count": 124,
     "metadata": {},
     "output_type": "execute_result"
    }
   ],
   "source": [
    "df['Occupation'].unique()"
   ]
  },
  {
   "cell_type": "markdown",
   "id": "e80926f1",
   "metadata": {},
   "source": [
    "##### Commuters\n",
    "\n",
    "- Classify professions that can be done remotely as non-commuting jobs\n",
    "- Students, child, unemployed, primary and secondary school teachers also considered non commuters\n",
    "- University Students are commuters."
   ]
  },
  {
   "cell_type": "code",
   "execution_count": 146,
   "id": "35e48d8a",
   "metadata": {},
   "outputs": [],
   "source": [
    "#designers, analysts, school teachers\n",
    "non_commuters = ['designer', 'Acunpuncturist', 'developer', 'retail', 'secondary school', 'teacher', 'analyst', 'Retiree', 'Student', 'Child', 'Unemployed']\n",
    "commuter_status = []\n",
    "for row in df['Occupation']:\n",
    "    if any(string in row for string in non_commuters):\n",
    "        commuter_status.append('Non commuter')\n",
    "    else:\n",
    "        commuter_status.append('Commuter')"
   ]
  },
  {
   "cell_type": "code",
   "execution_count": 147,
   "id": "d208f771",
   "metadata": {},
   "outputs": [],
   "source": [
    "df['Commuter Status'] = commuter_status"
   ]
  },
  {
   "cell_type": "code",
   "execution_count": 162,
   "id": "f5d3594a",
   "metadata": {},
   "outputs": [
    {
     "data": {
      "image/png": "[encoded data removed]",
      "text/plain": [
       "<Figure size 432x288 with 1 Axes>"
      ]
     },
     "metadata": {
      "needs_background": "light"
     },
     "output_type": "display_data"
    }
   ],
   "source": [
    "df['Commuter Status'].value_counts().plot(kind='barh')\n",
    "plt.xlabel('Population Count')\n",
    "plt.ylabel('Commuter Status')\n",
    "plt.title('Distribution of the Population by Commuter Status');"
   ]
  },
  {
   "cell_type": "code",
   "execution_count": 150,
   "id": "09753546",
   "metadata": {},
   "outputs": [
    {
     "data": {
      "text/plain": [
       "Commuter        0.502233\n",
       "Non commuter    0.497767\n",
       "Name: Commuter Status, dtype: float64"
      ]
     },
     "execution_count": 150,
     "metadata": {},
     "output_type": "execute_result"
    }
   ],
   "source": [
    "df['Commuter Status'].value_counts(normalize=True)"
   ]
  },
  {
   "cell_type": "markdown",
   "id": "de41fe9a",
   "metadata": {},
   "source": [
    "- Roughly 50% of the population are commuters."
   ]
  },
  {
   "cell_type": "markdown",
   "id": "d7dfe361",
   "metadata": {},
   "source": [
    "###### Infirmity"
   ]
  },
  {
   "cell_type": "code",
   "execution_count": 151,
   "id": "2ef3d084",
   "metadata": {},
   "outputs": [],
   "source": [
    "# Calculate count and frequency\n",
    "#counts = df['Infirmity'].value_counts()\n",
    "#freqs = counts / len(df) * 100\n",
    "\n",
    "# Create table with count and frequency\n",
    "#table = pd.concat([counts, freqs], axis=1)\n",
    "#table.columns = ['Count', 'Frequency (%)']\n",
    "\n",
    "# Create bar chart\n",
    "#fig, ax = plt.subplots()\n",
    "#ax.bar(table.index, table['Count'])\n",
    "#ax.set_ylabel('Count')\n",
    "#ax2 = ax.twinx()\n",
    "#ax2.plot(table.index, table['Frequency (%)'], color='red', marker='o')\n",
    "#ax2.set_ylabel('Frequency (%)')\n",
    "#plt.title('Frequency of the Population by Infirmity')\n",
    "#plt.show()"
   ]
  },
  {
   "cell_type": "code",
   "execution_count": 140,
   "id": "6b6d0c25",
   "metadata": {},
   "outputs": [
    {
     "data": {
      "text/plain": [
       "None                   9341\n",
       "Physical Disability      15\n",
       "Mental Disability        10\n",
       "Deaf                     10\n",
       "                          9\n",
       "Unknown Infection         8\n",
       "Blind                     6\n",
       "Disabled                  5\n",
       "Name: Infirmity, dtype: int64"
      ]
     },
     "execution_count": 140,
     "metadata": {},
     "output_type": "execute_result"
    }
   ],
   "source": [
    "df['Infirmity'].value_counts()"
   ]
  },
  {
   "cell_type": "code",
   "execution_count": 141,
   "id": "97ff9662",
   "metadata": {},
   "outputs": [],
   "source": [
    "# replace blank values with NaN\n",
    "df['Infirmity'].replace(' ', np.nan, inplace=True)"
   ]
  },
  {
   "cell_type": "code",
   "execution_count": 143,
   "id": "4f421d6d",
   "metadata": {},
   "outputs": [
    {
     "data": {
      "image/png": "[encoded data removed]",
      "text/plain": [
       "<Figure size 432x288 with 1 Axes>"
      ]
     },
     "metadata": {
      "needs_background": "light"
     },
     "output_type": "display_data"
    }
   ],
   "source": [
    "df['Infirmity'].value_counts().plot(kind='bar')\n",
    "plt.xlabel('Infirmity type')\n",
    "plt.ylabel('Population count');"
   ]
  },
  {
   "cell_type": "code",
   "execution_count": 166,
   "id": "0c0c6d62",
   "metadata": {},
   "outputs": [
    {
     "data": {
      "text/plain": [
       "None                   0.994252\n",
       "Physical Disability    0.001597\n",
       "Mental Disability      0.001064\n",
       "Deaf                   0.001064\n",
       "Unknown Infection      0.000852\n",
       "Blind                  0.000639\n",
       "Disabled               0.000532\n",
       "Name: Infirmity, dtype: float64"
      ]
     },
     "execution_count": 166,
     "metadata": {},
     "output_type": "execute_result"
    }
   ],
   "source": [
    "df['Infirmity'].value_counts(normalize=True)"
   ]
  },
  {
   "cell_type": "code",
   "execution_count": 174,
   "id": "2beee0b2",
   "metadata": {},
   "outputs": [
    {
     "data": {
      "image/png": "[encoded data removed]",
      "text/plain": [
       "<Figure size 432x288 with 1 Axes>"
      ]
     },
     "metadata": {
      "needs_background": "light"
     },
     "output_type": "display_data"
    }
   ],
   "source": [
    "sns.boxplot(data=df, x='Infirmity', y='Age')\n",
    "plt.xticks(rotation=90);"
   ]
  },
  {
   "cell_type": "code",
   "execution_count": null,
   "id": "ec9f1f69",
   "metadata": {},
   "outputs": [],
   "source": []
  }
 ],
 "metadata": {
  "kernelspec": {
   "display_name": "Python 3 (ipykernel)",
   "language": "python",
   "name": "python3"
  },
  "language_info": {
   "codemirror_mode": {
    "name": "ipython",
    "version": 3
   },
   "file_extension": ".py",
   "mimetype": "text/x-python",
   "name": "python",
   "nbconvert_exporter": "python",
   "pygments_lexer": "ipython3",
   "version": "3.9.7"
  }
 },
 "nbformat": 4,
 "nbformat_minor": 5
}
